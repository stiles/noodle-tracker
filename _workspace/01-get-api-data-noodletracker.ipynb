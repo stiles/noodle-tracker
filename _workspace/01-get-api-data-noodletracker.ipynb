{
 "cells": [
  {
   "cell_type": "markdown",
   "id": "bedf1bab-6602-46db-bde3-8102e7bd53c4",
   "metadata": {},
   "source": [
    "### Get TikTok data"
   ]
  },
  {
   "cell_type": "code",
   "execution_count": 1,
   "id": "4e1845f4-c8c7-4e16-b4a3-45032a9188d4",
   "metadata": {},
   "outputs": [],
   "source": [
    "import pandas as pd\n",
    "import datetime as dt\n",
    "import numpy as np\n",
    "import requests\n",
    "from datetime import timedelta"
   ]
  },
  {
   "cell_type": "code",
   "execution_count": 2,
   "id": "5f19605d-d995-4fc0-bbb8-cc333bce987f",
   "metadata": {},
   "outputs": [
    {
     "data": {
      "text/plain": [
       "'2022-02-22'"
      ]
     },
     "execution_count": 2,
     "metadata": {},
     "output_type": "execute_result"
    }
   ],
   "source": [
    "today = (dt.datetime.today() + timedelta(days=30)).strftime('%Y-%m-%d')\n",
    "today"
   ]
  },
  {
   "cell_type": "code",
   "execution_count": 3,
   "id": "3dde22c7-1016-4578-8819-0186f86d914c",
   "metadata": {},
   "outputs": [],
   "source": [
    "payload={}\n",
    "headers = {\n",
    "  'X-API-KEY': 'QT8K1SQ333HurjoXkTVKOchKswsI83cS'\n",
    "}"
   ]
  },
  {
   "cell_type": "code",
   "execution_count": 4,
   "id": "b72d4a09-4165-400f-8c54-0745c859c53b",
   "metadata": {},
   "outputs": [],
   "source": [
    "count = '30'\n",
    "secUid = 'MS4wLjABAAAAn982fxeWVi0MRU_Q0Lg0mVJ9AmAZ-GvWgjy9rSGReFPs_xkQSFkKoUnkuWTVhryi'"
   ]
  },
  {
   "cell_type": "code",
   "execution_count": 5,
   "id": "b74bcec4-f934-4431-8e8f-8a44e8df34c7",
   "metadata": {},
   "outputs": [],
   "source": [
    "rng = pd.date_range(start='2021-03-01', end = today, freq='M')\n",
    "df = pd.DataFrame({ 'date' : rng }, )"
   ]
  },
  {
   "cell_type": "code",
   "execution_count": 6,
   "id": "9c4d458e-086b-4672-b820-589c2c8788ac",
   "metadata": {},
   "outputs": [],
   "source": [
    "df['cursor'] = (pd.to_datetime(df['date']) - dt.datetime(1970,1,1)).dt.total_seconds().round().astype(str).str.replace('.0', '', regex=False) + '000'"
   ]
  },
  {
   "cell_type": "code",
   "execution_count": 7,
   "id": "e6bb60d5-f643-4b14-bc5f-5cda9f4bafc7",
   "metadata": {},
   "outputs": [],
   "source": [
    "cursors = df['cursor'].to_list()"
   ]
  },
  {
   "cell_type": "code",
   "execution_count": 8,
   "id": "a7826da5-4e25-43ca-bb70-ba099856ce74",
   "metadata": {},
   "outputs": [],
   "source": [
    "datas = []\n",
    "\n",
    "for c in cursors:\n",
    "    url = f\"https://api.tikapi.io/public/posts?count={count}&secUid={secUid}&cursor={c}\"\n",
    "    r = requests.request(\"GET\", url, headers=headers, data=payload)\n",
    "    datas.append(r.json())"
   ]
  },
  {
   "cell_type": "code",
   "execution_count": 9,
   "id": "7f953bdb-b3ff-4122-810a-e79deb335578",
   "metadata": {},
   "outputs": [
    {
     "data": {
      "text/plain": [
       "11"
      ]
     },
     "execution_count": 9,
     "metadata": {},
     "output_type": "execute_result"
    }
   ],
   "source": [
    "len(datas)"
   ]
  },
  {
   "cell_type": "code",
   "execution_count": 10,
   "id": "e4c5a539-a48b-40a1-8706-519d55c318c3",
   "metadata": {},
   "outputs": [],
   "source": [
    "def simple_dict(tiktok_dict):\n",
    "    to_return = {}\n",
    "    to_return['user_name'] = d['author']['uniqueId']\n",
    "    to_return['video_id'] = d['id']\n",
    "    to_return['video_desc'] = d['desc']\n",
    "    to_return['video_time'] = d['createTime']\n",
    "    to_return['video_duration'] = d['video']['duration']\n",
    "    to_return['n_shares'] = d['stats']['shareCount']\n",
    "    to_return['n_likes'] = d['stats']['diggCount']\n",
    "    to_return['n_comments'] = d['stats']['commentCount']\n",
    "    to_return['n_plays'] = d['stats']['playCount']\n",
    "    to_return['video_link'] = 'https://www.tiktok.com/@{}/video/{}?lang=en'.format(to_return['user_name'], to_return['video_id'])\n",
    "    return to_return"
   ]
  },
  {
   "cell_type": "code",
   "execution_count": 11,
   "id": "8495f480-39d2-4342-bfe5-ef544dd4e171",
   "metadata": {},
   "outputs": [],
   "source": [
    "dataframe = []\n",
    "\n",
    "for data in datas:\n",
    "    for d in data['itemList']:\n",
    "        dataframe.append(simple_dict(d))"
   ]
  },
  {
   "cell_type": "code",
   "execution_count": 12,
   "id": "f8b10893-578b-48f4-8c77-b5318cd86296",
   "metadata": {},
   "outputs": [],
   "source": [
    "df = pd.DataFrame(dataframe)"
   ]
  },
  {
   "cell_type": "code",
   "execution_count": 13,
   "id": "74838cd5-7df5-4e46-89aa-723aef90d523",
   "metadata": {},
   "outputs": [],
   "source": [
    "df = df.sort_values('video_time', ascending=False).drop_duplicates(subset='video_id').reset_index(drop=True)"
   ]
  },
  {
   "cell_type": "code",
   "execution_count": 14,
   "id": "85cf78a5-1f5b-4708-991f-cbbe47ac9984",
   "metadata": {},
   "outputs": [
    {
     "data": {
      "text/html": [
       "<div>\n",
       "<style scoped>\n",
       "    .dataframe tbody tr th:only-of-type {\n",
       "        vertical-align: middle;\n",
       "    }\n",
       "\n",
       "    .dataframe tbody tr th {\n",
       "        vertical-align: top;\n",
       "    }\n",
       "\n",
       "    .dataframe thead th {\n",
       "        text-align: right;\n",
       "    }\n",
       "</style>\n",
       "<table border=\"1\" class=\"dataframe\">\n",
       "  <thead>\n",
       "    <tr style=\"text-align: right;\">\n",
       "      <th></th>\n",
       "      <th>user_name</th>\n",
       "      <th>video_id</th>\n",
       "      <th>video_desc</th>\n",
       "      <th>video_time</th>\n",
       "      <th>video_duration</th>\n",
       "      <th>n_shares</th>\n",
       "      <th>n_likes</th>\n",
       "      <th>n_comments</th>\n",
       "      <th>n_plays</th>\n",
       "      <th>video_link</th>\n",
       "    </tr>\n",
       "  </thead>\n",
       "  <tbody>\n",
       "    <tr>\n",
       "      <th>0</th>\n",
       "      <td>jongraz</td>\n",
       "      <td>7056051376929066287</td>\n",
       "      <td>message received loud and CLEAR 🔮🦴🔮 #nobones #...</td>\n",
       "      <td>1642864985</td>\n",
       "      <td>38</td>\n",
       "      <td>3052</td>\n",
       "      <td>71900</td>\n",
       "      <td>1549</td>\n",
       "      <td>267600</td>\n",
       "      <td>https://www.tiktok.com/@jongraz/video/70560513...</td>\n",
       "    </tr>\n",
       "    <tr>\n",
       "      <th>1</th>\n",
       "      <td>jongraz</td>\n",
       "      <td>7055678935107030319</td>\n",
       "      <td>buckle up everybody 🔮🦴🔮</td>\n",
       "      <td>1642778270</td>\n",
       "      <td>57</td>\n",
       "      <td>2737</td>\n",
       "      <td>55200</td>\n",
       "      <td>1206</td>\n",
       "      <td>235900</td>\n",
       "      <td>https://www.tiktok.com/@jongraz/video/70556789...</td>\n",
       "    </tr>\n",
       "    <tr>\n",
       "      <th>2</th>\n",
       "      <td>jongraz</td>\n",
       "      <td>7054939278937165102</td>\n",
       "      <td>#greenscreen a bones day FOR SURE! thank you a...</td>\n",
       "      <td>1642606056</td>\n",
       "      <td>58</td>\n",
       "      <td>4452</td>\n",
       "      <td>92900</td>\n",
       "      <td>3314</td>\n",
       "      <td>372200</td>\n",
       "      <td>https://www.tiktok.com/@jongraz/video/70549392...</td>\n",
       "    </tr>\n",
       "    <tr>\n",
       "      <th>3</th>\n",
       "      <td>jongraz</td>\n",
       "      <td>7054576003494120751</td>\n",
       "      <td>have the best day everyone! remember the RULES...</td>\n",
       "      <td>1642521474</td>\n",
       "      <td>57</td>\n",
       "      <td>2783</td>\n",
       "      <td>65800</td>\n",
       "      <td>1258</td>\n",
       "      <td>305200</td>\n",
       "      <td>https://www.tiktok.com/@jongraz/video/70545760...</td>\n",
       "    </tr>\n",
       "    <tr>\n",
       "      <th>4</th>\n",
       "      <td>jongraz</td>\n",
       "      <td>7053988981276495150</td>\n",
       "      <td>#greenscreen 🚨 new merch DROP 🚨 #merch #ground...</td>\n",
       "      <td>1642384795</td>\n",
       "      <td>54</td>\n",
       "      <td>209</td>\n",
       "      <td>11300</td>\n",
       "      <td>177</td>\n",
       "      <td>128700</td>\n",
       "      <td>https://www.tiktok.com/@jongraz/video/70539889...</td>\n",
       "    </tr>\n",
       "  </tbody>\n",
       "</table>\n",
       "</div>"
      ],
      "text/plain": [
       "  user_name             video_id  \\\n",
       "0   jongraz  7056051376929066287   \n",
       "1   jongraz  7055678935107030319   \n",
       "2   jongraz  7054939278937165102   \n",
       "3   jongraz  7054576003494120751   \n",
       "4   jongraz  7053988981276495150   \n",
       "\n",
       "                                          video_desc  video_time  \\\n",
       "0  message received loud and CLEAR 🔮🦴🔮 #nobones #...  1642864985   \n",
       "1                            buckle up everybody 🔮🦴🔮  1642778270   \n",
       "2  #greenscreen a bones day FOR SURE! thank you a...  1642606056   \n",
       "3  have the best day everyone! remember the RULES...  1642521474   \n",
       "4  #greenscreen 🚨 new merch DROP 🚨 #merch #ground...  1642384795   \n",
       "\n",
       "   video_duration  n_shares  n_likes  n_comments  n_plays  \\\n",
       "0              38      3052    71900        1549   267600   \n",
       "1              57      2737    55200        1206   235900   \n",
       "2              58      4452    92900        3314   372200   \n",
       "3              57      2783    65800        1258   305200   \n",
       "4              54       209    11300         177   128700   \n",
       "\n",
       "                                          video_link  \n",
       "0  https://www.tiktok.com/@jongraz/video/70560513...  \n",
       "1  https://www.tiktok.com/@jongraz/video/70556789...  \n",
       "2  https://www.tiktok.com/@jongraz/video/70549392...  \n",
       "3  https://www.tiktok.com/@jongraz/video/70545760...  \n",
       "4  https://www.tiktok.com/@jongraz/video/70539889...  "
      ]
     },
     "execution_count": 14,
     "metadata": {},
     "output_type": "execute_result"
    }
   ],
   "source": [
    "df.head()"
   ]
  },
  {
   "cell_type": "code",
   "execution_count": 15,
   "id": "51c94a52-d904-444a-a083-41d11b19ad6f",
   "metadata": {},
   "outputs": [
    {
     "data": {
      "text/plain": [
       "172"
      ]
     },
     "execution_count": 15,
     "metadata": {},
     "output_type": "execute_result"
    }
   ],
   "source": [
    "len(df)"
   ]
  },
  {
   "cell_type": "code",
   "execution_count": 16,
   "id": "77ba2401-37e3-40c7-ac40-afe3cf5608c0",
   "metadata": {},
   "outputs": [],
   "source": [
    "df.to_csv('data/processed/jongraz_videos.csv',index=False)"
   ]
  }
 ],
 "metadata": {
  "kernelspec": {
   "display_name": "Python 3 (ipykernel)",
   "language": "python",
   "name": "python3"
  },
  "language_info": {
   "codemirror_mode": {
    "name": "ipython",
    "version": 3
   },
   "file_extension": ".py",
   "mimetype": "text/x-python",
   "name": "python",
   "nbconvert_exporter": "python",
   "pygments_lexer": "ipython3",
   "version": "3.9.9"
  }
 },
 "nbformat": 4,
 "nbformat_minor": 5
}
