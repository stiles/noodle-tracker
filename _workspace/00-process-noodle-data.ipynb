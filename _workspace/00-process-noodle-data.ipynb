{
 "cells": [
  {
   "cell_type": "markdown",
   "id": "75d03ecb-426a-472a-ad17-123b78086916",
   "metadata": {},
   "source": [
    "# How likely is a Bones Day vs. a No Bones Day?"
   ]
  },
  {
   "cell_type": "code",
   "execution_count": 1,
   "id": "c777d9e4-bc57-45a6-9636-ed6aa79d74fc",
   "metadata": {},
   "outputs": [],
   "source": [
    "%load_ext lab_black"
   ]
  },
  {
   "cell_type": "markdown",
   "id": "fc28bb35-7e41-4a01-b1bf-1c47240a5397",
   "metadata": {},
   "source": [
    "### Load Python tools"
   ]
  },
  {
   "cell_type": "code",
   "execution_count": 2,
   "id": "c4781557-b34b-422f-9985-021771358b26",
   "metadata": {},
   "outputs": [],
   "source": [
    "import pandas as pd\n",
    "import altair as alt\n",
    "import datetime as dt"
   ]
  },
  {
   "cell_type": "code",
   "execution_count": 3,
   "id": "2a0e08ee-7d21-4f91-b6a5-8cc0ae11d185",
   "metadata": {},
   "outputs": [],
   "source": [
    "today = dt.datetime.today()"
   ]
  },
  {
   "cell_type": "markdown",
   "id": "63cafa9e-d6c2-4af7-9999-b2905a45c616",
   "metadata": {},
   "source": [
    "### Read data collected from [TikTok](https://www.tiktok.com/@jongraz) about Noodle"
   ]
  },
  {
   "cell_type": "code",
   "execution_count": null,
   "id": "95ae02c7-4a70-4843-b49d-0e4914465d98",
   "metadata": {},
   "outputs": [],
   "source": [
    "src = pd.read_csv(\n",
    "    \"https://docs.google.com/spreadsheets/d/e/2PACX-1vQz8eEafXnIeKsNvGL8M56Ia6vu89JDCjfJ22ORl65So4kRYtmTbwmqLjE223fe4mjcZqkrs-KT6j8z/pub?\\\n",
    "gid=0&single=true&output=csv\"\n",
    ")"
   ]
  },
  {
   "cell_type": "markdown",
   "id": "e336649c-926c-43b8-8d3f-468717c51359",
   "metadata": {},
   "source": [
    "### Process dates"
   ]
  },
  {
   "cell_type": "code",
   "execution_count": null,
   "id": "8ce9f981-e4a7-4e88-87f1-5b86c15a471e",
   "metadata": {},
   "outputs": [],
   "source": [
    "src[\"date\"] = pd.to_datetime(src[\"date\"])"
   ]
  },
  {
   "cell_type": "code",
   "execution_count": null,
   "id": "24a49d88-08df-4763-9500-1232861c623f",
   "metadata": {},
   "outputs": [],
   "source": [
    "df_date = pd.DataFrame()\n",
    "index = pd.date_range(start=\"2021-09-01\", end=today, freq=\"D\")\n",
    "df_date[\"date\"] = index"
   ]
  },
  {
   "cell_type": "markdown",
   "id": "78b0d6be-b8f7-4057-bd83-29e6a9143f8d",
   "metadata": {},
   "source": [
    "### Merge the dates to backfill"
   ]
  },
  {
   "cell_type": "code",
   "execution_count": null,
   "id": "5717f1f7-91d2-485f-ba5e-e665d40b8096",
   "metadata": {},
   "outputs": [],
   "source": [
    "df = pd.merge(src, df_date, on=\"date\", how=\"outer\")"
   ]
  },
  {
   "cell_type": "code",
   "execution_count": null,
   "id": "3748c822-88fc-4d56-8625-1748e64fc9b0",
   "metadata": {},
   "outputs": [],
   "source": [
    "df[\"weekday\"] = df[\"date\"].dt.day_name()\n",
    "df[\"month\"] = df[\"date\"].dt.month_name()\n",
    "df[\"weekend\"] = df[\"date\"].dt.day_name().isin([\"Saturday\", \"Sunday\"])"
   ]
  },
  {
   "cell_type": "code",
   "execution_count": null,
   "id": "e9b58ffc-b79c-4999-b220-3a855418a153",
   "metadata": {},
   "outputs": [],
   "source": [
    "# df.drop([\"url\"], axis=1, inplace=True)"
   ]
  },
  {
   "cell_type": "code",
   "execution_count": null,
   "id": "78d31969-876a-46ef-bba5-03cc26f6d49f",
   "metadata": {},
   "outputs": [],
   "source": [
    "df.bones_nobones = df.bones_nobones.fillna(\"No video\")"
   ]
  },
  {
   "cell_type": "markdown",
   "id": "e9907c13-584a-41fd-8686-9f3d1bb44bbc",
   "metadata": {},
   "source": [
    "### What's our dataframe look like? "
   ]
  },
  {
   "cell_type": "code",
   "execution_count": null,
   "id": "6fb77081-4b5d-4d19-bec3-989caf2002e4",
   "metadata": {},
   "outputs": [],
   "source": [
    "df.head()"
   ]
  },
  {
   "cell_type": "markdown",
   "id": "e140bc04-2622-4429-92ac-0887db978784",
   "metadata": {},
   "source": [
    "### Percentage of days with Bones (only days with a video)"
   ]
  },
  {
   "cell_type": "code",
   "execution_count": null,
   "id": "8f0f192f-2f34-43ef-a746-571dee98440e",
   "metadata": {},
   "outputs": [],
   "source": [
    "(\n",
    "    df[df[\"bones_nobones\"] != \"No video\"].value_counts(\"bones_nobones\", normalize=True)\n",
    "    * 100\n",
    ").round(0)"
   ]
  },
  {
   "cell_type": "markdown",
   "id": "51d96042-cc07-456b-ba49-2ffedff95344",
   "metadata": {},
   "source": [
    "### Group by day type"
   ]
  },
  {
   "cell_type": "code",
   "execution_count": null,
   "id": "aeb84d9d-f214-41b9-83eb-e3794311f48b",
   "metadata": {
    "tags": []
   },
   "outputs": [],
   "source": [
    "days = (\n",
    "    df.groupby([\"bones_nobones\"])\n",
    "    .agg({\"date\": \"count\"})\n",
    "    .reset_index()\n",
    "    .rename(columns={\"date\": \"count\"})\n",
    ")"
   ]
  },
  {
   "cell_type": "markdown",
   "id": "cf87ac18-718e-474f-823a-82ccb0d3c125",
   "metadata": {
    "tags": []
   },
   "source": [
    "### Simple bar chart explaining the count of day types"
   ]
  },
  {
   "cell_type": "code",
   "execution_count": null,
   "id": "635053b9-68a0-4e4a-8007-9e82c0b0790c",
   "metadata": {
    "tags": []
   },
   "outputs": [],
   "source": [
    "alt.Chart(days[days[\"bones_nobones\"] != \"No video\"], title=\" \").mark_bar().encode(\n",
    "    y=alt.Y(\"bones_nobones\", title=\"\", axis=alt.Axis(tickCount=0, tickColor=\"#ffffff\")),\n",
    "    x=alt.X(\n",
    "        \"count\",\n",
    "        title=\"Days\",\n",
    "        axis=alt.Axis(grid=False, tickCount=6, tickColor=\"#ffffff\"),\n",
    "    ),\n",
    "    color=alt.Color(\n",
    "        \"bones_nobones\",\n",
    "        title=\"\",\n",
    "        legend=None,\n",
    "        scale=alt.Scale(\n",
    "            domain=[\"Bones!\", \"No bones\", \"No video\"],\n",
    "            range=[\"#5ab4ac\", \"#d8b365\", \"#e6e6e6\"],\n",
    "        ),\n",
    "    ),\n",
    ").properties(width=500, height=70)"
   ]
  },
  {
   "cell_type": "markdown",
   "id": "7727853a-96ed-4b0b-9ec7-bc19bd06313f",
   "metadata": {},
   "source": [
    "### Plot Noodle's days on a calendar"
   ]
  },
  {
   "cell_type": "code",
   "execution_count": null,
   "id": "717e0ef7-b4df-4810-9a38-e8b034c548a1",
   "metadata": {
    "tags": []
   },
   "outputs": [],
   "source": [
    "heatmap = (\n",
    "    alt.Chart(df[df[\"date\"] > \"2021-08-31\"], title=\" \")\n",
    "    .mark_rect()\n",
    "    .encode(\n",
    "        x=alt.X(\"date(date):O\", title=\" \"),\n",
    "        y=alt.Y(\"month(date):O\", title=\"\"),\n",
    "        color=alt.Color(\n",
    "            \"bones_nobones\",\n",
    "            title=\"\",\n",
    "            scale=alt.Scale(\n",
    "                domain=[\"Bones!\", \"No bones\", \"No video\"],\n",
    "                range=[\"#5ab4ac\", \"#d8b365\", \"#e6e6e6\"],\n",
    "            ),\n",
    "        ),\n",
    "        tooltip=[\n",
    "            alt.Tooltip(\"monthdate(date):T\", title=\"Date\"),\n",
    "            alt.Tooltip(\"bones_nobones\", title=\"Tweets\"),\n",
    "        ],\n",
    "    )\n",
    "    .properties(width=500, height=70, title=\"Bones days since Sept. 1\")\n",
    ")\n",
    "\n",
    "heatmap.configure_legend(orient=\"top\", padding=10).configure_view(strokeOpacity=0)"
   ]
  },
  {
   "cell_type": "markdown",
   "id": "960403aa-1962-40a6-82f6-9712a3f5e109",
   "metadata": {},
   "source": [
    "### Prep for datawrapper "
   ]
  },
  {
   "cell_type": "code",
   "execution_count": null,
   "id": "421b1ce9-a14f-42da-9972-7946eb3fd094",
   "metadata": {},
   "outputs": [],
   "source": [
    "df.head()"
   ]
  },
  {
   "cell_type": "code",
   "execution_count": null,
   "id": "15b244a8-bc62-4644-a522-c617d6c21199",
   "metadata": {},
   "outputs": [],
   "source": [
    "df[\"bones_class\"] = (\n",
    "    df[\"bones_nobones\"]\n",
    "    .str.lower()\n",
    "    .str.replace(\" \", \"-\", regex=False)\n",
    "    .str.replace(\"!\", \"\", regex=False)\n",
    ")"
   ]
  },
  {
   "cell_type": "code",
   "execution_count": null,
   "id": "9393484a-e13e-4f28-b169-4d0fbf1e5852",
   "metadata": {},
   "outputs": [],
   "source": [
    "df[\"weekend_class\"] = (\n",
    "    df[\"weekend\"]\n",
    "    .astype(str)\n",
    "    .str.lower()\n",
    "    .str.replace(\" \", \"-\", regex=False)\n",
    "    .str.replace(\"!\", \"\", regex=False)\n",
    ")"
   ]
  },
  {
   "cell_type": "code",
   "execution_count": null,
   "id": "38e03339-a79e-487e-ac40-0abff95a6120",
   "metadata": {},
   "outputs": [],
   "source": [
    "grouped_all = (\n",
    "    df.groupby(\"bones_nobones\")\n",
    "    .agg({\"date\": \"size\"})\n",
    "    .reset_index()\n",
    "    .rename(columns={\"date\": \"Days\"})\n",
    ")"
   ]
  },
  {
   "cell_type": "code",
   "execution_count": null,
   "id": "325f0e35-cfac-4e74-8875-e992a5f3d4b3",
   "metadata": {},
   "outputs": [],
   "source": [
    "grouped_all"
   ]
  },
  {
   "cell_type": "code",
   "execution_count": null,
   "id": "22cc5c0f-4ef4-46a6-9d9c-79e3298bb395",
   "metadata": {},
   "outputs": [],
   "source": [
    "grouped_all.iloc[1, 1]"
   ]
  },
  {
   "cell_type": "code",
   "execution_count": null,
   "id": "06c159e2-e6ea-421a-9e8e-c29358ff3292",
   "metadata": {},
   "outputs": [],
   "source": [
    "grouped_weekends = (\n",
    "    df.groupby([\"bones_nobones\", \"weekend\"])\n",
    "    .agg({\"date\": \"size\"})\n",
    "    .reset_index()\n",
    "    .rename(columns={\"date\": \"Days\"})\n",
    ")"
   ]
  },
  {
   "cell_type": "code",
   "execution_count": null,
   "id": "47299d17-3524-4d08-ae9e-8202fd6fe266",
   "metadata": {},
   "outputs": [],
   "source": [
    "grouped_weekends"
   ]
  },
  {
   "cell_type": "code",
   "execution_count": null,
   "id": "cab1939b-5916-434d-b125-1868bc3cba92",
   "metadata": {},
   "outputs": [],
   "source": [
    "grouped_weekends.iloc[3, 2]"
   ]
  },
  {
   "cell_type": "code",
   "execution_count": null,
   "id": "9b9f413d-b5c4-4112-a88f-d854a9a0c06a",
   "metadata": {},
   "outputs": [],
   "source": [
    "stacked_bar = pd.DataFrame(\n",
    "    {\n",
    "        \"Category\": [\"All days\", \"Weekends\", \"Weekdays\"],\n",
    "        \"Bones\": [\n",
    "            grouped_all.iloc[0, 1],\n",
    "            grouped_weekends.iloc[1, 2],\n",
    "            grouped_weekends.iloc[0, 2],\n",
    "        ],\n",
    "        \"No Bones\": [\n",
    "            grouped_all.iloc[1, 1],\n",
    "            grouped_weekends.iloc[3, 2],\n",
    "            grouped_weekends.iloc[2, 2],\n",
    "        ],\n",
    "    }\n",
    ")"
   ]
  },
  {
   "cell_type": "code",
   "execution_count": null,
   "id": "df218489-cce0-48f6-9c35-231f7e3c6eec",
   "metadata": {},
   "outputs": [],
   "source": [
    "stacked_bar[\"bones\"] = stacked_bar[\"Bones\"]\n",
    "stacked_bar[\"nobones\"] = stacked_bar[\"No Bones\"]"
   ]
  },
  {
   "cell_type": "code",
   "execution_count": null,
   "id": "badaea2b-722e-45b5-ad77-57602cffafae",
   "metadata": {},
   "outputs": [],
   "source": [
    "stacked_bar"
   ]
  },
  {
   "cell_type": "markdown",
   "id": "90dbe053-938e-4b2d-9116-a2ec7051fd99",
   "metadata": {},
   "source": [
    "---"
   ]
  },
  {
   "cell_type": "code",
   "execution_count": null,
   "id": "7581fe8e-b609-44a9-8203-3ce349d1e934",
   "metadata": {},
   "outputs": [],
   "source": [
    "df[\"week\"] = pd.to_datetime(df[\"date\"]).dt.isocalendar().week\n",
    "df[\"weekstart\"] = pd.to_datetime(df[\"date\"]) - pd.to_timedelta(\n",
    "    pd.to_datetime(df[\"date\"]).dt.dayofweek, unit=\"d\"\n",
    ")"
   ]
  },
  {
   "cell_type": "code",
   "execution_count": null,
   "id": "0db6ed10-0edb-4262-b183-aaa1c8c3f776",
   "metadata": {},
   "outputs": [],
   "source": [
    "df.head()"
   ]
  },
  {
   "cell_type": "code",
   "execution_count": null,
   "id": "4ac6a9b5-b4e2-4c12-b003-141a27c2c112",
   "metadata": {},
   "outputs": [],
   "source": [
    "weeks = (\n",
    "    df.groupby([\"weekstart\", \"bones_class\"])\n",
    "    .agg({\"date\": \"count\"})\n",
    "    .reset_index()\n",
    "    .rename(columns={\"date\": \"count\", \"bones_class\": \"result\"})\n",
    ")"
   ]
  },
  {
   "cell_type": "code",
   "execution_count": null,
   "id": "124cedab-5692-49c5-9044-f4b000b56064",
   "metadata": {},
   "outputs": [],
   "source": [
    "weeks.head()"
   ]
  },
  {
   "cell_type": "code",
   "execution_count": null,
   "id": "6b6a98ac-8640-4936-9994-94d98c57c9b5",
   "metadata": {},
   "outputs": [],
   "source": [
    "weeks_pivot = pd.pivot_table(\n",
    "    weeks, values=\"count\", index=\"weekstart\", columns=\"result\", fill_value=0\n",
    ").reset_index()"
   ]
  },
  {
   "cell_type": "code",
   "execution_count": null,
   "id": "645105c0-5c37-4b49-8fdf-f65895eb578f",
   "metadata": {},
   "outputs": [],
   "source": [
    "weeks_pivot.to_csv(\"../_data/bonesdays_weeks.csv\", index=False)\n",
    "weeks_pivot.to_csv(\"../assets/data/bonesdays_weeks.csv\", index=False)"
   ]
  },
  {
   "cell_type": "markdown",
   "id": "bcb5f61b-d52e-4eeb-851f-b46ec4ad1c70",
   "metadata": {},
   "source": [
    "---"
   ]
  },
  {
   "cell_type": "code",
   "execution_count": null,
   "id": "63c105bc-277c-4bd2-ace3-c9d9ad398b81",
   "metadata": {},
   "outputs": [],
   "source": [
    "months = (\n",
    "    df.groupby([\"month\", \"bones_class\"])\n",
    "    .agg({\"date\": \"count\"})\n",
    "    .reset_index()\n",
    "    .rename(columns={\"date\": \"count\", \"bones_class\": \"result\"})\n",
    ")"
   ]
  },
  {
   "cell_type": "code",
   "execution_count": null,
   "id": "8896b657-423d-4959-a79c-79868dab7bcd",
   "metadata": {},
   "outputs": [],
   "source": [
    "months.head()"
   ]
  },
  {
   "cell_type": "code",
   "execution_count": null,
   "id": "ec7bb42c-a19a-468d-9956-19717f7293c1",
   "metadata": {},
   "outputs": [],
   "source": [
    "months_pivot = pd.pivot_table(\n",
    "    months, values=\"count\", index=\"month\", columns=\"result\", fill_value=0\n",
    ").reset_index()"
   ]
  },
  {
   "cell_type": "code",
   "execution_count": null,
   "id": "5ada1089-8a09-46d5-8798-dfea357783b7",
   "metadata": {},
   "outputs": [],
   "source": [
    "months_pivot.to_csv(\"../_data/bonesdays_months.csv\", index=False)\n",
    "months_pivot.to_csv(\"../assets/data/bonesdays_months.csv\", index=False)"
   ]
  },
  {
   "cell_type": "markdown",
   "id": "0acee8be-18c0-4aaa-b515-1dde5124c328",
   "metadata": {},
   "source": [
    "---"
   ]
  },
  {
   "cell_type": "markdown",
   "id": "82456302-a53c-40b3-8cd2-b7bdf6f7869c",
   "metadata": {},
   "source": [
    "### Export"
   ]
  },
  {
   "cell_type": "code",
   "execution_count": null,
   "id": "d30a28f6-4394-4e18-8f93-6723a34743f1",
   "metadata": {},
   "outputs": [],
   "source": [
    "df[\"display_date\"] = df[\"date\"].dt.strftime(\"%b. %-d \")\n",
    "df[\"date\"] = df[\"date\"].astype(str)"
   ]
  },
  {
   "cell_type": "code",
   "execution_count": null,
   "id": "f1bcba8e-7012-487e-bbf9-195f38826235",
   "metadata": {},
   "outputs": [],
   "source": [
    "stacked_bar.to_csv(\"../_data/bonesdays_summary_csv.csv\", index=False)\n",
    "stacked_bar.to_csv(\"../assets/data/bonesdays_summary.csv\", index=False)"
   ]
  },
  {
   "cell_type": "code",
   "execution_count": null,
   "id": "1178d4ba-f2e4-4519-9ce8-ce5e7235e3eb",
   "metadata": {},
   "outputs": [],
   "source": [
    "df[df[\"bones_nobones\"] != \"No video\"].to_csv(\"../_data/bonesdays_csv.csv\", index=False)\n",
    "df[df[\"bones_nobones\"] != \"No video\"].to_csv(\n",
    "    \"../assets/data/bonesdays.csv\", index=False\n",
    ")"
   ]
  },
  {
   "cell_type": "code",
   "execution_count": null,
   "id": "73163ea3-00e8-41e6-94bb-a85d3180cae6",
   "metadata": {},
   "outputs": [],
   "source": [
    "stacked_bar.to_json(\"../_data/bonesdays_summary.json\", indent=4, orient=\"records\")\n",
    "stacked_bar.to_json(\"../assets/data/bonesdays_summary.json\", indent=4, orient=\"records\")"
   ]
  },
  {
   "cell_type": "code",
   "execution_count": null,
   "id": "a3a151dc-8c5f-4ca6-bbac-aabb38c8c2d7",
   "metadata": {},
   "outputs": [],
   "source": [
    "df[df[\"bones_nobones\"] != \"No video\"].to_json(\n",
    "    \"../_data/bonesdays.json\", indent=4, orient=\"records\"\n",
    ")\n",
    "df[df[\"bones_nobones\"] != \"No video\"].to_json(\n",
    "    \"../assets/data/bonesdays.json\", indent=4, orient=\"records\"\n",
    ")"
   ]
  },
  {
   "cell_type": "code",
   "execution_count": null,
   "id": "8d2a19e8-549c-45ae-acea-9dbf097360bb",
   "metadata": {},
   "outputs": [],
   "source": [
    "today = dt.datetime.today().strftime(\"%Y-%m-%d\")\n",
    "display_today = dt.datetime.today().strftime(\"%b. %-d\")"
   ]
  },
  {
   "cell_type": "code",
   "execution_count": null,
   "id": "b09f3aea-abf8-4816-b389-07f43af6286d",
   "metadata": {},
   "outputs": [],
   "source": [
    "toplines = pd.DataFrame(\n",
    "    {\"bones\": [grouped_all.iloc[0, 1]], \"nobones\": [grouped_all.iloc[1, 1]],}\n",
    ")"
   ]
  },
  {
   "cell_type": "code",
   "execution_count": null,
   "id": "16cbb9a2-9693-4db1-bf0e-29defce0c327",
   "metadata": {},
   "outputs": [],
   "source": [
    "toplines[\"updated_date\"] = today"
   ]
  },
  {
   "cell_type": "code",
   "execution_count": null,
   "id": "0239e132-3991-4127-998c-7f8ec7171dae",
   "metadata": {},
   "outputs": [],
   "source": [
    "toplines"
   ]
  },
  {
   "cell_type": "code",
   "execution_count": null,
   "id": "3f23e090-fa8c-4fb2-af96-45addddf8add",
   "metadata": {},
   "outputs": [],
   "source": [
    "toplines[\"display_date\"] = display_today"
   ]
  },
  {
   "cell_type": "code",
   "execution_count": null,
   "id": "2919cebd-34b8-484e-905b-28ffddcd3cad",
   "metadata": {},
   "outputs": [],
   "source": [
    "toplines.to_json(\"../_data/toplines.json\", indent=4, orient=\"records\")\n",
    "toplines.to_json(\"../assets/data/toplines.json\", indent=4, orient=\"records\")"
   ]
  }
 ],
 "metadata": {
  "kernelspec": {
   "display_name": "Python 3",
   "language": "python",
   "name": "python3"
  },
  "language_info": {
   "codemirror_mode": {
    "name": "ipython",
    "version": 3
   },
   "file_extension": ".py",
   "mimetype": "text/x-python",
   "name": "python",
   "nbconvert_exporter": "python",
   "pygments_lexer": "ipython3",
   "version": "3.8.8"
  }
 },
 "nbformat": 4,
 "nbformat_minor": 5
}
