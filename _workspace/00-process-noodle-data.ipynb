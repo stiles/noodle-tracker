{
 "cells": [
  {
   "cell_type": "markdown",
   "id": "75d03ecb-426a-472a-ad17-123b78086916",
   "metadata": {},
   "source": [
    "# How likely is a Bones Day vs. a No Bones Day?"
   ]
  },
  {
   "cell_type": "code",
   "execution_count": 1,
   "id": "c777d9e4-bc57-45a6-9636-ed6aa79d74fc",
   "metadata": {},
   "outputs": [],
   "source": [
    "%load_ext lab_black"
   ]
  },
  {
   "cell_type": "markdown",
   "id": "fc28bb35-7e41-4a01-b1bf-1c47240a5397",
   "metadata": {},
   "source": [
    "### Load Python tools"
   ]
  },
  {
   "cell_type": "code",
   "execution_count": 2,
   "id": "c4781557-b34b-422f-9985-021771358b26",
   "metadata": {},
   "outputs": [],
   "source": [
    "import pandas as pd\n",
    "import altair as alt\n",
    "import datetime as dt"
   ]
  },
  {
   "cell_type": "code",
   "execution_count": 3,
   "id": "2a0e08ee-7d21-4f91-b6a5-8cc0ae11d185",
   "metadata": {},
   "outputs": [],
   "source": [
    "today = dt.datetime.today()"
   ]
  },
  {
   "cell_type": "markdown",
   "id": "63cafa9e-d6c2-4af7-9999-b2905a45c616",
   "metadata": {},
   "source": [
    "### Read data collected from [TikTok](https://www.tiktok.com/@jongraz) about Noodle"
   ]
  },
  {
   "cell_type": "code",
   "execution_count": 4,
   "id": "95ae02c7-4a70-4843-b49d-0e4914465d98",
   "metadata": {},
   "outputs": [],
   "source": [
    "src = pd.read_csv(\n",
    "    \"https://docs.google.com/spreadsheets/d/e/2PACX-1vQz8eEafXnIeKsNvGL8M56Ia6vu89JDCjfJ22ORl65So4kRYtmTbwmqLjE223fe4mjcZqkrs-KT6j8z/pub?\\\n",
    "gid=0&single=true&output=csv\"\n",
    ")"
   ]
  },
  {
   "cell_type": "markdown",
   "id": "e336649c-926c-43b8-8d3f-468717c51359",
   "metadata": {},
   "source": [
    "### Process dates"
   ]
  },
  {
   "cell_type": "code",
   "execution_count": 5,
   "id": "8ce9f981-e4a7-4e88-87f1-5b86c15a471e",
   "metadata": {},
   "outputs": [],
   "source": [
    "src[\"date\"] = pd.to_datetime(src[\"date\"])"
   ]
  },
  {
   "cell_type": "code",
   "execution_count": 6,
   "id": "24a49d88-08df-4763-9500-1232861c623f",
   "metadata": {},
   "outputs": [],
   "source": [
    "df_date = pd.DataFrame()\n",
    "index = pd.date_range(start=\"2021-09-01\", end=today, freq=\"D\")\n",
    "df_date[\"date\"] = index"
   ]
  },
  {
   "cell_type": "markdown",
   "id": "78b0d6be-b8f7-4057-bd83-29e6a9143f8d",
   "metadata": {},
   "source": [
    "### Merge the dates to backfill"
   ]
  },
  {
   "cell_type": "code",
   "execution_count": 7,
   "id": "5717f1f7-91d2-485f-ba5e-e665d40b8096",
   "metadata": {},
   "outputs": [],
   "source": [
    "df = pd.merge(src, df_date, on=\"date\", how=\"outer\")"
   ]
  },
  {
   "cell_type": "code",
   "execution_count": 8,
   "id": "3748c822-88fc-4d56-8625-1748e64fc9b0",
   "metadata": {},
   "outputs": [],
   "source": [
    "df[\"weekday\"] = df[\"date\"].dt.day_name()\n",
    "df[\"month\"] = df[\"date\"].dt.month_name()\n",
    "df[\"month-year\"] = df[\"date\"].dt.strftime(\"%Y-%m\")\n",
    "df[\"weekend\"] = df[\"date\"].dt.day_name().isin([\"Saturday\", \"Sunday\"])"
   ]
  },
  {
   "cell_type": "code",
   "execution_count": 9,
   "id": "e9b58ffc-b79c-4999-b220-3a855418a153",
   "metadata": {},
   "outputs": [],
   "source": [
    "# df.drop([\"url\"], axis=1, inplace=True)"
   ]
  },
  {
   "cell_type": "code",
   "execution_count": 10,
   "id": "78d31969-876a-46ef-bba5-03cc26f6d49f",
   "metadata": {},
   "outputs": [],
   "source": [
    "df.bones_nobones = df.bones_nobones.fillna(\"No video\")"
   ]
  },
  {
   "cell_type": "markdown",
   "id": "e9907c13-584a-41fd-8686-9f3d1bb44bbc",
   "metadata": {},
   "source": [
    "### What's our dataframe look like? "
   ]
  },
  {
   "cell_type": "code",
   "execution_count": 11,
   "id": "6fb77081-4b5d-4d19-bec3-989caf2002e4",
   "metadata": {},
   "outputs": [
    {
     "data": {
      "text/html": [
       "<div>\n",
       "<style scoped>\n",
       "    .dataframe tbody tr th:only-of-type {\n",
       "        vertical-align: middle;\n",
       "    }\n",
       "\n",
       "    .dataframe tbody tr th {\n",
       "        vertical-align: top;\n",
       "    }\n",
       "\n",
       "    .dataframe thead th {\n",
       "        text-align: right;\n",
       "    }\n",
       "</style>\n",
       "<table border=\"1\" class=\"dataframe\">\n",
       "  <thead>\n",
       "    <tr style=\"text-align: right;\">\n",
       "      <th></th>\n",
       "      <th>date</th>\n",
       "      <th>bones_nobones</th>\n",
       "      <th>url</th>\n",
       "      <th>weekday</th>\n",
       "      <th>month</th>\n",
       "      <th>month-year</th>\n",
       "      <th>weekend</th>\n",
       "    </tr>\n",
       "  </thead>\n",
       "  <tbody>\n",
       "    <tr>\n",
       "      <th>0</th>\n",
       "      <td>2022-01-17</td>\n",
       "      <td>No bones</td>\n",
       "      <td>https://www.tiktok.com/@jongraz/video/70538379...</td>\n",
       "      <td>Monday</td>\n",
       "      <td>January</td>\n",
       "      <td>2022-01</td>\n",
       "      <td>False</td>\n",
       "    </tr>\n",
       "    <tr>\n",
       "      <th>1</th>\n",
       "      <td>2022-01-15</td>\n",
       "      <td>Bones!</td>\n",
       "      <td>https://vm.tiktok.com/TTPdrYXuSY/</td>\n",
       "      <td>Saturday</td>\n",
       "      <td>January</td>\n",
       "      <td>2022-01</td>\n",
       "      <td>True</td>\n",
       "    </tr>\n",
       "    <tr>\n",
       "      <th>2</th>\n",
       "      <td>2022-01-13</td>\n",
       "      <td>Bones!</td>\n",
       "      <td>https://www.tiktok.com/@jongraz/video/70523416...</td>\n",
       "      <td>Thursday</td>\n",
       "      <td>January</td>\n",
       "      <td>2022-01</td>\n",
       "      <td>False</td>\n",
       "    </tr>\n",
       "    <tr>\n",
       "      <th>3</th>\n",
       "      <td>2022-01-11</td>\n",
       "      <td>No bones</td>\n",
       "      <td>https://www.tiktok.com/@jongraz/video/70519729...</td>\n",
       "      <td>Tuesday</td>\n",
       "      <td>January</td>\n",
       "      <td>2022-01</td>\n",
       "      <td>False</td>\n",
       "    </tr>\n",
       "    <tr>\n",
       "      <th>4</th>\n",
       "      <td>2022-01-07</td>\n",
       "      <td>Bones!</td>\n",
       "      <td>https://www.tiktok.com/@jongraz/video/70504911...</td>\n",
       "      <td>Friday</td>\n",
       "      <td>January</td>\n",
       "      <td>2022-01</td>\n",
       "      <td>False</td>\n",
       "    </tr>\n",
       "  </tbody>\n",
       "</table>\n",
       "</div>"
      ],
      "text/plain": [
       "        date bones_nobones                                                url  \\\n",
       "0 2022-01-17      No bones  https://www.tiktok.com/@jongraz/video/70538379...   \n",
       "1 2022-01-15        Bones!                  https://vm.tiktok.com/TTPdrYXuSY/   \n",
       "2 2022-01-13        Bones!  https://www.tiktok.com/@jongraz/video/70523416...   \n",
       "3 2022-01-11      No bones  https://www.tiktok.com/@jongraz/video/70519729...   \n",
       "4 2022-01-07        Bones!  https://www.tiktok.com/@jongraz/video/70504911...   \n",
       "\n",
       "    weekday    month month-year  weekend  \n",
       "0    Monday  January    2022-01    False  \n",
       "1  Saturday  January    2022-01     True  \n",
       "2  Thursday  January    2022-01    False  \n",
       "3   Tuesday  January    2022-01    False  \n",
       "4    Friday  January    2022-01    False  "
      ]
     },
     "execution_count": 11,
     "metadata": {},
     "output_type": "execute_result"
    }
   ],
   "source": [
    "df.head()"
   ]
  },
  {
   "cell_type": "markdown",
   "id": "e140bc04-2622-4429-92ac-0887db978784",
   "metadata": {},
   "source": [
    "### Percentage of days with Bones (only days with a video)"
   ]
  },
  {
   "cell_type": "code",
   "execution_count": 12,
   "id": "8f0f192f-2f34-43ef-a746-571dee98440e",
   "metadata": {},
   "outputs": [
    {
     "data": {
      "text/plain": [
       "bones_nobones\n",
       "Bones!      51.0\n",
       "No bones    49.0\n",
       "dtype: float64"
      ]
     },
     "execution_count": 12,
     "metadata": {},
     "output_type": "execute_result"
    }
   ],
   "source": [
    "(\n",
    "    df[df[\"bones_nobones\"] != \"No video\"].value_counts(\"bones_nobones\", normalize=True)\n",
    "    * 100\n",
    ").round(0)"
   ]
  },
  {
   "cell_type": "markdown",
   "id": "51d96042-cc07-456b-ba49-2ffedff95344",
   "metadata": {},
   "source": [
    "### Group by day type"
   ]
  },
  {
   "cell_type": "code",
   "execution_count": 13,
   "id": "aeb84d9d-f214-41b9-83eb-e3794311f48b",
   "metadata": {
    "tags": []
   },
   "outputs": [],
   "source": [
    "days = (\n",
    "    df.groupby([\"bones_nobones\"])\n",
    "    .agg({\"date\": \"count\"})\n",
    "    .reset_index()\n",
    "    .rename(columns={\"date\": \"count\"})\n",
    ")"
   ]
  },
  {
   "cell_type": "markdown",
   "id": "cf87ac18-718e-474f-823a-82ccb0d3c125",
   "metadata": {
    "tags": []
   },
   "source": [
    "### Simple bar chart explaining the count of day types"
   ]
  },
  {
   "cell_type": "code",
   "execution_count": 14,
   "id": "635053b9-68a0-4e4a-8007-9e82c0b0790c",
   "metadata": {
    "tags": []
   },
   "outputs": [
    {
     "data": {
      "text/html": [
       "\n",
       "<div id=\"altair-viz-f70dffff89e747179e7db5c099a5fd47\"></div>\n",
       "<script type=\"text/javascript\">\n",
       "  var VEGA_DEBUG = (typeof VEGA_DEBUG == \"undefined\") ? {} : VEGA_DEBUG;\n",
       "  (function(spec, embedOpt){\n",
       "    let outputDiv = document.currentScript.previousElementSibling;\n",
       "    if (outputDiv.id !== \"altair-viz-f70dffff89e747179e7db5c099a5fd47\") {\n",
       "      outputDiv = document.getElementById(\"altair-viz-f70dffff89e747179e7db5c099a5fd47\");\n",
       "    }\n",
       "    const paths = {\n",
       "      \"vega\": \"https://cdn.jsdelivr.net/npm//vega@5?noext\",\n",
       "      \"vega-lib\": \"https://cdn.jsdelivr.net/npm//vega-lib?noext\",\n",
       "      \"vega-lite\": \"https://cdn.jsdelivr.net/npm//vega-lite@4.17.0?noext\",\n",
       "      \"vega-embed\": \"https://cdn.jsdelivr.net/npm//vega-embed@6?noext\",\n",
       "    };\n",
       "\n",
       "    function maybeLoadScript(lib, version) {\n",
       "      var key = `${lib.replace(\"-\", \"\")}_version`;\n",
       "      return (VEGA_DEBUG[key] == version) ?\n",
       "        Promise.resolve(paths[lib]) :\n",
       "        new Promise(function(resolve, reject) {\n",
       "          var s = document.createElement('script');\n",
       "          document.getElementsByTagName(\"head\")[0].appendChild(s);\n",
       "          s.async = true;\n",
       "          s.onload = () => {\n",
       "            VEGA_DEBUG[key] = version;\n",
       "            return resolve(paths[lib]);\n",
       "          };\n",
       "          s.onerror = () => reject(`Error loading script: ${paths[lib]}`);\n",
       "          s.src = paths[lib];\n",
       "        });\n",
       "    }\n",
       "\n",
       "    function showError(err) {\n",
       "      outputDiv.innerHTML = `<div class=\"error\" style=\"color:red;\">${err}</div>`;\n",
       "      throw err;\n",
       "    }\n",
       "\n",
       "    function displayChart(vegaEmbed) {\n",
       "      vegaEmbed(outputDiv, spec, embedOpt)\n",
       "        .catch(err => showError(`Javascript Error: ${err.message}<br>This usually means there's a typo in your chart specification. See the javascript console for the full traceback.`));\n",
       "    }\n",
       "\n",
       "    if(typeof define === \"function\" && define.amd) {\n",
       "      requirejs.config({paths});\n",
       "      require([\"vega-embed\"], displayChart, err => showError(`Error loading script: ${err.message}`));\n",
       "    } else {\n",
       "      maybeLoadScript(\"vega\", \"5\")\n",
       "        .then(() => maybeLoadScript(\"vega-lite\", \"4.17.0\"))\n",
       "        .then(() => maybeLoadScript(\"vega-embed\", \"6\"))\n",
       "        .catch(showError)\n",
       "        .then(() => displayChart(vegaEmbed));\n",
       "    }\n",
       "  })({\"config\": {\"view\": {\"continuousWidth\": 400, \"continuousHeight\": 300}}, \"data\": {\"name\": \"data-fb8a13d5a42cfe22cd528f269ca1b883\"}, \"mark\": \"bar\", \"encoding\": {\"color\": {\"field\": \"bones_nobones\", \"legend\": null, \"scale\": {\"domain\": [\"Bones!\", \"No bones\", \"No video\"], \"range\": [\"#5ab4ac\", \"#d8b365\", \"#e6e6e6\"]}, \"title\": \"\", \"type\": \"nominal\"}, \"x\": {\"axis\": {\"grid\": false, \"tickColor\": \"#ffffff\", \"tickCount\": 6}, \"field\": \"count\", \"title\": \"Days\", \"type\": \"quantitative\"}, \"y\": {\"axis\": {\"tickColor\": \"#ffffff\", \"tickCount\": 0}, \"field\": \"bones_nobones\", \"title\": \"\", \"type\": \"nominal\"}}, \"height\": 70, \"title\": \" \", \"width\": 500, \"$schema\": \"https://vega.github.io/schema/vega-lite/v4.17.0.json\", \"datasets\": {\"data-fb8a13d5a42cfe22cd528f269ca1b883\": [{\"bones_nobones\": \"Bones!\", \"count\": 38}, {\"bones_nobones\": \"No bones\", \"count\": 36}]}}, {\"mode\": \"vega-lite\"});\n",
       "</script>"
      ],
      "text/plain": [
       "alt.Chart(...)"
      ]
     },
     "execution_count": 14,
     "metadata": {},
     "output_type": "execute_result"
    }
   ],
   "source": [
    "alt.Chart(days[days[\"bones_nobones\"] != \"No video\"], title=\" \").mark_bar().encode(\n",
    "    y=alt.Y(\"bones_nobones\", title=\"\", axis=alt.Axis(tickCount=0, tickColor=\"#ffffff\")),\n",
    "    x=alt.X(\n",
    "        \"count\",\n",
    "        title=\"Days\",\n",
    "        axis=alt.Axis(grid=False, tickCount=6, tickColor=\"#ffffff\"),\n",
    "    ),\n",
    "    color=alt.Color(\n",
    "        \"bones_nobones\",\n",
    "        title=\"\",\n",
    "        legend=None,\n",
    "        scale=alt.Scale(\n",
    "            domain=[\"Bones!\", \"No bones\", \"No video\"],\n",
    "            range=[\"#5ab4ac\", \"#d8b365\", \"#e6e6e6\"],\n",
    "        ),\n",
    "    ),\n",
    ").properties(width=500, height=70)"
   ]
  },
  {
   "cell_type": "markdown",
   "id": "7727853a-96ed-4b0b-9ec7-bc19bd06313f",
   "metadata": {},
   "source": [
    "### Plot Noodle's days on a calendar"
   ]
  },
  {
   "cell_type": "code",
   "execution_count": 15,
   "id": "717e0ef7-b4df-4810-9a38-e8b034c548a1",
   "metadata": {
    "tags": []
   },
   "outputs": [
    {
     "data": {
      "text/html": [
       "\n",
       "<div id=\"altair-viz-39b5dcd294764056ab70d5398841f5f9\"></div>\n",
       "<script type=\"text/javascript\">\n",
       "  var VEGA_DEBUG = (typeof VEGA_DEBUG == \"undefined\") ? {} : VEGA_DEBUG;\n",
       "  (function(spec, embedOpt){\n",
       "    let outputDiv = document.currentScript.previousElementSibling;\n",
       "    if (outputDiv.id !== \"altair-viz-39b5dcd294764056ab70d5398841f5f9\") {\n",
       "      outputDiv = document.getElementById(\"altair-viz-39b5dcd294764056ab70d5398841f5f9\");\n",
       "    }\n",
       "    const paths = {\n",
       "      \"vega\": \"https://cdn.jsdelivr.net/npm//vega@5?noext\",\n",
       "      \"vega-lib\": \"https://cdn.jsdelivr.net/npm//vega-lib?noext\",\n",
       "      \"vega-lite\": \"https://cdn.jsdelivr.net/npm//vega-lite@4.17.0?noext\",\n",
       "      \"vega-embed\": \"https://cdn.jsdelivr.net/npm//vega-embed@6?noext\",\n",
       "    };\n",
       "\n",
       "    function maybeLoadScript(lib, version) {\n",
       "      var key = `${lib.replace(\"-\", \"\")}_version`;\n",
       "      return (VEGA_DEBUG[key] == version) ?\n",
       "        Promise.resolve(paths[lib]) :\n",
       "        new Promise(function(resolve, reject) {\n",
       "          var s = document.createElement('script');\n",
       "          document.getElementsByTagName(\"head\")[0].appendChild(s);\n",
       "          s.async = true;\n",
       "          s.onload = () => {\n",
       "            VEGA_DEBUG[key] = version;\n",
       "            return resolve(paths[lib]);\n",
       "          };\n",
       "          s.onerror = () => reject(`Error loading script: ${paths[lib]}`);\n",
       "          s.src = paths[lib];\n",
       "        });\n",
       "    }\n",
       "\n",
       "    function showError(err) {\n",
       "      outputDiv.innerHTML = `<div class=\"error\" style=\"color:red;\">${err}</div>`;\n",
       "      throw err;\n",
       "    }\n",
       "\n",
       "    function displayChart(vegaEmbed) {\n",
       "      vegaEmbed(outputDiv, spec, embedOpt)\n",
       "        .catch(err => showError(`Javascript Error: ${err.message}<br>This usually means there's a typo in your chart specification. See the javascript console for the full traceback.`));\n",
       "    }\n",
       "\n",
       "    if(typeof define === \"function\" && define.amd) {\n",
       "      requirejs.config({paths});\n",
       "      require([\"vega-embed\"], displayChart, err => showError(`Error loading script: ${err.message}`));\n",
       "    } else {\n",
       "      maybeLoadScript(\"vega\", \"5\")\n",
       "        .then(() => maybeLoadScript(\"vega-lite\", \"4.17.0\"))\n",
       "        .then(() => maybeLoadScript(\"vega-embed\", \"6\"))\n",
       "        .catch(showError)\n",
       "        .then(() => displayChart(vegaEmbed));\n",
       "    }\n",
       "  })({\"config\": {\"view\": {\"continuousWidth\": 400, \"continuousHeight\": 300, \"strokeOpacity\": 0}, \"legend\": {\"orient\": \"top\", \"padding\": 10}}, \"data\": {\"name\": \"data-9b56cca04cddbd492df01c45daa912df\"}, \"mark\": \"rect\", \"encoding\": {\"color\": {\"field\": \"bones_nobones\", \"scale\": {\"domain\": [\"Bones!\", \"No bones\", \"No video\"], \"range\": [\"#5ab4ac\", \"#d8b365\", \"#e6e6e6\"]}, \"title\": \"\", \"type\": \"nominal\"}, \"tooltip\": [{\"field\": \"date\", \"timeUnit\": \"monthdate\", \"title\": \"Date\", \"type\": \"temporal\"}, {\"field\": \"bones_nobones\", \"title\": \"Tweets\", \"type\": \"nominal\"}], \"x\": {\"field\": \"date\", \"timeUnit\": \"date\", \"title\": \" \", \"type\": \"ordinal\"}, \"y\": {\"field\": \"date\", \"timeUnit\": \"month\", \"title\": \"\", \"type\": \"ordinal\"}}, \"height\": 70, \"title\": \"Bones days since Sept. 1\", \"width\": 500, \"$schema\": \"https://vega.github.io/schema/vega-lite/v4.17.0.json\", \"datasets\": {\"data-9b56cca04cddbd492df01c45daa912df\": [{\"date\": \"2022-01-17T00:00:00\", \"bones_nobones\": \"No bones\", \"url\": \"https://www.tiktok.com/@jongraz/video/7053837902991658287\", \"weekday\": \"Monday\", \"month\": \"January\", \"month-year\": \"2022-01\", \"weekend\": false}, {\"date\": \"2022-01-15T00:00:00\", \"bones_nobones\": \"Bones!\", \"url\": \"https://vm.tiktok.com/TTPdrYXuSY/\", \"weekday\": \"Saturday\", \"month\": \"January\", \"month-year\": \"2022-01\", \"weekend\": true}, {\"date\": \"2022-01-13T00:00:00\", \"bones_nobones\": \"Bones!\", \"url\": \"https://www.tiktok.com/@jongraz/video/7052341674634235183\", \"weekday\": \"Thursday\", \"month\": \"January\", \"month-year\": \"2022-01\", \"weekend\": false}, {\"date\": \"2022-01-11T00:00:00\", \"bones_nobones\": \"No bones\", \"url\": \"https://www.tiktok.com/@jongraz/video/7051972968347503919\", \"weekday\": \"Tuesday\", \"month\": \"January\", \"month-year\": \"2022-01\", \"weekend\": false}, {\"date\": \"2022-01-07T00:00:00\", \"bones_nobones\": \"Bones!\", \"url\": \"https://www.tiktok.com/@jongraz/video/7050491114775842095\", \"weekday\": \"Friday\", \"month\": \"January\", \"month-year\": \"2022-01\", \"weekend\": false}, {\"date\": \"2022-01-03T00:00:00\", \"bones_nobones\": \"No bones\", \"url\": \"https://www.tiktok.com/@jongraz/video/7048998918729764102\", \"weekday\": \"Monday\", \"month\": \"January\", \"month-year\": \"2022-01\", \"weekend\": false}, {\"date\": \"2022-01-01T00:00:00\", \"bones_nobones\": \"Bones!\", \"url\": \"https://www.tiktok.com/@jongraz/video/7048271702387739910\", \"weekday\": \"Saturday\", \"month\": \"January\", \"month-year\": \"2022-01\", \"weekend\": true}, {\"date\": \"2021-12-31T00:00:00\", \"bones_nobones\": \"No bones\", \"url\": \"https://www.tiktok.com/@jongraz/video/7047890544210496773\", \"weekday\": \"Friday\", \"month\": \"December\", \"month-year\": \"2021-12\", \"weekend\": false}, {\"date\": \"2021-12-28T00:00:00\", \"bones_nobones\": \"No bones\", \"url\": \"https://www.tiktok.com/@jongraz/video/7046779675493895430\", \"weekday\": \"Tuesday\", \"month\": \"December\", \"month-year\": \"2021-12\", \"weekend\": false}, {\"date\": \"2021-12-25T00:00:00\", \"bones_nobones\": \"Bones!\", \"url\": \"https://www.tiktok.com/@jongraz/video/7045657418432285957\", \"weekday\": \"Saturday\", \"month\": \"December\", \"month-year\": \"2021-12\", \"weekend\": true}, {\"date\": \"2021-12-23T00:00:00\", \"bones_nobones\": \"Bones!\", \"url\": \"https://www.tiktok.com/@jongraz/video/7044925508760407302\", \"weekday\": \"Thursday\", \"month\": \"December\", \"month-year\": \"2021-12\", \"weekend\": false}, {\"date\": \"2021-12-21T00:00:00\", \"bones_nobones\": \"Bones!\", \"url\": \"https://www.tiktok.com/@jongraz/video/7044174342799789318\", \"weekday\": \"Tuesday\", \"month\": \"December\", \"month-year\": \"2021-12\", \"weekend\": false}, {\"date\": \"2021-12-20T00:00:00\", \"bones_nobones\": \"No bones\", \"url\": \"https://www.tiktok.com/@jongraz/video/7043809322018557189\", \"weekday\": \"Monday\", \"month\": \"December\", \"month-year\": \"2021-12\", \"weekend\": false}, {\"date\": \"2021-12-18T00:00:00\", \"bones_nobones\": \"Bones!\", \"url\": \"https://www.tiktok.com/@jongraz/video/7043061913114119429\", \"weekday\": \"Saturday\", \"month\": \"December\", \"month-year\": \"2021-12\", \"weekend\": true}, {\"date\": \"2021-12-16T00:00:00\", \"bones_nobones\": \"Bones!\", \"url\": \"https://www.tiktok.com/@jongraz/video/7042308571643514118\", \"weekday\": \"Thursday\", \"month\": \"December\", \"month-year\": \"2021-12\", \"weekend\": false}, {\"date\": \"2021-12-15T00:00:00\", \"bones_nobones\": \"Bones!\", \"url\": \"https://www.tiktok.com/@jongraz/video/7041944285268184325\", \"weekday\": \"Wednesday\", \"month\": \"December\", \"month-year\": \"2021-12\", \"weekend\": false}, {\"date\": \"2021-12-13T00:00:00\", \"bones_nobones\": \"No bones\", \"url\": \"https://www.tiktok.com/@jongraz/video/7041221365935934725\", \"weekday\": \"Monday\", \"month\": \"December\", \"month-year\": \"2021-12\", \"weekend\": false}, {\"date\": \"2021-12-12T00:00:00\", \"bones_nobones\": \"No bones\", \"url\": \"https://www.tiktok.com/@jongraz/video/7040833887395712261\", \"weekday\": \"Sunday\", \"month\": \"December\", \"month-year\": \"2021-12\", \"weekend\": true}, {\"date\": \"2021-12-10T00:00:00\", \"bones_nobones\": \"Bones!\", \"url\": \"https://www.tiktok.com/@jongraz/video/7040088885635894533\", \"weekday\": \"Friday\", \"month\": \"December\", \"month-year\": \"2021-12\", \"weekend\": false}, {\"date\": \"2021-12-09T00:00:00\", \"bones_nobones\": \"Bones!\", \"url\": \"https://www.tiktok.com/@jongraz/video/7039717595007683845\", \"weekday\": \"Thursday\", \"month\": \"December\", \"month-year\": \"2021-12\", \"weekend\": false}, {\"date\": \"2021-12-08T00:00:00\", \"bones_nobones\": \"No bones\", \"url\": \"https://www.tiktok.com/@jongraz/video/7039331413455490350\", \"weekday\": \"Wednesday\", \"month\": \"December\", \"month-year\": \"2021-12\", \"weekend\": false}, {\"date\": \"2021-12-06T00:00:00\", \"bones_nobones\": \"No bones\", \"url\": \"https://www.tiktok.com/@jongraz/video/7038604400016837893\", \"weekday\": \"Monday\", \"month\": \"December\", \"month-year\": \"2021-12\", \"weekend\": false}, {\"date\": \"2021-12-04T00:00:00\", \"bones_nobones\": \"No bones\", \"url\": \"https://www.tiktok.com/@jongraz/video/7037869076139543813\", \"weekday\": \"Saturday\", \"month\": \"December\", \"month-year\": \"2021-12\", \"weekend\": true}, {\"date\": \"2021-12-03T00:00:00\", \"bones_nobones\": \"Bones!\", \"url\": \"https://www.tiktok.com/@jongraz/video/7037487216548924678\", \"weekday\": \"Friday\", \"month\": \"December\", \"month-year\": \"2021-12\", \"weekend\": false}, {\"date\": \"2021-12-02T00:00:00\", \"bones_nobones\": \"Bones!\", \"url\": \"https://www.tiktok.com/@jongraz/video/7037119231531470086\", \"weekday\": \"Thursday\", \"month\": \"December\", \"month-year\": \"2021-12\", \"weekend\": false}, {\"date\": \"2021-11-30T00:00:00\", \"bones_nobones\": \"No bones\", \"url\": \"https://www.tiktok.com/@jongraz/video/7036373611187277061\", \"weekday\": \"Tuesday\", \"month\": \"November\", \"month-year\": \"2021-11\", \"weekend\": false}, {\"date\": \"2021-11-29T00:00:00\", \"bones_nobones\": \"No bones\", \"url\": \"https://www.tiktok.com/@jongraz/video/7036002855471418629\", \"weekday\": \"Monday\", \"month\": \"November\", \"month-year\": \"2021-11\", \"weekend\": false}, {\"date\": \"2021-11-27T00:00:00\", \"bones_nobones\": \"No bones\", \"url\": \"https://www.tiktok.com/@jongraz/video/7035264187450412293\", \"weekday\": \"Saturday\", \"month\": \"November\", \"month-year\": \"2021-11\", \"weekend\": true}, {\"date\": \"2021-11-25T00:00:00\", \"bones_nobones\": \"Bones!\", \"url\": \"https://www.tiktok.com/@jongraz/video/7034536859455819013\", \"weekday\": \"Thursday\", \"month\": \"November\", \"month-year\": \"2021-11\", \"weekend\": false}, {\"date\": \"2021-11-24T00:00:00\", \"bones_nobones\": \"Bones!\", \"url\": \"https://www.tiktok.com/@jongraz/video/7034153718278933765\", \"weekday\": \"Wednesday\", \"month\": \"November\", \"month-year\": \"2021-11\", \"weekend\": false}, {\"date\": \"2021-11-23T00:00:00\", \"bones_nobones\": \"No bones\", \"url\": \"https://www.tiktok.com/@jongraz/video/7033774353791601926\", \"weekday\": \"Tuesday\", \"month\": \"November\", \"month-year\": \"2021-11\", \"weekend\": false}, {\"date\": \"2021-11-22T00:00:00\", \"bones_nobones\": \"Bones!\", \"url\": \"https://www.tiktok.com/@jongraz/video/7033413331775950085\", \"weekday\": \"Monday\", \"month\": \"November\", \"month-year\": \"2021-11\", \"weekend\": false}, {\"date\": \"2021-11-21T00:00:00\", \"bones_nobones\": \"Bones!\", \"url\": \"https://www.tiktok.com/@jongraz/video/7033034538523610373\", \"weekday\": \"Sunday\", \"month\": \"November\", \"month-year\": \"2021-11\", \"weekend\": true}, {\"date\": \"2021-11-19T00:00:00\", \"bones_nobones\": \"No bones\", \"url\": \"https://www.tiktok.com/@jongraz/video/7032301423278738694\", \"weekday\": \"Friday\", \"month\": \"November\", \"month-year\": \"2021-11\", \"weekend\": false}, {\"date\": \"2021-11-18T00:00:00\", \"bones_nobones\": \"Bones!\", \"url\": \"https://www.tiktok.com/@jongraz/video/7031918628782017798\", \"weekday\": \"Thursday\", \"month\": \"November\", \"month-year\": \"2021-11\", \"weekend\": false}, {\"date\": \"2021-11-16T00:00:00\", \"bones_nobones\": \"Bones!\", \"url\": \"https://www.tiktok.com/@jongraz/video/7031187804289912069\", \"weekday\": \"Tuesday\", \"month\": \"November\", \"month-year\": \"2021-11\", \"weekend\": false}, {\"date\": \"2021-11-15T00:00:00\", \"bones_nobones\": \"Bones!\", \"url\": \"https://www.tiktok.com/@jongraz/video/7030808551417236741\", \"weekday\": \"Monday\", \"month\": \"November\", \"month-year\": \"2021-11\", \"weekend\": false}, {\"date\": \"2021-11-12T00:00:00\", \"bones_nobones\": \"No bones\", \"url\": \"https://www.tiktok.com/@jongraz/video/7029702975224417541\", \"weekday\": \"Friday\", \"month\": \"November\", \"month-year\": \"2021-11\", \"weekend\": false}, {\"date\": \"2021-11-11T00:00:00\", \"bones_nobones\": \"No bones\", \"url\": \"https://www.tiktok.com/@jongraz/video/7029337289553693958\", \"weekday\": \"Thursday\", \"month\": \"November\", \"month-year\": \"2021-11\", \"weekend\": false}, {\"date\": \"2021-11-09T00:00:00\", \"bones_nobones\": \"Bones!\", \"url\": \"https://www.tiktok.com/@jongraz/video/7028597285869128966\", \"weekday\": \"Tuesday\", \"month\": \"November\", \"month-year\": \"2021-11\", \"weekend\": false}, {\"date\": \"2021-11-08T00:00:00\", \"bones_nobones\": \"Bones!\", \"url\": \"https://www.tiktok.com/@jongraz/video/7028212495621934342\", \"weekday\": \"Monday\", \"month\": \"November\", \"month-year\": \"2021-11\", \"weekend\": false}, {\"date\": \"2021-11-07T00:00:00\", \"bones_nobones\": \"No bones\", \"url\": \"https://www.tiktok.com/@jongraz/video/7027831943009930502\", \"weekday\": \"Sunday\", \"month\": \"November\", \"month-year\": \"2021-11\", \"weekend\": true}, {\"date\": \"2021-11-05T00:00:00\", \"bones_nobones\": \"Bones!\", \"url\": \"https://www.tiktok.com/@jongraz/video/7027092093080325382\", \"weekday\": \"Friday\", \"month\": \"November\", \"month-year\": \"2021-11\", \"weekend\": false}, {\"date\": \"2021-11-04T00:00:00\", \"bones_nobones\": \"Bones!\", \"url\": \"https://www.tiktok.com/@jongraz/video/7026722598096538886\", \"weekday\": \"Thursday\", \"month\": \"November\", \"month-year\": \"2021-11\", \"weekend\": false}, {\"date\": \"2021-11-03T00:00:00\", \"bones_nobones\": \"Bones!\", \"url\": \"https://www.tiktok.com/@jongraz/video/7026343071839276294\", \"weekday\": \"Wednesday\", \"month\": \"November\", \"month-year\": \"2021-11\", \"weekend\": false}, {\"date\": \"2021-11-02T00:00:00\", \"bones_nobones\": \"No bones\", \"url\": \"https://www.tiktok.com/@jongraz/video/7025988024450223366\", \"weekday\": \"Tuesday\", \"month\": \"November\", \"month-year\": \"2021-11\", \"weekend\": false}, {\"date\": \"2021-11-01T00:00:00\", \"bones_nobones\": \"No bones\", \"url\": \"https://www.tiktok.com/@jongraz/video/7025602864663907590\", \"weekday\": \"Monday\", \"month\": \"November\", \"month-year\": \"2021-11\", \"weekend\": false}, {\"date\": \"2021-10-31T00:00:00\", \"bones_nobones\": \"Bones!\", \"url\": \"https://www.tiktok.com/@jongraz/video/7025224724321946885\", \"weekday\": \"Sunday\", \"month\": \"October\", \"month-year\": \"2021-10\", \"weekend\": true}, {\"date\": \"2021-10-28T00:00:00\", \"bones_nobones\": \"Bones!\", \"url\": \"https://www.tiktok.com/@jongraz/video/7024110833995205893\", \"weekday\": \"Thursday\", \"month\": \"October\", \"month-year\": \"2021-10\", \"weekend\": false}, {\"date\": \"2021-10-26T00:00:00\", \"bones_nobones\": \"No bones\", \"url\": \"https://www.tiktok.com/@jongraz/video/7023371588124921093\", \"weekday\": \"Tuesday\", \"month\": \"October\", \"month-year\": \"2021-10\", \"weekend\": false}, {\"date\": \"2021-10-25T00:00:00\", \"bones_nobones\": \"Bones!\", \"url\": \"https://www.tiktok.com/@jongraz/video/7023004798215539973\", \"weekday\": \"Monday\", \"month\": \"October\", \"month-year\": \"2021-10\", \"weekend\": false}, {\"date\": \"2021-10-23T00:00:00\", \"bones_nobones\": \"Bones!\", \"url\": \"https://www.tiktok.com/@jongraz/video/7022251358833118469\", \"weekday\": \"Saturday\", \"month\": \"October\", \"month-year\": \"2021-10\", \"weekend\": true}, {\"date\": \"2021-10-22T00:00:00\", \"bones_nobones\": \"No bones\", \"url\": \"https://www.tiktok.com/@jongraz/video/7021895192559111430\", \"weekday\": \"Friday\", \"month\": \"October\", \"month-year\": \"2021-10\", \"weekend\": false}, {\"date\": \"2021-10-21T00:00:00\", \"bones_nobones\": \"No bones\", \"url\": \"https://www.tiktok.com/@jongraz/video/7021511892824820997\", \"weekday\": \"Thursday\", \"month\": \"October\", \"month-year\": \"2021-10\", \"weekend\": false}, {\"date\": \"2021-10-20T00:00:00\", \"bones_nobones\": \"Bones!\", \"url\": \"https://www.tiktok.com/@jongraz/video/7021172359386172678\", \"weekday\": \"Wednesday\", \"month\": \"October\", \"month-year\": \"2021-10\", \"weekend\": false}, {\"date\": \"2021-10-19T00:00:00\", \"bones_nobones\": \"No bones\", \"url\": \"https://www.tiktok.com/@jongraz/video/7020772470017887494\", \"weekday\": \"Tuesday\", \"month\": \"October\", \"month-year\": \"2021-10\", \"weekend\": false}, {\"date\": \"2021-10-18T00:00:00\", \"bones_nobones\": \"Bones!\", \"url\": \"https://www.tiktok.com/@jongraz/video/7020411242749758725\", \"weekday\": \"Monday\", \"month\": \"October\", \"month-year\": \"2021-10\", \"weekend\": false}, {\"date\": \"2021-10-17T00:00:00\", \"bones_nobones\": \"No bones\", \"url\": \"https://www.tiktok.com/@jongraz/video/7020027193216503046\", \"weekday\": \"Sunday\", \"month\": \"October\", \"month-year\": \"2021-10\", \"weekend\": true}, {\"date\": \"2021-10-16T00:00:00\", \"bones_nobones\": \"Bones!\", \"url\": \"https://www.tiktok.com/@jongraz/video/7019702064829697285\", \"weekday\": \"Saturday\", \"month\": \"October\", \"month-year\": \"2021-10\", \"weekend\": true}, {\"date\": \"2021-10-15T00:00:00\", \"bones_nobones\": \"Bones!\", \"url\": \"https://www.tiktok.com/@jongraz/video/7019298458678856965\", \"weekday\": \"Friday\", \"month\": \"October\", \"month-year\": \"2021-10\", \"weekend\": false}, {\"date\": \"2021-10-14T00:00:00\", \"bones_nobones\": \"No bones\", \"url\": \"https://www.tiktok.com/@jongraz/video/7018925390118784262\", \"weekday\": \"Thursday\", \"month\": \"October\", \"month-year\": \"2021-10\", \"weekend\": false}, {\"date\": \"2021-10-13T00:00:00\", \"bones_nobones\": \"No bones\", \"url\": \"https://www.tiktok.com/@jongraz/video/7018544878183320837\", \"weekday\": \"Wednesday\", \"month\": \"October\", \"month-year\": \"2021-10\", \"weekend\": false}, {\"date\": \"2021-10-11T00:00:00\", \"bones_nobones\": \"Bones!\", \"url\": \"https://www.tiktok.com/@jongraz/video/7017803606308965637\", \"weekday\": \"Monday\", \"month\": \"October\", \"month-year\": \"2021-10\", \"weekend\": false}, {\"date\": \"2021-10-09T00:00:00\", \"bones_nobones\": \"No bones\", \"url\": \"https://www.tiktok.com/@jongraz/video/7017075369505213702\", \"weekday\": \"Saturday\", \"month\": \"October\", \"month-year\": \"2021-10\", \"weekend\": true}, {\"date\": \"2021-10-07T00:00:00\", \"bones_nobones\": \"Bones!\", \"url\": \"https://www.tiktok.com/@jongraz/video/7016326380820401414\", \"weekday\": \"Thursday\", \"month\": \"October\", \"month-year\": \"2021-10\", \"weekend\": false}, {\"date\": \"2021-10-04T00:00:00\", \"bones_nobones\": \"No bones\", \"url\": \"https://www.tiktok.com/@jongraz/video/7015223171011857670\", \"weekday\": \"Monday\", \"month\": \"October\", \"month-year\": \"2021-10\", \"weekend\": false}, {\"date\": \"2021-10-01T00:00:00\", \"bones_nobones\": \"Bones!\", \"url\": \"https://www.tiktok.com/@jongraz/video/7014096448493079814\", \"weekday\": \"Friday\", \"month\": \"October\", \"month-year\": \"2021-10\", \"weekend\": false}, {\"date\": \"2021-09-29T00:00:00\", \"bones_nobones\": \"No bones\", \"url\": \"https://www.tiktok.com/@jongraz/video/7013363016121044229\", \"weekday\": \"Wednesday\", \"month\": \"September\", \"month-year\": \"2021-09\", \"weekend\": false}, {\"date\": \"2021-09-22T00:00:00\", \"bones_nobones\": \"No bones\", \"url\": \"https://www.tiktok.com/@jongraz/video/7010754857476885766\", \"weekday\": \"Wednesday\", \"month\": \"September\", \"month-year\": \"2021-09\", \"weekend\": false}, {\"date\": \"2021-09-14T00:00:00\", \"bones_nobones\": \"Bones!\", \"url\": \"https://www.tiktok.com/@jongraz/video/7007786296059940101\", \"weekday\": \"Tuesday\", \"month\": \"September\", \"month-year\": \"2021-09\", \"weekend\": false}, {\"date\": \"2021-09-05T00:00:00\", \"bones_nobones\": \"No bones\", \"url\": \"https://www.tiktok.com/@jongraz/video/7004453353946189062\", \"weekday\": \"Sunday\", \"month\": \"September\", \"month-year\": \"2021-09\", \"weekend\": true}, {\"date\": \"2021-09-01T00:00:00\", \"bones_nobones\": \"No video\", \"url\": null, \"weekday\": \"Wednesday\", \"month\": \"September\", \"month-year\": \"2021-09\", \"weekend\": false}, {\"date\": \"2021-09-02T00:00:00\", \"bones_nobones\": \"No video\", \"url\": null, \"weekday\": \"Thursday\", \"month\": \"September\", \"month-year\": \"2021-09\", \"weekend\": false}, {\"date\": \"2021-09-03T00:00:00\", \"bones_nobones\": \"No video\", \"url\": null, \"weekday\": \"Friday\", \"month\": \"September\", \"month-year\": \"2021-09\", \"weekend\": false}, {\"date\": \"2021-09-04T00:00:00\", \"bones_nobones\": \"No video\", \"url\": null, \"weekday\": \"Saturday\", \"month\": \"September\", \"month-year\": \"2021-09\", \"weekend\": true}, {\"date\": \"2021-09-06T00:00:00\", \"bones_nobones\": \"No video\", \"url\": null, \"weekday\": \"Monday\", \"month\": \"September\", \"month-year\": \"2021-09\", \"weekend\": false}, {\"date\": \"2021-09-07T00:00:00\", \"bones_nobones\": \"No video\", \"url\": null, \"weekday\": \"Tuesday\", \"month\": \"September\", \"month-year\": \"2021-09\", \"weekend\": false}, {\"date\": \"2021-09-08T00:00:00\", \"bones_nobones\": \"No video\", \"url\": null, \"weekday\": \"Wednesday\", \"month\": \"September\", \"month-year\": \"2021-09\", \"weekend\": false}, {\"date\": \"2021-09-09T00:00:00\", \"bones_nobones\": \"No video\", \"url\": null, \"weekday\": \"Thursday\", \"month\": \"September\", \"month-year\": \"2021-09\", \"weekend\": false}, {\"date\": \"2021-09-10T00:00:00\", \"bones_nobones\": \"No video\", \"url\": null, \"weekday\": \"Friday\", \"month\": \"September\", \"month-year\": \"2021-09\", \"weekend\": false}, {\"date\": \"2021-09-11T00:00:00\", \"bones_nobones\": \"No video\", \"url\": null, \"weekday\": \"Saturday\", \"month\": \"September\", \"month-year\": \"2021-09\", \"weekend\": true}, {\"date\": \"2021-09-12T00:00:00\", \"bones_nobones\": \"No video\", \"url\": null, \"weekday\": \"Sunday\", \"month\": \"September\", \"month-year\": \"2021-09\", \"weekend\": true}, {\"date\": \"2021-09-13T00:00:00\", \"bones_nobones\": \"No video\", \"url\": null, \"weekday\": \"Monday\", \"month\": \"September\", \"month-year\": \"2021-09\", \"weekend\": false}, {\"date\": \"2021-09-15T00:00:00\", \"bones_nobones\": \"No video\", \"url\": null, \"weekday\": \"Wednesday\", \"month\": \"September\", \"month-year\": \"2021-09\", \"weekend\": false}, {\"date\": \"2021-09-16T00:00:00\", \"bones_nobones\": \"No video\", \"url\": null, \"weekday\": \"Thursday\", \"month\": \"September\", \"month-year\": \"2021-09\", \"weekend\": false}, {\"date\": \"2021-09-17T00:00:00\", \"bones_nobones\": \"No video\", \"url\": null, \"weekday\": \"Friday\", \"month\": \"September\", \"month-year\": \"2021-09\", \"weekend\": false}, {\"date\": \"2021-09-18T00:00:00\", \"bones_nobones\": \"No video\", \"url\": null, \"weekday\": \"Saturday\", \"month\": \"September\", \"month-year\": \"2021-09\", \"weekend\": true}, {\"date\": \"2021-09-19T00:00:00\", \"bones_nobones\": \"No video\", \"url\": null, \"weekday\": \"Sunday\", \"month\": \"September\", \"month-year\": \"2021-09\", \"weekend\": true}, {\"date\": \"2021-09-20T00:00:00\", \"bones_nobones\": \"No video\", \"url\": null, \"weekday\": \"Monday\", \"month\": \"September\", \"month-year\": \"2021-09\", \"weekend\": false}, {\"date\": \"2021-09-21T00:00:00\", \"bones_nobones\": \"No video\", \"url\": null, \"weekday\": \"Tuesday\", \"month\": \"September\", \"month-year\": \"2021-09\", \"weekend\": false}, {\"date\": \"2021-09-23T00:00:00\", \"bones_nobones\": \"No video\", \"url\": null, \"weekday\": \"Thursday\", \"month\": \"September\", \"month-year\": \"2021-09\", \"weekend\": false}, {\"date\": \"2021-09-24T00:00:00\", \"bones_nobones\": \"No video\", \"url\": null, \"weekday\": \"Friday\", \"month\": \"September\", \"month-year\": \"2021-09\", \"weekend\": false}, {\"date\": \"2021-09-25T00:00:00\", \"bones_nobones\": \"No video\", \"url\": null, \"weekday\": \"Saturday\", \"month\": \"September\", \"month-year\": \"2021-09\", \"weekend\": true}, {\"date\": \"2021-09-26T00:00:00\", \"bones_nobones\": \"No video\", \"url\": null, \"weekday\": \"Sunday\", \"month\": \"September\", \"month-year\": \"2021-09\", \"weekend\": true}, {\"date\": \"2021-09-27T00:00:00\", \"bones_nobones\": \"No video\", \"url\": null, \"weekday\": \"Monday\", \"month\": \"September\", \"month-year\": \"2021-09\", \"weekend\": false}, {\"date\": \"2021-09-28T00:00:00\", \"bones_nobones\": \"No video\", \"url\": null, \"weekday\": \"Tuesday\", \"month\": \"September\", \"month-year\": \"2021-09\", \"weekend\": false}, {\"date\": \"2021-09-30T00:00:00\", \"bones_nobones\": \"No video\", \"url\": null, \"weekday\": \"Thursday\", \"month\": \"September\", \"month-year\": \"2021-09\", \"weekend\": false}, {\"date\": \"2021-10-02T00:00:00\", \"bones_nobones\": \"No video\", \"url\": null, \"weekday\": \"Saturday\", \"month\": \"October\", \"month-year\": \"2021-10\", \"weekend\": true}, {\"date\": \"2021-10-03T00:00:00\", \"bones_nobones\": \"No video\", \"url\": null, \"weekday\": \"Sunday\", \"month\": \"October\", \"month-year\": \"2021-10\", \"weekend\": true}, {\"date\": \"2021-10-05T00:00:00\", \"bones_nobones\": \"No video\", \"url\": null, \"weekday\": \"Tuesday\", \"month\": \"October\", \"month-year\": \"2021-10\", \"weekend\": false}, {\"date\": \"2021-10-06T00:00:00\", \"bones_nobones\": \"No video\", \"url\": null, \"weekday\": \"Wednesday\", \"month\": \"October\", \"month-year\": \"2021-10\", \"weekend\": false}, {\"date\": \"2021-10-08T00:00:00\", \"bones_nobones\": \"No video\", \"url\": null, \"weekday\": \"Friday\", \"month\": \"October\", \"month-year\": \"2021-10\", \"weekend\": false}, {\"date\": \"2021-10-10T00:00:00\", \"bones_nobones\": \"No video\", \"url\": null, \"weekday\": \"Sunday\", \"month\": \"October\", \"month-year\": \"2021-10\", \"weekend\": true}, {\"date\": \"2021-10-12T00:00:00\", \"bones_nobones\": \"No video\", \"url\": null, \"weekday\": \"Tuesday\", \"month\": \"October\", \"month-year\": \"2021-10\", \"weekend\": false}, {\"date\": \"2021-10-24T00:00:00\", \"bones_nobones\": \"No video\", \"url\": null, \"weekday\": \"Sunday\", \"month\": \"October\", \"month-year\": \"2021-10\", \"weekend\": true}, {\"date\": \"2021-10-27T00:00:00\", \"bones_nobones\": \"No video\", \"url\": null, \"weekday\": \"Wednesday\", \"month\": \"October\", \"month-year\": \"2021-10\", \"weekend\": false}, {\"date\": \"2021-10-29T00:00:00\", \"bones_nobones\": \"No video\", \"url\": null, \"weekday\": \"Friday\", \"month\": \"October\", \"month-year\": \"2021-10\", \"weekend\": false}, {\"date\": \"2021-10-30T00:00:00\", \"bones_nobones\": \"No video\", \"url\": null, \"weekday\": \"Saturday\", \"month\": \"October\", \"month-year\": \"2021-10\", \"weekend\": true}, {\"date\": \"2021-11-06T00:00:00\", \"bones_nobones\": \"No video\", \"url\": null, \"weekday\": \"Saturday\", \"month\": \"November\", \"month-year\": \"2021-11\", \"weekend\": true}, {\"date\": \"2021-11-10T00:00:00\", \"bones_nobones\": \"No video\", \"url\": null, \"weekday\": \"Wednesday\", \"month\": \"November\", \"month-year\": \"2021-11\", \"weekend\": false}, {\"date\": \"2021-11-13T00:00:00\", \"bones_nobones\": \"No video\", \"url\": null, \"weekday\": \"Saturday\", \"month\": \"November\", \"month-year\": \"2021-11\", \"weekend\": true}, {\"date\": \"2021-11-14T00:00:00\", \"bones_nobones\": \"No video\", \"url\": null, \"weekday\": \"Sunday\", \"month\": \"November\", \"month-year\": \"2021-11\", \"weekend\": true}, {\"date\": \"2021-11-17T00:00:00\", \"bones_nobones\": \"No video\", \"url\": null, \"weekday\": \"Wednesday\", \"month\": \"November\", \"month-year\": \"2021-11\", \"weekend\": false}, {\"date\": \"2021-11-20T00:00:00\", \"bones_nobones\": \"No video\", \"url\": null, \"weekday\": \"Saturday\", \"month\": \"November\", \"month-year\": \"2021-11\", \"weekend\": true}, {\"date\": \"2021-11-26T00:00:00\", \"bones_nobones\": \"No video\", \"url\": null, \"weekday\": \"Friday\", \"month\": \"November\", \"month-year\": \"2021-11\", \"weekend\": false}, {\"date\": \"2021-11-28T00:00:00\", \"bones_nobones\": \"No video\", \"url\": null, \"weekday\": \"Sunday\", \"month\": \"November\", \"month-year\": \"2021-11\", \"weekend\": true}, {\"date\": \"2021-12-01T00:00:00\", \"bones_nobones\": \"No video\", \"url\": null, \"weekday\": \"Wednesday\", \"month\": \"December\", \"month-year\": \"2021-12\", \"weekend\": false}, {\"date\": \"2021-12-05T00:00:00\", \"bones_nobones\": \"No video\", \"url\": null, \"weekday\": \"Sunday\", \"month\": \"December\", \"month-year\": \"2021-12\", \"weekend\": true}, {\"date\": \"2021-12-07T00:00:00\", \"bones_nobones\": \"No video\", \"url\": null, \"weekday\": \"Tuesday\", \"month\": \"December\", \"month-year\": \"2021-12\", \"weekend\": false}, {\"date\": \"2021-12-11T00:00:00\", \"bones_nobones\": \"No video\", \"url\": null, \"weekday\": \"Saturday\", \"month\": \"December\", \"month-year\": \"2021-12\", \"weekend\": true}, {\"date\": \"2021-12-14T00:00:00\", \"bones_nobones\": \"No video\", \"url\": null, \"weekday\": \"Tuesday\", \"month\": \"December\", \"month-year\": \"2021-12\", \"weekend\": false}, {\"date\": \"2021-12-17T00:00:00\", \"bones_nobones\": \"No video\", \"url\": null, \"weekday\": \"Friday\", \"month\": \"December\", \"month-year\": \"2021-12\", \"weekend\": false}, {\"date\": \"2021-12-19T00:00:00\", \"bones_nobones\": \"No video\", \"url\": null, \"weekday\": \"Sunday\", \"month\": \"December\", \"month-year\": \"2021-12\", \"weekend\": true}, {\"date\": \"2021-12-22T00:00:00\", \"bones_nobones\": \"No video\", \"url\": null, \"weekday\": \"Wednesday\", \"month\": \"December\", \"month-year\": \"2021-12\", \"weekend\": false}, {\"date\": \"2021-12-24T00:00:00\", \"bones_nobones\": \"No video\", \"url\": null, \"weekday\": \"Friday\", \"month\": \"December\", \"month-year\": \"2021-12\", \"weekend\": false}, {\"date\": \"2021-12-26T00:00:00\", \"bones_nobones\": \"No video\", \"url\": null, \"weekday\": \"Sunday\", \"month\": \"December\", \"month-year\": \"2021-12\", \"weekend\": true}, {\"date\": \"2021-12-27T00:00:00\", \"bones_nobones\": \"No video\", \"url\": null, \"weekday\": \"Monday\", \"month\": \"December\", \"month-year\": \"2021-12\", \"weekend\": false}, {\"date\": \"2021-12-29T00:00:00\", \"bones_nobones\": \"No video\", \"url\": null, \"weekday\": \"Wednesday\", \"month\": \"December\", \"month-year\": \"2021-12\", \"weekend\": false}, {\"date\": \"2021-12-30T00:00:00\", \"bones_nobones\": \"No video\", \"url\": null, \"weekday\": \"Thursday\", \"month\": \"December\", \"month-year\": \"2021-12\", \"weekend\": false}, {\"date\": \"2022-01-02T00:00:00\", \"bones_nobones\": \"No video\", \"url\": null, \"weekday\": \"Sunday\", \"month\": \"January\", \"month-year\": \"2022-01\", \"weekend\": true}, {\"date\": \"2022-01-04T00:00:00\", \"bones_nobones\": \"No video\", \"url\": null, \"weekday\": \"Tuesday\", \"month\": \"January\", \"month-year\": \"2022-01\", \"weekend\": false}, {\"date\": \"2022-01-05T00:00:00\", \"bones_nobones\": \"No video\", \"url\": null, \"weekday\": \"Wednesday\", \"month\": \"January\", \"month-year\": \"2022-01\", \"weekend\": false}, {\"date\": \"2022-01-06T00:00:00\", \"bones_nobones\": \"No video\", \"url\": null, \"weekday\": \"Thursday\", \"month\": \"January\", \"month-year\": \"2022-01\", \"weekend\": false}, {\"date\": \"2022-01-08T00:00:00\", \"bones_nobones\": \"No video\", \"url\": null, \"weekday\": \"Saturday\", \"month\": \"January\", \"month-year\": \"2022-01\", \"weekend\": true}, {\"date\": \"2022-01-09T00:00:00\", \"bones_nobones\": \"No video\", \"url\": null, \"weekday\": \"Sunday\", \"month\": \"January\", \"month-year\": \"2022-01\", \"weekend\": true}, {\"date\": \"2022-01-10T00:00:00\", \"bones_nobones\": \"No video\", \"url\": null, \"weekday\": \"Monday\", \"month\": \"January\", \"month-year\": \"2022-01\", \"weekend\": false}, {\"date\": \"2022-01-12T00:00:00\", \"bones_nobones\": \"No video\", \"url\": null, \"weekday\": \"Wednesday\", \"month\": \"January\", \"month-year\": \"2022-01\", \"weekend\": false}, {\"date\": \"2022-01-14T00:00:00\", \"bones_nobones\": \"No video\", \"url\": null, \"weekday\": \"Friday\", \"month\": \"January\", \"month-year\": \"2022-01\", \"weekend\": false}, {\"date\": \"2022-01-16T00:00:00\", \"bones_nobones\": \"No video\", \"url\": null, \"weekday\": \"Sunday\", \"month\": \"January\", \"month-year\": \"2022-01\", \"weekend\": true}]}}, {\"mode\": \"vega-lite\"});\n",
       "</script>"
      ],
      "text/plain": [
       "alt.Chart(...)"
      ]
     },
     "execution_count": 15,
     "metadata": {},
     "output_type": "execute_result"
    }
   ],
   "source": [
    "heatmap = (\n",
    "    alt.Chart(df[df[\"date\"] > \"2021-08-31\"], title=\" \")\n",
    "    .mark_rect()\n",
    "    .encode(\n",
    "        x=alt.X(\"date(date):O\", title=\" \"),\n",
    "        y=alt.Y(\"month(date):O\", title=\"\"),\n",
    "        color=alt.Color(\n",
    "            \"bones_nobones\",\n",
    "            title=\"\",\n",
    "            scale=alt.Scale(\n",
    "                domain=[\"Bones!\", \"No bones\", \"No video\"],\n",
    "                range=[\"#5ab4ac\", \"#d8b365\", \"#e6e6e6\"],\n",
    "            ),\n",
    "        ),\n",
    "        tooltip=[\n",
    "            alt.Tooltip(\"monthdate(date):T\", title=\"Date\"),\n",
    "            alt.Tooltip(\"bones_nobones\", title=\"Tweets\"),\n",
    "        ],\n",
    "    )\n",
    "    .properties(width=500, height=70, title=\"Bones days since Sept. 1\")\n",
    ")\n",
    "\n",
    "heatmap.configure_legend(orient=\"top\", padding=10).configure_view(strokeOpacity=0)"
   ]
  },
  {
   "cell_type": "markdown",
   "id": "960403aa-1962-40a6-82f6-9712a3f5e109",
   "metadata": {},
   "source": [
    "### Prep for datawrapper "
   ]
  },
  {
   "cell_type": "code",
   "execution_count": 16,
   "id": "421b1ce9-a14f-42da-9972-7946eb3fd094",
   "metadata": {},
   "outputs": [
    {
     "data": {
      "text/html": [
       "<div>\n",
       "<style scoped>\n",
       "    .dataframe tbody tr th:only-of-type {\n",
       "        vertical-align: middle;\n",
       "    }\n",
       "\n",
       "    .dataframe tbody tr th {\n",
       "        vertical-align: top;\n",
       "    }\n",
       "\n",
       "    .dataframe thead th {\n",
       "        text-align: right;\n",
       "    }\n",
       "</style>\n",
       "<table border=\"1\" class=\"dataframe\">\n",
       "  <thead>\n",
       "    <tr style=\"text-align: right;\">\n",
       "      <th></th>\n",
       "      <th>date</th>\n",
       "      <th>bones_nobones</th>\n",
       "      <th>url</th>\n",
       "      <th>weekday</th>\n",
       "      <th>month</th>\n",
       "      <th>month-year</th>\n",
       "      <th>weekend</th>\n",
       "    </tr>\n",
       "  </thead>\n",
       "  <tbody>\n",
       "    <tr>\n",
       "      <th>0</th>\n",
       "      <td>2022-01-17</td>\n",
       "      <td>No bones</td>\n",
       "      <td>https://www.tiktok.com/@jongraz/video/70538379...</td>\n",
       "      <td>Monday</td>\n",
       "      <td>January</td>\n",
       "      <td>2022-01</td>\n",
       "      <td>False</td>\n",
       "    </tr>\n",
       "    <tr>\n",
       "      <th>1</th>\n",
       "      <td>2022-01-15</td>\n",
       "      <td>Bones!</td>\n",
       "      <td>https://vm.tiktok.com/TTPdrYXuSY/</td>\n",
       "      <td>Saturday</td>\n",
       "      <td>January</td>\n",
       "      <td>2022-01</td>\n",
       "      <td>True</td>\n",
       "    </tr>\n",
       "    <tr>\n",
       "      <th>2</th>\n",
       "      <td>2022-01-13</td>\n",
       "      <td>Bones!</td>\n",
       "      <td>https://www.tiktok.com/@jongraz/video/70523416...</td>\n",
       "      <td>Thursday</td>\n",
       "      <td>January</td>\n",
       "      <td>2022-01</td>\n",
       "      <td>False</td>\n",
       "    </tr>\n",
       "    <tr>\n",
       "      <th>3</th>\n",
       "      <td>2022-01-11</td>\n",
       "      <td>No bones</td>\n",
       "      <td>https://www.tiktok.com/@jongraz/video/70519729...</td>\n",
       "      <td>Tuesday</td>\n",
       "      <td>January</td>\n",
       "      <td>2022-01</td>\n",
       "      <td>False</td>\n",
       "    </tr>\n",
       "    <tr>\n",
       "      <th>4</th>\n",
       "      <td>2022-01-07</td>\n",
       "      <td>Bones!</td>\n",
       "      <td>https://www.tiktok.com/@jongraz/video/70504911...</td>\n",
       "      <td>Friday</td>\n",
       "      <td>January</td>\n",
       "      <td>2022-01</td>\n",
       "      <td>False</td>\n",
       "    </tr>\n",
       "  </tbody>\n",
       "</table>\n",
       "</div>"
      ],
      "text/plain": [
       "        date bones_nobones                                                url  \\\n",
       "0 2022-01-17      No bones  https://www.tiktok.com/@jongraz/video/70538379...   \n",
       "1 2022-01-15        Bones!                  https://vm.tiktok.com/TTPdrYXuSY/   \n",
       "2 2022-01-13        Bones!  https://www.tiktok.com/@jongraz/video/70523416...   \n",
       "3 2022-01-11      No bones  https://www.tiktok.com/@jongraz/video/70519729...   \n",
       "4 2022-01-07        Bones!  https://www.tiktok.com/@jongraz/video/70504911...   \n",
       "\n",
       "    weekday    month month-year  weekend  \n",
       "0    Monday  January    2022-01    False  \n",
       "1  Saturday  January    2022-01     True  \n",
       "2  Thursday  January    2022-01    False  \n",
       "3   Tuesday  January    2022-01    False  \n",
       "4    Friday  January    2022-01    False  "
      ]
     },
     "execution_count": 16,
     "metadata": {},
     "output_type": "execute_result"
    }
   ],
   "source": [
    "df.head()"
   ]
  },
  {
   "cell_type": "code",
   "execution_count": 17,
   "id": "15b244a8-bc62-4644-a522-c617d6c21199",
   "metadata": {},
   "outputs": [],
   "source": [
    "df[\"bones_class\"] = (\n",
    "    df[\"bones_nobones\"]\n",
    "    .str.lower()\n",
    "    .str.replace(\" \", \"-\", regex=False)\n",
    "    .str.replace(\"!\", \"\", regex=False)\n",
    ")"
   ]
  },
  {
   "cell_type": "code",
   "execution_count": 18,
   "id": "9393484a-e13e-4f28-b169-4d0fbf1e5852",
   "metadata": {},
   "outputs": [],
   "source": [
    "df[\"weekend_class\"] = (\n",
    "    df[\"weekend\"]\n",
    "    .astype(str)\n",
    "    .str.lower()\n",
    "    .str.replace(\" \", \"-\", regex=False)\n",
    "    .str.replace(\"!\", \"\", regex=False)\n",
    ")"
   ]
  },
  {
   "cell_type": "code",
   "execution_count": 19,
   "id": "38e03339-a79e-487e-ac40-0abff95a6120",
   "metadata": {},
   "outputs": [],
   "source": [
    "grouped_all = (\n",
    "    df[df[\"date\"] > \"2021-09-30\"]\n",
    "    .groupby(\"bones_nobones\")\n",
    "    .agg({\"date\": \"size\"})\n",
    "    .reset_index()\n",
    "    .rename(columns={\"date\": \"Days\"})\n",
    ")"
   ]
  },
  {
   "cell_type": "code",
   "execution_count": 20,
   "id": "325f0e35-cfac-4e74-8875-e992a5f3d4b3",
   "metadata": {},
   "outputs": [
    {
     "data": {
      "text/html": [
       "<div>\n",
       "<style scoped>\n",
       "    .dataframe tbody tr th:only-of-type {\n",
       "        vertical-align: middle;\n",
       "    }\n",
       "\n",
       "    .dataframe tbody tr th {\n",
       "        vertical-align: top;\n",
       "    }\n",
       "\n",
       "    .dataframe thead th {\n",
       "        text-align: right;\n",
       "    }\n",
       "</style>\n",
       "<table border=\"1\" class=\"dataframe\">\n",
       "  <thead>\n",
       "    <tr style=\"text-align: right;\">\n",
       "      <th></th>\n",
       "      <th>bones_nobones</th>\n",
       "      <th>Days</th>\n",
       "    </tr>\n",
       "  </thead>\n",
       "  <tbody>\n",
       "    <tr>\n",
       "      <th>0</th>\n",
       "      <td>Bones!</td>\n",
       "      <td>37</td>\n",
       "    </tr>\n",
       "    <tr>\n",
       "      <th>1</th>\n",
       "      <td>No bones</td>\n",
       "      <td>30</td>\n",
       "    </tr>\n",
       "    <tr>\n",
       "      <th>2</th>\n",
       "      <td>No video</td>\n",
       "      <td>42</td>\n",
       "    </tr>\n",
       "  </tbody>\n",
       "</table>\n",
       "</div>"
      ],
      "text/plain": [
       "  bones_nobones  Days\n",
       "0        Bones!    37\n",
       "1      No bones    30\n",
       "2      No video    42"
      ]
     },
     "execution_count": 20,
     "metadata": {},
     "output_type": "execute_result"
    }
   ],
   "source": [
    "grouped_all"
   ]
  },
  {
   "cell_type": "code",
   "execution_count": 21,
   "id": "22cc5c0f-4ef4-46a6-9d9c-79e3298bb395",
   "metadata": {},
   "outputs": [
    {
     "data": {
      "text/plain": [
       "42"
      ]
     },
     "execution_count": 21,
     "metadata": {},
     "output_type": "execute_result"
    }
   ],
   "source": [
    "grouped_all.iloc[2, 1]"
   ]
  },
  {
   "cell_type": "code",
   "execution_count": 22,
   "id": "06c159e2-e6ea-421a-9e8e-c29358ff3292",
   "metadata": {},
   "outputs": [],
   "source": [
    "grouped_weekends = (\n",
    "    df[df[\"date\"] > \"2021-09-30\"]\n",
    "    .groupby([\"bones_nobones\", \"weekend\"])\n",
    "    .agg({\"date\": \"size\"})\n",
    "    .reset_index()\n",
    "    .rename(columns={\"date\": \"Days\"})\n",
    ")"
   ]
  },
  {
   "cell_type": "code",
   "execution_count": 23,
   "id": "47299d17-3524-4d08-ae9e-8202fd6fe266",
   "metadata": {},
   "outputs": [
    {
     "data": {
      "text/html": [
       "<div>\n",
       "<style scoped>\n",
       "    .dataframe tbody tr th:only-of-type {\n",
       "        vertical-align: middle;\n",
       "    }\n",
       "\n",
       "    .dataframe tbody tr th {\n",
       "        vertical-align: top;\n",
       "    }\n",
       "\n",
       "    .dataframe thead th {\n",
       "        text-align: right;\n",
       "    }\n",
       "</style>\n",
       "<table border=\"1\" class=\"dataframe\">\n",
       "  <thead>\n",
       "    <tr style=\"text-align: right;\">\n",
       "      <th></th>\n",
       "      <th>bones_nobones</th>\n",
       "      <th>weekend</th>\n",
       "      <th>Days</th>\n",
       "    </tr>\n",
       "  </thead>\n",
       "  <tbody>\n",
       "    <tr>\n",
       "      <th>0</th>\n",
       "      <td>Bones!</td>\n",
       "      <td>False</td>\n",
       "      <td>29</td>\n",
       "    </tr>\n",
       "    <tr>\n",
       "      <th>1</th>\n",
       "      <td>Bones!</td>\n",
       "      <td>True</td>\n",
       "      <td>8</td>\n",
       "    </tr>\n",
       "    <tr>\n",
       "      <th>2</th>\n",
       "      <td>No bones</td>\n",
       "      <td>False</td>\n",
       "      <td>24</td>\n",
       "    </tr>\n",
       "    <tr>\n",
       "      <th>3</th>\n",
       "      <td>No bones</td>\n",
       "      <td>True</td>\n",
       "      <td>6</td>\n",
       "    </tr>\n",
       "    <tr>\n",
       "      <th>4</th>\n",
       "      <td>No video</td>\n",
       "      <td>False</td>\n",
       "      <td>24</td>\n",
       "    </tr>\n",
       "    <tr>\n",
       "      <th>5</th>\n",
       "      <td>No video</td>\n",
       "      <td>True</td>\n",
       "      <td>18</td>\n",
       "    </tr>\n",
       "  </tbody>\n",
       "</table>\n",
       "</div>"
      ],
      "text/plain": [
       "  bones_nobones  weekend  Days\n",
       "0        Bones!    False    29\n",
       "1        Bones!     True     8\n",
       "2      No bones    False    24\n",
       "3      No bones     True     6\n",
       "4      No video    False    24\n",
       "5      No video     True    18"
      ]
     },
     "execution_count": 23,
     "metadata": {},
     "output_type": "execute_result"
    }
   ],
   "source": [
    "grouped_weekends"
   ]
  },
  {
   "cell_type": "code",
   "execution_count": 24,
   "id": "cab1939b-5916-434d-b125-1868bc3cba92",
   "metadata": {},
   "outputs": [
    {
     "data": {
      "text/plain": [
       "24"
      ]
     },
     "execution_count": 24,
     "metadata": {},
     "output_type": "execute_result"
    }
   ],
   "source": [
    "grouped_weekends.iloc[4, 2]"
   ]
  },
  {
   "cell_type": "code",
   "execution_count": 25,
   "id": "9b9f413d-b5c4-4112-a88f-d854a9a0c06a",
   "metadata": {},
   "outputs": [],
   "source": [
    "stacked_bar = pd.DataFrame(\n",
    "    {\n",
    "        \"Category\": [\"All days\", \"Weekends\", \"Weekdays\"],\n",
    "        \"Bones\": [\n",
    "            grouped_all.iloc[0, 1],\n",
    "            grouped_weekends.iloc[1, 2],\n",
    "            grouped_weekends.iloc[0, 2],\n",
    "        ],\n",
    "        \"No Bones\": [\n",
    "            grouped_all.iloc[1, 1],\n",
    "            grouped_weekends.iloc[3, 2],\n",
    "            grouped_weekends.iloc[2, 2],\n",
    "        ],\n",
    "        \"No Video\": [\n",
    "            grouped_all.iloc[2, 1],\n",
    "            grouped_weekends.iloc[5, 2],\n",
    "            grouped_weekends.iloc[4, 2],\n",
    "        ],\n",
    "    }\n",
    ")"
   ]
  },
  {
   "cell_type": "code",
   "execution_count": 26,
   "id": "df218489-cce0-48f6-9c35-231f7e3c6eec",
   "metadata": {},
   "outputs": [],
   "source": [
    "# stacked_bar[\"bones\"] = stacked_bar[\"Bones\"]\n",
    "# stacked_bar[\"nobones\"] = stacked_bar[\"No Bones\"]"
   ]
  },
  {
   "cell_type": "code",
   "execution_count": 27,
   "id": "badaea2b-722e-45b5-ad77-57602cffafae",
   "metadata": {},
   "outputs": [
    {
     "data": {
      "text/html": [
       "<div>\n",
       "<style scoped>\n",
       "    .dataframe tbody tr th:only-of-type {\n",
       "        vertical-align: middle;\n",
       "    }\n",
       "\n",
       "    .dataframe tbody tr th {\n",
       "        vertical-align: top;\n",
       "    }\n",
       "\n",
       "    .dataframe thead th {\n",
       "        text-align: right;\n",
       "    }\n",
       "</style>\n",
       "<table border=\"1\" class=\"dataframe\">\n",
       "  <thead>\n",
       "    <tr style=\"text-align: right;\">\n",
       "      <th></th>\n",
       "      <th>Category</th>\n",
       "      <th>Bones</th>\n",
       "      <th>No Bones</th>\n",
       "      <th>No Video</th>\n",
       "    </tr>\n",
       "  </thead>\n",
       "  <tbody>\n",
       "    <tr>\n",
       "      <th>0</th>\n",
       "      <td>All days</td>\n",
       "      <td>37</td>\n",
       "      <td>30</td>\n",
       "      <td>42</td>\n",
       "    </tr>\n",
       "    <tr>\n",
       "      <th>1</th>\n",
       "      <td>Weekends</td>\n",
       "      <td>8</td>\n",
       "      <td>6</td>\n",
       "      <td>18</td>\n",
       "    </tr>\n",
       "    <tr>\n",
       "      <th>2</th>\n",
       "      <td>Weekdays</td>\n",
       "      <td>29</td>\n",
       "      <td>24</td>\n",
       "      <td>24</td>\n",
       "    </tr>\n",
       "  </tbody>\n",
       "</table>\n",
       "</div>"
      ],
      "text/plain": [
       "   Category  Bones  No Bones  No Video\n",
       "0  All days     37        30        42\n",
       "1  Weekends      8         6        18\n",
       "2  Weekdays     29        24        24"
      ]
     },
     "execution_count": 27,
     "metadata": {},
     "output_type": "execute_result"
    }
   ],
   "source": [
    "stacked_bar"
   ]
  },
  {
   "cell_type": "markdown",
   "id": "90dbe053-938e-4b2d-9116-a2ec7051fd99",
   "metadata": {},
   "source": [
    "---"
   ]
  },
  {
   "cell_type": "code",
   "execution_count": 28,
   "id": "7581fe8e-b609-44a9-8203-3ce349d1e934",
   "metadata": {},
   "outputs": [],
   "source": [
    "df[\"week\"] = pd.to_datetime(df[\"date\"]).dt.isocalendar().week\n",
    "df[\"weekstart\"] = pd.to_datetime(df[\"date\"]) - pd.to_timedelta(\n",
    "    pd.to_datetime(df[\"date\"]).dt.dayofweek, unit=\"d\"\n",
    ")"
   ]
  },
  {
   "cell_type": "code",
   "execution_count": 29,
   "id": "0db6ed10-0edb-4262-b183-aaa1c8c3f776",
   "metadata": {},
   "outputs": [
    {
     "data": {
      "text/html": [
       "<div>\n",
       "<style scoped>\n",
       "    .dataframe tbody tr th:only-of-type {\n",
       "        vertical-align: middle;\n",
       "    }\n",
       "\n",
       "    .dataframe tbody tr th {\n",
       "        vertical-align: top;\n",
       "    }\n",
       "\n",
       "    .dataframe thead th {\n",
       "        text-align: right;\n",
       "    }\n",
       "</style>\n",
       "<table border=\"1\" class=\"dataframe\">\n",
       "  <thead>\n",
       "    <tr style=\"text-align: right;\">\n",
       "      <th></th>\n",
       "      <th>date</th>\n",
       "      <th>bones_nobones</th>\n",
       "      <th>url</th>\n",
       "      <th>weekday</th>\n",
       "      <th>month</th>\n",
       "      <th>month-year</th>\n",
       "      <th>weekend</th>\n",
       "      <th>bones_class</th>\n",
       "      <th>weekend_class</th>\n",
       "      <th>week</th>\n",
       "      <th>weekstart</th>\n",
       "    </tr>\n",
       "  </thead>\n",
       "  <tbody>\n",
       "    <tr>\n",
       "      <th>0</th>\n",
       "      <td>2022-01-17</td>\n",
       "      <td>No bones</td>\n",
       "      <td>https://www.tiktok.com/@jongraz/video/70538379...</td>\n",
       "      <td>Monday</td>\n",
       "      <td>January</td>\n",
       "      <td>2022-01</td>\n",
       "      <td>False</td>\n",
       "      <td>no-bones</td>\n",
       "      <td>false</td>\n",
       "      <td>3</td>\n",
       "      <td>2022-01-17</td>\n",
       "    </tr>\n",
       "    <tr>\n",
       "      <th>1</th>\n",
       "      <td>2022-01-15</td>\n",
       "      <td>Bones!</td>\n",
       "      <td>https://vm.tiktok.com/TTPdrYXuSY/</td>\n",
       "      <td>Saturday</td>\n",
       "      <td>January</td>\n",
       "      <td>2022-01</td>\n",
       "      <td>True</td>\n",
       "      <td>bones</td>\n",
       "      <td>true</td>\n",
       "      <td>2</td>\n",
       "      <td>2022-01-10</td>\n",
       "    </tr>\n",
       "    <tr>\n",
       "      <th>2</th>\n",
       "      <td>2022-01-13</td>\n",
       "      <td>Bones!</td>\n",
       "      <td>https://www.tiktok.com/@jongraz/video/70523416...</td>\n",
       "      <td>Thursday</td>\n",
       "      <td>January</td>\n",
       "      <td>2022-01</td>\n",
       "      <td>False</td>\n",
       "      <td>bones</td>\n",
       "      <td>false</td>\n",
       "      <td>2</td>\n",
       "      <td>2022-01-10</td>\n",
       "    </tr>\n",
       "    <tr>\n",
       "      <th>3</th>\n",
       "      <td>2022-01-11</td>\n",
       "      <td>No bones</td>\n",
       "      <td>https://www.tiktok.com/@jongraz/video/70519729...</td>\n",
       "      <td>Tuesday</td>\n",
       "      <td>January</td>\n",
       "      <td>2022-01</td>\n",
       "      <td>False</td>\n",
       "      <td>no-bones</td>\n",
       "      <td>false</td>\n",
       "      <td>2</td>\n",
       "      <td>2022-01-10</td>\n",
       "    </tr>\n",
       "    <tr>\n",
       "      <th>4</th>\n",
       "      <td>2022-01-07</td>\n",
       "      <td>Bones!</td>\n",
       "      <td>https://www.tiktok.com/@jongraz/video/70504911...</td>\n",
       "      <td>Friday</td>\n",
       "      <td>January</td>\n",
       "      <td>2022-01</td>\n",
       "      <td>False</td>\n",
       "      <td>bones</td>\n",
       "      <td>false</td>\n",
       "      <td>1</td>\n",
       "      <td>2022-01-03</td>\n",
       "    </tr>\n",
       "  </tbody>\n",
       "</table>\n",
       "</div>"
      ],
      "text/plain": [
       "        date bones_nobones                                                url  \\\n",
       "0 2022-01-17      No bones  https://www.tiktok.com/@jongraz/video/70538379...   \n",
       "1 2022-01-15        Bones!                  https://vm.tiktok.com/TTPdrYXuSY/   \n",
       "2 2022-01-13        Bones!  https://www.tiktok.com/@jongraz/video/70523416...   \n",
       "3 2022-01-11      No bones  https://www.tiktok.com/@jongraz/video/70519729...   \n",
       "4 2022-01-07        Bones!  https://www.tiktok.com/@jongraz/video/70504911...   \n",
       "\n",
       "    weekday    month month-year  weekend bones_class weekend_class  week  \\\n",
       "0    Monday  January    2022-01    False    no-bones         false     3   \n",
       "1  Saturday  January    2022-01     True       bones          true     2   \n",
       "2  Thursday  January    2022-01    False       bones         false     2   \n",
       "3   Tuesday  January    2022-01    False    no-bones         false     2   \n",
       "4    Friday  January    2022-01    False       bones         false     1   \n",
       "\n",
       "   weekstart  \n",
       "0 2022-01-17  \n",
       "1 2022-01-10  \n",
       "2 2022-01-10  \n",
       "3 2022-01-10  \n",
       "4 2022-01-03  "
      ]
     },
     "execution_count": 29,
     "metadata": {},
     "output_type": "execute_result"
    }
   ],
   "source": [
    "df.head()"
   ]
  },
  {
   "cell_type": "code",
   "execution_count": 30,
   "id": "4ac6a9b5-b4e2-4c12-b003-141a27c2c112",
   "metadata": {},
   "outputs": [],
   "source": [
    "weeks = (\n",
    "    df.groupby([\"weekstart\", \"bones_class\"])\n",
    "    .agg({\"date\": \"count\"})\n",
    "    .reset_index()\n",
    "    .rename(columns={\"date\": \"count\", \"bones_class\": \"result\"})\n",
    ")"
   ]
  },
  {
   "cell_type": "code",
   "execution_count": 31,
   "id": "124cedab-5692-49c5-9044-f4b000b56064",
   "metadata": {},
   "outputs": [
    {
     "data": {
      "text/html": [
       "<div>\n",
       "<style scoped>\n",
       "    .dataframe tbody tr th:only-of-type {\n",
       "        vertical-align: middle;\n",
       "    }\n",
       "\n",
       "    .dataframe tbody tr th {\n",
       "        vertical-align: top;\n",
       "    }\n",
       "\n",
       "    .dataframe thead th {\n",
       "        text-align: right;\n",
       "    }\n",
       "</style>\n",
       "<table border=\"1\" class=\"dataframe\">\n",
       "  <thead>\n",
       "    <tr style=\"text-align: right;\">\n",
       "      <th></th>\n",
       "      <th>weekstart</th>\n",
       "      <th>result</th>\n",
       "      <th>count</th>\n",
       "    </tr>\n",
       "  </thead>\n",
       "  <tbody>\n",
       "    <tr>\n",
       "      <th>0</th>\n",
       "      <td>2021-03-08</td>\n",
       "      <td>no-bones</td>\n",
       "      <td>1</td>\n",
       "    </tr>\n",
       "    <tr>\n",
       "      <th>1</th>\n",
       "      <td>2021-08-09</td>\n",
       "      <td>no-bones</td>\n",
       "      <td>1</td>\n",
       "    </tr>\n",
       "    <tr>\n",
       "      <th>2</th>\n",
       "      <td>2021-08-16</td>\n",
       "      <td>no-bones</td>\n",
       "      <td>1</td>\n",
       "    </tr>\n",
       "    <tr>\n",
       "      <th>3</th>\n",
       "      <td>2021-08-30</td>\n",
       "      <td>no-bones</td>\n",
       "      <td>1</td>\n",
       "    </tr>\n",
       "    <tr>\n",
       "      <th>4</th>\n",
       "      <td>2021-08-30</td>\n",
       "      <td>no-video</td>\n",
       "      <td>4</td>\n",
       "    </tr>\n",
       "  </tbody>\n",
       "</table>\n",
       "</div>"
      ],
      "text/plain": [
       "   weekstart    result  count\n",
       "0 2021-03-08  no-bones      1\n",
       "1 2021-08-09  no-bones      1\n",
       "2 2021-08-16  no-bones      1\n",
       "3 2021-08-30  no-bones      1\n",
       "4 2021-08-30  no-video      4"
      ]
     },
     "execution_count": 31,
     "metadata": {},
     "output_type": "execute_result"
    }
   ],
   "source": [
    "weeks.head()"
   ]
  },
  {
   "cell_type": "code",
   "execution_count": 32,
   "id": "6b6a98ac-8640-4936-9994-94d98c57c9b5",
   "metadata": {},
   "outputs": [],
   "source": [
    "weeks_pivot = pd.pivot_table(\n",
    "    weeks, values=\"count\", index=\"weekstart\", columns=\"result\", fill_value=0\n",
    ").reset_index()"
   ]
  },
  {
   "cell_type": "code",
   "execution_count": 33,
   "id": "645105c0-5c37-4b49-8fdf-f65895eb578f",
   "metadata": {},
   "outputs": [],
   "source": [
    "weeks_pivot.to_csv(\"../_data/bonesdays_weeks.csv\", index=False)\n",
    "weeks_pivot.to_csv(\"../assets/data/bonesdays_weeks.csv\", index=False)"
   ]
  },
  {
   "cell_type": "markdown",
   "id": "bcb5f61b-d52e-4eeb-851f-b46ec4ad1c70",
   "metadata": {},
   "source": [
    "---"
   ]
  },
  {
   "cell_type": "code",
   "execution_count": 34,
   "id": "63c105bc-277c-4bd2-ace3-c9d9ad398b81",
   "metadata": {},
   "outputs": [],
   "source": [
    "months = (\n",
    "    df[df[\"date\"] > \"2021-09-30\"]\n",
    "    .groupby([\"month\", \"month-year\", \"bones_class\"])\n",
    "    .agg({\"date\": \"count\"})\n",
    "    .reset_index()\n",
    "    .rename(columns={\"date\": \"count\", \"bones_class\": \"result\"})\n",
    ")"
   ]
  },
  {
   "cell_type": "code",
   "execution_count": 35,
   "id": "8896b657-423d-4959-a79c-79868dab7bcd",
   "metadata": {},
   "outputs": [
    {
     "data": {
      "text/html": [
       "<div>\n",
       "<style scoped>\n",
       "    .dataframe tbody tr th:only-of-type {\n",
       "        vertical-align: middle;\n",
       "    }\n",
       "\n",
       "    .dataframe tbody tr th {\n",
       "        vertical-align: top;\n",
       "    }\n",
       "\n",
       "    .dataframe thead th {\n",
       "        text-align: right;\n",
       "    }\n",
       "</style>\n",
       "<table border=\"1\" class=\"dataframe\">\n",
       "  <thead>\n",
       "    <tr style=\"text-align: right;\">\n",
       "      <th></th>\n",
       "      <th>month</th>\n",
       "      <th>month-year</th>\n",
       "      <th>result</th>\n",
       "      <th>count</th>\n",
       "    </tr>\n",
       "  </thead>\n",
       "  <tbody>\n",
       "    <tr>\n",
       "      <th>0</th>\n",
       "      <td>December</td>\n",
       "      <td>2021-12</td>\n",
       "      <td>bones</td>\n",
       "      <td>10</td>\n",
       "    </tr>\n",
       "    <tr>\n",
       "      <th>1</th>\n",
       "      <td>December</td>\n",
       "      <td>2021-12</td>\n",
       "      <td>no-bones</td>\n",
       "      <td>8</td>\n",
       "    </tr>\n",
       "    <tr>\n",
       "      <th>2</th>\n",
       "      <td>December</td>\n",
       "      <td>2021-12</td>\n",
       "      <td>no-video</td>\n",
       "      <td>13</td>\n",
       "    </tr>\n",
       "    <tr>\n",
       "      <th>3</th>\n",
       "      <td>January</td>\n",
       "      <td>2022-01</td>\n",
       "      <td>bones</td>\n",
       "      <td>4</td>\n",
       "    </tr>\n",
       "    <tr>\n",
       "      <th>4</th>\n",
       "      <td>January</td>\n",
       "      <td>2022-01</td>\n",
       "      <td>no-bones</td>\n",
       "      <td>3</td>\n",
       "    </tr>\n",
       "    <tr>\n",
       "      <th>5</th>\n",
       "      <td>January</td>\n",
       "      <td>2022-01</td>\n",
       "      <td>no-video</td>\n",
       "      <td>10</td>\n",
       "    </tr>\n",
       "    <tr>\n",
       "      <th>6</th>\n",
       "      <td>November</td>\n",
       "      <td>2021-11</td>\n",
       "      <td>bones</td>\n",
       "      <td>12</td>\n",
       "    </tr>\n",
       "    <tr>\n",
       "      <th>7</th>\n",
       "      <td>November</td>\n",
       "      <td>2021-11</td>\n",
       "      <td>no-bones</td>\n",
       "      <td>10</td>\n",
       "    </tr>\n",
       "    <tr>\n",
       "      <th>8</th>\n",
       "      <td>November</td>\n",
       "      <td>2021-11</td>\n",
       "      <td>no-video</td>\n",
       "      <td>8</td>\n",
       "    </tr>\n",
       "    <tr>\n",
       "      <th>9</th>\n",
       "      <td>October</td>\n",
       "      <td>2021-10</td>\n",
       "      <td>bones</td>\n",
       "      <td>11</td>\n",
       "    </tr>\n",
       "    <tr>\n",
       "      <th>10</th>\n",
       "      <td>October</td>\n",
       "      <td>2021-10</td>\n",
       "      <td>no-bones</td>\n",
       "      <td>9</td>\n",
       "    </tr>\n",
       "    <tr>\n",
       "      <th>11</th>\n",
       "      <td>October</td>\n",
       "      <td>2021-10</td>\n",
       "      <td>no-video</td>\n",
       "      <td>11</td>\n",
       "    </tr>\n",
       "  </tbody>\n",
       "</table>\n",
       "</div>"
      ],
      "text/plain": [
       "       month month-year    result  count\n",
       "0   December    2021-12     bones     10\n",
       "1   December    2021-12  no-bones      8\n",
       "2   December    2021-12  no-video     13\n",
       "3    January    2022-01     bones      4\n",
       "4    January    2022-01  no-bones      3\n",
       "5    January    2022-01  no-video     10\n",
       "6   November    2021-11     bones     12\n",
       "7   November    2021-11  no-bones     10\n",
       "8   November    2021-11  no-video      8\n",
       "9    October    2021-10     bones     11\n",
       "10   October    2021-10  no-bones      9\n",
       "11   October    2021-10  no-video     11"
      ]
     },
     "execution_count": 35,
     "metadata": {},
     "output_type": "execute_result"
    }
   ],
   "source": [
    "months"
   ]
  },
  {
   "cell_type": "code",
   "execution_count": 36,
   "id": "005b817b-514f-400f-aea1-520854dc5ca9",
   "metadata": {},
   "outputs": [],
   "source": [
    "months_pivot = pd.pivot_table(\n",
    "    months, values=\"count\", index=\"month-year\", columns=\"result\", fill_value=0\n",
    ").reset_index()"
   ]
  },
  {
   "cell_type": "code",
   "execution_count": 37,
   "id": "87af2a7d-18e8-4ff2-bbc5-5f1220049b6c",
   "metadata": {},
   "outputs": [
    {
     "data": {
      "text/html": [
       "<div>\n",
       "<style scoped>\n",
       "    .dataframe tbody tr th:only-of-type {\n",
       "        vertical-align: middle;\n",
       "    }\n",
       "\n",
       "    .dataframe tbody tr th {\n",
       "        vertical-align: top;\n",
       "    }\n",
       "\n",
       "    .dataframe thead th {\n",
       "        text-align: right;\n",
       "    }\n",
       "</style>\n",
       "<table border=\"1\" class=\"dataframe\">\n",
       "  <thead>\n",
       "    <tr style=\"text-align: right;\">\n",
       "      <th>result</th>\n",
       "      <th>month-year</th>\n",
       "      <th>bones</th>\n",
       "      <th>no-bones</th>\n",
       "      <th>no-video</th>\n",
       "    </tr>\n",
       "  </thead>\n",
       "  <tbody>\n",
       "    <tr>\n",
       "      <th>0</th>\n",
       "      <td>2021-10</td>\n",
       "      <td>11</td>\n",
       "      <td>9</td>\n",
       "      <td>11</td>\n",
       "    </tr>\n",
       "    <tr>\n",
       "      <th>1</th>\n",
       "      <td>2021-11</td>\n",
       "      <td>12</td>\n",
       "      <td>10</td>\n",
       "      <td>8</td>\n",
       "    </tr>\n",
       "    <tr>\n",
       "      <th>2</th>\n",
       "      <td>2021-12</td>\n",
       "      <td>10</td>\n",
       "      <td>8</td>\n",
       "      <td>13</td>\n",
       "    </tr>\n",
       "    <tr>\n",
       "      <th>3</th>\n",
       "      <td>2022-01</td>\n",
       "      <td>4</td>\n",
       "      <td>3</td>\n",
       "      <td>10</td>\n",
       "    </tr>\n",
       "  </tbody>\n",
       "</table>\n",
       "</div>"
      ],
      "text/plain": [
       "result month-year  bones  no-bones  no-video\n",
       "0         2021-10     11         9        11\n",
       "1         2021-11     12        10         8\n",
       "2         2021-12     10         8        13\n",
       "3         2022-01      4         3        10"
      ]
     },
     "execution_count": 37,
     "metadata": {},
     "output_type": "execute_result"
    }
   ],
   "source": [
    "months_pivot"
   ]
  },
  {
   "cell_type": "code",
   "execution_count": 38,
   "id": "5ada1089-8a09-46d5-8798-dfea357783b7",
   "metadata": {},
   "outputs": [],
   "source": [
    "months_pivot.to_csv(\"../_data/bonesdays_months.csv\", index=False)\n",
    "months_pivot.to_csv(\"../assets/data/bonesdays_months.csv\", index=False)"
   ]
  },
  {
   "cell_type": "markdown",
   "id": "0acee8be-18c0-4aaa-b515-1dde5124c328",
   "metadata": {},
   "source": [
    "---"
   ]
  },
  {
   "cell_type": "markdown",
   "id": "82456302-a53c-40b3-8cd2-b7bdf6f7869c",
   "metadata": {},
   "source": [
    "### Export"
   ]
  },
  {
   "cell_type": "code",
   "execution_count": 39,
   "id": "d30a28f6-4394-4e18-8f93-6723a34743f1",
   "metadata": {},
   "outputs": [],
   "source": [
    "df[\"display_date\"] = df[\"date\"].dt.strftime(\"%b. %-d \")\n",
    "df[\"date\"] = df[\"date\"].astype(str)"
   ]
  },
  {
   "cell_type": "code",
   "execution_count": 40,
   "id": "92e1c65b-b084-4055-a549-9248904264c9",
   "metadata": {},
   "outputs": [],
   "source": [
    "stacked_bar.to_csv(\"../_data/bonesdays_summary_csv.csv\", index=False)\n",
    "stacked_bar.to_csv(\"../assets/data/bonesdays_summary.csv\", index=False)"
   ]
  },
  {
   "cell_type": "code",
   "execution_count": 41,
   "id": "1178d4ba-f2e4-4519-9ce8-ce5e7235e3eb",
   "metadata": {},
   "outputs": [],
   "source": [
    "df[df[\"bones_nobones\"] != \"No video\"].to_csv(\"../_data/bonesdays_csv.csv\", index=False)\n",
    "df[df[\"bones_nobones\"] != \"No video\"].to_csv(\n",
    "    \"../assets/data/bonesdays.csv\", index=False\n",
    ")"
   ]
  },
  {
   "cell_type": "code",
   "execution_count": 42,
   "id": "73163ea3-00e8-41e6-94bb-a85d3180cae6",
   "metadata": {},
   "outputs": [],
   "source": [
    "stacked_bar.to_json(\"../_data/bonesdays_summary.json\", indent=4, orient=\"records\")\n",
    "stacked_bar.to_json(\"../assets/data/bonesdays_summary.json\", indent=4, orient=\"records\")"
   ]
  },
  {
   "cell_type": "code",
   "execution_count": 43,
   "id": "a3a151dc-8c5f-4ca6-bbac-aabb38c8c2d7",
   "metadata": {},
   "outputs": [],
   "source": [
    "df[df[\"bones_nobones\"] != \"No video\"].to_json(\n",
    "    \"../_data/bonesdays.json\", indent=4, orient=\"records\"\n",
    ")\n",
    "df[df[\"bones_nobones\"] != \"No video\"].to_json(\n",
    "    \"../assets/data/bonesdays.json\", indent=4, orient=\"records\"\n",
    ")"
   ]
  },
  {
   "cell_type": "code",
   "execution_count": 44,
   "id": "8d2a19e8-549c-45ae-acea-9dbf097360bb",
   "metadata": {},
   "outputs": [],
   "source": [
    "today = dt.datetime.today().strftime(\"%Y-%m-%d\")\n",
    "display_today = dt.datetime.today().strftime(\"%b. %-d\")"
   ]
  },
  {
   "cell_type": "code",
   "execution_count": 45,
   "id": "b09f3aea-abf8-4816-b389-07f43af6286d",
   "metadata": {},
   "outputs": [],
   "source": [
    "toplines = pd.DataFrame(\n",
    "    {\n",
    "        \"bones\": [grouped_all.iloc[0, 1]],\n",
    "        \"nobones\": [grouped_all.iloc[1, 1]],\n",
    "        \"novideo\": [grouped_all.iloc[2, 1]],\n",
    "    }\n",
    ")"
   ]
  },
  {
   "cell_type": "code",
   "execution_count": 46,
   "id": "16cbb9a2-9693-4db1-bf0e-29defce0c327",
   "metadata": {},
   "outputs": [],
   "source": [
    "toplines[\"updated_date\"] = today"
   ]
  },
  {
   "cell_type": "code",
   "execution_count": 47,
   "id": "0239e132-3991-4127-998c-7f8ec7171dae",
   "metadata": {},
   "outputs": [
    {
     "data": {
      "text/html": [
       "<div>\n",
       "<style scoped>\n",
       "    .dataframe tbody tr th:only-of-type {\n",
       "        vertical-align: middle;\n",
       "    }\n",
       "\n",
       "    .dataframe tbody tr th {\n",
       "        vertical-align: top;\n",
       "    }\n",
       "\n",
       "    .dataframe thead th {\n",
       "        text-align: right;\n",
       "    }\n",
       "</style>\n",
       "<table border=\"1\" class=\"dataframe\">\n",
       "  <thead>\n",
       "    <tr style=\"text-align: right;\">\n",
       "      <th></th>\n",
       "      <th>bones</th>\n",
       "      <th>nobones</th>\n",
       "      <th>novideo</th>\n",
       "      <th>updated_date</th>\n",
       "    </tr>\n",
       "  </thead>\n",
       "  <tbody>\n",
       "    <tr>\n",
       "      <th>0</th>\n",
       "      <td>37</td>\n",
       "      <td>30</td>\n",
       "      <td>42</td>\n",
       "      <td>2022-01-16</td>\n",
       "    </tr>\n",
       "  </tbody>\n",
       "</table>\n",
       "</div>"
      ],
      "text/plain": [
       "   bones  nobones  novideo updated_date\n",
       "0     37       30       42   2022-01-16"
      ]
     },
     "execution_count": 47,
     "metadata": {},
     "output_type": "execute_result"
    }
   ],
   "source": [
    "toplines"
   ]
  },
  {
   "cell_type": "code",
   "execution_count": 48,
   "id": "3f23e090-fa8c-4fb2-af96-45addddf8add",
   "metadata": {},
   "outputs": [],
   "source": [
    "toplines[\"display_date\"] = display_today"
   ]
  },
  {
   "cell_type": "code",
   "execution_count": 49,
   "id": "2919cebd-34b8-484e-905b-28ffddcd3cad",
   "metadata": {},
   "outputs": [],
   "source": [
    "toplines.to_json(\"../_data/toplines.json\", indent=4, orient=\"records\")\n",
    "toplines.to_json(\"../assets/data/toplines.json\", indent=4, orient=\"records\")"
   ]
  }
 ],
 "metadata": {
  "kernelspec": {
   "display_name": "Python 3 (ipykernel)",
   "language": "python",
   "name": "python3"
  },
  "language_info": {
   "codemirror_mode": {
    "name": "ipython",
    "version": 3
   },
   "file_extension": ".py",
   "mimetype": "text/x-python",
   "name": "python",
   "nbconvert_exporter": "python",
   "pygments_lexer": "ipython3",
   "version": "3.9.9"
  }
 },
 "nbformat": 4,
 "nbformat_minor": 5
}
