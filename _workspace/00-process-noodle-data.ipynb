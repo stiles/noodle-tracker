{
 "cells": [
  {
   "cell_type": "markdown",
   "id": "75d03ecb-426a-472a-ad17-123b78086916",
   "metadata": {},
   "source": [
    "# How likely is a Bones Day vs. a No Bones Day?"
   ]
  },
  {
   "cell_type": "code",
   "execution_count": 1,
   "id": "c777d9e4-bc57-45a6-9636-ed6aa79d74fc",
   "metadata": {},
   "outputs": [],
   "source": [
    "%load_ext lab_black"
   ]
  },
  {
   "cell_type": "markdown",
   "id": "fc28bb35-7e41-4a01-b1bf-1c47240a5397",
   "metadata": {},
   "source": [
    "### Load Python tools"
   ]
  },
  {
   "cell_type": "code",
   "execution_count": 2,
   "id": "c4781557-b34b-422f-9985-021771358b26",
   "metadata": {},
   "outputs": [],
   "source": [
    "import pandas as pd\n",
    "import altair as alt\n",
    "import datetime as dt"
   ]
  },
  {
   "cell_type": "code",
   "execution_count": 3,
   "id": "2a0e08ee-7d21-4f91-b6a5-8cc0ae11d185",
   "metadata": {},
   "outputs": [],
   "source": [
    "today = dt.datetime.today()"
   ]
  },
  {
   "cell_type": "markdown",
   "id": "63cafa9e-d6c2-4af7-9999-b2905a45c616",
   "metadata": {},
   "source": [
    "### Read data collected from [TikTok](https://www.tiktok.com/@jongraz) about Noodle"
   ]
  },
  {
   "cell_type": "code",
   "execution_count": 4,
   "id": "95ae02c7-4a70-4843-b49d-0e4914465d98",
   "metadata": {},
   "outputs": [],
   "source": [
    "src = pd.read_csv(\n",
    "    \"https://docs.google.com/spreadsheets/d/e/2PACX-1vQz8eEafXnIeKsNvGL8M56Ia6vu89JDCjfJ22ORl65So4kRYtmTbwmqLjE223fe4mjcZqkrs-KT6j8z/pub?\\\n",
    "gid=0&single=true&output=csv\"\n",
    ")"
   ]
  },
  {
   "cell_type": "markdown",
   "id": "e336649c-926c-43b8-8d3f-468717c51359",
   "metadata": {},
   "source": [
    "### Process dates"
   ]
  },
  {
   "cell_type": "code",
   "execution_count": 5,
   "id": "8ce9f981-e4a7-4e88-87f1-5b86c15a471e",
   "metadata": {},
   "outputs": [],
   "source": [
    "src[\"date\"] = pd.to_datetime(src[\"date\"])"
   ]
  },
  {
   "cell_type": "code",
   "execution_count": 6,
   "id": "24a49d88-08df-4763-9500-1232861c623f",
   "metadata": {},
   "outputs": [],
   "source": [
    "df_date = pd.DataFrame()\n",
    "index = pd.date_range(start=\"2021-09-01\", end=today, freq=\"D\")\n",
    "df_date[\"date\"] = index"
   ]
  },
  {
   "cell_type": "markdown",
   "id": "78b0d6be-b8f7-4057-bd83-29e6a9143f8d",
   "metadata": {},
   "source": [
    "### Merge the dates to backfill"
   ]
  },
  {
   "cell_type": "code",
   "execution_count": 7,
   "id": "5717f1f7-91d2-485f-ba5e-e665d40b8096",
   "metadata": {},
   "outputs": [],
   "source": [
    "df = pd.merge(src, df_date, on=\"date\", how=\"outer\")"
   ]
  },
  {
   "cell_type": "code",
   "execution_count": 8,
   "id": "3748c822-88fc-4d56-8625-1748e64fc9b0",
   "metadata": {},
   "outputs": [],
   "source": [
    "df[\"weekday\"] = df[\"date\"].dt.day_name()\n",
    "df[\"month\"] = df[\"date\"].dt.month_name()\n",
    "df[\"weekend\"] = df[\"date\"].dt.day_name().isin([\"Saturday\", \"Sunday\"])"
   ]
  },
  {
   "cell_type": "code",
   "execution_count": 9,
   "id": "e9b58ffc-b79c-4999-b220-3a855418a153",
   "metadata": {},
   "outputs": [],
   "source": [
    "# df.drop([\"url\"], axis=1, inplace=True)"
   ]
  },
  {
   "cell_type": "code",
   "execution_count": 10,
   "id": "78d31969-876a-46ef-bba5-03cc26f6d49f",
   "metadata": {},
   "outputs": [],
   "source": [
    "df.bones_nobones = df.bones_nobones.fillna(\"No video\")"
   ]
  },
  {
   "cell_type": "markdown",
   "id": "e9907c13-584a-41fd-8686-9f3d1bb44bbc",
   "metadata": {},
   "source": [
    "### What's our dataframe look like? "
   ]
  },
  {
   "cell_type": "code",
   "execution_count": 11,
   "id": "6fb77081-4b5d-4d19-bec3-989caf2002e4",
   "metadata": {},
   "outputs": [
    {
     "data": {
      "text/html": [
       "<div>\n",
       "<style scoped>\n",
       "    .dataframe tbody tr th:only-of-type {\n",
       "        vertical-align: middle;\n",
       "    }\n",
       "\n",
       "    .dataframe tbody tr th {\n",
       "        vertical-align: top;\n",
       "    }\n",
       "\n",
       "    .dataframe thead th {\n",
       "        text-align: right;\n",
       "    }\n",
       "</style>\n",
       "<table border=\"1\" class=\"dataframe\">\n",
       "  <thead>\n",
       "    <tr style=\"text-align: right;\">\n",
       "      <th></th>\n",
       "      <th>date</th>\n",
       "      <th>bones_nobones</th>\n",
       "      <th>url</th>\n",
       "      <th>weekday</th>\n",
       "      <th>month</th>\n",
       "      <th>weekend</th>\n",
       "    </tr>\n",
       "  </thead>\n",
       "  <tbody>\n",
       "    <tr>\n",
       "      <th>0</th>\n",
       "      <td>2021-11-19</td>\n",
       "      <td>No bones</td>\n",
       "      <td>https://www.tiktok.com/@jongraz/video/70323014...</td>\n",
       "      <td>Friday</td>\n",
       "      <td>November</td>\n",
       "      <td>False</td>\n",
       "    </tr>\n",
       "    <tr>\n",
       "      <th>1</th>\n",
       "      <td>2021-11-18</td>\n",
       "      <td>Bones!</td>\n",
       "      <td>https://www.tiktok.com/@jongraz/video/70319186...</td>\n",
       "      <td>Thursday</td>\n",
       "      <td>November</td>\n",
       "      <td>False</td>\n",
       "    </tr>\n",
       "    <tr>\n",
       "      <th>2</th>\n",
       "      <td>2021-11-16</td>\n",
       "      <td>Bones!</td>\n",
       "      <td>https://www.tiktok.com/@jongraz/video/70311878...</td>\n",
       "      <td>Tuesday</td>\n",
       "      <td>November</td>\n",
       "      <td>False</td>\n",
       "    </tr>\n",
       "    <tr>\n",
       "      <th>3</th>\n",
       "      <td>2021-11-15</td>\n",
       "      <td>Bones!</td>\n",
       "      <td>https://www.tiktok.com/@jongraz/video/70308085...</td>\n",
       "      <td>Monday</td>\n",
       "      <td>November</td>\n",
       "      <td>False</td>\n",
       "    </tr>\n",
       "    <tr>\n",
       "      <th>4</th>\n",
       "      <td>2021-11-12</td>\n",
       "      <td>No bones</td>\n",
       "      <td>https://www.tiktok.com/@jongraz/video/70297029...</td>\n",
       "      <td>Friday</td>\n",
       "      <td>November</td>\n",
       "      <td>False</td>\n",
       "    </tr>\n",
       "  </tbody>\n",
       "</table>\n",
       "</div>"
      ],
      "text/plain": [
       "        date bones_nobones                                                url  \\\n",
       "0 2021-11-19      No bones  https://www.tiktok.com/@jongraz/video/70323014...   \n",
       "1 2021-11-18        Bones!  https://www.tiktok.com/@jongraz/video/70319186...   \n",
       "2 2021-11-16        Bones!  https://www.tiktok.com/@jongraz/video/70311878...   \n",
       "3 2021-11-15        Bones!  https://www.tiktok.com/@jongraz/video/70308085...   \n",
       "4 2021-11-12      No bones  https://www.tiktok.com/@jongraz/video/70297029...   \n",
       "\n",
       "    weekday     month  weekend  \n",
       "0    Friday  November    False  \n",
       "1  Thursday  November    False  \n",
       "2   Tuesday  November    False  \n",
       "3    Monday  November    False  \n",
       "4    Friday  November    False  "
      ]
     },
     "execution_count": 11,
     "metadata": {},
     "output_type": "execute_result"
    }
   ],
   "source": [
    "df.head()"
   ]
  },
  {
   "cell_type": "markdown",
   "id": "e140bc04-2622-4429-92ac-0887db978784",
   "metadata": {},
   "source": [
    "### Percentage of days with Bones (only days with a video)"
   ]
  },
  {
   "cell_type": "code",
   "execution_count": 12,
   "id": "8f0f192f-2f34-43ef-a746-571dee98440e",
   "metadata": {},
   "outputs": [
    {
     "data": {
      "text/plain": [
       "bones_nobones\n",
       "No bones    51.0\n",
       "Bones!      49.0\n",
       "dtype: float64"
      ]
     },
     "execution_count": 12,
     "metadata": {},
     "output_type": "execute_result"
    }
   ],
   "source": [
    "(\n",
    "    df[df[\"bones_nobones\"] != \"No video\"].value_counts(\"bones_nobones\", normalize=True)\n",
    "    * 100\n",
    ").round(0)"
   ]
  },
  {
   "cell_type": "markdown",
   "id": "51d96042-cc07-456b-ba49-2ffedff95344",
   "metadata": {},
   "source": [
    "### Group by day type"
   ]
  },
  {
   "cell_type": "code",
   "execution_count": 13,
   "id": "aeb84d9d-f214-41b9-83eb-e3794311f48b",
   "metadata": {
    "tags": []
   },
   "outputs": [],
   "source": [
    "days = (\n",
    "    df.groupby([\"bones_nobones\"])\n",
    "    .agg({\"date\": \"count\"})\n",
    "    .reset_index()\n",
    "    .rename(columns={\"date\": \"count\"})\n",
    ")"
   ]
  },
  {
   "cell_type": "markdown",
   "id": "cf87ac18-718e-474f-823a-82ccb0d3c125",
   "metadata": {
    "tags": []
   },
   "source": [
    "### Simple bar chart explaining the count of day types"
   ]
  },
  {
   "cell_type": "code",
   "execution_count": 14,
   "id": "635053b9-68a0-4e4a-8007-9e82c0b0790c",
   "metadata": {
    "tags": []
   },
   "outputs": [
    {
     "data": {
      "text/html": [
       "\n",
       "<div id=\"altair-viz-410ff0c0b7a7420aa24ac03278d6b539\"></div>\n",
       "<script type=\"text/javascript\">\n",
       "  (function(spec, embedOpt){\n",
       "    let outputDiv = document.currentScript.previousElementSibling;\n",
       "    if (outputDiv.id !== \"altair-viz-410ff0c0b7a7420aa24ac03278d6b539\") {\n",
       "      outputDiv = document.getElementById(\"altair-viz-410ff0c0b7a7420aa24ac03278d6b539\");\n",
       "    }\n",
       "    const paths = {\n",
       "      \"vega\": \"https://cdn.jsdelivr.net/npm//vega@5?noext\",\n",
       "      \"vega-lib\": \"https://cdn.jsdelivr.net/npm//vega-lib?noext\",\n",
       "      \"vega-lite\": \"https://cdn.jsdelivr.net/npm//vega-lite@4.8.1?noext\",\n",
       "      \"vega-embed\": \"https://cdn.jsdelivr.net/npm//vega-embed@6?noext\",\n",
       "    };\n",
       "\n",
       "    function loadScript(lib) {\n",
       "      return new Promise(function(resolve, reject) {\n",
       "        var s = document.createElement('script');\n",
       "        s.src = paths[lib];\n",
       "        s.async = true;\n",
       "        s.onload = () => resolve(paths[lib]);\n",
       "        s.onerror = () => reject(`Error loading script: ${paths[lib]}`);\n",
       "        document.getElementsByTagName(\"head\")[0].appendChild(s);\n",
       "      });\n",
       "    }\n",
       "\n",
       "    function showError(err) {\n",
       "      outputDiv.innerHTML = `<div class=\"error\" style=\"color:red;\">${err}</div>`;\n",
       "      throw err;\n",
       "    }\n",
       "\n",
       "    function displayChart(vegaEmbed) {\n",
       "      vegaEmbed(outputDiv, spec, embedOpt)\n",
       "        .catch(err => showError(`Javascript Error: ${err.message}<br>This usually means there's a typo in your chart specification. See the javascript console for the full traceback.`));\n",
       "    }\n",
       "\n",
       "    if(typeof define === \"function\" && define.amd) {\n",
       "      requirejs.config({paths});\n",
       "      require([\"vega-embed\"], displayChart, err => showError(`Error loading script: ${err.message}`));\n",
       "    } else if (typeof vegaEmbed === \"function\") {\n",
       "      displayChart(vegaEmbed);\n",
       "    } else {\n",
       "      loadScript(\"vega\")\n",
       "        .then(() => loadScript(\"vega-lite\"))\n",
       "        .then(() => loadScript(\"vega-embed\"))\n",
       "        .catch(showError)\n",
       "        .then(() => displayChart(vegaEmbed));\n",
       "    }\n",
       "  })({\"config\": {\"view\": {\"continuousWidth\": 400, \"continuousHeight\": 300}}, \"data\": {\"name\": \"data-78c31c936d1ebf512ed392421bc93114\"}, \"mark\": \"bar\", \"encoding\": {\"color\": {\"type\": \"nominal\", \"field\": \"bones_nobones\", \"legend\": null, \"scale\": {\"domain\": [\"Bones!\", \"No bones\", \"No video\"], \"range\": [\"#5ab4ac\", \"#d8b365\", \"#e6e6e6\"]}, \"title\": \"\"}, \"x\": {\"type\": \"quantitative\", \"axis\": {\"grid\": false, \"tickColor\": \"#ffffff\", \"tickCount\": 6}, \"field\": \"count\", \"title\": \"Days\"}, \"y\": {\"type\": \"nominal\", \"axis\": {\"tickColor\": \"#ffffff\", \"tickCount\": 0}, \"field\": \"bones_nobones\", \"title\": \"\"}}, \"height\": 70, \"title\": \" \", \"width\": 500, \"$schema\": \"https://vega.github.io/schema/vega-lite/v4.8.1.json\", \"datasets\": {\"data-78c31c936d1ebf512ed392421bc93114\": [{\"bones_nobones\": \"Bones!\", \"count\": 20}, {\"bones_nobones\": \"No bones\", \"count\": 21}]}}, {\"mode\": \"vega-lite\"});\n",
       "</script>"
      ],
      "text/plain": [
       "alt.Chart(...)"
      ]
     },
     "execution_count": 14,
     "metadata": {},
     "output_type": "execute_result"
    }
   ],
   "source": [
    "alt.Chart(days[days[\"bones_nobones\"] != \"No video\"], title=\" \").mark_bar().encode(\n",
    "    y=alt.Y(\"bones_nobones\", title=\"\", axis=alt.Axis(tickCount=0, tickColor=\"#ffffff\")),\n",
    "    x=alt.X(\n",
    "        \"count\",\n",
    "        title=\"Days\",\n",
    "        axis=alt.Axis(grid=False, tickCount=6, tickColor=\"#ffffff\"),\n",
    "    ),\n",
    "    color=alt.Color(\n",
    "        \"bones_nobones\",\n",
    "        title=\"\",\n",
    "        legend=None,\n",
    "        scale=alt.Scale(\n",
    "            domain=[\"Bones!\", \"No bones\", \"No video\"],\n",
    "            range=[\"#5ab4ac\", \"#d8b365\", \"#e6e6e6\"],\n",
    "        ),\n",
    "    ),\n",
    ").properties(width=500, height=70)"
   ]
  },
  {
   "cell_type": "markdown",
   "id": "7727853a-96ed-4b0b-9ec7-bc19bd06313f",
   "metadata": {},
   "source": [
    "### Plot Noodle's days on a calendar"
   ]
  },
  {
   "cell_type": "code",
   "execution_count": 15,
   "id": "717e0ef7-b4df-4810-9a38-e8b034c548a1",
   "metadata": {
    "tags": []
   },
   "outputs": [
    {
     "data": {
      "text/html": [
       "\n",
       "<div id=\"altair-viz-a03b628823674f8eadfd7bb45dd3c360\"></div>\n",
       "<script type=\"text/javascript\">\n",
       "  (function(spec, embedOpt){\n",
       "    let outputDiv = document.currentScript.previousElementSibling;\n",
       "    if (outputDiv.id !== \"altair-viz-a03b628823674f8eadfd7bb45dd3c360\") {\n",
       "      outputDiv = document.getElementById(\"altair-viz-a03b628823674f8eadfd7bb45dd3c360\");\n",
       "    }\n",
       "    const paths = {\n",
       "      \"vega\": \"https://cdn.jsdelivr.net/npm//vega@5?noext\",\n",
       "      \"vega-lib\": \"https://cdn.jsdelivr.net/npm//vega-lib?noext\",\n",
       "      \"vega-lite\": \"https://cdn.jsdelivr.net/npm//vega-lite@4.8.1?noext\",\n",
       "      \"vega-embed\": \"https://cdn.jsdelivr.net/npm//vega-embed@6?noext\",\n",
       "    };\n",
       "\n",
       "    function loadScript(lib) {\n",
       "      return new Promise(function(resolve, reject) {\n",
       "        var s = document.createElement('script');\n",
       "        s.src = paths[lib];\n",
       "        s.async = true;\n",
       "        s.onload = () => resolve(paths[lib]);\n",
       "        s.onerror = () => reject(`Error loading script: ${paths[lib]}`);\n",
       "        document.getElementsByTagName(\"head\")[0].appendChild(s);\n",
       "      });\n",
       "    }\n",
       "\n",
       "    function showError(err) {\n",
       "      outputDiv.innerHTML = `<div class=\"error\" style=\"color:red;\">${err}</div>`;\n",
       "      throw err;\n",
       "    }\n",
       "\n",
       "    function displayChart(vegaEmbed) {\n",
       "      vegaEmbed(outputDiv, spec, embedOpt)\n",
       "        .catch(err => showError(`Javascript Error: ${err.message}<br>This usually means there's a typo in your chart specification. See the javascript console for the full traceback.`));\n",
       "    }\n",
       "\n",
       "    if(typeof define === \"function\" && define.amd) {\n",
       "      requirejs.config({paths});\n",
       "      require([\"vega-embed\"], displayChart, err => showError(`Error loading script: ${err.message}`));\n",
       "    } else if (typeof vegaEmbed === \"function\") {\n",
       "      displayChart(vegaEmbed);\n",
       "    } else {\n",
       "      loadScript(\"vega\")\n",
       "        .then(() => loadScript(\"vega-lite\"))\n",
       "        .then(() => loadScript(\"vega-embed\"))\n",
       "        .catch(showError)\n",
       "        .then(() => displayChart(vegaEmbed));\n",
       "    }\n",
       "  })({\"config\": {\"view\": {\"continuousWidth\": 400, \"continuousHeight\": 300, \"strokeOpacity\": 0}, \"legend\": {\"orient\": \"top\", \"padding\": 10}}, \"data\": {\"name\": \"data-f063bae751e304fb883509a67f2f1beb\"}, \"mark\": \"rect\", \"encoding\": {\"color\": {\"type\": \"nominal\", \"field\": \"bones_nobones\", \"scale\": {\"domain\": [\"Bones!\", \"No bones\", \"No video\"], \"range\": [\"#5ab4ac\", \"#d8b365\", \"#e6e6e6\"]}, \"title\": \"\"}, \"tooltip\": [{\"type\": \"temporal\", \"field\": \"date\", \"timeUnit\": \"monthdate\", \"title\": \"Date\"}, {\"type\": \"nominal\", \"field\": \"bones_nobones\", \"title\": \"Tweets\"}], \"x\": {\"type\": \"ordinal\", \"field\": \"date\", \"timeUnit\": \"date\", \"title\": \" \"}, \"y\": {\"type\": \"ordinal\", \"field\": \"date\", \"timeUnit\": \"month\", \"title\": \"\"}}, \"height\": 70, \"title\": \"Bones days since Sept. 1\", \"width\": 500, \"$schema\": \"https://vega.github.io/schema/vega-lite/v4.8.1.json\", \"datasets\": {\"data-f063bae751e304fb883509a67f2f1beb\": [{\"date\": \"2021-11-19T00:00:00\", \"bones_nobones\": \"No bones\", \"url\": \"https://www.tiktok.com/@jongraz/video/7032301423278738694\", \"weekday\": \"Friday\", \"month\": \"November\", \"weekend\": false}, {\"date\": \"2021-11-18T00:00:00\", \"bones_nobones\": \"Bones!\", \"url\": \"https://www.tiktok.com/@jongraz/video/7031918628782017798\", \"weekday\": \"Thursday\", \"month\": \"November\", \"weekend\": false}, {\"date\": \"2021-11-16T00:00:00\", \"bones_nobones\": \"Bones!\", \"url\": \"https://www.tiktok.com/@jongraz/video/7031187804289912069\", \"weekday\": \"Tuesday\", \"month\": \"November\", \"weekend\": false}, {\"date\": \"2021-11-15T00:00:00\", \"bones_nobones\": \"Bones!\", \"url\": \"https://www.tiktok.com/@jongraz/video/7030808551417236741\", \"weekday\": \"Monday\", \"month\": \"November\", \"weekend\": false}, {\"date\": \"2021-11-12T00:00:00\", \"bones_nobones\": \"No bones\", \"url\": \"https://www.tiktok.com/@jongraz/video/7029702975224417541\", \"weekday\": \"Friday\", \"month\": \"November\", \"weekend\": false}, {\"date\": \"2021-11-11T00:00:00\", \"bones_nobones\": \"No bones\", \"url\": \"https://www.tiktok.com/@jongraz/video/7029337289553693958\", \"weekday\": \"Thursday\", \"month\": \"November\", \"weekend\": false}, {\"date\": \"2021-11-09T00:00:00\", \"bones_nobones\": \"Bones!\", \"url\": \"https://www.tiktok.com/@jongraz/video/7028597285869128966\", \"weekday\": \"Tuesday\", \"month\": \"November\", \"weekend\": false}, {\"date\": \"2021-11-08T00:00:00\", \"bones_nobones\": \"Bones!\", \"url\": \"https://www.tiktok.com/@jongraz/video/7028212495621934342\", \"weekday\": \"Monday\", \"month\": \"November\", \"weekend\": false}, {\"date\": \"2021-11-07T00:00:00\", \"bones_nobones\": \"No bones\", \"url\": \"https://www.tiktok.com/@jongraz/video/7027831943009930502\", \"weekday\": \"Sunday\", \"month\": \"November\", \"weekend\": true}, {\"date\": \"2021-11-05T00:00:00\", \"bones_nobones\": \"Bones!\", \"url\": \"https://www.tiktok.com/@jongraz/video/7027092093080325382\", \"weekday\": \"Friday\", \"month\": \"November\", \"weekend\": false}, {\"date\": \"2021-11-04T00:00:00\", \"bones_nobones\": \"Bones!\", \"url\": \"https://www.tiktok.com/@jongraz/video/7026722598096538886\", \"weekday\": \"Thursday\", \"month\": \"November\", \"weekend\": false}, {\"date\": \"2021-11-03T00:00:00\", \"bones_nobones\": \"Bones!\", \"url\": \"https://www.tiktok.com/@jongraz/video/7026343071839276294\", \"weekday\": \"Wednesday\", \"month\": \"November\", \"weekend\": false}, {\"date\": \"2021-11-02T00:00:00\", \"bones_nobones\": \"No bones\", \"url\": \"https://www.tiktok.com/@jongraz/video/7025988024450223366\", \"weekday\": \"Tuesday\", \"month\": \"November\", \"weekend\": false}, {\"date\": \"2021-11-01T00:00:00\", \"bones_nobones\": \"No bones\", \"url\": \"https://www.tiktok.com/@jongraz/video/7025602864663907590\", \"weekday\": \"Monday\", \"month\": \"November\", \"weekend\": false}, {\"date\": \"2021-10-31T00:00:00\", \"bones_nobones\": \"Bones!\", \"url\": \"https://www.tiktok.com/@jongraz/video/7025224724321946885\", \"weekday\": \"Sunday\", \"month\": \"October\", \"weekend\": true}, {\"date\": \"2021-10-28T00:00:00\", \"bones_nobones\": \"Bones!\", \"url\": \"https://www.tiktok.com/@jongraz/video/7024110833995205893\", \"weekday\": \"Thursday\", \"month\": \"October\", \"weekend\": false}, {\"date\": \"2021-10-26T00:00:00\", \"bones_nobones\": \"No bones\", \"url\": \"https://www.tiktok.com/@jongraz/video/7023371588124921093\", \"weekday\": \"Tuesday\", \"month\": \"October\", \"weekend\": false}, {\"date\": \"2021-10-25T00:00:00\", \"bones_nobones\": \"Bones!\", \"url\": \"https://www.tiktok.com/@jongraz/video/7023004798215539973\", \"weekday\": \"Monday\", \"month\": \"October\", \"weekend\": false}, {\"date\": \"2021-10-23T00:00:00\", \"bones_nobones\": \"Bones!\", \"url\": \"https://www.tiktok.com/@jongraz/video/7022251358833118469\", \"weekday\": \"Saturday\", \"month\": \"October\", \"weekend\": true}, {\"date\": \"2021-10-22T00:00:00\", \"bones_nobones\": \"No bones\", \"url\": \"https://www.tiktok.com/@jongraz/video/7021895192559111430\", \"weekday\": \"Friday\", \"month\": \"October\", \"weekend\": false}, {\"date\": \"2021-10-21T00:00:00\", \"bones_nobones\": \"No bones\", \"url\": \"https://www.tiktok.com/@jongraz/video/7021511892824820997\", \"weekday\": \"Thursday\", \"month\": \"October\", \"weekend\": false}, {\"date\": \"2021-10-20T00:00:00\", \"bones_nobones\": \"Bones!\", \"url\": \"https://www.tiktok.com/@jongraz/video/7021172359386172678\", \"weekday\": \"Wednesday\", \"month\": \"October\", \"weekend\": false}, {\"date\": \"2021-10-19T00:00:00\", \"bones_nobones\": \"No bones\", \"url\": \"https://www.tiktok.com/@jongraz/video/7020772470017887494\", \"weekday\": \"Tuesday\", \"month\": \"October\", \"weekend\": false}, {\"date\": \"2021-10-18T00:00:00\", \"bones_nobones\": \"Bones!\", \"url\": \"https://www.tiktok.com/@jongraz/video/7020411242749758725\", \"weekday\": \"Monday\", \"month\": \"October\", \"weekend\": false}, {\"date\": \"2021-10-17T00:00:00\", \"bones_nobones\": \"No bones\", \"url\": \"https://www.tiktok.com/@jongraz/video/7020027193216503046\", \"weekday\": \"Sunday\", \"month\": \"October\", \"weekend\": true}, {\"date\": \"2021-10-16T00:00:00\", \"bones_nobones\": \"Bones!\", \"url\": \"https://www.tiktok.com/@jongraz/video/7019702064829697285\", \"weekday\": \"Saturday\", \"month\": \"October\", \"weekend\": true}, {\"date\": \"2021-10-15T00:00:00\", \"bones_nobones\": \"Bones!\", \"url\": \"https://www.tiktok.com/@jongraz/video/7019298458678856965\", \"weekday\": \"Friday\", \"month\": \"October\", \"weekend\": false}, {\"date\": \"2021-10-14T00:00:00\", \"bones_nobones\": \"No bones\", \"url\": \"https://www.tiktok.com/@jongraz/video/7018925390118784262\", \"weekday\": \"Thursday\", \"month\": \"October\", \"weekend\": false}, {\"date\": \"2021-10-13T00:00:00\", \"bones_nobones\": \"No bones\", \"url\": \"https://www.tiktok.com/@jongraz/video/7018544878183320837\", \"weekday\": \"Wednesday\", \"month\": \"October\", \"weekend\": false}, {\"date\": \"2021-10-11T00:00:00\", \"bones_nobones\": \"Bones!\", \"url\": \"https://www.tiktok.com/@jongraz/video/7017803606308965637\", \"weekday\": \"Monday\", \"month\": \"October\", \"weekend\": false}, {\"date\": \"2021-10-09T00:00:00\", \"bones_nobones\": \"No bones\", \"url\": \"https://www.tiktok.com/@jongraz/video/7017075369505213702\", \"weekday\": \"Saturday\", \"month\": \"October\", \"weekend\": true}, {\"date\": \"2021-10-07T00:00:00\", \"bones_nobones\": \"Bones!\", \"url\": \"https://www.tiktok.com/@jongraz/video/7016326380820401414\", \"weekday\": \"Thursday\", \"month\": \"October\", \"weekend\": false}, {\"date\": \"2021-10-04T00:00:00\", \"bones_nobones\": \"No bones\", \"url\": \"https://www.tiktok.com/@jongraz/video/7015223171011857670\", \"weekday\": \"Monday\", \"month\": \"October\", \"weekend\": false}, {\"date\": \"2021-10-01T00:00:00\", \"bones_nobones\": \"Bones!\", \"url\": \"https://www.tiktok.com/@jongraz/video/7014096448493079814\", \"weekday\": \"Friday\", \"month\": \"October\", \"weekend\": false}, {\"date\": \"2021-09-29T00:00:00\", \"bones_nobones\": \"No bones\", \"url\": \"https://www.tiktok.com/@jongraz/video/7013363016121044229\", \"weekday\": \"Wednesday\", \"month\": \"September\", \"weekend\": false}, {\"date\": \"2021-09-22T00:00:00\", \"bones_nobones\": \"No bones\", \"url\": \"https://www.tiktok.com/@jongraz/video/7010754857476885766\", \"weekday\": \"Wednesday\", \"month\": \"September\", \"weekend\": false}, {\"date\": \"2021-09-14T00:00:00\", \"bones_nobones\": \"Bones!\", \"url\": \"https://www.tiktok.com/@jongraz/video/7007786296059940101\", \"weekday\": \"Tuesday\", \"month\": \"September\", \"weekend\": false}, {\"date\": \"2021-09-05T00:00:00\", \"bones_nobones\": \"No bones\", \"url\": \"https://www.tiktok.com/@jongraz/video/7004453353946189062\", \"weekday\": \"Sunday\", \"month\": \"September\", \"weekend\": true}, {\"date\": \"2021-09-01T00:00:00\", \"bones_nobones\": \"No video\", \"url\": null, \"weekday\": \"Wednesday\", \"month\": \"September\", \"weekend\": false}, {\"date\": \"2021-09-02T00:00:00\", \"bones_nobones\": \"No video\", \"url\": null, \"weekday\": \"Thursday\", \"month\": \"September\", \"weekend\": false}, {\"date\": \"2021-09-03T00:00:00\", \"bones_nobones\": \"No video\", \"url\": null, \"weekday\": \"Friday\", \"month\": \"September\", \"weekend\": false}, {\"date\": \"2021-09-04T00:00:00\", \"bones_nobones\": \"No video\", \"url\": null, \"weekday\": \"Saturday\", \"month\": \"September\", \"weekend\": true}, {\"date\": \"2021-09-06T00:00:00\", \"bones_nobones\": \"No video\", \"url\": null, \"weekday\": \"Monday\", \"month\": \"September\", \"weekend\": false}, {\"date\": \"2021-09-07T00:00:00\", \"bones_nobones\": \"No video\", \"url\": null, \"weekday\": \"Tuesday\", \"month\": \"September\", \"weekend\": false}, {\"date\": \"2021-09-08T00:00:00\", \"bones_nobones\": \"No video\", \"url\": null, \"weekday\": \"Wednesday\", \"month\": \"September\", \"weekend\": false}, {\"date\": \"2021-09-09T00:00:00\", \"bones_nobones\": \"No video\", \"url\": null, \"weekday\": \"Thursday\", \"month\": \"September\", \"weekend\": false}, {\"date\": \"2021-09-10T00:00:00\", \"bones_nobones\": \"No video\", \"url\": null, \"weekday\": \"Friday\", \"month\": \"September\", \"weekend\": false}, {\"date\": \"2021-09-11T00:00:00\", \"bones_nobones\": \"No video\", \"url\": null, \"weekday\": \"Saturday\", \"month\": \"September\", \"weekend\": true}, {\"date\": \"2021-09-12T00:00:00\", \"bones_nobones\": \"No video\", \"url\": null, \"weekday\": \"Sunday\", \"month\": \"September\", \"weekend\": true}, {\"date\": \"2021-09-13T00:00:00\", \"bones_nobones\": \"No video\", \"url\": null, \"weekday\": \"Monday\", \"month\": \"September\", \"weekend\": false}, {\"date\": \"2021-09-15T00:00:00\", \"bones_nobones\": \"No video\", \"url\": null, \"weekday\": \"Wednesday\", \"month\": \"September\", \"weekend\": false}, {\"date\": \"2021-09-16T00:00:00\", \"bones_nobones\": \"No video\", \"url\": null, \"weekday\": \"Thursday\", \"month\": \"September\", \"weekend\": false}, {\"date\": \"2021-09-17T00:00:00\", \"bones_nobones\": \"No video\", \"url\": null, \"weekday\": \"Friday\", \"month\": \"September\", \"weekend\": false}, {\"date\": \"2021-09-18T00:00:00\", \"bones_nobones\": \"No video\", \"url\": null, \"weekday\": \"Saturday\", \"month\": \"September\", \"weekend\": true}, {\"date\": \"2021-09-19T00:00:00\", \"bones_nobones\": \"No video\", \"url\": null, \"weekday\": \"Sunday\", \"month\": \"September\", \"weekend\": true}, {\"date\": \"2021-09-20T00:00:00\", \"bones_nobones\": \"No video\", \"url\": null, \"weekday\": \"Monday\", \"month\": \"September\", \"weekend\": false}, {\"date\": \"2021-09-21T00:00:00\", \"bones_nobones\": \"No video\", \"url\": null, \"weekday\": \"Tuesday\", \"month\": \"September\", \"weekend\": false}, {\"date\": \"2021-09-23T00:00:00\", \"bones_nobones\": \"No video\", \"url\": null, \"weekday\": \"Thursday\", \"month\": \"September\", \"weekend\": false}, {\"date\": \"2021-09-24T00:00:00\", \"bones_nobones\": \"No video\", \"url\": null, \"weekday\": \"Friday\", \"month\": \"September\", \"weekend\": false}, {\"date\": \"2021-09-25T00:00:00\", \"bones_nobones\": \"No video\", \"url\": null, \"weekday\": \"Saturday\", \"month\": \"September\", \"weekend\": true}, {\"date\": \"2021-09-26T00:00:00\", \"bones_nobones\": \"No video\", \"url\": null, \"weekday\": \"Sunday\", \"month\": \"September\", \"weekend\": true}, {\"date\": \"2021-09-27T00:00:00\", \"bones_nobones\": \"No video\", \"url\": null, \"weekday\": \"Monday\", \"month\": \"September\", \"weekend\": false}, {\"date\": \"2021-09-28T00:00:00\", \"bones_nobones\": \"No video\", \"url\": null, \"weekday\": \"Tuesday\", \"month\": \"September\", \"weekend\": false}, {\"date\": \"2021-09-30T00:00:00\", \"bones_nobones\": \"No video\", \"url\": null, \"weekday\": \"Thursday\", \"month\": \"September\", \"weekend\": false}, {\"date\": \"2021-10-02T00:00:00\", \"bones_nobones\": \"No video\", \"url\": null, \"weekday\": \"Saturday\", \"month\": \"October\", \"weekend\": true}, {\"date\": \"2021-10-03T00:00:00\", \"bones_nobones\": \"No video\", \"url\": null, \"weekday\": \"Sunday\", \"month\": \"October\", \"weekend\": true}, {\"date\": \"2021-10-05T00:00:00\", \"bones_nobones\": \"No video\", \"url\": null, \"weekday\": \"Tuesday\", \"month\": \"October\", \"weekend\": false}, {\"date\": \"2021-10-06T00:00:00\", \"bones_nobones\": \"No video\", \"url\": null, \"weekday\": \"Wednesday\", \"month\": \"October\", \"weekend\": false}, {\"date\": \"2021-10-08T00:00:00\", \"bones_nobones\": \"No video\", \"url\": null, \"weekday\": \"Friday\", \"month\": \"October\", \"weekend\": false}, {\"date\": \"2021-10-10T00:00:00\", \"bones_nobones\": \"No video\", \"url\": null, \"weekday\": \"Sunday\", \"month\": \"October\", \"weekend\": true}, {\"date\": \"2021-10-12T00:00:00\", \"bones_nobones\": \"No video\", \"url\": null, \"weekday\": \"Tuesday\", \"month\": \"October\", \"weekend\": false}, {\"date\": \"2021-10-24T00:00:00\", \"bones_nobones\": \"No video\", \"url\": null, \"weekday\": \"Sunday\", \"month\": \"October\", \"weekend\": true}, {\"date\": \"2021-10-27T00:00:00\", \"bones_nobones\": \"No video\", \"url\": null, \"weekday\": \"Wednesday\", \"month\": \"October\", \"weekend\": false}, {\"date\": \"2021-10-29T00:00:00\", \"bones_nobones\": \"No video\", \"url\": null, \"weekday\": \"Friday\", \"month\": \"October\", \"weekend\": false}, {\"date\": \"2021-10-30T00:00:00\", \"bones_nobones\": \"No video\", \"url\": null, \"weekday\": \"Saturday\", \"month\": \"October\", \"weekend\": true}, {\"date\": \"2021-11-06T00:00:00\", \"bones_nobones\": \"No video\", \"url\": null, \"weekday\": \"Saturday\", \"month\": \"November\", \"weekend\": true}, {\"date\": \"2021-11-10T00:00:00\", \"bones_nobones\": \"No video\", \"url\": null, \"weekday\": \"Wednesday\", \"month\": \"November\", \"weekend\": false}, {\"date\": \"2021-11-13T00:00:00\", \"bones_nobones\": \"No video\", \"url\": null, \"weekday\": \"Saturday\", \"month\": \"November\", \"weekend\": true}, {\"date\": \"2021-11-14T00:00:00\", \"bones_nobones\": \"No video\", \"url\": null, \"weekday\": \"Sunday\", \"month\": \"November\", \"weekend\": true}, {\"date\": \"2021-11-17T00:00:00\", \"bones_nobones\": \"No video\", \"url\": null, \"weekday\": \"Wednesday\", \"month\": \"November\", \"weekend\": false}, {\"date\": \"2021-11-20T00:00:00\", \"bones_nobones\": \"No video\", \"url\": null, \"weekday\": \"Saturday\", \"month\": \"November\", \"weekend\": true}]}}, {\"mode\": \"vega-lite\"});\n",
       "</script>"
      ],
      "text/plain": [
       "alt.Chart(...)"
      ]
     },
     "execution_count": 15,
     "metadata": {},
     "output_type": "execute_result"
    }
   ],
   "source": [
    "heatmap = (\n",
    "    alt.Chart(df[df[\"date\"] > \"2021-08-31\"], title=\" \")\n",
    "    .mark_rect()\n",
    "    .encode(\n",
    "        x=alt.X(\"date(date):O\", title=\" \"),\n",
    "        y=alt.Y(\"month(date):O\", title=\"\"),\n",
    "        color=alt.Color(\n",
    "            \"bones_nobones\",\n",
    "            title=\"\",\n",
    "            scale=alt.Scale(\n",
    "                domain=[\"Bones!\", \"No bones\", \"No video\"],\n",
    "                range=[\"#5ab4ac\", \"#d8b365\", \"#e6e6e6\"],\n",
    "            ),\n",
    "        ),\n",
    "        tooltip=[\n",
    "            alt.Tooltip(\"monthdate(date):T\", title=\"Date\"),\n",
    "            alt.Tooltip(\"bones_nobones\", title=\"Tweets\"),\n",
    "        ],\n",
    "    )\n",
    "    .properties(width=500, height=70, title=\"Bones days since Sept. 1\")\n",
    ")\n",
    "\n",
    "heatmap.configure_legend(orient=\"top\", padding=10).configure_view(strokeOpacity=0)"
   ]
  },
  {
   "cell_type": "markdown",
   "id": "960403aa-1962-40a6-82f6-9712a3f5e109",
   "metadata": {},
   "source": [
    "### Prep for datawrapper "
   ]
  },
  {
   "cell_type": "code",
   "execution_count": 16,
   "id": "421b1ce9-a14f-42da-9972-7946eb3fd094",
   "metadata": {},
   "outputs": [
    {
     "data": {
      "text/html": [
       "<div>\n",
       "<style scoped>\n",
       "    .dataframe tbody tr th:only-of-type {\n",
       "        vertical-align: middle;\n",
       "    }\n",
       "\n",
       "    .dataframe tbody tr th {\n",
       "        vertical-align: top;\n",
       "    }\n",
       "\n",
       "    .dataframe thead th {\n",
       "        text-align: right;\n",
       "    }\n",
       "</style>\n",
       "<table border=\"1\" class=\"dataframe\">\n",
       "  <thead>\n",
       "    <tr style=\"text-align: right;\">\n",
       "      <th></th>\n",
       "      <th>date</th>\n",
       "      <th>bones_nobones</th>\n",
       "      <th>url</th>\n",
       "      <th>weekday</th>\n",
       "      <th>month</th>\n",
       "      <th>weekend</th>\n",
       "    </tr>\n",
       "  </thead>\n",
       "  <tbody>\n",
       "    <tr>\n",
       "      <th>0</th>\n",
       "      <td>2021-11-19</td>\n",
       "      <td>No bones</td>\n",
       "      <td>https://www.tiktok.com/@jongraz/video/70323014...</td>\n",
       "      <td>Friday</td>\n",
       "      <td>November</td>\n",
       "      <td>False</td>\n",
       "    </tr>\n",
       "    <tr>\n",
       "      <th>1</th>\n",
       "      <td>2021-11-18</td>\n",
       "      <td>Bones!</td>\n",
       "      <td>https://www.tiktok.com/@jongraz/video/70319186...</td>\n",
       "      <td>Thursday</td>\n",
       "      <td>November</td>\n",
       "      <td>False</td>\n",
       "    </tr>\n",
       "    <tr>\n",
       "      <th>2</th>\n",
       "      <td>2021-11-16</td>\n",
       "      <td>Bones!</td>\n",
       "      <td>https://www.tiktok.com/@jongraz/video/70311878...</td>\n",
       "      <td>Tuesday</td>\n",
       "      <td>November</td>\n",
       "      <td>False</td>\n",
       "    </tr>\n",
       "    <tr>\n",
       "      <th>3</th>\n",
       "      <td>2021-11-15</td>\n",
       "      <td>Bones!</td>\n",
       "      <td>https://www.tiktok.com/@jongraz/video/70308085...</td>\n",
       "      <td>Monday</td>\n",
       "      <td>November</td>\n",
       "      <td>False</td>\n",
       "    </tr>\n",
       "    <tr>\n",
       "      <th>4</th>\n",
       "      <td>2021-11-12</td>\n",
       "      <td>No bones</td>\n",
       "      <td>https://www.tiktok.com/@jongraz/video/70297029...</td>\n",
       "      <td>Friday</td>\n",
       "      <td>November</td>\n",
       "      <td>False</td>\n",
       "    </tr>\n",
       "  </tbody>\n",
       "</table>\n",
       "</div>"
      ],
      "text/plain": [
       "        date bones_nobones                                                url  \\\n",
       "0 2021-11-19      No bones  https://www.tiktok.com/@jongraz/video/70323014...   \n",
       "1 2021-11-18        Bones!  https://www.tiktok.com/@jongraz/video/70319186...   \n",
       "2 2021-11-16        Bones!  https://www.tiktok.com/@jongraz/video/70311878...   \n",
       "3 2021-11-15        Bones!  https://www.tiktok.com/@jongraz/video/70308085...   \n",
       "4 2021-11-12      No bones  https://www.tiktok.com/@jongraz/video/70297029...   \n",
       "\n",
       "    weekday     month  weekend  \n",
       "0    Friday  November    False  \n",
       "1  Thursday  November    False  \n",
       "2   Tuesday  November    False  \n",
       "3    Monday  November    False  \n",
       "4    Friday  November    False  "
      ]
     },
     "execution_count": 16,
     "metadata": {},
     "output_type": "execute_result"
    }
   ],
   "source": [
    "df.head()"
   ]
  },
  {
   "cell_type": "code",
   "execution_count": 17,
   "id": "15b244a8-bc62-4644-a522-c617d6c21199",
   "metadata": {},
   "outputs": [],
   "source": [
    "df[\"bones_class\"] = (\n",
    "    df[\"bones_nobones\"]\n",
    "    .str.lower()\n",
    "    .str.replace(\" \", \"-\", regex=False)\n",
    "    .str.replace(\"!\", \"\", regex=False)\n",
    ")"
   ]
  },
  {
   "cell_type": "code",
   "execution_count": 18,
   "id": "9393484a-e13e-4f28-b169-4d0fbf1e5852",
   "metadata": {},
   "outputs": [],
   "source": [
    "df[\"weekend_class\"] = (\n",
    "    df[\"weekend\"]\n",
    "    .astype(str)\n",
    "    .str.lower()\n",
    "    .str.replace(\" \", \"-\", regex=False)\n",
    "    .str.replace(\"!\", \"\", regex=False)\n",
    ")"
   ]
  },
  {
   "cell_type": "code",
   "execution_count": 19,
   "id": "38e03339-a79e-487e-ac40-0abff95a6120",
   "metadata": {},
   "outputs": [],
   "source": [
    "grouped_all = (\n",
    "    df.groupby(\"bones_nobones\")\n",
    "    .agg({\"date\": \"size\"})\n",
    "    .reset_index()\n",
    "    .rename(columns={\"date\": \"Days\"})\n",
    ")"
   ]
  },
  {
   "cell_type": "code",
   "execution_count": 20,
   "id": "325f0e35-cfac-4e74-8875-e992a5f3d4b3",
   "metadata": {},
   "outputs": [
    {
     "data": {
      "text/html": [
       "<div>\n",
       "<style scoped>\n",
       "    .dataframe tbody tr th:only-of-type {\n",
       "        vertical-align: middle;\n",
       "    }\n",
       "\n",
       "    .dataframe tbody tr th {\n",
       "        vertical-align: top;\n",
       "    }\n",
       "\n",
       "    .dataframe thead th {\n",
       "        text-align: right;\n",
       "    }\n",
       "</style>\n",
       "<table border=\"1\" class=\"dataframe\">\n",
       "  <thead>\n",
       "    <tr style=\"text-align: right;\">\n",
       "      <th></th>\n",
       "      <th>bones_nobones</th>\n",
       "      <th>Days</th>\n",
       "    </tr>\n",
       "  </thead>\n",
       "  <tbody>\n",
       "    <tr>\n",
       "      <th>0</th>\n",
       "      <td>Bones!</td>\n",
       "      <td>20</td>\n",
       "    </tr>\n",
       "    <tr>\n",
       "      <th>1</th>\n",
       "      <td>No bones</td>\n",
       "      <td>21</td>\n",
       "    </tr>\n",
       "    <tr>\n",
       "      <th>2</th>\n",
       "      <td>No video</td>\n",
       "      <td>43</td>\n",
       "    </tr>\n",
       "  </tbody>\n",
       "</table>\n",
       "</div>"
      ],
      "text/plain": [
       "  bones_nobones  Days\n",
       "0        Bones!    20\n",
       "1      No bones    21\n",
       "2      No video    43"
      ]
     },
     "execution_count": 20,
     "metadata": {},
     "output_type": "execute_result"
    }
   ],
   "source": [
    "grouped_all"
   ]
  },
  {
   "cell_type": "code",
   "execution_count": 21,
   "id": "22cc5c0f-4ef4-46a6-9d9c-79e3298bb395",
   "metadata": {},
   "outputs": [
    {
     "data": {
      "text/plain": [
       "21"
      ]
     },
     "execution_count": 21,
     "metadata": {},
     "output_type": "execute_result"
    }
   ],
   "source": [
    "grouped_all.iloc[1, 1]"
   ]
  },
  {
   "cell_type": "code",
   "execution_count": 22,
   "id": "06c159e2-e6ea-421a-9e8e-c29358ff3292",
   "metadata": {},
   "outputs": [],
   "source": [
    "grouped_weekends = (\n",
    "    df.groupby([\"bones_nobones\", \"weekend\"])\n",
    "    .agg({\"date\": \"size\"})\n",
    "    .reset_index()\n",
    "    .rename(columns={\"date\": \"Days\"})\n",
    ")"
   ]
  },
  {
   "cell_type": "code",
   "execution_count": 23,
   "id": "47299d17-3524-4d08-ae9e-8202fd6fe266",
   "metadata": {},
   "outputs": [
    {
     "data": {
      "text/html": [
       "<div>\n",
       "<style scoped>\n",
       "    .dataframe tbody tr th:only-of-type {\n",
       "        vertical-align: middle;\n",
       "    }\n",
       "\n",
       "    .dataframe tbody tr th {\n",
       "        vertical-align: top;\n",
       "    }\n",
       "\n",
       "    .dataframe thead th {\n",
       "        text-align: right;\n",
       "    }\n",
       "</style>\n",
       "<table border=\"1\" class=\"dataframe\">\n",
       "  <thead>\n",
       "    <tr style=\"text-align: right;\">\n",
       "      <th></th>\n",
       "      <th>bones_nobones</th>\n",
       "      <th>weekend</th>\n",
       "      <th>Days</th>\n",
       "    </tr>\n",
       "  </thead>\n",
       "  <tbody>\n",
       "    <tr>\n",
       "      <th>0</th>\n",
       "      <td>Bones!</td>\n",
       "      <td>False</td>\n",
       "      <td>17</td>\n",
       "    </tr>\n",
       "    <tr>\n",
       "      <th>1</th>\n",
       "      <td>Bones!</td>\n",
       "      <td>True</td>\n",
       "      <td>3</td>\n",
       "    </tr>\n",
       "    <tr>\n",
       "      <th>2</th>\n",
       "      <td>No bones</td>\n",
       "      <td>False</td>\n",
       "      <td>16</td>\n",
       "    </tr>\n",
       "    <tr>\n",
       "      <th>3</th>\n",
       "      <td>No bones</td>\n",
       "      <td>True</td>\n",
       "      <td>5</td>\n",
       "    </tr>\n",
       "    <tr>\n",
       "      <th>4</th>\n",
       "      <td>No video</td>\n",
       "      <td>False</td>\n",
       "      <td>27</td>\n",
       "    </tr>\n",
       "    <tr>\n",
       "      <th>5</th>\n",
       "      <td>No video</td>\n",
       "      <td>True</td>\n",
       "      <td>16</td>\n",
       "    </tr>\n",
       "  </tbody>\n",
       "</table>\n",
       "</div>"
      ],
      "text/plain": [
       "  bones_nobones  weekend  Days\n",
       "0        Bones!    False    17\n",
       "1        Bones!     True     3\n",
       "2      No bones    False    16\n",
       "3      No bones     True     5\n",
       "4      No video    False    27\n",
       "5      No video     True    16"
      ]
     },
     "execution_count": 23,
     "metadata": {},
     "output_type": "execute_result"
    }
   ],
   "source": [
    "grouped_weekends"
   ]
  },
  {
   "cell_type": "code",
   "execution_count": 24,
   "id": "cab1939b-5916-434d-b125-1868bc3cba92",
   "metadata": {},
   "outputs": [
    {
     "data": {
      "text/plain": [
       "5"
      ]
     },
     "execution_count": 24,
     "metadata": {},
     "output_type": "execute_result"
    }
   ],
   "source": [
    "grouped_weekends.iloc[3, 2]"
   ]
  },
  {
   "cell_type": "code",
   "execution_count": 25,
   "id": "9b9f413d-b5c4-4112-a88f-d854a9a0c06a",
   "metadata": {},
   "outputs": [],
   "source": [
    "stacked_bar = pd.DataFrame(\n",
    "    {\n",
    "        \"Category\": [\"All days\", \"Weekends\", \"Weekdays\"],\n",
    "        \"Bones\": [\n",
    "            grouped_all.iloc[0, 1],\n",
    "            grouped_weekends.iloc[1, 2],\n",
    "            grouped_weekends.iloc[0, 2],\n",
    "        ],\n",
    "        \"No Bones\": [\n",
    "            grouped_all.iloc[1, 1],\n",
    "            grouped_weekends.iloc[3, 2],\n",
    "            grouped_weekends.iloc[2, 2],\n",
    "        ],\n",
    "    }\n",
    ")"
   ]
  },
  {
   "cell_type": "code",
   "execution_count": 26,
   "id": "5a09542f-0d0c-43de-bf1e-d83432bb3ff0",
   "metadata": {},
   "outputs": [
    {
     "data": {
      "text/html": [
       "<div>\n",
       "<style scoped>\n",
       "    .dataframe tbody tr th:only-of-type {\n",
       "        vertical-align: middle;\n",
       "    }\n",
       "\n",
       "    .dataframe tbody tr th {\n",
       "        vertical-align: top;\n",
       "    }\n",
       "\n",
       "    .dataframe thead th {\n",
       "        text-align: right;\n",
       "    }\n",
       "</style>\n",
       "<table border=\"1\" class=\"dataframe\">\n",
       "  <thead>\n",
       "    <tr style=\"text-align: right;\">\n",
       "      <th></th>\n",
       "      <th>Category</th>\n",
       "      <th>Bones</th>\n",
       "      <th>No Bones</th>\n",
       "    </tr>\n",
       "  </thead>\n",
       "  <tbody>\n",
       "    <tr>\n",
       "      <th>0</th>\n",
       "      <td>All days</td>\n",
       "      <td>20</td>\n",
       "      <td>21</td>\n",
       "    </tr>\n",
       "    <tr>\n",
       "      <th>1</th>\n",
       "      <td>Weekends</td>\n",
       "      <td>3</td>\n",
       "      <td>5</td>\n",
       "    </tr>\n",
       "    <tr>\n",
       "      <th>2</th>\n",
       "      <td>Weekdays</td>\n",
       "      <td>17</td>\n",
       "      <td>16</td>\n",
       "    </tr>\n",
       "  </tbody>\n",
       "</table>\n",
       "</div>"
      ],
      "text/plain": [
       "   Category  Bones  No Bones\n",
       "0  All days     20        21\n",
       "1  Weekends      3         5\n",
       "2  Weekdays     17        16"
      ]
     },
     "execution_count": 26,
     "metadata": {},
     "output_type": "execute_result"
    }
   ],
   "source": [
    "stacked_bar"
   ]
  },
  {
   "cell_type": "markdown",
   "id": "82456302-a53c-40b3-8cd2-b7bdf6f7869c",
   "metadata": {},
   "source": [
    "### Export"
   ]
  },
  {
   "cell_type": "code",
   "execution_count": 27,
   "id": "d30a28f6-4394-4e18-8f93-6723a34743f1",
   "metadata": {},
   "outputs": [],
   "source": [
    "df[\"display_date\"] = df[\"date\"].dt.strftime(\"%b. %-d \")\n",
    "df[\"date\"] = df[\"date\"].astype(str)"
   ]
  },
  {
   "cell_type": "code",
   "execution_count": 28,
   "id": "b820e12d-8a9c-4101-bdff-1a51c7c1800e",
   "metadata": {},
   "outputs": [],
   "source": [
    "stacked_bar.to_csv(\"../_data/bonesdays_summary_csv.csv\", index=False)\n",
    "df[df[\"bones_nobones\"] != \"No video\"].to_csv(\"../_data/bonesdays_csv.csv\", index=False)"
   ]
  },
  {
   "cell_type": "code",
   "execution_count": 29,
   "id": "efb23c1e-899b-4ccd-a78a-e8ac4cd1cde1",
   "metadata": {},
   "outputs": [],
   "source": [
    "stacked_bar.to_json(\"../_data/bonesdays_summary.json\", indent=4, orient=\"records\")\n",
    "df[df[\"bones_nobones\"] != \"No video\"].to_json(\n",
    "    \"../_data/bonesdays.json\", indent=4, orient=\"records\"\n",
    ")"
   ]
  }
 ],
 "metadata": {
  "kernelspec": {
   "display_name": "Python 3 (ipykernel)",
   "language": "python",
   "name": "python3"
  },
  "language_info": {
   "codemirror_mode": {
    "name": "ipython",
    "version": 3
   },
   "file_extension": ".py",
   "mimetype": "text/x-python",
   "name": "python",
   "nbconvert_exporter": "python",
   "pygments_lexer": "ipython3",
   "version": "3.9.6"
  }
 },
 "nbformat": 4,
 "nbformat_minor": 5
}
