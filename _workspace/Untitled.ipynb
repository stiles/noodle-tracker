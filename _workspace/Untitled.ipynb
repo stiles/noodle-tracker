{
 "cells": [
  {
   "cell_type": "markdown",
   "id": "c2c2b77a-1037-4a68-86b9-bd6803dd7425",
   "metadata": {},
   "source": [
    "### Scrape Noodle data"
   ]
  },
  {
   "cell_type": "code",
   "execution_count": 2,
   "id": "ac81a69f-5254-4d61-8945-732a69d2f5d0",
   "metadata": {},
   "outputs": [],
   "source": [
    "import requests\n",
    "from bs4 import BeautifulSoup\n",
    "import pandas as pd"
   ]
  },
  {
   "cell_type": "code",
   "execution_count": 8,
   "id": "79b9b47d-ea08-4f93-a596-6f928b0b71f7",
   "metadata": {},
   "outputs": [],
   "source": [
    "url = 'https://www.tiktok.com/@jongraz?lang=en'"
   ]
  },
  {
   "cell_type": "code",
   "execution_count": 9,
   "id": "d70f1cc5-93ec-4c1e-9233-e3b5c1ad33dd",
   "metadata": {},
   "outputs": [],
   "source": [
    "page = requests.get(url)"
   ]
  },
  {
   "cell_type": "code",
   "execution_count": 10,
   "id": "a16056e0-6b84-4605-9bb4-385095267a8e",
   "metadata": {},
   "outputs": [],
   "source": [
    "soup = BeautifulSoup(page.content, 'html.parser')"
   ]
  },
  {
   "cell_type": "code",
   "execution_count": null,
   "id": "6c0ea99a-49f3-4dba-9254-17513a657760",
   "metadata": {},
   "outputs": [],
   "source": []
  },
  {
   "cell_type": "code",
   "execution_count": null,
   "id": "e08a1c6b-0c14-408b-87ce-21f2ebd9f5b6",
   "metadata": {},
   "outputs": [],
   "source": [
    "title = soup.title.text # gets you the text of the <title>(...)</title>"
   ]
  }
 ],
 "metadata": {
  "kernelspec": {
   "display_name": "Python 3",
   "language": "python",
   "name": "python3"
  },
  "language_info": {
   "codemirror_mode": {
    "name": "ipython",
    "version": 3
   },
   "file_extension": ".py",
   "mimetype": "text/x-python",
   "name": "python",
   "nbconvert_exporter": "python",
   "pygments_lexer": "ipython3",
   "version": "3.8.8"
  }
 },
 "nbformat": 4,
 "nbformat_minor": 5
}
