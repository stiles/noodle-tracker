{
 "cells": [
  {
   "cell_type": "markdown",
   "id": "c2c2b77a-1037-4a68-86b9-bd6803dd7425",
   "metadata": {},
   "source": [
    "# Scrape and process @jongraz stats for Noodle videos"
   ]
  },
  {
   "cell_type": "code",
   "execution_count": 1,
   "id": "2a9d8cd5-482c-4b56-9b21-22c61bc85ad9",
   "metadata": {},
   "outputs": [],
   "source": [
    "from TikTokApi import TikTokApi\n",
    "import pandas as pd\n",
    "import numpy as np\n",
    "import altair as alt"
   ]
  },
  {
   "cell_type": "code",
   "execution_count": 2,
   "id": "89748428-2c94-43f8-8d97-7a086a86ef40",
   "metadata": {},
   "outputs": [],
   "source": [
    "pd.options.display.max_columns = 100\n",
    "pd.options.display.max_rows = 1000\n",
    "pd.options.display.max_colwidth = None"
   ]
  },
  {
   "cell_type": "markdown",
   "id": "4c8b9c34-bb37-41f2-87d8-2157db416c92",
   "metadata": {},
   "source": [
    "### Read in our hand collected list of Noodle videos"
   ]
  },
  {
   "cell_type": "code",
   "execution_count": 3,
   "id": "8296b5fa-0c6d-4a2a-b6fc-dafc46934220",
   "metadata": {},
   "outputs": [],
   "source": [
    "src = pd.read_csv(\n",
    "    \"https://docs.google.com/spreadsheets/d/e/2PACX-1vQz8eEafXnIeKsNvGL8M56Ia6vu89JDCjfJ22ORl65So4kRYtmTbwmqLjE223fe4mjcZqkrs-KT6j8z/pub?\\\n",
    "gid=0&single=true&output=csv\"\n",
    ")"
   ]
  },
  {
   "cell_type": "markdown",
   "id": "ecc85f6f-dc0e-4339-91ac-1d29ab383875",
   "metadata": {},
   "source": [
    "### Create an ID field from the URL"
   ]
  },
  {
   "cell_type": "code",
   "execution_count": 4,
   "id": "ea294de8-0b78-41ed-acce-d574b6de8c20",
   "metadata": {},
   "outputs": [],
   "source": [
    "src['id'] = src['url'].str.replace('https://www.tiktok.com/@jongraz/video/', \"\", regex=False).astype(str)"
   ]
  },
  {
   "cell_type": "markdown",
   "id": "535de659-8183-4dd1-b558-4cbca54711c7",
   "metadata": {},
   "source": [
    "### Make a list for subsetting the dataframe later"
   ]
  },
  {
   "cell_type": "code",
   "execution_count": 5,
   "id": "fc07322b-e17a-4ca7-a29a-3759e771d792",
   "metadata": {},
   "outputs": [],
   "source": [
    "bones_videos = src['id'].to_list()"
   ]
  },
  {
   "cell_type": "markdown",
   "id": "cd9fb57b-5f8c-4051-8a8b-2d121f7196ed",
   "metadata": {},
   "source": [
    "### Have to run this manually -- for now"
   ]
  },
  {
   "cell_type": "code",
   "execution_count": 6,
   "id": "84393bfc-29c4-48d7-8071-48c6ceef3f7f",
   "metadata": {},
   "outputs": [],
   "source": [
    "# Get cookie and run this..."
   ]
  },
  {
   "cell_type": "code",
   "execution_count": 7,
   "id": "1ba73836-6bbb-4472-a51f-5b7421fd0d38",
   "metadata": {},
   "outputs": [],
   "source": [
    "# !python '/Users/stiles/github/noodle-tracker/_workspace/grab_user_stats.py'"
   ]
  },
  {
   "cell_type": "markdown",
   "id": "945d138f-817a-4825-adce-7dc7abbd7ca0",
   "metadata": {},
   "source": [
    "---"
   ]
  },
  {
   "cell_type": "markdown",
   "id": "5a72552a-e920-4cb0-987b-d92ef5671659",
   "metadata": {},
   "source": [
    "### Read scraped stats data"
   ]
  },
  {
   "cell_type": "code",
   "execution_count": 8,
   "id": "e240ccee-9774-4eb9-a17b-b5cad9c8a0c9",
   "metadata": {},
   "outputs": [],
   "source": [
    "df = pd.read_csv('../../tiktok/jongraz_videos.csv', dtype={'video_id':str})"
   ]
  },
  {
   "cell_type": "markdown",
   "id": "5e6cc437-967e-4593-9685-c367bb25fdce",
   "metadata": {
    "tags": []
   },
   "source": [
    "### Clean update dates, times"
   ]
  },
  {
   "cell_type": "code",
   "execution_count": 9,
   "id": "adcd6831-f036-48db-943e-1d6f67cdff70",
   "metadata": {
    "tags": []
   },
   "outputs": [],
   "source": [
    "df['timestamp'] = pd.to_datetime(df['video_time'], unit='s')\n",
    "df['date'] = pd.to_datetime(df['video_time'], unit='s').dt.date\n",
    "df['month'] = pd.to_datetime(df['video_time'], unit='s').dt.month\n",
    "df['weekday'] = pd.to_datetime(df['video_time'], unit='s').dt.day_name()\n",
    "df['time'] = pd.to_datetime(df['video_time'], unit='s').dt.time\n",
    "df['weekstart_timestamp'] = pd.to_datetime(df['video_time'], unit='s') - pd.to_datetime(df['video_time'], unit='s').dt.weekday * np.timedelta64(1, 'D')\n",
    "df['weekstart'] = df['weekstart_timestamp'].dt.date\n",
    "df['updated_date'] = pd.to_datetime(\"today\")"
   ]
  },
  {
   "cell_type": "markdown",
   "id": "130bf743-4f82-4f17-b3e5-cdfc7f43a770",
   "metadata": {},
   "source": [
    "### How many videos? "
   ]
  },
  {
   "cell_type": "code",
   "execution_count": 10,
   "id": "950e460f-8b34-4320-aff7-647d488ee5a8",
   "metadata": {},
   "outputs": [
    {
     "data": {
      "text/plain": [
       "155"
      ]
     },
     "execution_count": 10,
     "metadata": {},
     "output_type": "execute_result"
    }
   ],
   "source": [
    "len(df)"
   ]
  },
  {
   "cell_type": "markdown",
   "id": "c2f0a6cb-e8f9-4bca-b73e-54af3d8e0ea4",
   "metadata": {},
   "source": [
    "### Select only \"bones\" videos from @jongraz's feed"
   ]
  },
  {
   "cell_type": "code",
   "execution_count": 11,
   "id": "585a7e90-f075-4389-9f6c-c5ce9d2d1c36",
   "metadata": {},
   "outputs": [],
   "source": [
    "bones_df = df[df['video_id'].isin(bones_videos)]"
   ]
  },
  {
   "cell_type": "markdown",
   "id": "79c71e01-73e4-4a1a-852d-0c941c4dec0e",
   "metadata": {},
   "source": [
    "### How many are Noodle videos? "
   ]
  },
  {
   "cell_type": "code",
   "execution_count": 12,
   "id": "7959e6f1-89ff-4372-bf29-f1e1077e322d",
   "metadata": {},
   "outputs": [
    {
     "data": {
      "text/plain": [
       "66"
      ]
     },
     "execution_count": 12,
     "metadata": {},
     "output_type": "execute_result"
    }
   ],
   "source": [
    "len(bones_df)"
   ]
  },
  {
   "cell_type": "code",
   "execution_count": 13,
   "id": "6554f7a9-1901-4bdd-a0d7-ceab7402cb3b",
   "metadata": {},
   "outputs": [
    {
     "data": {
      "text/html": [
       "<div>\n",
       "<style scoped>\n",
       "    .dataframe tbody tr th:only-of-type {\n",
       "        vertical-align: middle;\n",
       "    }\n",
       "\n",
       "    .dataframe tbody tr th {\n",
       "        vertical-align: top;\n",
       "    }\n",
       "\n",
       "    .dataframe thead th {\n",
       "        text-align: right;\n",
       "    }\n",
       "</style>\n",
       "<table border=\"1\" class=\"dataframe\">\n",
       "  <thead>\n",
       "    <tr style=\"text-align: right;\">\n",
       "      <th></th>\n",
       "      <th>video_cover</th>\n",
       "      <th>user_name</th>\n",
       "      <th>user_id</th>\n",
       "      <th>video_id</th>\n",
       "      <th>video_desc</th>\n",
       "      <th>video_time</th>\n",
       "      <th>video_length</th>\n",
       "      <th>video_link</th>\n",
       "      <th>n_likes</th>\n",
       "      <th>n_shares</th>\n",
       "      <th>n_comments</th>\n",
       "      <th>n_plays</th>\n",
       "      <th>timestamp</th>\n",
       "      <th>date</th>\n",
       "      <th>month</th>\n",
       "      <th>weekday</th>\n",
       "      <th>time</th>\n",
       "      <th>weekstart_timestamp</th>\n",
       "      <th>weekstart</th>\n",
       "      <th>updated_date</th>\n",
       "    </tr>\n",
       "  </thead>\n",
       "  <tbody>\n",
       "    <tr>\n",
       "      <th>0</th>\n",
       "      <td>https://p16-sign-va.tiktokcdn.com/obj/tos-maliva-p-0068/5d44fb68b19240f99d6e68c59a4a6361?x-expires=1640808000&amp;x-signature=Xmju68NhD3eHejTWzMR7lkN597A%3D</td>\n",
       "      <td>jongraz</td>\n",
       "      <td>6867588218972455941</td>\n",
       "      <td>7046779675493895430</td>\n",
       "      <td>plan or adjust your day accordingly 🔮🦴🔮 #noodletok #bonesday #nobones #magicmeatball</td>\n",
       "      <td>1640706249</td>\n",
       "      <td>55</td>\n",
       "      <td>https://www.tiktok.com/@jongraz/video/7046779675493895430?lang=en</td>\n",
       "      <td>93000</td>\n",
       "      <td>3116</td>\n",
       "      <td>1185</td>\n",
       "      <td>389000</td>\n",
       "      <td>2021-12-28 15:44:09</td>\n",
       "      <td>2021-12-28</td>\n",
       "      <td>12</td>\n",
       "      <td>Tuesday</td>\n",
       "      <td>15:44:09</td>\n",
       "      <td>2021-12-27 15:44:09</td>\n",
       "      <td>2021-12-27</td>\n",
       "      <td>2021-12-29 06:02:18.116093</td>\n",
       "    </tr>\n",
       "    <tr>\n",
       "      <th>2</th>\n",
       "      <td>https://p16-sign-va.tiktokcdn.com/obj/tos-maliva-p-0068/464b4b9109d3491a80b90424ab896a33?x-expires=1640808000&amp;x-signature=2X3%2BiRYPMwfw%2Bg9NZC8T8ColKMw%3D</td>\n",
       "      <td>jongraz</td>\n",
       "      <td>6867588218972455941</td>\n",
       "      <td>7045657418432285957</td>\n",
       "      <td>have an amazing day everyone and merry christmas to all who celebrate! 🔮🦴🎄 #noodletok #christmasbones #pug</td>\n",
       "      <td>1640444953</td>\n",
       "      <td>59</td>\n",
       "      <td>https://www.tiktok.com/@jongraz/video/7045657418432285957?lang=en</td>\n",
       "      <td>267700</td>\n",
       "      <td>14100</td>\n",
       "      <td>3084</td>\n",
       "      <td>1000000</td>\n",
       "      <td>2021-12-25 15:09:13</td>\n",
       "      <td>2021-12-25</td>\n",
       "      <td>12</td>\n",
       "      <td>Saturday</td>\n",
       "      <td>15:09:13</td>\n",
       "      <td>2021-12-20 15:09:13</td>\n",
       "      <td>2021-12-20</td>\n",
       "      <td>2021-12-29 06:02:18.116093</td>\n",
       "    </tr>\n",
       "    <tr>\n",
       "      <th>3</th>\n",
       "      <td>https://p16-sign-va.tiktokcdn.com/obj/tos-maliva-p-0068/3fa0f6ff4d7e41e483d786ed0ee15f6e_1640274543?x-expires=1640808000&amp;x-signature=kRDDLCZNwnns3t%2FBK%2FSQI4OgiOg%3D</td>\n",
       "      <td>jongraz</td>\n",
       "      <td>6867588218972455941</td>\n",
       "      <td>7044925508760407302</td>\n",
       "      <td>it’s a…snow bones day 😉😉😉😉 #noodletok #iceking #kingofwinter</td>\n",
       "      <td>1640274542</td>\n",
       "      <td>58</td>\n",
       "      <td>https://www.tiktok.com/@jongraz/video/7044925508760407302?lang=en</td>\n",
       "      <td>199000</td>\n",
       "      <td>8593</td>\n",
       "      <td>2166</td>\n",
       "      <td>808200</td>\n",
       "      <td>2021-12-23 15:49:02</td>\n",
       "      <td>2021-12-23</td>\n",
       "      <td>12</td>\n",
       "      <td>Thursday</td>\n",
       "      <td>15:49:02</td>\n",
       "      <td>2021-12-20 15:49:02</td>\n",
       "      <td>2021-12-20</td>\n",
       "      <td>2021-12-29 06:02:18.116093</td>\n",
       "    </tr>\n",
       "    <tr>\n",
       "      <th>4</th>\n",
       "      <td>https://p16-sign-va.tiktokcdn.com/obj/tos-maliva-p-0068/b8891b9bcc8d4543a27bfbaba9a305eb?x-expires=1640808000&amp;x-signature=bocJBta4OQojMl2jLIE8UDFfHPw%3D</td>\n",
       "      <td>jongraz</td>\n",
       "      <td>6867588218972455941</td>\n",
       "      <td>7044174342799789318</td>\n",
       "      <td>the Oracle Speaks and we must Listen!! 🔮🦴🔮 #noodletok #pug #rescue</td>\n",
       "      <td>1640099647</td>\n",
       "      <td>44</td>\n",
       "      <td>https://www.tiktok.com/@jongraz/video/7044174342799789318?lang=en</td>\n",
       "      <td>109500</td>\n",
       "      <td>4078</td>\n",
       "      <td>1714</td>\n",
       "      <td>526300</td>\n",
       "      <td>2021-12-21 15:14:07</td>\n",
       "      <td>2021-12-21</td>\n",
       "      <td>12</td>\n",
       "      <td>Tuesday</td>\n",
       "      <td>15:14:07</td>\n",
       "      <td>2021-12-20 15:14:07</td>\n",
       "      <td>2021-12-20</td>\n",
       "      <td>2021-12-29 06:02:18.116093</td>\n",
       "    </tr>\n",
       "    <tr>\n",
       "      <th>5</th>\n",
       "      <td>https://p16-sign-va.tiktokcdn.com/obj/tos-maliva-p-0068/40635b5e839e48ab94c3615595388c39?x-expires=1640808000&amp;x-signature=oUOkt7KTed5SmLIWbvODb4ld4QQ%3D</td>\n",
       "      <td>jongraz</td>\n",
       "      <td>6867588218972455941</td>\n",
       "      <td>7043809322018557189</td>\n",
       "      <td>your Monday reading 🔮🦴🔮 #noodletok #nobones</td>\n",
       "      <td>1640014659</td>\n",
       "      <td>13</td>\n",
       "      <td>https://www.tiktok.com/@jongraz/video/7043809322018557189?lang=en</td>\n",
       "      <td>251800</td>\n",
       "      <td>7333</td>\n",
       "      <td>2721</td>\n",
       "      <td>1200000</td>\n",
       "      <td>2021-12-20 15:37:39</td>\n",
       "      <td>2021-12-20</td>\n",
       "      <td>12</td>\n",
       "      <td>Monday</td>\n",
       "      <td>15:37:39</td>\n",
       "      <td>2021-12-20 15:37:39</td>\n",
       "      <td>2021-12-20</td>\n",
       "      <td>2021-12-29 06:02:18.116093</td>\n",
       "    </tr>\n",
       "  </tbody>\n",
       "</table>\n",
       "</div>"
      ],
      "text/plain": [
       "                                                                                                                                                               video_cover  \\\n",
       "0                 https://p16-sign-va.tiktokcdn.com/obj/tos-maliva-p-0068/5d44fb68b19240f99d6e68c59a4a6361?x-expires=1640808000&x-signature=Xmju68NhD3eHejTWzMR7lkN597A%3D   \n",
       "2             https://p16-sign-va.tiktokcdn.com/obj/tos-maliva-p-0068/464b4b9109d3491a80b90424ab896a33?x-expires=1640808000&x-signature=2X3%2BiRYPMwfw%2Bg9NZC8T8ColKMw%3D   \n",
       "3  https://p16-sign-va.tiktokcdn.com/obj/tos-maliva-p-0068/3fa0f6ff4d7e41e483d786ed0ee15f6e_1640274543?x-expires=1640808000&x-signature=kRDDLCZNwnns3t%2FBK%2FSQI4OgiOg%3D   \n",
       "4                 https://p16-sign-va.tiktokcdn.com/obj/tos-maliva-p-0068/b8891b9bcc8d4543a27bfbaba9a305eb?x-expires=1640808000&x-signature=bocJBta4OQojMl2jLIE8UDFfHPw%3D   \n",
       "5                 https://p16-sign-va.tiktokcdn.com/obj/tos-maliva-p-0068/40635b5e839e48ab94c3615595388c39?x-expires=1640808000&x-signature=oUOkt7KTed5SmLIWbvODb4ld4QQ%3D   \n",
       "\n",
       "  user_name              user_id             video_id  \\\n",
       "0   jongraz  6867588218972455941  7046779675493895430   \n",
       "2   jongraz  6867588218972455941  7045657418432285957   \n",
       "3   jongraz  6867588218972455941  7044925508760407302   \n",
       "4   jongraz  6867588218972455941  7044174342799789318   \n",
       "5   jongraz  6867588218972455941  7043809322018557189   \n",
       "\n",
       "                                                                                                   video_desc  \\\n",
       "0                        plan or adjust your day accordingly 🔮🦴🔮 #noodletok #bonesday #nobones #magicmeatball   \n",
       "2  have an amazing day everyone and merry christmas to all who celebrate! 🔮🦴🎄 #noodletok #christmasbones #pug   \n",
       "3                                                it’s a…snow bones day 😉😉😉😉 #noodletok #iceking #kingofwinter   \n",
       "4                                          the Oracle Speaks and we must Listen!! 🔮🦴🔮 #noodletok #pug #rescue   \n",
       "5                                                                 your Monday reading 🔮🦴🔮 #noodletok #nobones   \n",
       "\n",
       "   video_time  video_length  \\\n",
       "0  1640706249            55   \n",
       "2  1640444953            59   \n",
       "3  1640274542            58   \n",
       "4  1640099647            44   \n",
       "5  1640014659            13   \n",
       "\n",
       "                                                          video_link  n_likes  \\\n",
       "0  https://www.tiktok.com/@jongraz/video/7046779675493895430?lang=en    93000   \n",
       "2  https://www.tiktok.com/@jongraz/video/7045657418432285957?lang=en   267700   \n",
       "3  https://www.tiktok.com/@jongraz/video/7044925508760407302?lang=en   199000   \n",
       "4  https://www.tiktok.com/@jongraz/video/7044174342799789318?lang=en   109500   \n",
       "5  https://www.tiktok.com/@jongraz/video/7043809322018557189?lang=en   251800   \n",
       "\n",
       "   n_shares  n_comments  n_plays           timestamp        date  month  \\\n",
       "0      3116        1185   389000 2021-12-28 15:44:09  2021-12-28     12   \n",
       "2     14100        3084  1000000 2021-12-25 15:09:13  2021-12-25     12   \n",
       "3      8593        2166   808200 2021-12-23 15:49:02  2021-12-23     12   \n",
       "4      4078        1714   526300 2021-12-21 15:14:07  2021-12-21     12   \n",
       "5      7333        2721  1200000 2021-12-20 15:37:39  2021-12-20     12   \n",
       "\n",
       "    weekday      time weekstart_timestamp   weekstart  \\\n",
       "0   Tuesday  15:44:09 2021-12-27 15:44:09  2021-12-27   \n",
       "2  Saturday  15:09:13 2021-12-20 15:09:13  2021-12-20   \n",
       "3  Thursday  15:49:02 2021-12-20 15:49:02  2021-12-20   \n",
       "4   Tuesday  15:14:07 2021-12-20 15:14:07  2021-12-20   \n",
       "5    Monday  15:37:39 2021-12-20 15:37:39  2021-12-20   \n",
       "\n",
       "                updated_date  \n",
       "0 2021-12-29 06:02:18.116093  \n",
       "2 2021-12-29 06:02:18.116093  \n",
       "3 2021-12-29 06:02:18.116093  \n",
       "4 2021-12-29 06:02:18.116093  \n",
       "5 2021-12-29 06:02:18.116093  "
      ]
     },
     "execution_count": 13,
     "metadata": {},
     "output_type": "execute_result"
    }
   ],
   "source": [
    "bones_df.head()"
   ]
  },
  {
   "cell_type": "markdown",
   "id": "a76b123c-6345-4f2f-8de3-a669df6615ee",
   "metadata": {},
   "source": [
    "---"
   ]
  },
  {
   "cell_type": "markdown",
   "id": "eea85d54-28c2-47da-bcfd-f65982b2a735",
   "metadata": {},
   "source": [
    "### Download cover art"
   ]
  },
  {
   "cell_type": "code",
   "execution_count": 14,
   "id": "32ff37b7-38cc-48fc-8982-8cdccd6c32d2",
   "metadata": {},
   "outputs": [],
   "source": [
    "# for v,u in zip(bones_df['video_cover'], bones_df['video_id']):\n",
    "#     !wget {v} -O ../assets/images/noodle_covers/{u}"
   ]
  },
  {
   "cell_type": "code",
   "execution_count": null,
   "id": "ec96154f-3f67-4212-9da2-dccb5f0d46a4",
   "metadata": {},
   "outputs": [],
   "source": []
  },
  {
   "cell_type": "code",
   "execution_count": null,
   "id": "8d1e160a-de58-49ac-ac48-3195950a9554",
   "metadata": {},
   "outputs": [],
   "source": []
  },
  {
   "cell_type": "markdown",
   "id": "02f25c39-0692-41e5-afef-89b4a68a737d",
   "metadata": {},
   "source": [
    "---"
   ]
  },
  {
   "cell_type": "markdown",
   "id": "573ca0f3-b3f5-4969-a28d-bc4c1bc6a233",
   "metadata": {},
   "source": [
    "### Weekly plays"
   ]
  },
  {
   "cell_type": "code",
   "execution_count": 15,
   "id": "3b11f2fd-95fc-4397-beab-a670f34e1f5c",
   "metadata": {},
   "outputs": [
    {
     "data": {
      "text/plain": [
       "weekstart    object\n",
       "n_plays       int64\n",
       "dtype: object"
      ]
     },
     "execution_count": 15,
     "metadata": {},
     "output_type": "execute_result"
    }
   ],
   "source": [
    "weekly_plays = bones_df[bones_df['timestamp'] > '2021/07/31'].groupby(['weekstart']).agg({'n_plays':sum}).reset_index()\n",
    "weekly_plays.dtypes"
   ]
  },
  {
   "cell_type": "code",
   "execution_count": 16,
   "id": "b7360ee5-904c-4310-8218-12cbfc1cc6ea",
   "metadata": {},
   "outputs": [],
   "source": [
    "weekly_plays['weekstart'] = pd.to_datetime(weekly_plays['weekstart'])"
   ]
  },
  {
   "cell_type": "code",
   "execution_count": 17,
   "id": "cd405ba8-0681-4c82-9e44-245217b6daa0",
   "metadata": {},
   "outputs": [
    {
     "data": {
      "text/html": [
       "\n",
       "<div id=\"altair-viz-4c503ebc846c44d0b5a35c592e208b23\"></div>\n",
       "<script type=\"text/javascript\">\n",
       "  (function(spec, embedOpt){\n",
       "    let outputDiv = document.currentScript.previousElementSibling;\n",
       "    if (outputDiv.id !== \"altair-viz-4c503ebc846c44d0b5a35c592e208b23\") {\n",
       "      outputDiv = document.getElementById(\"altair-viz-4c503ebc846c44d0b5a35c592e208b23\");\n",
       "    }\n",
       "    const paths = {\n",
       "      \"vega\": \"https://cdn.jsdelivr.net/npm//vega@5?noext\",\n",
       "      \"vega-lib\": \"https://cdn.jsdelivr.net/npm//vega-lib?noext\",\n",
       "      \"vega-lite\": \"https://cdn.jsdelivr.net/npm//vega-lite@4.8.1?noext\",\n",
       "      \"vega-embed\": \"https://cdn.jsdelivr.net/npm//vega-embed@6?noext\",\n",
       "    };\n",
       "\n",
       "    function loadScript(lib) {\n",
       "      return new Promise(function(resolve, reject) {\n",
       "        var s = document.createElement('script');\n",
       "        s.src = paths[lib];\n",
       "        s.async = true;\n",
       "        s.onload = () => resolve(paths[lib]);\n",
       "        s.onerror = () => reject(`Error loading script: ${paths[lib]}`);\n",
       "        document.getElementsByTagName(\"head\")[0].appendChild(s);\n",
       "      });\n",
       "    }\n",
       "\n",
       "    function showError(err) {\n",
       "      outputDiv.innerHTML = `<div class=\"error\" style=\"color:red;\">${err}</div>`;\n",
       "      throw err;\n",
       "    }\n",
       "\n",
       "    function displayChart(vegaEmbed) {\n",
       "      vegaEmbed(outputDiv, spec, embedOpt)\n",
       "        .catch(err => showError(`Javascript Error: ${err.message}<br>This usually means there's a typo in your chart specification. See the javascript console for the full traceback.`));\n",
       "    }\n",
       "\n",
       "    if(typeof define === \"function\" && define.amd) {\n",
       "      requirejs.config({paths});\n",
       "      require([\"vega-embed\"], displayChart, err => showError(`Error loading script: ${err.message}`));\n",
       "    } else if (typeof vegaEmbed === \"function\") {\n",
       "      displayChart(vegaEmbed);\n",
       "    } else {\n",
       "      loadScript(\"vega\")\n",
       "        .then(() => loadScript(\"vega-lite\"))\n",
       "        .then(() => loadScript(\"vega-embed\"))\n",
       "        .catch(showError)\n",
       "        .then(() => displayChart(vegaEmbed));\n",
       "    }\n",
       "  })({\"config\": {\"view\": {\"continuousWidth\": 400, \"continuousHeight\": 300}}, \"data\": {\"name\": \"data-44170e50557adae78300858420cb3136\"}, \"mark\": {\"type\": \"bar\", \"width\": 30}, \"encoding\": {\"x\": {\"type\": \"temporal\", \"field\": \"weekstart\"}, \"y\": {\"type\": \"quantitative\", \"field\": \"n_plays\"}}, \"width\": 630, \"$schema\": \"https://vega.github.io/schema/vega-lite/v4.8.1.json\", \"datasets\": {\"data-44170e50557adae78300858420cb3136\": [{\"weekstart\": \"2021-08-09T00:00:00\", \"n_plays\": 2300000}, {\"weekstart\": \"2021-08-16T00:00:00\", \"n_plays\": 899000}, {\"weekstart\": \"2021-08-30T00:00:00\", \"n_plays\": 476300}, {\"weekstart\": \"2021-09-13T00:00:00\", \"n_plays\": 971400}, {\"weekstart\": \"2021-09-20T00:00:00\", \"n_plays\": 3800000}, {\"weekstart\": \"2021-09-27T00:00:00\", \"n_plays\": 13500000}, {\"weekstart\": \"2021-10-04T00:00:00\", \"n_plays\": 26300000}, {\"weekstart\": \"2021-10-11T00:00:00\", \"n_plays\": 36800000}, {\"weekstart\": \"2021-10-18T00:00:00\", \"n_plays\": 58500000}, {\"weekstart\": \"2021-10-25T00:00:00\", \"n_plays\": 28800000}, {\"weekstart\": \"2021-11-01T00:00:00\", \"n_plays\": 21800000}, {\"weekstart\": \"2021-11-08T00:00:00\", \"n_plays\": 9700000}, {\"weekstart\": \"2021-11-15T00:00:00\", \"n_plays\": 8130000}, {\"weekstart\": \"2021-11-22T00:00:00\", \"n_plays\": 9225600}, {\"weekstart\": \"2021-11-29T00:00:00\", \"n_plays\": 5597200}, {\"weekstart\": \"2021-12-06T00:00:00\", \"n_plays\": 5118400}, {\"weekstart\": \"2021-12-13T00:00:00\", \"n_plays\": 2899000}, {\"weekstart\": \"2021-12-20T00:00:00\", \"n_plays\": 3534500}, {\"weekstart\": \"2021-12-27T00:00:00\", \"n_plays\": 389000}]}}, {\"mode\": \"vega-lite\"});\n",
       "</script>"
      ],
      "text/plain": [
       "alt.Chart(...)"
      ]
     },
     "execution_count": 17,
     "metadata": {},
     "output_type": "execute_result"
    }
   ],
   "source": [
    "alt.Chart(weekly_plays).mark_bar(width=30).encode(\n",
    "    x='weekstart:T',\n",
    "    y='n_plays'\n",
    ").properties(width=630)"
   ]
  },
  {
   "cell_type": "markdown",
   "id": "53f04585-ab1d-4c9b-b8d7-2b6b8deec113",
   "metadata": {},
   "source": [
    "---"
   ]
  },
  {
   "cell_type": "markdown",
   "id": "45246b49-344e-499b-8e17-bc7d4defd07a",
   "metadata": {},
   "source": [
    "### Weekly likes"
   ]
  },
  {
   "cell_type": "code",
   "execution_count": 18,
   "id": "8969ae3f-0e7b-456e-a266-e362217ed95f",
   "metadata": {},
   "outputs": [
    {
     "data": {
      "text/plain": [
       "weekstart    object\n",
       "n_likes       int64\n",
       "dtype: object"
      ]
     },
     "execution_count": 18,
     "metadata": {},
     "output_type": "execute_result"
    }
   ],
   "source": [
    "weekly_likes = bones_df[bones_df['timestamp'] > '2021/07/31'].groupby(['weekstart']).agg({'n_likes':sum}).reset_index()\n",
    "weekly_likes.dtypes"
   ]
  },
  {
   "cell_type": "code",
   "execution_count": 19,
   "id": "9b5372b6-3380-4b29-ac8c-a3a0d7eb03d0",
   "metadata": {},
   "outputs": [],
   "source": [
    "weekly_likes['weekstart'] = pd.to_datetime(weekly_likes['weekstart'])"
   ]
  },
  {
   "cell_type": "code",
   "execution_count": 20,
   "id": "1f4c690d-b69f-4a81-b22a-566af63a2ce0",
   "metadata": {},
   "outputs": [
    {
     "data": {
      "text/html": [
       "\n",
       "<div id=\"altair-viz-856259cef245413b9399d38b710475ba\"></div>\n",
       "<script type=\"text/javascript\">\n",
       "  (function(spec, embedOpt){\n",
       "    let outputDiv = document.currentScript.previousElementSibling;\n",
       "    if (outputDiv.id !== \"altair-viz-856259cef245413b9399d38b710475ba\") {\n",
       "      outputDiv = document.getElementById(\"altair-viz-856259cef245413b9399d38b710475ba\");\n",
       "    }\n",
       "    const paths = {\n",
       "      \"vega\": \"https://cdn.jsdelivr.net/npm//vega@5?noext\",\n",
       "      \"vega-lib\": \"https://cdn.jsdelivr.net/npm//vega-lib?noext\",\n",
       "      \"vega-lite\": \"https://cdn.jsdelivr.net/npm//vega-lite@4.8.1?noext\",\n",
       "      \"vega-embed\": \"https://cdn.jsdelivr.net/npm//vega-embed@6?noext\",\n",
       "    };\n",
       "\n",
       "    function loadScript(lib) {\n",
       "      return new Promise(function(resolve, reject) {\n",
       "        var s = document.createElement('script');\n",
       "        s.src = paths[lib];\n",
       "        s.async = true;\n",
       "        s.onload = () => resolve(paths[lib]);\n",
       "        s.onerror = () => reject(`Error loading script: ${paths[lib]}`);\n",
       "        document.getElementsByTagName(\"head\")[0].appendChild(s);\n",
       "      });\n",
       "    }\n",
       "\n",
       "    function showError(err) {\n",
       "      outputDiv.innerHTML = `<div class=\"error\" style=\"color:red;\">${err}</div>`;\n",
       "      throw err;\n",
       "    }\n",
       "\n",
       "    function displayChart(vegaEmbed) {\n",
       "      vegaEmbed(outputDiv, spec, embedOpt)\n",
       "        .catch(err => showError(`Javascript Error: ${err.message}<br>This usually means there's a typo in your chart specification. See the javascript console for the full traceback.`));\n",
       "    }\n",
       "\n",
       "    if(typeof define === \"function\" && define.amd) {\n",
       "      requirejs.config({paths});\n",
       "      require([\"vega-embed\"], displayChart, err => showError(`Error loading script: ${err.message}`));\n",
       "    } else if (typeof vegaEmbed === \"function\") {\n",
       "      displayChart(vegaEmbed);\n",
       "    } else {\n",
       "      loadScript(\"vega\")\n",
       "        .then(() => loadScript(\"vega-lite\"))\n",
       "        .then(() => loadScript(\"vega-embed\"))\n",
       "        .catch(showError)\n",
       "        .then(() => displayChart(vegaEmbed));\n",
       "    }\n",
       "  })({\"config\": {\"view\": {\"continuousWidth\": 400, \"continuousHeight\": 300}}, \"data\": {\"name\": \"data-9cfd34e0d101f8a567ff4c28eeeeffd6\"}, \"mark\": {\"type\": \"bar\", \"width\": 30}, \"encoding\": {\"x\": {\"type\": \"temporal\", \"field\": \"weekstart\"}, \"y\": {\"type\": \"quantitative\", \"field\": \"n_likes\"}}, \"width\": 630, \"$schema\": \"https://vega.github.io/schema/vega-lite/v4.8.1.json\", \"datasets\": {\"data-9cfd34e0d101f8a567ff4c28eeeeffd6\": [{\"weekstart\": \"2021-08-09T00:00:00\", \"n_likes\": 435900}, {\"weekstart\": \"2021-08-16T00:00:00\", \"n_likes\": 171400}, {\"weekstart\": \"2021-08-30T00:00:00\", \"n_likes\": 78400}, {\"weekstart\": \"2021-09-13T00:00:00\", \"n_likes\": 171300}, {\"weekstart\": \"2021-09-20T00:00:00\", \"n_likes\": 698200}, {\"weekstart\": \"2021-09-27T00:00:00\", \"n_likes\": 3017500}, {\"weekstart\": \"2021-10-04T00:00:00\", \"n_likes\": 5911700}, {\"weekstart\": \"2021-10-11T00:00:00\", \"n_likes\": 6350100}, {\"weekstart\": \"2021-10-18T00:00:00\", \"n_likes\": 11567200}, {\"weekstart\": \"2021-10-25T00:00:00\", \"n_likes\": 6500000}, {\"weekstart\": \"2021-11-01T00:00:00\", \"n_likes\": 4594400}, {\"weekstart\": \"2021-11-08T00:00:00\", \"n_likes\": 1936900}, {\"weekstart\": \"2021-11-15T00:00:00\", \"n_likes\": 1492500}, {\"weekstart\": \"2021-11-22T00:00:00\", \"n_likes\": 1701900}, {\"weekstart\": \"2021-11-29T00:00:00\", \"n_likes\": 1088100}, {\"weekstart\": \"2021-12-06T00:00:00\", \"n_likes\": 1002400}, {\"weekstart\": \"2021-12-13T00:00:00\", \"n_likes\": 651800}, {\"weekstart\": \"2021-12-20T00:00:00\", \"n_likes\": 828000}, {\"weekstart\": \"2021-12-27T00:00:00\", \"n_likes\": 93000}]}}, {\"mode\": \"vega-lite\"});\n",
       "</script>"
      ],
      "text/plain": [
       "alt.Chart(...)"
      ]
     },
     "execution_count": 20,
     "metadata": {},
     "output_type": "execute_result"
    }
   ],
   "source": [
    "alt.Chart(weekly_likes).mark_bar(width=30).encode(\n",
    "    x='weekstart:T',\n",
    "    y='n_likes'\n",
    ").properties(width=630)"
   ]
  },
  {
   "cell_type": "markdown",
   "id": "d80263a4-7eac-4303-86cc-16659da7b31d",
   "metadata": {},
   "source": [
    "---"
   ]
  },
  {
   "cell_type": "markdown",
   "id": "8544af0b-d7a4-4568-87e7-984d7adea827",
   "metadata": {},
   "source": [
    "### Weekly comments"
   ]
  },
  {
   "cell_type": "code",
   "execution_count": 21,
   "id": "7c986d83-0a19-435d-94cc-95bacecc6213",
   "metadata": {},
   "outputs": [
    {
     "data": {
      "text/plain": [
       "weekstart     object\n",
       "n_comments     int64\n",
       "dtype: object"
      ]
     },
     "execution_count": 21,
     "metadata": {},
     "output_type": "execute_result"
    }
   ],
   "source": [
    "weekly_comments = bones_df[bones_df['timestamp'] > '2021/07/31'].groupby(['weekstart']).agg({'n_comments':sum}).reset_index()\n",
    "weekly_comments.dtypes"
   ]
  },
  {
   "cell_type": "code",
   "execution_count": 22,
   "id": "a6fd0172-9118-48a9-82a5-228bd3fc307d",
   "metadata": {},
   "outputs": [],
   "source": [
    "weekly_comments['weekstart'] = pd.to_datetime(weekly_comments['weekstart'])"
   ]
  },
  {
   "cell_type": "code",
   "execution_count": 23,
   "id": "18107134-f507-46b0-9996-265eb13fe24e",
   "metadata": {},
   "outputs": [
    {
     "data": {
      "text/html": [
       "\n",
       "<div id=\"altair-viz-bc81bc96e39242829f8d022fcfaff697\"></div>\n",
       "<script type=\"text/javascript\">\n",
       "  (function(spec, embedOpt){\n",
       "    let outputDiv = document.currentScript.previousElementSibling;\n",
       "    if (outputDiv.id !== \"altair-viz-bc81bc96e39242829f8d022fcfaff697\") {\n",
       "      outputDiv = document.getElementById(\"altair-viz-bc81bc96e39242829f8d022fcfaff697\");\n",
       "    }\n",
       "    const paths = {\n",
       "      \"vega\": \"https://cdn.jsdelivr.net/npm//vega@5?noext\",\n",
       "      \"vega-lib\": \"https://cdn.jsdelivr.net/npm//vega-lib?noext\",\n",
       "      \"vega-lite\": \"https://cdn.jsdelivr.net/npm//vega-lite@4.8.1?noext\",\n",
       "      \"vega-embed\": \"https://cdn.jsdelivr.net/npm//vega-embed@6?noext\",\n",
       "    };\n",
       "\n",
       "    function loadScript(lib) {\n",
       "      return new Promise(function(resolve, reject) {\n",
       "        var s = document.createElement('script');\n",
       "        s.src = paths[lib];\n",
       "        s.async = true;\n",
       "        s.onload = () => resolve(paths[lib]);\n",
       "        s.onerror = () => reject(`Error loading script: ${paths[lib]}`);\n",
       "        document.getElementsByTagName(\"head\")[0].appendChild(s);\n",
       "      });\n",
       "    }\n",
       "\n",
       "    function showError(err) {\n",
       "      outputDiv.innerHTML = `<div class=\"error\" style=\"color:red;\">${err}</div>`;\n",
       "      throw err;\n",
       "    }\n",
       "\n",
       "    function displayChart(vegaEmbed) {\n",
       "      vegaEmbed(outputDiv, spec, embedOpt)\n",
       "        .catch(err => showError(`Javascript Error: ${err.message}<br>This usually means there's a typo in your chart specification. See the javascript console for the full traceback.`));\n",
       "    }\n",
       "\n",
       "    if(typeof define === \"function\" && define.amd) {\n",
       "      requirejs.config({paths});\n",
       "      require([\"vega-embed\"], displayChart, err => showError(`Error loading script: ${err.message}`));\n",
       "    } else if (typeof vegaEmbed === \"function\") {\n",
       "      displayChart(vegaEmbed);\n",
       "    } else {\n",
       "      loadScript(\"vega\")\n",
       "        .then(() => loadScript(\"vega-lite\"))\n",
       "        .then(() => loadScript(\"vega-embed\"))\n",
       "        .catch(showError)\n",
       "        .then(() => displayChart(vegaEmbed));\n",
       "    }\n",
       "  })({\"config\": {\"view\": {\"continuousWidth\": 400, \"continuousHeight\": 300}}, \"data\": {\"name\": \"data-65d73fcecef0c09a9b259363d28fe67f\"}, \"mark\": {\"type\": \"bar\", \"width\": 30}, \"encoding\": {\"x\": {\"type\": \"temporal\", \"field\": \"weekstart\"}, \"y\": {\"type\": \"quantitative\", \"field\": \"n_comments\"}}, \"width\": 630, \"$schema\": \"https://vega.github.io/schema/vega-lite/v4.8.1.json\", \"datasets\": {\"data-65d73fcecef0c09a9b259363d28fe67f\": [{\"weekstart\": \"2021-08-09T00:00:00\", \"n_comments\": 1444}, {\"weekstart\": \"2021-08-16T00:00:00\", \"n_comments\": 539}, {\"weekstart\": \"2021-08-30T00:00:00\", \"n_comments\": 289}, {\"weekstart\": \"2021-09-13T00:00:00\", \"n_comments\": 928}, {\"weekstart\": \"2021-09-20T00:00:00\", \"n_comments\": 2973}, {\"weekstart\": \"2021-09-27T00:00:00\", \"n_comments\": 10610}, {\"weekstart\": \"2021-10-04T00:00:00\", \"n_comments\": 26468}, {\"weekstart\": \"2021-10-11T00:00:00\", \"n_comments\": 79554}, {\"weekstart\": \"2021-10-18T00:00:00\", \"n_comments\": 158266}, {\"weekstart\": \"2021-10-25T00:00:00\", \"n_comments\": 83100}, {\"weekstart\": \"2021-11-01T00:00:00\", \"n_comments\": 62933}, {\"weekstart\": \"2021-11-08T00:00:00\", \"n_comments\": 37640}, {\"weekstart\": \"2021-11-15T00:00:00\", \"n_comments\": 19942}, {\"weekstart\": \"2021-11-22T00:00:00\", \"n_comments\": 16184}, {\"weekstart\": \"2021-11-29T00:00:00\", \"n_comments\": 14512}, {\"weekstart\": \"2021-12-06T00:00:00\", \"n_comments\": 18645}, {\"weekstart\": \"2021-12-13T00:00:00\", \"n_comments\": 14153}, {\"weekstart\": \"2021-12-20T00:00:00\", \"n_comments\": 9685}, {\"weekstart\": \"2021-12-27T00:00:00\", \"n_comments\": 1185}]}}, {\"mode\": \"vega-lite\"});\n",
       "</script>"
      ],
      "text/plain": [
       "alt.Chart(...)"
      ]
     },
     "execution_count": 23,
     "metadata": {},
     "output_type": "execute_result"
    }
   ],
   "source": [
    "alt.Chart(weekly_comments).mark_bar(width=30).encode(\n",
    "    x='weekstart:T',\n",
    "    y='n_comments'\n",
    ").properties(width=630)"
   ]
  },
  {
   "cell_type": "markdown",
   "id": "c15f216c-47d6-4dfb-b2b6-f054ca00a7dd",
   "metadata": {},
   "source": [
    "---"
   ]
  },
  {
   "cell_type": "markdown",
   "id": "80fe2c68-abf8-4b23-8fe5-01b03a23cf10",
   "metadata": {},
   "source": [
    "### Exports"
   ]
  },
  {
   "cell_type": "code",
   "execution_count": 24,
   "id": "7815f7c8-235d-4101-ae83-ce7bfa1a9b92",
   "metadata": {},
   "outputs": [],
   "source": [
    "weekly_plays.to_csv(\"../_data/weekly_plays.csv\", index=False)\n",
    "weekly_plays.to_csv(\"../assets/data/weekly_plays.csv\", index=False)"
   ]
  },
  {
   "cell_type": "code",
   "execution_count": 25,
   "id": "1a48dc5d-a9f9-47dc-a40e-781c168a75be",
   "metadata": {},
   "outputs": [],
   "source": [
    "weekly_likes.to_csv(\"../_data/weekly_likes.csv\", index=False)\n",
    "weekly_likes.to_csv(\"../assets/data/weekly_likes.csv\", index=False)"
   ]
  },
  {
   "cell_type": "code",
   "execution_count": 26,
   "id": "a55f5295-caf5-4280-a942-2c97539cbbb3",
   "metadata": {},
   "outputs": [],
   "source": [
    "weekly_comments.to_csv(\"../_data/weekly_comments.csv\", index=False)\n",
    "weekly_comments.to_csv(\"../assets/data/weekly_comments.csv\", index=False)"
   ]
  }
 ],
 "metadata": {
  "kernelspec": {
   "display_name": "Python 3",
   "language": "python",
   "name": "python3"
  },
  "language_info": {
   "codemirror_mode": {
    "name": "ipython",
    "version": 3
   },
   "file_extension": ".py",
   "mimetype": "text/x-python",
   "name": "python",
   "nbconvert_exporter": "python",
   "pygments_lexer": "ipython3",
   "version": "3.8.8"
  }
 },
 "nbformat": 4,
 "nbformat_minor": 5
}
