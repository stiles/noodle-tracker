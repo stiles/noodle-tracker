{
 "cells": [
  {
   "cell_type": "markdown",
   "id": "c2c2b77a-1037-4a68-86b9-bd6803dd7425",
   "metadata": {},
   "source": [
    "# Scrape and process @jongraz stats for Noodle videos"
   ]
  },
  {
   "cell_type": "code",
   "execution_count": 1,
   "id": "2a9d8cd5-482c-4b56-9b21-22c61bc85ad9",
   "metadata": {},
   "outputs": [],
   "source": [
    "from TikTokApi import TikTokApi\n",
    "import pandas as pd\n",
    "import numpy as np\n",
    "import altair as alt"
   ]
  },
  {
   "cell_type": "code",
   "execution_count": 2,
   "id": "89748428-2c94-43f8-8d97-7a086a86ef40",
   "metadata": {},
   "outputs": [],
   "source": [
    "pd.options.display.max_columns = 100\n",
    "pd.options.display.max_rows = 1000\n",
    "pd.options.display.max_colwidth = None"
   ]
  },
  {
   "cell_type": "markdown",
   "id": "4c8b9c34-bb37-41f2-87d8-2157db416c92",
   "metadata": {},
   "source": [
    "### Read in our hand collected list of Noodle videos"
   ]
  },
  {
   "cell_type": "code",
   "execution_count": 3,
   "id": "8296b5fa-0c6d-4a2a-b6fc-dafc46934220",
   "metadata": {},
   "outputs": [],
   "source": [
    "src = pd.read_csv(\n",
    "    \"https://docs.google.com/spreadsheets/d/e/2PACX-1vQz8eEafXnIeKsNvGL8M56Ia6vu89JDCjfJ22ORl65So4kRYtmTbwmqLjE223fe4mjcZqkrs-KT6j8z/pub?\\\n",
    "gid=0&single=true&output=csv\"\n",
    ")"
   ]
  },
  {
   "cell_type": "markdown",
   "id": "ecc85f6f-dc0e-4339-91ac-1d29ab383875",
   "metadata": {},
   "source": [
    "### Create an ID field from the URL"
   ]
  },
  {
   "cell_type": "code",
   "execution_count": 4,
   "id": "ea294de8-0b78-41ed-acce-d574b6de8c20",
   "metadata": {},
   "outputs": [],
   "source": [
    "src['id'] = src['url'].str.replace('https://www.tiktok.com/@jongraz/video/', \"\", regex=False).astype(str)"
   ]
  },
  {
   "cell_type": "markdown",
   "id": "535de659-8183-4dd1-b558-4cbca54711c7",
   "metadata": {},
   "source": [
    "### Make a list for subsetting the dataframe later"
   ]
  },
  {
   "cell_type": "code",
   "execution_count": 5,
   "id": "fc07322b-e17a-4ca7-a29a-3759e771d792",
   "metadata": {},
   "outputs": [],
   "source": [
    "bones_videos = src['id'].to_list()"
   ]
  },
  {
   "cell_type": "markdown",
   "id": "cd9fb57b-5f8c-4051-8a8b-2d121f7196ed",
   "metadata": {},
   "source": [
    "### Have to run this manually -- for now"
   ]
  },
  {
   "cell_type": "code",
   "execution_count": 6,
   "id": "84393bfc-29c4-48d7-8071-48c6ceef3f7f",
   "metadata": {},
   "outputs": [],
   "source": [
    "# Get cookie and run this..."
   ]
  },
  {
   "cell_type": "code",
   "execution_count": 7,
   "id": "1ba73836-6bbb-4472-a51f-5b7421fd0d38",
   "metadata": {},
   "outputs": [],
   "source": [
    "# !python '/Users/stiles/github/noodle-tracker/_workspace/grab_user_stats.py'"
   ]
  },
  {
   "cell_type": "markdown",
   "id": "945d138f-817a-4825-adce-7dc7abbd7ca0",
   "metadata": {},
   "source": [
    "---"
   ]
  },
  {
   "cell_type": "markdown",
   "id": "5a72552a-e920-4cb0-987b-d92ef5671659",
   "metadata": {},
   "source": [
    "### Read scraped stats data"
   ]
  },
  {
   "cell_type": "code",
   "execution_count": 8,
   "id": "e240ccee-9774-4eb9-a17b-b5cad9c8a0c9",
   "metadata": {},
   "outputs": [],
   "source": [
    "df = pd.read_csv('../../tiktok/jongraz_videos.csv', dtype={'video_id':str})"
   ]
  },
  {
   "cell_type": "markdown",
   "id": "5e6cc437-967e-4593-9685-c367bb25fdce",
   "metadata": {
    "tags": []
   },
   "source": [
    "### Clean update dates, times"
   ]
  },
  {
   "cell_type": "code",
   "execution_count": 9,
   "id": "adcd6831-f036-48db-943e-1d6f67cdff70",
   "metadata": {
    "tags": []
   },
   "outputs": [],
   "source": [
    "df['timestamp'] = pd.to_datetime(df['video_time'], unit='s')\n",
    "df['date'] = pd.to_datetime(df['video_time'], unit='s').dt.date\n",
    "df['month'] = pd.to_datetime(df['video_time'], unit='s').dt.month\n",
    "df['weekday'] = pd.to_datetime(df['video_time'], unit='s').dt.day_name()\n",
    "df['time'] = pd.to_datetime(df['video_time'], unit='s').dt.time\n",
    "df['weekstart_timestamp'] = pd.to_datetime(df['video_time'], unit='s') - pd.to_datetime(df['video_time'], unit='s').dt.weekday * np.timedelta64(1, 'D')\n",
    "df['weekstart'] = df['weekstart_timestamp'].dt.date\n",
    "df['updated_date'] = pd.to_datetime(\"today\")"
   ]
  },
  {
   "cell_type": "markdown",
   "id": "130bf743-4f82-4f17-b3e5-cdfc7f43a770",
   "metadata": {},
   "source": [
    "### How many videos? "
   ]
  },
  {
   "cell_type": "code",
   "execution_count": 10,
   "id": "950e460f-8b34-4320-aff7-647d488ee5a8",
   "metadata": {},
   "outputs": [
    {
     "data": {
      "text/plain": [
       "149"
      ]
     },
     "execution_count": 10,
     "metadata": {},
     "output_type": "execute_result"
    }
   ],
   "source": [
    "len(df)"
   ]
  },
  {
   "cell_type": "markdown",
   "id": "c2f0a6cb-e8f9-4bca-b73e-54af3d8e0ea4",
   "metadata": {},
   "source": [
    "### Select only \"bones\" videos from @jongraz's feed"
   ]
  },
  {
   "cell_type": "code",
   "execution_count": 11,
   "id": "585a7e90-f075-4389-9f6c-c5ce9d2d1c36",
   "metadata": {},
   "outputs": [],
   "source": [
    "bones_df = df[df['video_id'].isin(bones_videos)]"
   ]
  },
  {
   "cell_type": "markdown",
   "id": "79c71e01-73e4-4a1a-852d-0c941c4dec0e",
   "metadata": {},
   "source": [
    "### How many are Noodle videos? "
   ]
  },
  {
   "cell_type": "code",
   "execution_count": 12,
   "id": "7959e6f1-89ff-4372-bf29-f1e1077e322d",
   "metadata": {},
   "outputs": [
    {
     "data": {
      "text/plain": [
       "61"
      ]
     },
     "execution_count": 12,
     "metadata": {},
     "output_type": "execute_result"
    }
   ],
   "source": [
    "len(bones_df)"
   ]
  },
  {
   "cell_type": "code",
   "execution_count": 13,
   "id": "6554f7a9-1901-4bdd-a0d7-ceab7402cb3b",
   "metadata": {},
   "outputs": [
    {
     "data": {
      "text/html": [
       "<div>\n",
       "<style scoped>\n",
       "    .dataframe tbody tr th:only-of-type {\n",
       "        vertical-align: middle;\n",
       "    }\n",
       "\n",
       "    .dataframe tbody tr th {\n",
       "        vertical-align: top;\n",
       "    }\n",
       "\n",
       "    .dataframe thead th {\n",
       "        text-align: right;\n",
       "    }\n",
       "</style>\n",
       "<table border=\"1\" class=\"dataframe\">\n",
       "  <thead>\n",
       "    <tr style=\"text-align: right;\">\n",
       "      <th></th>\n",
       "      <th>user_name</th>\n",
       "      <th>user_id</th>\n",
       "      <th>video_id</th>\n",
       "      <th>video_desc</th>\n",
       "      <th>video_time</th>\n",
       "      <th>video_length</th>\n",
       "      <th>video_link</th>\n",
       "      <th>n_likes</th>\n",
       "      <th>n_shares</th>\n",
       "      <th>n_comments</th>\n",
       "      <th>n_plays</th>\n",
       "      <th>timestamp</th>\n",
       "      <th>date</th>\n",
       "      <th>month</th>\n",
       "      <th>weekday</th>\n",
       "      <th>time</th>\n",
       "      <th>weekstart_timestamp</th>\n",
       "      <th>weekstart</th>\n",
       "      <th>updated_date</th>\n",
       "    </tr>\n",
       "  </thead>\n",
       "  <tbody>\n",
       "    <tr>\n",
       "      <th>0</th>\n",
       "      <td>jongraz</td>\n",
       "      <td>6867588218972455941</td>\n",
       "      <td>7043061913114119429</td>\n",
       "      <td>may this set the tone for your weekend 🔮🦴🔮 also the auto captions on this one SLAYED me 😂 #bonesday #nobones #noodletok</td>\n",
       "      <td>1639840639</td>\n",
       "      <td>49</td>\n",
       "      <td>https://www.tiktok.com/@jongraz/video/7043061913114119429?lang=en</td>\n",
       "      <td>109100</td>\n",
       "      <td>4578</td>\n",
       "      <td>2108</td>\n",
       "      <td>373500</td>\n",
       "      <td>2021-12-18 15:17:19</td>\n",
       "      <td>2021-12-18</td>\n",
       "      <td>12</td>\n",
       "      <td>Saturday</td>\n",
       "      <td>15:17:19</td>\n",
       "      <td>2021-12-13 15:17:19</td>\n",
       "      <td>2021-12-13</td>\n",
       "      <td>2021-12-18 20:36:25.537821</td>\n",
       "    </tr>\n",
       "    <tr>\n",
       "      <th>1</th>\n",
       "      <td>jongraz</td>\n",
       "      <td>6867588218972455941</td>\n",
       "      <td>7042308571643514118</td>\n",
       "      <td>we are…all shocked!!! 🔮🦴🔮 #noodletok</td>\n",
       "      <td>1639665239</td>\n",
       "      <td>56</td>\n",
       "      <td>https://www.tiktok.com/@jongraz/video/7042308571643514118?lang=en</td>\n",
       "      <td>302300</td>\n",
       "      <td>19600</td>\n",
       "      <td>6894</td>\n",
       "      <td>1100000</td>\n",
       "      <td>2021-12-16 14:33:59</td>\n",
       "      <td>2021-12-16</td>\n",
       "      <td>12</td>\n",
       "      <td>Thursday</td>\n",
       "      <td>14:33:59</td>\n",
       "      <td>2021-12-13 14:33:59</td>\n",
       "      <td>2021-12-13</td>\n",
       "      <td>2021-12-18 20:36:25.537821</td>\n",
       "    </tr>\n",
       "    <tr>\n",
       "      <th>2</th>\n",
       "      <td>jongraz</td>\n",
       "      <td>6867588218972455941</td>\n",
       "      <td>7041944285268184325</td>\n",
       "      <td>once again, the Bones tell us what to do 🔮🦴🔮 #bonesday #nobones #noodletok #pug</td>\n",
       "      <td>1639580422</td>\n",
       "      <td>43</td>\n",
       "      <td>https://www.tiktok.com/@jongraz/video/7041944285268184325?lang=en</td>\n",
       "      <td>62800</td>\n",
       "      <td>3501</td>\n",
       "      <td>1808</td>\n",
       "      <td>318800</td>\n",
       "      <td>2021-12-15 15:00:22</td>\n",
       "      <td>2021-12-15</td>\n",
       "      <td>12</td>\n",
       "      <td>Wednesday</td>\n",
       "      <td>15:00:22</td>\n",
       "      <td>2021-12-13 15:00:22</td>\n",
       "      <td>2021-12-13</td>\n",
       "      <td>2021-12-18 20:36:25.537821</td>\n",
       "    </tr>\n",
       "    <tr>\n",
       "      <th>3</th>\n",
       "      <td>jongraz</td>\n",
       "      <td>6867588218972455941</td>\n",
       "      <td>7041221365935934725</td>\n",
       "      <td>the Bones have spoken and to the Bones we listen 🔮🦴🔮 #bonesday #nobones #noodletok</td>\n",
       "      <td>1639412104</td>\n",
       "      <td>45</td>\n",
       "      <td>https://www.tiktok.com/@jongraz/video/7041221365935934725?lang=en</td>\n",
       "      <td>128700</td>\n",
       "      <td>5377</td>\n",
       "      <td>2892</td>\n",
       "      <td>613700</td>\n",
       "      <td>2021-12-13 16:15:04</td>\n",
       "      <td>2021-12-13</td>\n",
       "      <td>12</td>\n",
       "      <td>Monday</td>\n",
       "      <td>16:15:04</td>\n",
       "      <td>2021-12-13 16:15:04</td>\n",
       "      <td>2021-12-13</td>\n",
       "      <td>2021-12-18 20:36:25.537821</td>\n",
       "    </tr>\n",
       "    <tr>\n",
       "      <th>4</th>\n",
       "      <td>jongraz</td>\n",
       "      <td>6867588218972455941</td>\n",
       "      <td>7040833887395712261</td>\n",
       "      <td>your Sunday reading 🔮🦴🔮</td>\n",
       "      <td>1639321887</td>\n",
       "      <td>43</td>\n",
       "      <td>https://www.tiktok.com/@jongraz/video/7040833887395712261?lang=en</td>\n",
       "      <td>140200</td>\n",
       "      <td>6089</td>\n",
       "      <td>2467</td>\n",
       "      <td>611500</td>\n",
       "      <td>2021-12-12 15:11:27</td>\n",
       "      <td>2021-12-12</td>\n",
       "      <td>12</td>\n",
       "      <td>Sunday</td>\n",
       "      <td>15:11:27</td>\n",
       "      <td>2021-12-06 15:11:27</td>\n",
       "      <td>2021-12-06</td>\n",
       "      <td>2021-12-18 20:36:25.537821</td>\n",
       "    </tr>\n",
       "  </tbody>\n",
       "</table>\n",
       "</div>"
      ],
      "text/plain": [
       "  user_name              user_id             video_id  \\\n",
       "0   jongraz  6867588218972455941  7043061913114119429   \n",
       "1   jongraz  6867588218972455941  7042308571643514118   \n",
       "2   jongraz  6867588218972455941  7041944285268184325   \n",
       "3   jongraz  6867588218972455941  7041221365935934725   \n",
       "4   jongraz  6867588218972455941  7040833887395712261   \n",
       "\n",
       "                                                                                                                video_desc  \\\n",
       "0  may this set the tone for your weekend 🔮🦴🔮 also the auto captions on this one SLAYED me 😂 #bonesday #nobones #noodletok   \n",
       "1                                                                                     we are…all shocked!!! 🔮🦴🔮 #noodletok   \n",
       "2                                          once again, the Bones tell us what to do 🔮🦴🔮 #bonesday #nobones #noodletok #pug   \n",
       "3                                       the Bones have spoken and to the Bones we listen 🔮🦴🔮 #bonesday #nobones #noodletok   \n",
       "4                                                                                                  your Sunday reading 🔮🦴🔮   \n",
       "\n",
       "   video_time  video_length  \\\n",
       "0  1639840639            49   \n",
       "1  1639665239            56   \n",
       "2  1639580422            43   \n",
       "3  1639412104            45   \n",
       "4  1639321887            43   \n",
       "\n",
       "                                                          video_link  n_likes  \\\n",
       "0  https://www.tiktok.com/@jongraz/video/7043061913114119429?lang=en   109100   \n",
       "1  https://www.tiktok.com/@jongraz/video/7042308571643514118?lang=en   302300   \n",
       "2  https://www.tiktok.com/@jongraz/video/7041944285268184325?lang=en    62800   \n",
       "3  https://www.tiktok.com/@jongraz/video/7041221365935934725?lang=en   128700   \n",
       "4  https://www.tiktok.com/@jongraz/video/7040833887395712261?lang=en   140200   \n",
       "\n",
       "   n_shares  n_comments  n_plays           timestamp        date  month  \\\n",
       "0      4578        2108   373500 2021-12-18 15:17:19  2021-12-18     12   \n",
       "1     19600        6894  1100000 2021-12-16 14:33:59  2021-12-16     12   \n",
       "2      3501        1808   318800 2021-12-15 15:00:22  2021-12-15     12   \n",
       "3      5377        2892   613700 2021-12-13 16:15:04  2021-12-13     12   \n",
       "4      6089        2467   611500 2021-12-12 15:11:27  2021-12-12     12   \n",
       "\n",
       "     weekday      time weekstart_timestamp   weekstart  \\\n",
       "0   Saturday  15:17:19 2021-12-13 15:17:19  2021-12-13   \n",
       "1   Thursday  14:33:59 2021-12-13 14:33:59  2021-12-13   \n",
       "2  Wednesday  15:00:22 2021-12-13 15:00:22  2021-12-13   \n",
       "3     Monday  16:15:04 2021-12-13 16:15:04  2021-12-13   \n",
       "4     Sunday  15:11:27 2021-12-06 15:11:27  2021-12-06   \n",
       "\n",
       "                updated_date  \n",
       "0 2021-12-18 20:36:25.537821  \n",
       "1 2021-12-18 20:36:25.537821  \n",
       "2 2021-12-18 20:36:25.537821  \n",
       "3 2021-12-18 20:36:25.537821  \n",
       "4 2021-12-18 20:36:25.537821  "
      ]
     },
     "execution_count": 13,
     "metadata": {},
     "output_type": "execute_result"
    }
   ],
   "source": [
    "bones_df.head()"
   ]
  },
  {
   "cell_type": "markdown",
   "id": "02f25c39-0692-41e5-afef-89b4a68a737d",
   "metadata": {},
   "source": [
    "---"
   ]
  },
  {
   "cell_type": "markdown",
   "id": "573ca0f3-b3f5-4969-a28d-bc4c1bc6a233",
   "metadata": {},
   "source": [
    "### Weekly plays"
   ]
  },
  {
   "cell_type": "code",
   "execution_count": 14,
   "id": "3b11f2fd-95fc-4397-beab-a670f34e1f5c",
   "metadata": {},
   "outputs": [
    {
     "data": {
      "text/plain": [
       "weekstart    object\n",
       "n_plays       int64\n",
       "dtype: object"
      ]
     },
     "execution_count": 14,
     "metadata": {},
     "output_type": "execute_result"
    }
   ],
   "source": [
    "weekly_plays = bones_df[bones_df['timestamp'] > '2021/07/31'].groupby(['weekstart']).agg({'n_plays':sum}).reset_index()\n",
    "weekly_plays.dtypes"
   ]
  },
  {
   "cell_type": "code",
   "execution_count": 15,
   "id": "b7360ee5-904c-4310-8218-12cbfc1cc6ea",
   "metadata": {},
   "outputs": [],
   "source": [
    "weekly_plays['weekstart'] = pd.to_datetime(weekly_plays['weekstart'])"
   ]
  },
  {
   "cell_type": "code",
   "execution_count": 16,
   "id": "cd405ba8-0681-4c82-9e44-245217b6daa0",
   "metadata": {},
   "outputs": [
    {
     "data": {
      "text/html": [
       "\n",
       "<div id=\"altair-viz-1358361bf43d45968930dede6fc809a1\"></div>\n",
       "<script type=\"text/javascript\">\n",
       "  (function(spec, embedOpt){\n",
       "    let outputDiv = document.currentScript.previousElementSibling;\n",
       "    if (outputDiv.id !== \"altair-viz-1358361bf43d45968930dede6fc809a1\") {\n",
       "      outputDiv = document.getElementById(\"altair-viz-1358361bf43d45968930dede6fc809a1\");\n",
       "    }\n",
       "    const paths = {\n",
       "      \"vega\": \"https://cdn.jsdelivr.net/npm//vega@5?noext\",\n",
       "      \"vega-lib\": \"https://cdn.jsdelivr.net/npm//vega-lib?noext\",\n",
       "      \"vega-lite\": \"https://cdn.jsdelivr.net/npm//vega-lite@4.8.1?noext\",\n",
       "      \"vega-embed\": \"https://cdn.jsdelivr.net/npm//vega-embed@6?noext\",\n",
       "    };\n",
       "\n",
       "    function loadScript(lib) {\n",
       "      return new Promise(function(resolve, reject) {\n",
       "        var s = document.createElement('script');\n",
       "        s.src = paths[lib];\n",
       "        s.async = true;\n",
       "        s.onload = () => resolve(paths[lib]);\n",
       "        s.onerror = () => reject(`Error loading script: ${paths[lib]}`);\n",
       "        document.getElementsByTagName(\"head\")[0].appendChild(s);\n",
       "      });\n",
       "    }\n",
       "\n",
       "    function showError(err) {\n",
       "      outputDiv.innerHTML = `<div class=\"error\" style=\"color:red;\">${err}</div>`;\n",
       "      throw err;\n",
       "    }\n",
       "\n",
       "    function displayChart(vegaEmbed) {\n",
       "      vegaEmbed(outputDiv, spec, embedOpt)\n",
       "        .catch(err => showError(`Javascript Error: ${err.message}<br>This usually means there's a typo in your chart specification. See the javascript console for the full traceback.`));\n",
       "    }\n",
       "\n",
       "    if(typeof define === \"function\" && define.amd) {\n",
       "      requirejs.config({paths});\n",
       "      require([\"vega-embed\"], displayChart, err => showError(`Error loading script: ${err.message}`));\n",
       "    } else if (typeof vegaEmbed === \"function\") {\n",
       "      displayChart(vegaEmbed);\n",
       "    } else {\n",
       "      loadScript(\"vega\")\n",
       "        .then(() => loadScript(\"vega-lite\"))\n",
       "        .then(() => loadScript(\"vega-embed\"))\n",
       "        .catch(showError)\n",
       "        .then(() => displayChart(vegaEmbed));\n",
       "    }\n",
       "  })({\"config\": {\"view\": {\"continuousWidth\": 400, \"continuousHeight\": 300}}, \"data\": {\"name\": \"data-4cca363e86db68b3d37a8087b3588e17\"}, \"mark\": {\"type\": \"bar\", \"width\": 30}, \"encoding\": {\"x\": {\"type\": \"temporal\", \"field\": \"weekstart\"}, \"y\": {\"type\": \"quantitative\", \"field\": \"n_plays\"}}, \"width\": 630, \"$schema\": \"https://vega.github.io/schema/vega-lite/v4.8.1.json\", \"datasets\": {\"data-4cca363e86db68b3d37a8087b3588e17\": [{\"weekstart\": \"2021-08-09T00:00:00\", \"n_plays\": 2300000}, {\"weekstart\": \"2021-08-16T00:00:00\", \"n_plays\": 897900}, {\"weekstart\": \"2021-08-30T00:00:00\", \"n_plays\": 475300}, {\"weekstart\": \"2021-09-13T00:00:00\", \"n_plays\": 970100}, {\"weekstart\": \"2021-09-20T00:00:00\", \"n_plays\": 3800000}, {\"weekstart\": \"2021-09-27T00:00:00\", \"n_plays\": 13500000}, {\"weekstart\": \"2021-10-04T00:00:00\", \"n_plays\": 26300000}, {\"weekstart\": \"2021-10-11T00:00:00\", \"n_plays\": 36700000}, {\"weekstart\": \"2021-10-18T00:00:00\", \"n_plays\": 58200000}, {\"weekstart\": \"2021-10-25T00:00:00\", \"n_plays\": 28800000}, {\"weekstart\": \"2021-11-01T00:00:00\", \"n_plays\": 21800000}, {\"weekstart\": \"2021-11-08T00:00:00\", \"n_plays\": 9700000}, {\"weekstart\": \"2021-11-15T00:00:00\", \"n_plays\": 8127000}, {\"weekstart\": \"2021-11-22T00:00:00\", \"n_plays\": 9112200}, {\"weekstart\": \"2021-11-29T00:00:00\", \"n_plays\": 5560000}, {\"weekstart\": \"2021-12-06T00:00:00\", \"n_plays\": 4535600}, {\"weekstart\": \"2021-12-13T00:00:00\", \"n_plays\": 2406000}]}}, {\"mode\": \"vega-lite\"});\n",
       "</script>"
      ],
      "text/plain": [
       "alt.Chart(...)"
      ]
     },
     "execution_count": 16,
     "metadata": {},
     "output_type": "execute_result"
    }
   ],
   "source": [
    "alt.Chart(weekly_plays).mark_bar(width=30).encode(\n",
    "    x='weekstart:T',\n",
    "    y='n_plays'\n",
    ").properties(width=630)"
   ]
  },
  {
   "cell_type": "markdown",
   "id": "53f04585-ab1d-4c9b-b8d7-2b6b8deec113",
   "metadata": {},
   "source": [
    "---"
   ]
  },
  {
   "cell_type": "markdown",
   "id": "45246b49-344e-499b-8e17-bc7d4defd07a",
   "metadata": {},
   "source": [
    "### Weekly likes"
   ]
  },
  {
   "cell_type": "code",
   "execution_count": 17,
   "id": "8969ae3f-0e7b-456e-a266-e362217ed95f",
   "metadata": {},
   "outputs": [
    {
     "data": {
      "text/plain": [
       "weekstart    object\n",
       "n_likes       int64\n",
       "dtype: object"
      ]
     },
     "execution_count": 17,
     "metadata": {},
     "output_type": "execute_result"
    }
   ],
   "source": [
    "weekly_likes = bones_df[bones_df['timestamp'] > '2021/07/31'].groupby(['weekstart']).agg({'n_likes':sum}).reset_index()\n",
    "weekly_likes.dtypes"
   ]
  },
  {
   "cell_type": "code",
   "execution_count": 18,
   "id": "9b5372b6-3380-4b29-ac8c-a3a0d7eb03d0",
   "metadata": {},
   "outputs": [],
   "source": [
    "weekly_likes['weekstart'] = pd.to_datetime(weekly_likes['weekstart'])"
   ]
  },
  {
   "cell_type": "code",
   "execution_count": 19,
   "id": "1f4c690d-b69f-4a81-b22a-566af63a2ce0",
   "metadata": {},
   "outputs": [
    {
     "data": {
      "text/html": [
       "\n",
       "<div id=\"altair-viz-d0098f0652374820a591d2410cfc786b\"></div>\n",
       "<script type=\"text/javascript\">\n",
       "  (function(spec, embedOpt){\n",
       "    let outputDiv = document.currentScript.previousElementSibling;\n",
       "    if (outputDiv.id !== \"altair-viz-d0098f0652374820a591d2410cfc786b\") {\n",
       "      outputDiv = document.getElementById(\"altair-viz-d0098f0652374820a591d2410cfc786b\");\n",
       "    }\n",
       "    const paths = {\n",
       "      \"vega\": \"https://cdn.jsdelivr.net/npm//vega@5?noext\",\n",
       "      \"vega-lib\": \"https://cdn.jsdelivr.net/npm//vega-lib?noext\",\n",
       "      \"vega-lite\": \"https://cdn.jsdelivr.net/npm//vega-lite@4.8.1?noext\",\n",
       "      \"vega-embed\": \"https://cdn.jsdelivr.net/npm//vega-embed@6?noext\",\n",
       "    };\n",
       "\n",
       "    function loadScript(lib) {\n",
       "      return new Promise(function(resolve, reject) {\n",
       "        var s = document.createElement('script');\n",
       "        s.src = paths[lib];\n",
       "        s.async = true;\n",
       "        s.onload = () => resolve(paths[lib]);\n",
       "        s.onerror = () => reject(`Error loading script: ${paths[lib]}`);\n",
       "        document.getElementsByTagName(\"head\")[0].appendChild(s);\n",
       "      });\n",
       "    }\n",
       "\n",
       "    function showError(err) {\n",
       "      outputDiv.innerHTML = `<div class=\"error\" style=\"color:red;\">${err}</div>`;\n",
       "      throw err;\n",
       "    }\n",
       "\n",
       "    function displayChart(vegaEmbed) {\n",
       "      vegaEmbed(outputDiv, spec, embedOpt)\n",
       "        .catch(err => showError(`Javascript Error: ${err.message}<br>This usually means there's a typo in your chart specification. See the javascript console for the full traceback.`));\n",
       "    }\n",
       "\n",
       "    if(typeof define === \"function\" && define.amd) {\n",
       "      requirejs.config({paths});\n",
       "      require([\"vega-embed\"], displayChart, err => showError(`Error loading script: ${err.message}`));\n",
       "    } else if (typeof vegaEmbed === \"function\") {\n",
       "      displayChart(vegaEmbed);\n",
       "    } else {\n",
       "      loadScript(\"vega\")\n",
       "        .then(() => loadScript(\"vega-lite\"))\n",
       "        .then(() => loadScript(\"vega-embed\"))\n",
       "        .catch(showError)\n",
       "        .then(() => displayChart(vegaEmbed));\n",
       "    }\n",
       "  })({\"config\": {\"view\": {\"continuousWidth\": 400, \"continuousHeight\": 300}}, \"data\": {\"name\": \"data-5c6db32b9a05b936b4274dd95e3cd2e1\"}, \"mark\": {\"type\": \"bar\", \"width\": 30}, \"encoding\": {\"x\": {\"type\": \"temporal\", \"field\": \"weekstart\"}, \"y\": {\"type\": \"quantitative\", \"field\": \"n_likes\"}}, \"width\": 630, \"$schema\": \"https://vega.github.io/schema/vega-lite/v4.8.1.json\", \"datasets\": {\"data-5c6db32b9a05b936b4274dd95e3cd2e1\": [{\"weekstart\": \"2021-08-09T00:00:00\", \"n_likes\": 435700}, {\"weekstart\": \"2021-08-16T00:00:00\", \"n_likes\": 171300}, {\"weekstart\": \"2021-08-30T00:00:00\", \"n_likes\": 78300}, {\"weekstart\": \"2021-09-13T00:00:00\", \"n_likes\": 171200}, {\"weekstart\": \"2021-09-20T00:00:00\", \"n_likes\": 698100}, {\"weekstart\": \"2021-09-27T00:00:00\", \"n_likes\": 3017300}, {\"weekstart\": \"2021-10-04T00:00:00\", \"n_likes\": 5911600}, {\"weekstart\": \"2021-10-11T00:00:00\", \"n_likes\": 6349800}, {\"weekstart\": \"2021-10-18T00:00:00\", \"n_likes\": 11567000}, {\"weekstart\": \"2021-10-25T00:00:00\", \"n_likes\": 6500000}, {\"weekstart\": \"2021-11-01T00:00:00\", \"n_likes\": 4593900}, {\"weekstart\": \"2021-11-08T00:00:00\", \"n_likes\": 1936800}, {\"weekstart\": \"2021-11-15T00:00:00\", \"n_likes\": 1492100}, {\"weekstart\": \"2021-11-22T00:00:00\", \"n_likes\": 1700300}, {\"weekstart\": \"2021-11-29T00:00:00\", \"n_likes\": 1084600}, {\"weekstart\": \"2021-12-06T00:00:00\", \"n_likes\": 973000}, {\"weekstart\": \"2021-12-13T00:00:00\", \"n_likes\": 602900}]}}, {\"mode\": \"vega-lite\"});\n",
       "</script>"
      ],
      "text/plain": [
       "alt.Chart(...)"
      ]
     },
     "execution_count": 19,
     "metadata": {},
     "output_type": "execute_result"
    }
   ],
   "source": [
    "alt.Chart(weekly_likes).mark_bar(width=30).encode(\n",
    "    x='weekstart:T',\n",
    "    y='n_likes'\n",
    ").properties(width=630)"
   ]
  },
  {
   "cell_type": "markdown",
   "id": "d80263a4-7eac-4303-86cc-16659da7b31d",
   "metadata": {},
   "source": [
    "---"
   ]
  },
  {
   "cell_type": "markdown",
   "id": "8544af0b-d7a4-4568-87e7-984d7adea827",
   "metadata": {},
   "source": [
    "### Weekly comments"
   ]
  },
  {
   "cell_type": "code",
   "execution_count": 20,
   "id": "7c986d83-0a19-435d-94cc-95bacecc6213",
   "metadata": {},
   "outputs": [
    {
     "data": {
      "text/plain": [
       "weekstart     object\n",
       "n_comments     int64\n",
       "dtype: object"
      ]
     },
     "execution_count": 20,
     "metadata": {},
     "output_type": "execute_result"
    }
   ],
   "source": [
    "weekly_comments = bones_df[bones_df['timestamp'] > '2021/07/31'].groupby(['weekstart']).agg({'n_comments':sum}).reset_index()\n",
    "weekly_comments.dtypes"
   ]
  },
  {
   "cell_type": "code",
   "execution_count": 21,
   "id": "a6fd0172-9118-48a9-82a5-228bd3fc307d",
   "metadata": {},
   "outputs": [],
   "source": [
    "weekly_comments['weekstart'] = pd.to_datetime(weekly_comments['weekstart'])"
   ]
  },
  {
   "cell_type": "code",
   "execution_count": 22,
   "id": "18107134-f507-46b0-9996-265eb13fe24e",
   "metadata": {},
   "outputs": [
    {
     "data": {
      "text/html": [
       "\n",
       "<div id=\"altair-viz-acb7c155597b4bd8bdbd75fa5be4c6be\"></div>\n",
       "<script type=\"text/javascript\">\n",
       "  (function(spec, embedOpt){\n",
       "    let outputDiv = document.currentScript.previousElementSibling;\n",
       "    if (outputDiv.id !== \"altair-viz-acb7c155597b4bd8bdbd75fa5be4c6be\") {\n",
       "      outputDiv = document.getElementById(\"altair-viz-acb7c155597b4bd8bdbd75fa5be4c6be\");\n",
       "    }\n",
       "    const paths = {\n",
       "      \"vega\": \"https://cdn.jsdelivr.net/npm//vega@5?noext\",\n",
       "      \"vega-lib\": \"https://cdn.jsdelivr.net/npm//vega-lib?noext\",\n",
       "      \"vega-lite\": \"https://cdn.jsdelivr.net/npm//vega-lite@4.8.1?noext\",\n",
       "      \"vega-embed\": \"https://cdn.jsdelivr.net/npm//vega-embed@6?noext\",\n",
       "    };\n",
       "\n",
       "    function loadScript(lib) {\n",
       "      return new Promise(function(resolve, reject) {\n",
       "        var s = document.createElement('script');\n",
       "        s.src = paths[lib];\n",
       "        s.async = true;\n",
       "        s.onload = () => resolve(paths[lib]);\n",
       "        s.onerror = () => reject(`Error loading script: ${paths[lib]}`);\n",
       "        document.getElementsByTagName(\"head\")[0].appendChild(s);\n",
       "      });\n",
       "    }\n",
       "\n",
       "    function showError(err) {\n",
       "      outputDiv.innerHTML = `<div class=\"error\" style=\"color:red;\">${err}</div>`;\n",
       "      throw err;\n",
       "    }\n",
       "\n",
       "    function displayChart(vegaEmbed) {\n",
       "      vegaEmbed(outputDiv, spec, embedOpt)\n",
       "        .catch(err => showError(`Javascript Error: ${err.message}<br>This usually means there's a typo in your chart specification. See the javascript console for the full traceback.`));\n",
       "    }\n",
       "\n",
       "    if(typeof define === \"function\" && define.amd) {\n",
       "      requirejs.config({paths});\n",
       "      require([\"vega-embed\"], displayChart, err => showError(`Error loading script: ${err.message}`));\n",
       "    } else if (typeof vegaEmbed === \"function\") {\n",
       "      displayChart(vegaEmbed);\n",
       "    } else {\n",
       "      loadScript(\"vega\")\n",
       "        .then(() => loadScript(\"vega-lite\"))\n",
       "        .then(() => loadScript(\"vega-embed\"))\n",
       "        .catch(showError)\n",
       "        .then(() => displayChart(vegaEmbed));\n",
       "    }\n",
       "  })({\"config\": {\"view\": {\"continuousWidth\": 400, \"continuousHeight\": 300}}, \"data\": {\"name\": \"data-4574093cd5332899ade00b396347f18d\"}, \"mark\": {\"type\": \"bar\", \"width\": 30}, \"encoding\": {\"x\": {\"type\": \"temporal\", \"field\": \"weekstart\"}, \"y\": {\"type\": \"quantitative\", \"field\": \"n_comments\"}}, \"width\": 630, \"$schema\": \"https://vega.github.io/schema/vega-lite/v4.8.1.json\", \"datasets\": {\"data-4574093cd5332899ade00b396347f18d\": [{\"weekstart\": \"2021-08-09T00:00:00\", \"n_comments\": 1445}, {\"weekstart\": \"2021-08-16T00:00:00\", \"n_comments\": 541}, {\"weekstart\": \"2021-08-30T00:00:00\", \"n_comments\": 289}, {\"weekstart\": \"2021-09-13T00:00:00\", \"n_comments\": 929}, {\"weekstart\": \"2021-09-20T00:00:00\", \"n_comments\": 2972}, {\"weekstart\": \"2021-09-27T00:00:00\", \"n_comments\": 10615}, {\"weekstart\": \"2021-10-04T00:00:00\", \"n_comments\": 26482}, {\"weekstart\": \"2021-10-11T00:00:00\", \"n_comments\": 79628}, {\"weekstart\": \"2021-10-18T00:00:00\", \"n_comments\": 158581}, {\"weekstart\": \"2021-10-25T00:00:00\", \"n_comments\": 83300}, {\"weekstart\": \"2021-11-01T00:00:00\", \"n_comments\": 63064}, {\"weekstart\": \"2021-11-08T00:00:00\", \"n_comments\": 37674}, {\"weekstart\": \"2021-11-15T00:00:00\", \"n_comments\": 19963}, {\"weekstart\": \"2021-11-22T00:00:00\", \"n_comments\": 16199}, {\"weekstart\": \"2021-11-29T00:00:00\", \"n_comments\": 14529}, {\"weekstart\": \"2021-12-06T00:00:00\", \"n_comments\": 18580}, {\"weekstart\": \"2021-12-13T00:00:00\", \"n_comments\": 13702}]}}, {\"mode\": \"vega-lite\"});\n",
       "</script>"
      ],
      "text/plain": [
       "alt.Chart(...)"
      ]
     },
     "execution_count": 22,
     "metadata": {},
     "output_type": "execute_result"
    }
   ],
   "source": [
    "alt.Chart(weekly_comments).mark_bar(width=30).encode(\n",
    "    x='weekstart:T',\n",
    "    y='n_comments'\n",
    ").properties(width=630)"
   ]
  },
  {
   "cell_type": "markdown",
   "id": "c15f216c-47d6-4dfb-b2b6-f054ca00a7dd",
   "metadata": {},
   "source": [
    "---"
   ]
  },
  {
   "cell_type": "markdown",
   "id": "80fe2c68-abf8-4b23-8fe5-01b03a23cf10",
   "metadata": {},
   "source": [
    "### Exports"
   ]
  },
  {
   "cell_type": "code",
   "execution_count": 23,
   "id": "7815f7c8-235d-4101-ae83-ce7bfa1a9b92",
   "metadata": {},
   "outputs": [],
   "source": [
    "weekly_plays.to_csv(\"../_data/weekly_plays.csv\", index=False)\n",
    "weekly_plays.to_csv(\"../assets/data/weekly_plays.csv\", index=False)"
   ]
  },
  {
   "cell_type": "code",
   "execution_count": 24,
   "id": "1a48dc5d-a9f9-47dc-a40e-781c168a75be",
   "metadata": {},
   "outputs": [],
   "source": [
    "weekly_likes.to_csv(\"../_data/weekly_likes.csv\", index=False)\n",
    "weekly_likes.to_csv(\"../assets/data/weekly_likes.csv\", index=False)"
   ]
  },
  {
   "cell_type": "code",
   "execution_count": 25,
   "id": "a55f5295-caf5-4280-a942-2c97539cbbb3",
   "metadata": {},
   "outputs": [],
   "source": [
    "weekly_comments.to_csv(\"../_data/weekly_comments.csv\", index=False)\n",
    "weekly_comments.to_csv(\"../assets/data/weekly_comments.csv\", index=False)"
   ]
  }
 ],
 "metadata": {
  "kernelspec": {
   "display_name": "Python 3",
   "language": "python",
   "name": "python3"
  },
  "language_info": {
   "codemirror_mode": {
    "name": "ipython",
    "version": 3
   },
   "file_extension": ".py",
   "mimetype": "text/x-python",
   "name": "python",
   "nbconvert_exporter": "python",
   "pygments_lexer": "ipython3",
   "version": "3.8.8"
  }
 },
 "nbformat": 4,
 "nbformat_minor": 5
}
