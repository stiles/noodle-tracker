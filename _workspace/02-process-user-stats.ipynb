{
 "cells": [
  {
   "cell_type": "markdown",
   "id": "c2c2b77a-1037-4a68-86b9-bd6803dd7425",
   "metadata": {},
   "source": [
    "# Process @jongraz tiktok stats for Noodle videos"
   ]
  },
  {
   "cell_type": "code",
   "execution_count": 1,
   "id": "2a9d8cd5-482c-4b56-9b21-22c61bc85ad9",
   "metadata": {},
   "outputs": [],
   "source": [
    "import pandas as pd\n",
    "import numpy as np\n",
    "import altair as alt"
   ]
  },
  {
   "cell_type": "code",
   "execution_count": 2,
   "id": "89748428-2c94-43f8-8d97-7a086a86ef40",
   "metadata": {},
   "outputs": [],
   "source": [
    "pd.options.display.max_columns = 100\n",
    "pd.options.display.max_rows = 1000\n",
    "pd.options.display.max_colwidth = None"
   ]
  },
  {
   "cell_type": "markdown",
   "id": "4c8b9c34-bb37-41f2-87d8-2157db416c92",
   "metadata": {},
   "source": [
    "### Read in our hand collected list of Noodle videos"
   ]
  },
  {
   "cell_type": "code",
   "execution_count": 3,
   "id": "8296b5fa-0c6d-4a2a-b6fc-dafc46934220",
   "metadata": {},
   "outputs": [],
   "source": [
    "src = pd.read_csv(\n",
    "    \"https://docs.google.com/spreadsheets/d/e/2PACX-1vQz8eEafXnIeKsNvGL8M56Ia6vu89JDCjfJ22ORl65So4kRYtmTbwmqLjE223fe4mjcZqkrs-KT6j8z/pub?\\\n",
    "gid=0&single=true&output=csv\"\n",
    ")"
   ]
  },
  {
   "cell_type": "markdown",
   "id": "ecc85f6f-dc0e-4339-91ac-1d29ab383875",
   "metadata": {},
   "source": [
    "### Create an ID field from the URL"
   ]
  },
  {
   "cell_type": "code",
   "execution_count": 4,
   "id": "ea294de8-0b78-41ed-acce-d574b6de8c20",
   "metadata": {},
   "outputs": [],
   "source": [
    "src['id'] = src['url'].str.replace('https://www.tiktok.com/@jongraz/video/', \"\", regex=False).astype(str)"
   ]
  },
  {
   "cell_type": "markdown",
   "id": "535de659-8183-4dd1-b558-4cbca54711c7",
   "metadata": {},
   "source": [
    "### Make a list for subsetting the dataframe later"
   ]
  },
  {
   "cell_type": "code",
   "execution_count": 5,
   "id": "fc07322b-e17a-4ca7-a29a-3759e771d792",
   "metadata": {},
   "outputs": [],
   "source": [
    "bones_videos = src['id'].to_list()"
   ]
  },
  {
   "cell_type": "markdown",
   "id": "cd9fb57b-5f8c-4051-8a8b-2d121f7196ed",
   "metadata": {},
   "source": [
    "### Have to run this manually -- for now"
   ]
  },
  {
   "cell_type": "code",
   "execution_count": 6,
   "id": "84393bfc-29c4-48d7-8071-48c6ceef3f7f",
   "metadata": {},
   "outputs": [],
   "source": [
    "# Get cookie and run this..."
   ]
  },
  {
   "cell_type": "code",
   "execution_count": 7,
   "id": "1ba73836-6bbb-4472-a51f-5b7421fd0d38",
   "metadata": {},
   "outputs": [],
   "source": [
    "# !python '/Users/stiles/github/noodle-tracker/_workspace/grab_user_stats.py'"
   ]
  },
  {
   "cell_type": "markdown",
   "id": "945d138f-817a-4825-adce-7dc7abbd7ca0",
   "metadata": {},
   "source": [
    "---"
   ]
  },
  {
   "cell_type": "markdown",
   "id": "5a72552a-e920-4cb0-987b-d92ef5671659",
   "metadata": {},
   "source": [
    "### Read scraped stats data"
   ]
  },
  {
   "cell_type": "code",
   "execution_count": 8,
   "id": "e240ccee-9774-4eb9-a17b-b5cad9c8a0c9",
   "metadata": {},
   "outputs": [],
   "source": [
    "df = pd.read_csv('data/processed/jongraz_videos.csv', dtype={'video_id':str})"
   ]
  },
  {
   "cell_type": "markdown",
   "id": "5e6cc437-967e-4593-9685-c367bb25fdce",
   "metadata": {
    "tags": []
   },
   "source": [
    "### Clean update dates, times"
   ]
  },
  {
   "cell_type": "code",
   "execution_count": 9,
   "id": "adcd6831-f036-48db-943e-1d6f67cdff70",
   "metadata": {
    "tags": []
   },
   "outputs": [],
   "source": [
    "df['timestamp'] = pd.to_datetime(df['video_time'], unit='s')\n",
    "df['date'] = pd.to_datetime(df['video_time'], unit='s').dt.date\n",
    "df['month'] = pd.to_datetime(df['video_time'], unit='s').dt.month\n",
    "df['weekday'] = pd.to_datetime(df['video_time'], unit='s').dt.day_name()\n",
    "df['time'] = pd.to_datetime(df['video_time'], unit='s').dt.time\n",
    "df['weekstart_timestamp'] = pd.to_datetime(df['video_time'], unit='s') - pd.to_datetime(df['video_time'], unit='s').dt.weekday * np.timedelta64(1, 'D')\n",
    "df['weekstart'] = df['weekstart_timestamp'].dt.date\n",
    "df['updated_date'] = pd.to_datetime(\"today\")"
   ]
  },
  {
   "cell_type": "markdown",
   "id": "130bf743-4f82-4f17-b3e5-cdfc7f43a770",
   "metadata": {},
   "source": [
    "### How many videos? "
   ]
  },
  {
   "cell_type": "code",
   "execution_count": 10,
   "id": "950e460f-8b34-4320-aff7-647d488ee5a8",
   "metadata": {},
   "outputs": [
    {
     "data": {
      "text/plain": [
       "167"
      ]
     },
     "execution_count": 10,
     "metadata": {},
     "output_type": "execute_result"
    }
   ],
   "source": [
    "len(df)"
   ]
  },
  {
   "cell_type": "markdown",
   "id": "c2f0a6cb-e8f9-4bca-b73e-54af3d8e0ea4",
   "metadata": {},
   "source": [
    "### Select only \"bones\" videos from @jongraz's feed"
   ]
  },
  {
   "cell_type": "code",
   "execution_count": 11,
   "id": "585a7e90-f075-4389-9f6c-c5ce9d2d1c36",
   "metadata": {},
   "outputs": [],
   "source": [
    "bones_df = df[df['video_id'].isin(bones_videos)]"
   ]
  },
  {
   "cell_type": "markdown",
   "id": "79c71e01-73e4-4a1a-852d-0c941c4dec0e",
   "metadata": {},
   "source": [
    "### How many are Noodle videos? "
   ]
  },
  {
   "cell_type": "code",
   "execution_count": 12,
   "id": "7959e6f1-89ff-4372-bf29-f1e1077e322d",
   "metadata": {},
   "outputs": [
    {
     "data": {
      "text/plain": [
       "70"
      ]
     },
     "execution_count": 12,
     "metadata": {},
     "output_type": "execute_result"
    }
   ],
   "source": [
    "len(bones_df)"
   ]
  },
  {
   "cell_type": "code",
   "execution_count": 13,
   "id": "6554f7a9-1901-4bdd-a0d7-ceab7402cb3b",
   "metadata": {},
   "outputs": [
    {
     "data": {
      "text/html": [
       "<div>\n",
       "<style scoped>\n",
       "    .dataframe tbody tr th:only-of-type {\n",
       "        vertical-align: middle;\n",
       "    }\n",
       "\n",
       "    .dataframe tbody tr th {\n",
       "        vertical-align: top;\n",
       "    }\n",
       "\n",
       "    .dataframe thead th {\n",
       "        text-align: right;\n",
       "    }\n",
       "</style>\n",
       "<table border=\"1\" class=\"dataframe\">\n",
       "  <thead>\n",
       "    <tr style=\"text-align: right;\">\n",
       "      <th></th>\n",
       "      <th>user_name</th>\n",
       "      <th>video_id</th>\n",
       "      <th>video_desc</th>\n",
       "      <th>video_time</th>\n",
       "      <th>video_duration</th>\n",
       "      <th>n_shares</th>\n",
       "      <th>n_likes</th>\n",
       "      <th>n_comments</th>\n",
       "      <th>n_plays</th>\n",
       "      <th>video_link</th>\n",
       "      <th>timestamp</th>\n",
       "      <th>date</th>\n",
       "      <th>month</th>\n",
       "      <th>weekday</th>\n",
       "      <th>time</th>\n",
       "      <th>weekstart_timestamp</th>\n",
       "      <th>weekstart</th>\n",
       "      <th>updated_date</th>\n",
       "    </tr>\n",
       "  </thead>\n",
       "  <tbody>\n",
       "    <tr>\n",
       "      <th>0</th>\n",
       "      <td>jongraz</td>\n",
       "      <td>7053837902991658287</td>\n",
       "      <td>his message today is…CLEAR 🦴🔮🦴</td>\n",
       "      <td>1642349620</td>\n",
       "      <td>59</td>\n",
       "      <td>2131</td>\n",
       "      <td>46300</td>\n",
       "      <td>1150</td>\n",
       "      <td>181900</td>\n",
       "      <td>https://www.tiktok.com/@jongraz/video/7053837902991658287?lang=en</td>\n",
       "      <td>2022-01-16 16:13:40</td>\n",
       "      <td>2022-01-16</td>\n",
       "      <td>1</td>\n",
       "      <td>Sunday</td>\n",
       "      <td>16:13:40</td>\n",
       "      <td>2022-01-10 16:13:40</td>\n",
       "      <td>2022-01-10</td>\n",
       "      <td>2022-01-16 12:01:20.864408</td>\n",
       "    </tr>\n",
       "    <tr>\n",
       "      <th>5</th>\n",
       "      <td>jongraz</td>\n",
       "      <td>7052341674634235183</td>\n",
       "      <td>your midweek reading! have a great day everyone! 🔮🦴🔮</td>\n",
       "      <td>1642001259</td>\n",
       "      <td>50</td>\n",
       "      <td>2669</td>\n",
       "      <td>66300</td>\n",
       "      <td>1280</td>\n",
       "      <td>318700</td>\n",
       "      <td>https://www.tiktok.com/@jongraz/video/7052341674634235183?lang=en</td>\n",
       "      <td>2022-01-12 15:27:39</td>\n",
       "      <td>2022-01-12</td>\n",
       "      <td>1</td>\n",
       "      <td>Wednesday</td>\n",
       "      <td>15:27:39</td>\n",
       "      <td>2022-01-10 15:27:39</td>\n",
       "      <td>2022-01-10</td>\n",
       "      <td>2022-01-16 12:01:20.864408</td>\n",
       "    </tr>\n",
       "    <tr>\n",
       "      <th>7</th>\n",
       "      <td>jongraz</td>\n",
       "      <td>7051972968347503919</td>\n",
       "      <td>plz plan/adjust your day accordingly #bones #nobones #noodletok</td>\n",
       "      <td>1641915407</td>\n",
       "      <td>58</td>\n",
       "      <td>3384</td>\n",
       "      <td>87900</td>\n",
       "      <td>2574</td>\n",
       "      <td>364800</td>\n",
       "      <td>https://www.tiktok.com/@jongraz/video/7051972968347503919?lang=en</td>\n",
       "      <td>2022-01-11 15:36:47</td>\n",
       "      <td>2022-01-11</td>\n",
       "      <td>1</td>\n",
       "      <td>Tuesday</td>\n",
       "      <td>15:36:47</td>\n",
       "      <td>2022-01-10 15:36:47</td>\n",
       "      <td>2022-01-10</td>\n",
       "      <td>2022-01-16 12:01:20.864408</td>\n",
       "    </tr>\n",
       "    <tr>\n",
       "      <th>10</th>\n",
       "      <td>jongraz</td>\n",
       "      <td>7050491114775842095</td>\n",
       "      <td>we must HEED THE BONES!! 🔮🦴🔮</td>\n",
       "      <td>1641570386</td>\n",
       "      <td>45</td>\n",
       "      <td>4242</td>\n",
       "      <td>100000</td>\n",
       "      <td>1714</td>\n",
       "      <td>464400</td>\n",
       "      <td>https://www.tiktok.com/@jongraz/video/7050491114775842095?lang=en</td>\n",
       "      <td>2022-01-07 15:46:26</td>\n",
       "      <td>2022-01-07</td>\n",
       "      <td>1</td>\n",
       "      <td>Friday</td>\n",
       "      <td>15:46:26</td>\n",
       "      <td>2022-01-03 15:46:26</td>\n",
       "      <td>2022-01-03</td>\n",
       "      <td>2022-01-16 12:01:20.864408</td>\n",
       "    </tr>\n",
       "    <tr>\n",
       "      <th>12</th>\n",
       "      <td>jongraz</td>\n",
       "      <td>7048998918729764102</td>\n",
       "      <td>noodle is…is he all of us today? I think he may be #noodletok #mondaymotivation</td>\n",
       "      <td>1641222956</td>\n",
       "      <td>46</td>\n",
       "      <td>5578</td>\n",
       "      <td>144700</td>\n",
       "      <td>1923</td>\n",
       "      <td>650200</td>\n",
       "      <td>https://www.tiktok.com/@jongraz/video/7048998918729764102?lang=en</td>\n",
       "      <td>2022-01-03 15:15:56</td>\n",
       "      <td>2022-01-03</td>\n",
       "      <td>1</td>\n",
       "      <td>Monday</td>\n",
       "      <td>15:15:56</td>\n",
       "      <td>2022-01-03 15:15:56</td>\n",
       "      <td>2022-01-03</td>\n",
       "      <td>2022-01-16 12:01:20.864408</td>\n",
       "    </tr>\n",
       "  </tbody>\n",
       "</table>\n",
       "</div>"
      ],
      "text/plain": [
       "   user_name             video_id  \\\n",
       "0    jongraz  7053837902991658287   \n",
       "5    jongraz  7052341674634235183   \n",
       "7    jongraz  7051972968347503919   \n",
       "10   jongraz  7050491114775842095   \n",
       "12   jongraz  7048998918729764102   \n",
       "\n",
       "                                                                         video_desc  \\\n",
       "0                                                    his message today is…CLEAR 🦴🔮🦴   \n",
       "5                              your midweek reading! have a great day everyone! 🔮🦴🔮   \n",
       "7                   plz plan/adjust your day accordingly #bones #nobones #noodletok   \n",
       "10                                                     we must HEED THE BONES!! 🔮🦴🔮   \n",
       "12  noodle is…is he all of us today? I think he may be #noodletok #mondaymotivation   \n",
       "\n",
       "    video_time  video_duration  n_shares  n_likes  n_comments  n_plays  \\\n",
       "0   1642349620              59      2131    46300        1150   181900   \n",
       "5   1642001259              50      2669    66300        1280   318700   \n",
       "7   1641915407              58      3384    87900        2574   364800   \n",
       "10  1641570386              45      4242   100000        1714   464400   \n",
       "12  1641222956              46      5578   144700        1923   650200   \n",
       "\n",
       "                                                           video_link  \\\n",
       "0   https://www.tiktok.com/@jongraz/video/7053837902991658287?lang=en   \n",
       "5   https://www.tiktok.com/@jongraz/video/7052341674634235183?lang=en   \n",
       "7   https://www.tiktok.com/@jongraz/video/7051972968347503919?lang=en   \n",
       "10  https://www.tiktok.com/@jongraz/video/7050491114775842095?lang=en   \n",
       "12  https://www.tiktok.com/@jongraz/video/7048998918729764102?lang=en   \n",
       "\n",
       "             timestamp        date  month    weekday      time  \\\n",
       "0  2022-01-16 16:13:40  2022-01-16      1     Sunday  16:13:40   \n",
       "5  2022-01-12 15:27:39  2022-01-12      1  Wednesday  15:27:39   \n",
       "7  2022-01-11 15:36:47  2022-01-11      1    Tuesday  15:36:47   \n",
       "10 2022-01-07 15:46:26  2022-01-07      1     Friday  15:46:26   \n",
       "12 2022-01-03 15:15:56  2022-01-03      1     Monday  15:15:56   \n",
       "\n",
       "   weekstart_timestamp   weekstart               updated_date  \n",
       "0  2022-01-10 16:13:40  2022-01-10 2022-01-16 12:01:20.864408  \n",
       "5  2022-01-10 15:27:39  2022-01-10 2022-01-16 12:01:20.864408  \n",
       "7  2022-01-10 15:36:47  2022-01-10 2022-01-16 12:01:20.864408  \n",
       "10 2022-01-03 15:46:26  2022-01-03 2022-01-16 12:01:20.864408  \n",
       "12 2022-01-03 15:15:56  2022-01-03 2022-01-16 12:01:20.864408  "
      ]
     },
     "execution_count": 13,
     "metadata": {},
     "output_type": "execute_result"
    }
   ],
   "source": [
    "bones_df.head()"
   ]
  },
  {
   "cell_type": "markdown",
   "id": "a76b123c-6345-4f2f-8de3-a669df6615ee",
   "metadata": {},
   "source": [
    "---"
   ]
  },
  {
   "cell_type": "markdown",
   "id": "eea85d54-28c2-47da-bcfd-f65982b2a735",
   "metadata": {},
   "source": [
    "### Download cover art"
   ]
  },
  {
   "cell_type": "code",
   "execution_count": 14,
   "id": "32ff37b7-38cc-48fc-8982-8cdccd6c32d2",
   "metadata": {},
   "outputs": [],
   "source": [
    "# for v,u in zip(bones_df['video_cover'], bones_df['video_id']):\n",
    "#     !wget {v} -O ../assets/images/noodle_covers/{u}"
   ]
  },
  {
   "cell_type": "code",
   "execution_count": null,
   "id": "ec96154f-3f67-4212-9da2-dccb5f0d46a4",
   "metadata": {},
   "outputs": [],
   "source": []
  },
  {
   "cell_type": "code",
   "execution_count": null,
   "id": "8d1e160a-de58-49ac-ac48-3195950a9554",
   "metadata": {},
   "outputs": [],
   "source": []
  },
  {
   "cell_type": "markdown",
   "id": "02f25c39-0692-41e5-afef-89b4a68a737d",
   "metadata": {},
   "source": [
    "---"
   ]
  },
  {
   "cell_type": "markdown",
   "id": "573ca0f3-b3f5-4969-a28d-bc4c1bc6a233",
   "metadata": {},
   "source": [
    "### Weekly plays"
   ]
  },
  {
   "cell_type": "code",
   "execution_count": 15,
   "id": "3b11f2fd-95fc-4397-beab-a670f34e1f5c",
   "metadata": {},
   "outputs": [
    {
     "data": {
      "text/plain": [
       "weekstart    object\n",
       "n_plays       int64\n",
       "dtype: object"
      ]
     },
     "execution_count": 15,
     "metadata": {},
     "output_type": "execute_result"
    }
   ],
   "source": [
    "weekly_plays = bones_df[bones_df['timestamp'] > '2021/07/31'].groupby(['weekstart']).agg({'n_plays':sum}).reset_index()\n",
    "weekly_plays.dtypes"
   ]
  },
  {
   "cell_type": "code",
   "execution_count": 16,
   "id": "b7360ee5-904c-4310-8218-12cbfc1cc6ea",
   "metadata": {},
   "outputs": [],
   "source": [
    "weekly_plays['weekstart'] = pd.to_datetime(weekly_plays['weekstart'])"
   ]
  },
  {
   "cell_type": "code",
   "execution_count": 17,
   "id": "cd405ba8-0681-4c82-9e44-245217b6daa0",
   "metadata": {},
   "outputs": [
    {
     "data": {
      "text/html": [
       "\n",
       "<div id=\"altair-viz-7bbd856e0cf847af988302a12ee94086\"></div>\n",
       "<script type=\"text/javascript\">\n",
       "  var VEGA_DEBUG = (typeof VEGA_DEBUG == \"undefined\") ? {} : VEGA_DEBUG;\n",
       "  (function(spec, embedOpt){\n",
       "    let outputDiv = document.currentScript.previousElementSibling;\n",
       "    if (outputDiv.id !== \"altair-viz-7bbd856e0cf847af988302a12ee94086\") {\n",
       "      outputDiv = document.getElementById(\"altair-viz-7bbd856e0cf847af988302a12ee94086\");\n",
       "    }\n",
       "    const paths = {\n",
       "      \"vega\": \"https://cdn.jsdelivr.net/npm//vega@5?noext\",\n",
       "      \"vega-lib\": \"https://cdn.jsdelivr.net/npm//vega-lib?noext\",\n",
       "      \"vega-lite\": \"https://cdn.jsdelivr.net/npm//vega-lite@4.17.0?noext\",\n",
       "      \"vega-embed\": \"https://cdn.jsdelivr.net/npm//vega-embed@6?noext\",\n",
       "    };\n",
       "\n",
       "    function maybeLoadScript(lib, version) {\n",
       "      var key = `${lib.replace(\"-\", \"\")}_version`;\n",
       "      return (VEGA_DEBUG[key] == version) ?\n",
       "        Promise.resolve(paths[lib]) :\n",
       "        new Promise(function(resolve, reject) {\n",
       "          var s = document.createElement('script');\n",
       "          document.getElementsByTagName(\"head\")[0].appendChild(s);\n",
       "          s.async = true;\n",
       "          s.onload = () => {\n",
       "            VEGA_DEBUG[key] = version;\n",
       "            return resolve(paths[lib]);\n",
       "          };\n",
       "          s.onerror = () => reject(`Error loading script: ${paths[lib]}`);\n",
       "          s.src = paths[lib];\n",
       "        });\n",
       "    }\n",
       "\n",
       "    function showError(err) {\n",
       "      outputDiv.innerHTML = `<div class=\"error\" style=\"color:red;\">${err}</div>`;\n",
       "      throw err;\n",
       "    }\n",
       "\n",
       "    function displayChart(vegaEmbed) {\n",
       "      vegaEmbed(outputDiv, spec, embedOpt)\n",
       "        .catch(err => showError(`Javascript Error: ${err.message}<br>This usually means there's a typo in your chart specification. See the javascript console for the full traceback.`));\n",
       "    }\n",
       "\n",
       "    if(typeof define === \"function\" && define.amd) {\n",
       "      requirejs.config({paths});\n",
       "      require([\"vega-embed\"], displayChart, err => showError(`Error loading script: ${err.message}`));\n",
       "    } else {\n",
       "      maybeLoadScript(\"vega\", \"5\")\n",
       "        .then(() => maybeLoadScript(\"vega-lite\", \"4.17.0\"))\n",
       "        .then(() => maybeLoadScript(\"vega-embed\", \"6\"))\n",
       "        .catch(showError)\n",
       "        .then(() => displayChart(vegaEmbed));\n",
       "    }\n",
       "  })({\"config\": {\"view\": {\"continuousWidth\": 400, \"continuousHeight\": 300}}, \"data\": {\"name\": \"data-e09559fe73217ed51e0a8c02143d1561\"}, \"mark\": {\"type\": \"bar\", \"width\": 20}, \"encoding\": {\"x\": {\"field\": \"weekstart\", \"type\": \"temporal\"}, \"y\": {\"field\": \"n_plays\", \"type\": \"quantitative\"}}, \"width\": 630, \"$schema\": \"https://vega.github.io/schema/vega-lite/v4.17.0.json\", \"datasets\": {\"data-e09559fe73217ed51e0a8c02143d1561\": [{\"weekstart\": \"2021-08-09T00:00:00\", \"n_plays\": 2300000}, {\"weekstart\": \"2021-08-16T00:00:00\", \"n_plays\": 900300}, {\"weekstart\": \"2021-08-30T00:00:00\", \"n_plays\": 477600}, {\"weekstart\": \"2021-09-13T00:00:00\", \"n_plays\": 973000}, {\"weekstart\": \"2021-09-20T00:00:00\", \"n_plays\": 3800000}, {\"weekstart\": \"2021-09-27T00:00:00\", \"n_plays\": 4300000}, {\"weekstart\": \"2021-10-04T00:00:00\", \"n_plays\": 26400000}, {\"weekstart\": \"2021-10-11T00:00:00\", \"n_plays\": 36800000}, {\"weekstart\": \"2021-10-18T00:00:00\", \"n_plays\": 58500000}, {\"weekstart\": \"2021-10-25T00:00:00\", \"n_plays\": 23600000}, {\"weekstart\": \"2021-11-01T00:00:00\", \"n_plays\": 17900000}, {\"weekstart\": \"2021-11-08T00:00:00\", \"n_plays\": 9700000}, {\"weekstart\": \"2021-11-15T00:00:00\", \"n_plays\": 8133500}, {\"weekstart\": \"2021-11-22T00:00:00\", \"n_plays\": 9232000}, {\"weekstart\": \"2021-11-29T00:00:00\", \"n_plays\": 5814800}, {\"weekstart\": \"2021-12-06T00:00:00\", \"n_plays\": 5314500}, {\"weekstart\": \"2021-12-13T00:00:00\", \"n_plays\": 3034800}, {\"weekstart\": \"2021-12-20T00:00:00\", \"n_plays\": 3862700}, {\"weekstart\": \"2021-12-27T00:00:00\", \"n_plays\": 2051000}, {\"weekstart\": \"2022-01-03T00:00:00\", \"n_plays\": 1114600}, {\"weekstart\": \"2022-01-10T00:00:00\", \"n_plays\": 865400}]}}, {\"mode\": \"vega-lite\"});\n",
       "</script>"
      ],
      "text/plain": [
       "alt.Chart(...)"
      ]
     },
     "execution_count": 17,
     "metadata": {},
     "output_type": "execute_result"
    }
   ],
   "source": [
    "alt.Chart(weekly_plays).mark_bar(width=20).encode(\n",
    "    x='weekstart:T',\n",
    "    y='n_plays'\n",
    ").properties(width=630)"
   ]
  },
  {
   "cell_type": "markdown",
   "id": "53f04585-ab1d-4c9b-b8d7-2b6b8deec113",
   "metadata": {},
   "source": [
    "---"
   ]
  },
  {
   "cell_type": "markdown",
   "id": "45246b49-344e-499b-8e17-bc7d4defd07a",
   "metadata": {},
   "source": [
    "### Weekly likes"
   ]
  },
  {
   "cell_type": "code",
   "execution_count": 18,
   "id": "dcff3517-46d0-4f86-bacc-dd98efeeb852",
   "metadata": {},
   "outputs": [
    {
     "data": {
      "text/html": [
       "<div>\n",
       "<style scoped>\n",
       "    .dataframe tbody tr th:only-of-type {\n",
       "        vertical-align: middle;\n",
       "    }\n",
       "\n",
       "    .dataframe tbody tr th {\n",
       "        vertical-align: top;\n",
       "    }\n",
       "\n",
       "    .dataframe thead th {\n",
       "        text-align: right;\n",
       "    }\n",
       "</style>\n",
       "<table border=\"1\" class=\"dataframe\">\n",
       "  <thead>\n",
       "    <tr style=\"text-align: right;\">\n",
       "      <th></th>\n",
       "      <th>user_name</th>\n",
       "      <th>video_id</th>\n",
       "      <th>video_desc</th>\n",
       "      <th>video_time</th>\n",
       "      <th>video_duration</th>\n",
       "      <th>n_shares</th>\n",
       "      <th>n_likes</th>\n",
       "      <th>n_comments</th>\n",
       "      <th>n_plays</th>\n",
       "      <th>video_link</th>\n",
       "      <th>timestamp</th>\n",
       "      <th>date</th>\n",
       "      <th>month</th>\n",
       "      <th>weekday</th>\n",
       "      <th>time</th>\n",
       "      <th>weekstart_timestamp</th>\n",
       "      <th>weekstart</th>\n",
       "      <th>updated_date</th>\n",
       "    </tr>\n",
       "  </thead>\n",
       "  <tbody>\n",
       "    <tr>\n",
       "      <th>0</th>\n",
       "      <td>jongraz</td>\n",
       "      <td>7053837902991658287</td>\n",
       "      <td>his message today is…CLEAR 🦴🔮🦴</td>\n",
       "      <td>1642349620</td>\n",
       "      <td>59</td>\n",
       "      <td>2131</td>\n",
       "      <td>46300</td>\n",
       "      <td>1150</td>\n",
       "      <td>181900</td>\n",
       "      <td>https://www.tiktok.com/@jongraz/video/7053837902991658287?lang=en</td>\n",
       "      <td>2022-01-16 16:13:40</td>\n",
       "      <td>2022-01-16</td>\n",
       "      <td>1</td>\n",
       "      <td>Sunday</td>\n",
       "      <td>16:13:40</td>\n",
       "      <td>2022-01-10 16:13:40</td>\n",
       "      <td>2022-01-10</td>\n",
       "      <td>2022-01-16 12:01:20.864408</td>\n",
       "    </tr>\n",
       "    <tr>\n",
       "      <th>5</th>\n",
       "      <td>jongraz</td>\n",
       "      <td>7052341674634235183</td>\n",
       "      <td>your midweek reading! have a great day everyone! 🔮🦴🔮</td>\n",
       "      <td>1642001259</td>\n",
       "      <td>50</td>\n",
       "      <td>2669</td>\n",
       "      <td>66300</td>\n",
       "      <td>1280</td>\n",
       "      <td>318700</td>\n",
       "      <td>https://www.tiktok.com/@jongraz/video/7052341674634235183?lang=en</td>\n",
       "      <td>2022-01-12 15:27:39</td>\n",
       "      <td>2022-01-12</td>\n",
       "      <td>1</td>\n",
       "      <td>Wednesday</td>\n",
       "      <td>15:27:39</td>\n",
       "      <td>2022-01-10 15:27:39</td>\n",
       "      <td>2022-01-10</td>\n",
       "      <td>2022-01-16 12:01:20.864408</td>\n",
       "    </tr>\n",
       "    <tr>\n",
       "      <th>7</th>\n",
       "      <td>jongraz</td>\n",
       "      <td>7051972968347503919</td>\n",
       "      <td>plz plan/adjust your day accordingly #bones #nobones #noodletok</td>\n",
       "      <td>1641915407</td>\n",
       "      <td>58</td>\n",
       "      <td>3384</td>\n",
       "      <td>87900</td>\n",
       "      <td>2574</td>\n",
       "      <td>364800</td>\n",
       "      <td>https://www.tiktok.com/@jongraz/video/7051972968347503919?lang=en</td>\n",
       "      <td>2022-01-11 15:36:47</td>\n",
       "      <td>2022-01-11</td>\n",
       "      <td>1</td>\n",
       "      <td>Tuesday</td>\n",
       "      <td>15:36:47</td>\n",
       "      <td>2022-01-10 15:36:47</td>\n",
       "      <td>2022-01-10</td>\n",
       "      <td>2022-01-16 12:01:20.864408</td>\n",
       "    </tr>\n",
       "    <tr>\n",
       "      <th>10</th>\n",
       "      <td>jongraz</td>\n",
       "      <td>7050491114775842095</td>\n",
       "      <td>we must HEED THE BONES!! 🔮🦴🔮</td>\n",
       "      <td>1641570386</td>\n",
       "      <td>45</td>\n",
       "      <td>4242</td>\n",
       "      <td>100000</td>\n",
       "      <td>1714</td>\n",
       "      <td>464400</td>\n",
       "      <td>https://www.tiktok.com/@jongraz/video/7050491114775842095?lang=en</td>\n",
       "      <td>2022-01-07 15:46:26</td>\n",
       "      <td>2022-01-07</td>\n",
       "      <td>1</td>\n",
       "      <td>Friday</td>\n",
       "      <td>15:46:26</td>\n",
       "      <td>2022-01-03 15:46:26</td>\n",
       "      <td>2022-01-03</td>\n",
       "      <td>2022-01-16 12:01:20.864408</td>\n",
       "    </tr>\n",
       "    <tr>\n",
       "      <th>12</th>\n",
       "      <td>jongraz</td>\n",
       "      <td>7048998918729764102</td>\n",
       "      <td>noodle is…is he all of us today? I think he may be #noodletok #mondaymotivation</td>\n",
       "      <td>1641222956</td>\n",
       "      <td>46</td>\n",
       "      <td>5578</td>\n",
       "      <td>144700</td>\n",
       "      <td>1923</td>\n",
       "      <td>650200</td>\n",
       "      <td>https://www.tiktok.com/@jongraz/video/7048998918729764102?lang=en</td>\n",
       "      <td>2022-01-03 15:15:56</td>\n",
       "      <td>2022-01-03</td>\n",
       "      <td>1</td>\n",
       "      <td>Monday</td>\n",
       "      <td>15:15:56</td>\n",
       "      <td>2022-01-03 15:15:56</td>\n",
       "      <td>2022-01-03</td>\n",
       "      <td>2022-01-16 12:01:20.864408</td>\n",
       "    </tr>\n",
       "  </tbody>\n",
       "</table>\n",
       "</div>"
      ],
      "text/plain": [
       "   user_name             video_id  \\\n",
       "0    jongraz  7053837902991658287   \n",
       "5    jongraz  7052341674634235183   \n",
       "7    jongraz  7051972968347503919   \n",
       "10   jongraz  7050491114775842095   \n",
       "12   jongraz  7048998918729764102   \n",
       "\n",
       "                                                                         video_desc  \\\n",
       "0                                                    his message today is…CLEAR 🦴🔮🦴   \n",
       "5                              your midweek reading! have a great day everyone! 🔮🦴🔮   \n",
       "7                   plz plan/adjust your day accordingly #bones #nobones #noodletok   \n",
       "10                                                     we must HEED THE BONES!! 🔮🦴🔮   \n",
       "12  noodle is…is he all of us today? I think he may be #noodletok #mondaymotivation   \n",
       "\n",
       "    video_time  video_duration  n_shares  n_likes  n_comments  n_plays  \\\n",
       "0   1642349620              59      2131    46300        1150   181900   \n",
       "5   1642001259              50      2669    66300        1280   318700   \n",
       "7   1641915407              58      3384    87900        2574   364800   \n",
       "10  1641570386              45      4242   100000        1714   464400   \n",
       "12  1641222956              46      5578   144700        1923   650200   \n",
       "\n",
       "                                                           video_link  \\\n",
       "0   https://www.tiktok.com/@jongraz/video/7053837902991658287?lang=en   \n",
       "5   https://www.tiktok.com/@jongraz/video/7052341674634235183?lang=en   \n",
       "7   https://www.tiktok.com/@jongraz/video/7051972968347503919?lang=en   \n",
       "10  https://www.tiktok.com/@jongraz/video/7050491114775842095?lang=en   \n",
       "12  https://www.tiktok.com/@jongraz/video/7048998918729764102?lang=en   \n",
       "\n",
       "             timestamp        date  month    weekday      time  \\\n",
       "0  2022-01-16 16:13:40  2022-01-16      1     Sunday  16:13:40   \n",
       "5  2022-01-12 15:27:39  2022-01-12      1  Wednesday  15:27:39   \n",
       "7  2022-01-11 15:36:47  2022-01-11      1    Tuesday  15:36:47   \n",
       "10 2022-01-07 15:46:26  2022-01-07      1     Friday  15:46:26   \n",
       "12 2022-01-03 15:15:56  2022-01-03      1     Monday  15:15:56   \n",
       "\n",
       "   weekstart_timestamp   weekstart               updated_date  \n",
       "0  2022-01-10 16:13:40  2022-01-10 2022-01-16 12:01:20.864408  \n",
       "5  2022-01-10 15:27:39  2022-01-10 2022-01-16 12:01:20.864408  \n",
       "7  2022-01-10 15:36:47  2022-01-10 2022-01-16 12:01:20.864408  \n",
       "10 2022-01-03 15:46:26  2022-01-03 2022-01-16 12:01:20.864408  \n",
       "12 2022-01-03 15:15:56  2022-01-03 2022-01-16 12:01:20.864408  "
      ]
     },
     "execution_count": 18,
     "metadata": {},
     "output_type": "execute_result"
    }
   ],
   "source": [
    "bones_df.head()"
   ]
  },
  {
   "cell_type": "code",
   "execution_count": 19,
   "id": "8377105d-d7ce-430b-b67c-426375f612d8",
   "metadata": {},
   "outputs": [
    {
     "data": {
      "text/plain": [
       "weekstart    object\n",
       "n_likes       int64\n",
       "dtype: object"
      ]
     },
     "execution_count": 19,
     "metadata": {},
     "output_type": "execute_result"
    }
   ],
   "source": [
    "weekly_likes = bones_df[bones_df['timestamp'] > '2021/07/31'].groupby(['weekstart']).agg({'n_likes':sum}).reset_index()\n",
    "weekly_likes.dtypes"
   ]
  },
  {
   "cell_type": "code",
   "execution_count": 20,
   "id": "9b5372b6-3380-4b29-ac8c-a3a0d7eb03d0",
   "metadata": {},
   "outputs": [],
   "source": [
    "weekly_likes['weekstart'] = pd.to_datetime(weekly_likes['weekstart'])"
   ]
  },
  {
   "cell_type": "code",
   "execution_count": 21,
   "id": "1f4c690d-b69f-4a81-b22a-566af63a2ce0",
   "metadata": {},
   "outputs": [
    {
     "data": {
      "text/html": [
       "\n",
       "<div id=\"altair-viz-d57d4beccd0844a1a8ec112d46cd6d1b\"></div>\n",
       "<script type=\"text/javascript\">\n",
       "  var VEGA_DEBUG = (typeof VEGA_DEBUG == \"undefined\") ? {} : VEGA_DEBUG;\n",
       "  (function(spec, embedOpt){\n",
       "    let outputDiv = document.currentScript.previousElementSibling;\n",
       "    if (outputDiv.id !== \"altair-viz-d57d4beccd0844a1a8ec112d46cd6d1b\") {\n",
       "      outputDiv = document.getElementById(\"altair-viz-d57d4beccd0844a1a8ec112d46cd6d1b\");\n",
       "    }\n",
       "    const paths = {\n",
       "      \"vega\": \"https://cdn.jsdelivr.net/npm//vega@5?noext\",\n",
       "      \"vega-lib\": \"https://cdn.jsdelivr.net/npm//vega-lib?noext\",\n",
       "      \"vega-lite\": \"https://cdn.jsdelivr.net/npm//vega-lite@4.17.0?noext\",\n",
       "      \"vega-embed\": \"https://cdn.jsdelivr.net/npm//vega-embed@6?noext\",\n",
       "    };\n",
       "\n",
       "    function maybeLoadScript(lib, version) {\n",
       "      var key = `${lib.replace(\"-\", \"\")}_version`;\n",
       "      return (VEGA_DEBUG[key] == version) ?\n",
       "        Promise.resolve(paths[lib]) :\n",
       "        new Promise(function(resolve, reject) {\n",
       "          var s = document.createElement('script');\n",
       "          document.getElementsByTagName(\"head\")[0].appendChild(s);\n",
       "          s.async = true;\n",
       "          s.onload = () => {\n",
       "            VEGA_DEBUG[key] = version;\n",
       "            return resolve(paths[lib]);\n",
       "          };\n",
       "          s.onerror = () => reject(`Error loading script: ${paths[lib]}`);\n",
       "          s.src = paths[lib];\n",
       "        });\n",
       "    }\n",
       "\n",
       "    function showError(err) {\n",
       "      outputDiv.innerHTML = `<div class=\"error\" style=\"color:red;\">${err}</div>`;\n",
       "      throw err;\n",
       "    }\n",
       "\n",
       "    function displayChart(vegaEmbed) {\n",
       "      vegaEmbed(outputDiv, spec, embedOpt)\n",
       "        .catch(err => showError(`Javascript Error: ${err.message}<br>This usually means there's a typo in your chart specification. See the javascript console for the full traceback.`));\n",
       "    }\n",
       "\n",
       "    if(typeof define === \"function\" && define.amd) {\n",
       "      requirejs.config({paths});\n",
       "      require([\"vega-embed\"], displayChart, err => showError(`Error loading script: ${err.message}`));\n",
       "    } else {\n",
       "      maybeLoadScript(\"vega\", \"5\")\n",
       "        .then(() => maybeLoadScript(\"vega-lite\", \"4.17.0\"))\n",
       "        .then(() => maybeLoadScript(\"vega-embed\", \"6\"))\n",
       "        .catch(showError)\n",
       "        .then(() => displayChart(vegaEmbed));\n",
       "    }\n",
       "  })({\"config\": {\"view\": {\"continuousWidth\": 400, \"continuousHeight\": 300}}, \"data\": {\"name\": \"data-b02c378085f39194872c89cfcf0b05e7\"}, \"mark\": {\"type\": \"bar\", \"width\": 20}, \"encoding\": {\"x\": {\"field\": \"weekstart\", \"type\": \"temporal\"}, \"y\": {\"field\": \"n_likes\", \"type\": \"quantitative\"}}, \"width\": 630, \"$schema\": \"https://vega.github.io/schema/vega-lite/v4.17.0.json\", \"datasets\": {\"data-b02c378085f39194872c89cfcf0b05e7\": [{\"weekstart\": \"2021-08-09T00:00:00\", \"n_likes\": 436100}, {\"weekstart\": \"2021-08-16T00:00:00\", \"n_likes\": 171500}, {\"weekstart\": \"2021-08-30T00:00:00\", \"n_likes\": 78400}, {\"weekstart\": \"2021-09-13T00:00:00\", \"n_likes\": 171300}, {\"weekstart\": \"2021-09-20T00:00:00\", \"n_likes\": 698200}, {\"weekstart\": \"2021-09-27T00:00:00\", \"n_likes\": 817600}, {\"weekstart\": \"2021-10-04T00:00:00\", \"n_likes\": 5911700}, {\"weekstart\": \"2021-10-11T00:00:00\", \"n_likes\": 6350200}, {\"weekstart\": \"2021-10-18T00:00:00\", \"n_likes\": 11567400}, {\"weekstart\": \"2021-10-25T00:00:00\", \"n_likes\": 5000000}, {\"weekstart\": \"2021-11-01T00:00:00\", \"n_likes\": 3726700}, {\"weekstart\": \"2021-11-08T00:00:00\", \"n_likes\": 1937200}, {\"weekstart\": \"2021-11-15T00:00:00\", \"n_likes\": 1492900}, {\"weekstart\": \"2021-11-22T00:00:00\", \"n_likes\": 1702500}, {\"weekstart\": \"2021-11-29T00:00:00\", \"n_likes\": 1089500}, {\"weekstart\": \"2021-12-06T00:00:00\", \"n_likes\": 1005100}, {\"weekstart\": \"2021-12-13T00:00:00\", \"n_likes\": 655800}, {\"weekstart\": \"2021-12-20T00:00:00\", \"n_likes\": 847000}, {\"weekstart\": \"2021-12-27T00:00:00\", \"n_likes\": 473300}, {\"weekstart\": \"2022-01-03T00:00:00\", \"n_likes\": 244700}, {\"weekstart\": \"2022-01-10T00:00:00\", \"n_likes\": 200500}]}}, {\"mode\": \"vega-lite\"});\n",
       "</script>"
      ],
      "text/plain": [
       "alt.Chart(...)"
      ]
     },
     "execution_count": 21,
     "metadata": {},
     "output_type": "execute_result"
    }
   ],
   "source": [
    "alt.Chart(weekly_likes).mark_bar(width=20).encode(\n",
    "    x='weekstart:T',\n",
    "    y='n_likes'\n",
    ").properties(width=630)"
   ]
  },
  {
   "cell_type": "markdown",
   "id": "d80263a4-7eac-4303-86cc-16659da7b31d",
   "metadata": {},
   "source": [
    "---"
   ]
  },
  {
   "cell_type": "markdown",
   "id": "8544af0b-d7a4-4568-87e7-984d7adea827",
   "metadata": {},
   "source": [
    "### Weekly comments"
   ]
  },
  {
   "cell_type": "code",
   "execution_count": 22,
   "id": "7c986d83-0a19-435d-94cc-95bacecc6213",
   "metadata": {},
   "outputs": [
    {
     "data": {
      "text/plain": [
       "weekstart     object\n",
       "n_comments     int64\n",
       "dtype: object"
      ]
     },
     "execution_count": 22,
     "metadata": {},
     "output_type": "execute_result"
    }
   ],
   "source": [
    "weekly_comments = bones_df[bones_df['timestamp'] > '2021/07/31'].groupby(['weekstart']).agg({'n_comments':sum}).reset_index()\n",
    "weekly_comments.dtypes"
   ]
  },
  {
   "cell_type": "code",
   "execution_count": 23,
   "id": "a6fd0172-9118-48a9-82a5-228bd3fc307d",
   "metadata": {},
   "outputs": [],
   "source": [
    "weekly_comments['weekstart'] = pd.to_datetime(weekly_comments['weekstart'])"
   ]
  },
  {
   "cell_type": "code",
   "execution_count": 24,
   "id": "18107134-f507-46b0-9996-265eb13fe24e",
   "metadata": {},
   "outputs": [
    {
     "data": {
      "text/html": [
       "\n",
       "<div id=\"altair-viz-5fbd0dbaae9d47c38aca15494af63280\"></div>\n",
       "<script type=\"text/javascript\">\n",
       "  var VEGA_DEBUG = (typeof VEGA_DEBUG == \"undefined\") ? {} : VEGA_DEBUG;\n",
       "  (function(spec, embedOpt){\n",
       "    let outputDiv = document.currentScript.previousElementSibling;\n",
       "    if (outputDiv.id !== \"altair-viz-5fbd0dbaae9d47c38aca15494af63280\") {\n",
       "      outputDiv = document.getElementById(\"altair-viz-5fbd0dbaae9d47c38aca15494af63280\");\n",
       "    }\n",
       "    const paths = {\n",
       "      \"vega\": \"https://cdn.jsdelivr.net/npm//vega@5?noext\",\n",
       "      \"vega-lib\": \"https://cdn.jsdelivr.net/npm//vega-lib?noext\",\n",
       "      \"vega-lite\": \"https://cdn.jsdelivr.net/npm//vega-lite@4.17.0?noext\",\n",
       "      \"vega-embed\": \"https://cdn.jsdelivr.net/npm//vega-embed@6?noext\",\n",
       "    };\n",
       "\n",
       "    function maybeLoadScript(lib, version) {\n",
       "      var key = `${lib.replace(\"-\", \"\")}_version`;\n",
       "      return (VEGA_DEBUG[key] == version) ?\n",
       "        Promise.resolve(paths[lib]) :\n",
       "        new Promise(function(resolve, reject) {\n",
       "          var s = document.createElement('script');\n",
       "          document.getElementsByTagName(\"head\")[0].appendChild(s);\n",
       "          s.async = true;\n",
       "          s.onload = () => {\n",
       "            VEGA_DEBUG[key] = version;\n",
       "            return resolve(paths[lib]);\n",
       "          };\n",
       "          s.onerror = () => reject(`Error loading script: ${paths[lib]}`);\n",
       "          s.src = paths[lib];\n",
       "        });\n",
       "    }\n",
       "\n",
       "    function showError(err) {\n",
       "      outputDiv.innerHTML = `<div class=\"error\" style=\"color:red;\">${err}</div>`;\n",
       "      throw err;\n",
       "    }\n",
       "\n",
       "    function displayChart(vegaEmbed) {\n",
       "      vegaEmbed(outputDiv, spec, embedOpt)\n",
       "        .catch(err => showError(`Javascript Error: ${err.message}<br>This usually means there's a typo in your chart specification. See the javascript console for the full traceback.`));\n",
       "    }\n",
       "\n",
       "    if(typeof define === \"function\" && define.amd) {\n",
       "      requirejs.config({paths});\n",
       "      require([\"vega-embed\"], displayChart, err => showError(`Error loading script: ${err.message}`));\n",
       "    } else {\n",
       "      maybeLoadScript(\"vega\", \"5\")\n",
       "        .then(() => maybeLoadScript(\"vega-lite\", \"4.17.0\"))\n",
       "        .then(() => maybeLoadScript(\"vega-embed\", \"6\"))\n",
       "        .catch(showError)\n",
       "        .then(() => displayChart(vegaEmbed));\n",
       "    }\n",
       "  })({\"config\": {\"view\": {\"continuousWidth\": 400, \"continuousHeight\": 300}}, \"data\": {\"name\": \"data-0b0847a2d8ba4ca9b5d55b741a172f10\"}, \"mark\": {\"type\": \"bar\", \"width\": 20}, \"encoding\": {\"x\": {\"field\": \"weekstart\", \"type\": \"temporal\"}, \"y\": {\"field\": \"n_comments\", \"type\": \"quantitative\"}}, \"width\": 630, \"$schema\": \"https://vega.github.io/schema/vega-lite/v4.17.0.json\", \"datasets\": {\"data-0b0847a2d8ba4ca9b5d55b741a172f10\": [{\"weekstart\": \"2021-08-09T00:00:00\", \"n_comments\": 1445}, {\"weekstart\": \"2021-08-16T00:00:00\", \"n_comments\": 534}, {\"weekstart\": \"2021-08-30T00:00:00\", \"n_comments\": 289}, {\"weekstart\": \"2021-09-13T00:00:00\", \"n_comments\": 930}, {\"weekstart\": \"2021-09-20T00:00:00\", \"n_comments\": 2970}, {\"weekstart\": \"2021-09-27T00:00:00\", \"n_comments\": 2953}, {\"weekstart\": \"2021-10-04T00:00:00\", \"n_comments\": 26452}, {\"weekstart\": \"2021-10-11T00:00:00\", \"n_comments\": 79555}, {\"weekstart\": \"2021-10-18T00:00:00\", \"n_comments\": 158048}, {\"weekstart\": \"2021-10-25T00:00:00\", \"n_comments\": 68300}, {\"weekstart\": \"2021-11-01T00:00:00\", \"n_comments\": 50796}, {\"weekstart\": \"2021-11-08T00:00:00\", \"n_comments\": 37494}, {\"weekstart\": \"2021-11-15T00:00:00\", \"n_comments\": 19907}, {\"weekstart\": \"2021-11-22T00:00:00\", \"n_comments\": 16132}, {\"weekstart\": \"2021-11-29T00:00:00\", \"n_comments\": 14485}, {\"weekstart\": \"2021-12-06T00:00:00\", \"n_comments\": 18629}, {\"weekstart\": \"2021-12-13T00:00:00\", \"n_comments\": 14165}, {\"weekstart\": \"2021-12-20T00:00:00\", \"n_comments\": 9731}, {\"weekstart\": \"2021-12-27T00:00:00\", \"n_comments\": 6417}, {\"weekstart\": \"2022-01-03T00:00:00\", \"n_comments\": 3637}, {\"weekstart\": \"2022-01-10T00:00:00\", \"n_comments\": 5004}]}}, {\"mode\": \"vega-lite\"});\n",
       "</script>"
      ],
      "text/plain": [
       "alt.Chart(...)"
      ]
     },
     "execution_count": 24,
     "metadata": {},
     "output_type": "execute_result"
    }
   ],
   "source": [
    "alt.Chart(weekly_comments).mark_bar(width=20).encode(\n",
    "    x='weekstart:T',\n",
    "    y='n_comments'\n",
    ").properties(width=630)"
   ]
  },
  {
   "cell_type": "markdown",
   "id": "c15f216c-47d6-4dfb-b2b6-f054ca00a7dd",
   "metadata": {},
   "source": [
    "---"
   ]
  },
  {
   "cell_type": "markdown",
   "id": "80fe2c68-abf8-4b23-8fe5-01b03a23cf10",
   "metadata": {},
   "source": [
    "### Exports"
   ]
  },
  {
   "cell_type": "code",
   "execution_count": 25,
   "id": "7815f7c8-235d-4101-ae83-ce7bfa1a9b92",
   "metadata": {},
   "outputs": [],
   "source": [
    "weekly_plays.to_csv(\"../_data/weekly_plays.csv\", index=False)\n",
    "weekly_plays.to_csv(\"../assets/data/weekly_plays.csv\", index=False)"
   ]
  },
  {
   "cell_type": "code",
   "execution_count": 26,
   "id": "1a48dc5d-a9f9-47dc-a40e-781c168a75be",
   "metadata": {},
   "outputs": [],
   "source": [
    "weekly_likes.to_csv(\"../_data/weekly_likes.csv\", index=False)\n",
    "weekly_likes.to_csv(\"../assets/data/weekly_likes.csv\", index=False)"
   ]
  },
  {
   "cell_type": "code",
   "execution_count": 27,
   "id": "a55f5295-caf5-4280-a942-2c97539cbbb3",
   "metadata": {},
   "outputs": [],
   "source": [
    "weekly_comments.to_csv(\"../_data/weekly_comments.csv\", index=False)\n",
    "weekly_comments.to_csv(\"../assets/data/weekly_comments.csv\", index=False)"
   ]
  }
 ],
 "metadata": {
  "kernelspec": {
   "display_name": "Python 3 (ipykernel)",
   "language": "python",
   "name": "python3"
  },
  "language_info": {
   "codemirror_mode": {
    "name": "ipython",
    "version": 3
   },
   "file_extension": ".py",
   "mimetype": "text/x-python",
   "name": "python",
   "nbconvert_exporter": "python",
   "pygments_lexer": "ipython3",
   "version": "3.9.9"
  }
 },
 "nbformat": 4,
 "nbformat_minor": 5
}
