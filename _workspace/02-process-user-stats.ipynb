{
 "cells": [
  {
   "cell_type": "markdown",
   "id": "c2c2b77a-1037-4a68-86b9-bd6803dd7425",
   "metadata": {},
   "source": [
    "# Process @jongraz tiktok stats for Noodle videos"
   ]
  },
  {
   "cell_type": "code",
   "execution_count": 1,
   "id": "2a9d8cd5-482c-4b56-9b21-22c61bc85ad9",
   "metadata": {},
   "outputs": [],
   "source": [
    "import pandas as pd\n",
    "import numpy as np\n",
    "import altair as alt"
   ]
  },
  {
   "cell_type": "code",
   "execution_count": 2,
   "id": "89748428-2c94-43f8-8d97-7a086a86ef40",
   "metadata": {},
   "outputs": [],
   "source": [
    "pd.options.display.max_columns = 100\n",
    "pd.options.display.max_rows = 1000\n",
    "pd.options.display.max_colwidth = None"
   ]
  },
  {
   "cell_type": "markdown",
   "id": "4c8b9c34-bb37-41f2-87d8-2157db416c92",
   "metadata": {},
   "source": [
    "### Read in our hand collected list of Noodle videos"
   ]
  },
  {
   "cell_type": "code",
   "execution_count": 3,
   "id": "8296b5fa-0c6d-4a2a-b6fc-dafc46934220",
   "metadata": {},
   "outputs": [],
   "source": [
    "src = pd.read_csv(\n",
    "    \"https://docs.google.com/spreadsheets/d/e/2PACX-1vQz8eEafXnIeKsNvGL8M56Ia6vu89JDCjfJ22ORl65So4kRYtmTbwmqLjE223fe4mjcZqkrs-KT6j8z/pub?\\\n",
    "gid=0&single=true&output=csv\"\n",
    ")"
   ]
  },
  {
   "cell_type": "markdown",
   "id": "ecc85f6f-dc0e-4339-91ac-1d29ab383875",
   "metadata": {},
   "source": [
    "### Create an ID field from the URL"
   ]
  },
  {
   "cell_type": "code",
   "execution_count": 4,
   "id": "ea294de8-0b78-41ed-acce-d574b6de8c20",
   "metadata": {},
   "outputs": [],
   "source": [
    "src['id'] = src['url'].str.replace('https://www.tiktok.com/@jongraz/video/', \"\", regex=False).astype(str)"
   ]
  },
  {
   "cell_type": "markdown",
   "id": "535de659-8183-4dd1-b558-4cbca54711c7",
   "metadata": {},
   "source": [
    "### Make a list for subsetting the dataframe later"
   ]
  },
  {
   "cell_type": "code",
   "execution_count": 5,
   "id": "fc07322b-e17a-4ca7-a29a-3759e771d792",
   "metadata": {},
   "outputs": [],
   "source": [
    "bones_videos = src['id'].to_list()"
   ]
  },
  {
   "cell_type": "markdown",
   "id": "cd9fb57b-5f8c-4051-8a8b-2d121f7196ed",
   "metadata": {},
   "source": [
    "### Have to run this manually -- for now"
   ]
  },
  {
   "cell_type": "code",
   "execution_count": 6,
   "id": "84393bfc-29c4-48d7-8071-48c6ceef3f7f",
   "metadata": {},
   "outputs": [],
   "source": [
    "# Get cookie and run this..."
   ]
  },
  {
   "cell_type": "code",
   "execution_count": 7,
   "id": "1ba73836-6bbb-4472-a51f-5b7421fd0d38",
   "metadata": {},
   "outputs": [],
   "source": [
    "# !python '/Users/stiles/github/noodle-tracker/_workspace/grab_user_stats.py'"
   ]
  },
  {
   "cell_type": "markdown",
   "id": "945d138f-817a-4825-adce-7dc7abbd7ca0",
   "metadata": {},
   "source": [
    "---"
   ]
  },
  {
   "cell_type": "markdown",
   "id": "5a72552a-e920-4cb0-987b-d92ef5671659",
   "metadata": {},
   "source": [
    "### Read scraped stats data"
   ]
  },
  {
   "cell_type": "code",
   "execution_count": 8,
   "id": "e240ccee-9774-4eb9-a17b-b5cad9c8a0c9",
   "metadata": {},
   "outputs": [],
   "source": [
    "df = pd.read_csv('data/processed/jongraz_videos.csv', dtype={'video_id':str})"
   ]
  },
  {
   "cell_type": "markdown",
   "id": "5e6cc437-967e-4593-9685-c367bb25fdce",
   "metadata": {
    "tags": []
   },
   "source": [
    "### Clean update dates, times"
   ]
  },
  {
   "cell_type": "code",
   "execution_count": 9,
   "id": "adcd6831-f036-48db-943e-1d6f67cdff70",
   "metadata": {
    "tags": []
   },
   "outputs": [],
   "source": [
    "df['timestamp'] = pd.to_datetime(df['video_time'], unit='s')\n",
    "df['date'] = pd.to_datetime(df['video_time'], unit='s').dt.date\n",
    "df['month'] = pd.to_datetime(df['video_time'], unit='s').dt.month\n",
    "df['weekday'] = pd.to_datetime(df['video_time'], unit='s').dt.day_name()\n",
    "df['time'] = pd.to_datetime(df['video_time'], unit='s').dt.time\n",
    "df['weekstart_timestamp'] = pd.to_datetime(df['video_time'], unit='s') - pd.to_datetime(df['video_time'], unit='s').dt.weekday * np.timedelta64(1, 'D')\n",
    "df['weekstart'] = df['weekstart_timestamp'].dt.date\n",
    "df['updated_date'] = pd.to_datetime(\"today\")"
   ]
  },
  {
   "cell_type": "markdown",
   "id": "130bf743-4f82-4f17-b3e5-cdfc7f43a770",
   "metadata": {},
   "source": [
    "### How many videos? "
   ]
  },
  {
   "cell_type": "code",
   "execution_count": 10,
   "id": "950e460f-8b34-4320-aff7-647d488ee5a8",
   "metadata": {},
   "outputs": [
    {
     "data": {
      "text/plain": [
       "214"
      ]
     },
     "execution_count": 10,
     "metadata": {},
     "output_type": "execute_result"
    }
   ],
   "source": [
    "len(df)"
   ]
  },
  {
   "cell_type": "markdown",
   "id": "c2f0a6cb-e8f9-4bca-b73e-54af3d8e0ea4",
   "metadata": {},
   "source": [
    "### Select only \"bones\" videos from @jongraz's feed"
   ]
  },
  {
   "cell_type": "code",
   "execution_count": 11,
   "id": "585a7e90-f075-4389-9f6c-c5ce9d2d1c36",
   "metadata": {},
   "outputs": [],
   "source": [
    "bones_df = df[df['video_id'].isin(bones_videos)]"
   ]
  },
  {
   "cell_type": "markdown",
   "id": "79c71e01-73e4-4a1a-852d-0c941c4dec0e",
   "metadata": {},
   "source": [
    "### How many are Noodle videos? "
   ]
  },
  {
   "cell_type": "code",
   "execution_count": 12,
   "id": "7959e6f1-89ff-4372-bf29-f1e1077e322d",
   "metadata": {},
   "outputs": [
    {
     "data": {
      "text/plain": [
       "91"
      ]
     },
     "execution_count": 12,
     "metadata": {},
     "output_type": "execute_result"
    }
   ],
   "source": [
    "len(bones_df)"
   ]
  },
  {
   "cell_type": "code",
   "execution_count": 13,
   "id": "6554f7a9-1901-4bdd-a0d7-ceab7402cb3b",
   "metadata": {},
   "outputs": [
    {
     "data": {
      "text/html": [
       "<div>\n",
       "<style scoped>\n",
       "    .dataframe tbody tr th:only-of-type {\n",
       "        vertical-align: middle;\n",
       "    }\n",
       "\n",
       "    .dataframe tbody tr th {\n",
       "        vertical-align: top;\n",
       "    }\n",
       "\n",
       "    .dataframe thead th {\n",
       "        text-align: right;\n",
       "    }\n",
       "</style>\n",
       "<table border=\"1\" class=\"dataframe\">\n",
       "  <thead>\n",
       "    <tr style=\"text-align: right;\">\n",
       "      <th></th>\n",
       "      <th>user_name</th>\n",
       "      <th>video_id</th>\n",
       "      <th>video_desc</th>\n",
       "      <th>video_time</th>\n",
       "      <th>video_duration</th>\n",
       "      <th>n_shares</th>\n",
       "      <th>n_likes</th>\n",
       "      <th>n_comments</th>\n",
       "      <th>n_plays</th>\n",
       "      <th>video_link</th>\n",
       "      <th>timestamp</th>\n",
       "      <th>date</th>\n",
       "      <th>month</th>\n",
       "      <th>weekday</th>\n",
       "      <th>time</th>\n",
       "      <th>weekstart_timestamp</th>\n",
       "      <th>weekstart</th>\n",
       "      <th>updated_date</th>\n",
       "    </tr>\n",
       "  </thead>\n",
       "  <tbody>\n",
       "    <tr>\n",
       "      <th>2</th>\n",
       "      <td>jongraz</td>\n",
       "      <td>7083871650818641198</td>\n",
       "      <td>beached and unbothered</td>\n",
       "      <td>1649342397</td>\n",
       "      <td>15</td>\n",
       "      <td>1895</td>\n",
       "      <td>68300</td>\n",
       "      <td>878</td>\n",
       "      <td>335500</td>\n",
       "      <td>https://www.tiktok.com/@jongraz/video/7083871650818641198?lang=en</td>\n",
       "      <td>2022-04-07 14:39:57</td>\n",
       "      <td>2022-04-07</td>\n",
       "      <td>4</td>\n",
       "      <td>Thursday</td>\n",
       "      <td>14:39:57</td>\n",
       "      <td>2022-04-04 14:39:57</td>\n",
       "      <td>2022-04-04</td>\n",
       "      <td>2022-04-10 10:53:29.004647</td>\n",
       "    </tr>\n",
       "    <tr>\n",
       "      <th>6</th>\n",
       "      <td>jongraz</td>\n",
       "      <td>7083127893210991915</td>\n",
       "      <td>another day another glaring truth</td>\n",
       "      <td>1649169228</td>\n",
       "      <td>30</td>\n",
       "      <td>1523</td>\n",
       "      <td>54700</td>\n",
       "      <td>556</td>\n",
       "      <td>270900</td>\n",
       "      <td>https://www.tiktok.com/@jongraz/video/7083127893210991915?lang=en</td>\n",
       "      <td>2022-04-05 14:33:48</td>\n",
       "      <td>2022-04-05</td>\n",
       "      <td>4</td>\n",
       "      <td>Tuesday</td>\n",
       "      <td>14:33:48</td>\n",
       "      <td>2022-04-04 14:33:48</td>\n",
       "      <td>2022-04-04</td>\n",
       "      <td>2022-04-10 10:53:29.004647</td>\n",
       "    </tr>\n",
       "    <tr>\n",
       "      <th>8</th>\n",
       "      <td>jongraz</td>\n",
       "      <td>7082013088244895019</td>\n",
       "      <td>now venture forth and have the best weekend! 🦴🔮🦴</td>\n",
       "      <td>1648909667</td>\n",
       "      <td>20</td>\n",
       "      <td>2269</td>\n",
       "      <td>102500</td>\n",
       "      <td>1093</td>\n",
       "      <td>525000</td>\n",
       "      <td>https://www.tiktok.com/@jongraz/video/7082013088244895019?lang=en</td>\n",
       "      <td>2022-04-02 14:27:47</td>\n",
       "      <td>2022-04-02</td>\n",
       "      <td>4</td>\n",
       "      <td>Saturday</td>\n",
       "      <td>14:27:47</td>\n",
       "      <td>2022-03-28 14:27:47</td>\n",
       "      <td>2022-03-28</td>\n",
       "      <td>2022-04-10 10:53:29.004647</td>\n",
       "    </tr>\n",
       "    <tr>\n",
       "      <th>9</th>\n",
       "      <td>jongraz</td>\n",
       "      <td>7081623062868856110</td>\n",
       "      <td>it’s his world and we’re all just here too 🔮🦴🔮</td>\n",
       "      <td>1648818858</td>\n",
       "      <td>56</td>\n",
       "      <td>34400</td>\n",
       "      <td>1000000</td>\n",
       "      <td>6675</td>\n",
       "      <td>4400000</td>\n",
       "      <td>https://www.tiktok.com/@jongraz/video/7081623062868856110?lang=en</td>\n",
       "      <td>2022-04-01 13:14:18</td>\n",
       "      <td>2022-04-01</td>\n",
       "      <td>4</td>\n",
       "      <td>Friday</td>\n",
       "      <td>13:14:18</td>\n",
       "      <td>2022-03-28 13:14:18</td>\n",
       "      <td>2022-03-28</td>\n",
       "      <td>2022-04-10 10:53:29.004647</td>\n",
       "    </tr>\n",
       "    <tr>\n",
       "      <th>10</th>\n",
       "      <td>jongraz</td>\n",
       "      <td>7081257158863523114</td>\n",
       "      <td>there you have it 🔮🦴🔮</td>\n",
       "      <td>1648733664</td>\n",
       "      <td>15</td>\n",
       "      <td>6079</td>\n",
       "      <td>470400</td>\n",
       "      <td>3286</td>\n",
       "      <td>2300000</td>\n",
       "      <td>https://www.tiktok.com/@jongraz/video/7081257158863523114?lang=en</td>\n",
       "      <td>2022-03-31 13:34:24</td>\n",
       "      <td>2022-03-31</td>\n",
       "      <td>3</td>\n",
       "      <td>Thursday</td>\n",
       "      <td>13:34:24</td>\n",
       "      <td>2022-03-28 13:34:24</td>\n",
       "      <td>2022-03-28</td>\n",
       "      <td>2022-04-10 10:53:29.004647</td>\n",
       "    </tr>\n",
       "  </tbody>\n",
       "</table>\n",
       "</div>"
      ],
      "text/plain": [
       "   user_name             video_id  \\\n",
       "2    jongraz  7083871650818641198   \n",
       "6    jongraz  7083127893210991915   \n",
       "8    jongraz  7082013088244895019   \n",
       "9    jongraz  7081623062868856110   \n",
       "10   jongraz  7081257158863523114   \n",
       "\n",
       "                                          video_desc  video_time  \\\n",
       "2                             beached and unbothered  1649342397   \n",
       "6                  another day another glaring truth  1649169228   \n",
       "8   now venture forth and have the best weekend! 🦴🔮🦴  1648909667   \n",
       "9     it’s his world and we’re all just here too 🔮🦴🔮  1648818858   \n",
       "10                             there you have it 🔮🦴🔮  1648733664   \n",
       "\n",
       "    video_duration  n_shares  n_likes  n_comments  n_plays  \\\n",
       "2               15      1895    68300         878   335500   \n",
       "6               30      1523    54700         556   270900   \n",
       "8               20      2269   102500        1093   525000   \n",
       "9               56     34400  1000000        6675  4400000   \n",
       "10              15      6079   470400        3286  2300000   \n",
       "\n",
       "                                                           video_link  \\\n",
       "2   https://www.tiktok.com/@jongraz/video/7083871650818641198?lang=en   \n",
       "6   https://www.tiktok.com/@jongraz/video/7083127893210991915?lang=en   \n",
       "8   https://www.tiktok.com/@jongraz/video/7082013088244895019?lang=en   \n",
       "9   https://www.tiktok.com/@jongraz/video/7081623062868856110?lang=en   \n",
       "10  https://www.tiktok.com/@jongraz/video/7081257158863523114?lang=en   \n",
       "\n",
       "             timestamp        date  month   weekday      time  \\\n",
       "2  2022-04-07 14:39:57  2022-04-07      4  Thursday  14:39:57   \n",
       "6  2022-04-05 14:33:48  2022-04-05      4   Tuesday  14:33:48   \n",
       "8  2022-04-02 14:27:47  2022-04-02      4  Saturday  14:27:47   \n",
       "9  2022-04-01 13:14:18  2022-04-01      4    Friday  13:14:18   \n",
       "10 2022-03-31 13:34:24  2022-03-31      3  Thursday  13:34:24   \n",
       "\n",
       "   weekstart_timestamp   weekstart               updated_date  \n",
       "2  2022-04-04 14:39:57  2022-04-04 2022-04-10 10:53:29.004647  \n",
       "6  2022-04-04 14:33:48  2022-04-04 2022-04-10 10:53:29.004647  \n",
       "8  2022-03-28 14:27:47  2022-03-28 2022-04-10 10:53:29.004647  \n",
       "9  2022-03-28 13:14:18  2022-03-28 2022-04-10 10:53:29.004647  \n",
       "10 2022-03-28 13:34:24  2022-03-28 2022-04-10 10:53:29.004647  "
      ]
     },
     "execution_count": 13,
     "metadata": {},
     "output_type": "execute_result"
    }
   ],
   "source": [
    "bones_df.head()"
   ]
  },
  {
   "cell_type": "markdown",
   "id": "a76b123c-6345-4f2f-8de3-a669df6615ee",
   "metadata": {},
   "source": [
    "---"
   ]
  },
  {
   "cell_type": "markdown",
   "id": "eea85d54-28c2-47da-bcfd-f65982b2a735",
   "metadata": {},
   "source": [
    "### Download cover art"
   ]
  },
  {
   "cell_type": "code",
   "execution_count": 14,
   "id": "32ff37b7-38cc-48fc-8982-8cdccd6c32d2",
   "metadata": {},
   "outputs": [],
   "source": [
    "# for v,u in zip(bones_df['video_cover'], bones_df['video_id']):\n",
    "#     !wget {v} -O ../assets/images/noodle_covers/{u}"
   ]
  },
  {
   "cell_type": "code",
   "execution_count": null,
   "id": "ec96154f-3f67-4212-9da2-dccb5f0d46a4",
   "metadata": {},
   "outputs": [],
   "source": []
  },
  {
   "cell_type": "code",
   "execution_count": null,
   "id": "8d1e160a-de58-49ac-ac48-3195950a9554",
   "metadata": {},
   "outputs": [],
   "source": []
  },
  {
   "cell_type": "markdown",
   "id": "02f25c39-0692-41e5-afef-89b4a68a737d",
   "metadata": {},
   "source": [
    "---"
   ]
  },
  {
   "cell_type": "markdown",
   "id": "573ca0f3-b3f5-4969-a28d-bc4c1bc6a233",
   "metadata": {},
   "source": [
    "### Weekly plays"
   ]
  },
  {
   "cell_type": "code",
   "execution_count": 15,
   "id": "3b11f2fd-95fc-4397-beab-a670f34e1f5c",
   "metadata": {},
   "outputs": [
    {
     "data": {
      "text/plain": [
       "weekstart    object\n",
       "n_plays       int64\n",
       "dtype: object"
      ]
     },
     "execution_count": 15,
     "metadata": {},
     "output_type": "execute_result"
    }
   ],
   "source": [
    "weekly_plays = bones_df[bones_df['timestamp'] > '2021/07/31'].groupby(['weekstart']).agg({'n_plays':sum}).reset_index()\n",
    "weekly_plays.dtypes"
   ]
  },
  {
   "cell_type": "code",
   "execution_count": 16,
   "id": "b7360ee5-904c-4310-8218-12cbfc1cc6ea",
   "metadata": {},
   "outputs": [],
   "source": [
    "weekly_plays['weekstart'] = pd.to_datetime(weekly_plays['weekstart'])"
   ]
  },
  {
   "cell_type": "code",
   "execution_count": 28,
   "id": "cd405ba8-0681-4c82-9e44-245217b6daa0",
   "metadata": {},
   "outputs": [
    {
     "data": {
      "text/html": [
       "\n",
       "<div id=\"altair-viz-c72506dde183446d8c3a57069b28db33\"></div>\n",
       "<script type=\"text/javascript\">\n",
       "  var VEGA_DEBUG = (typeof VEGA_DEBUG == \"undefined\") ? {} : VEGA_DEBUG;\n",
       "  (function(spec, embedOpt){\n",
       "    let outputDiv = document.currentScript.previousElementSibling;\n",
       "    if (outputDiv.id !== \"altair-viz-c72506dde183446d8c3a57069b28db33\") {\n",
       "      outputDiv = document.getElementById(\"altair-viz-c72506dde183446d8c3a57069b28db33\");\n",
       "    }\n",
       "    const paths = {\n",
       "      \"vega\": \"https://cdn.jsdelivr.net/npm//vega@5?noext\",\n",
       "      \"vega-lib\": \"https://cdn.jsdelivr.net/npm//vega-lib?noext\",\n",
       "      \"vega-lite\": \"https://cdn.jsdelivr.net/npm//vega-lite@4.17.0?noext\",\n",
       "      \"vega-embed\": \"https://cdn.jsdelivr.net/npm//vega-embed@6?noext\",\n",
       "    };\n",
       "\n",
       "    function maybeLoadScript(lib, version) {\n",
       "      var key = `${lib.replace(\"-\", \"\")}_version`;\n",
       "      return (VEGA_DEBUG[key] == version) ?\n",
       "        Promise.resolve(paths[lib]) :\n",
       "        new Promise(function(resolve, reject) {\n",
       "          var s = document.createElement('script');\n",
       "          document.getElementsByTagName(\"head\")[0].appendChild(s);\n",
       "          s.async = true;\n",
       "          s.onload = () => {\n",
       "            VEGA_DEBUG[key] = version;\n",
       "            return resolve(paths[lib]);\n",
       "          };\n",
       "          s.onerror = () => reject(`Error loading script: ${paths[lib]}`);\n",
       "          s.src = paths[lib];\n",
       "        });\n",
       "    }\n",
       "\n",
       "    function showError(err) {\n",
       "      outputDiv.innerHTML = `<div class=\"error\" style=\"color:red;\">${err}</div>`;\n",
       "      throw err;\n",
       "    }\n",
       "\n",
       "    function displayChart(vegaEmbed) {\n",
       "      vegaEmbed(outputDiv, spec, embedOpt)\n",
       "        .catch(err => showError(`Javascript Error: ${err.message}<br>This usually means there's a typo in your chart specification. See the javascript console for the full traceback.`));\n",
       "    }\n",
       "\n",
       "    if(typeof define === \"function\" && define.amd) {\n",
       "      requirejs.config({paths});\n",
       "      require([\"vega-embed\"], displayChart, err => showError(`Error loading script: ${err.message}`));\n",
       "    } else {\n",
       "      maybeLoadScript(\"vega\", \"5\")\n",
       "        .then(() => maybeLoadScript(\"vega-lite\", \"4.17.0\"))\n",
       "        .then(() => maybeLoadScript(\"vega-embed\", \"6\"))\n",
       "        .catch(showError)\n",
       "        .then(() => displayChart(vegaEmbed));\n",
       "    }\n",
       "  })({\"config\": {\"view\": {\"continuousWidth\": 400, \"continuousHeight\": 300}}, \"data\": {\"name\": \"data-728709a950c60cc372e1e52199c90b9f\"}, \"mark\": {\"type\": \"bar\", \"width\": 14}, \"encoding\": {\"x\": {\"field\": \"weekstart\", \"type\": \"temporal\"}, \"y\": {\"field\": \"n_plays\", \"type\": \"quantitative\"}}, \"width\": 630, \"$schema\": \"https://vega.github.io/schema/vega-lite/v4.17.0.json\", \"datasets\": {\"data-728709a950c60cc372e1e52199c90b9f\": [{\"weekstart\": \"2021-08-09T00:00:00\", \"n_plays\": 2300000}, {\"weekstart\": \"2021-08-16T00:00:00\", \"n_plays\": 0}, {\"weekstart\": \"2021-08-30T00:00:00\", \"n_plays\": 0}, {\"weekstart\": \"2021-09-13T00:00:00\", \"n_plays\": 0}, {\"weekstart\": \"2021-09-20T00:00:00\", \"n_plays\": 0}, {\"weekstart\": \"2021-09-27T00:00:00\", \"n_plays\": 0}, {\"weekstart\": \"2021-10-04T00:00:00\", \"n_plays\": 26400000}, {\"weekstart\": \"2021-10-11T00:00:00\", \"n_plays\": 36800000}, {\"weekstart\": \"2021-10-18T00:00:00\", \"n_plays\": 58600000}, {\"weekstart\": \"2021-10-25T00:00:00\", \"n_plays\": 23600000}, {\"weekstart\": \"2021-11-01T00:00:00\", \"n_plays\": 17900000}, {\"weekstart\": \"2021-11-08T00:00:00\", \"n_plays\": 9700000}, {\"weekstart\": \"2021-11-15T00:00:00\", \"n_plays\": 8338000}, {\"weekstart\": \"2021-11-22T00:00:00\", \"n_plays\": 9237600}, {\"weekstart\": \"2021-11-29T00:00:00\", \"n_plays\": 5831700}, {\"weekstart\": \"2021-12-06T00:00:00\", \"n_plays\": 5343500}, {\"weekstart\": \"2021-12-13T00:00:00\", \"n_plays\": 3181700}, {\"weekstart\": \"2021-12-20T00:00:00\", \"n_plays\": 3983600}, {\"weekstart\": \"2021-12-27T00:00:00\", \"n_plays\": 2175800}, {\"weekstart\": \"2022-01-03T00:00:00\", \"n_plays\": 1317200}, {\"weekstart\": \"2022-01-10T00:00:00\", \"n_plays\": 1855000}, {\"weekstart\": \"2022-01-17T00:00:00\", \"n_plays\": 1347600}, {\"weekstart\": \"2022-01-24T00:00:00\", \"n_plays\": 449500}, {\"weekstart\": \"2022-02-21T00:00:00\", \"n_plays\": 2494600}, {\"weekstart\": \"2022-02-28T00:00:00\", \"n_plays\": 274500}, {\"weekstart\": \"2022-03-07T00:00:00\", \"n_plays\": 2698800}, {\"weekstart\": \"2022-03-14T00:00:00\", \"n_plays\": 963900}, {\"weekstart\": \"2022-03-21T00:00:00\", \"n_plays\": 864700}, {\"weekstart\": \"2022-03-28T00:00:00\", \"n_plays\": 7225000}, {\"weekstart\": \"2022-04-04T00:00:00\", \"n_plays\": 606400}]}}, {\"mode\": \"vega-lite\"});\n",
       "</script>"
      ],
      "text/plain": [
       "alt.Chart(...)"
      ]
     },
     "execution_count": 28,
     "metadata": {},
     "output_type": "execute_result"
    }
   ],
   "source": [
    "alt.Chart(weekly_plays).mark_bar(width=14).encode(\n",
    "    x='weekstart:T',\n",
    "    y='n_plays'\n",
    ").properties(width=630)"
   ]
  },
  {
   "cell_type": "markdown",
   "id": "53f04585-ab1d-4c9b-b8d7-2b6b8deec113",
   "metadata": {},
   "source": [
    "---"
   ]
  },
  {
   "cell_type": "markdown",
   "id": "45246b49-344e-499b-8e17-bc7d4defd07a",
   "metadata": {},
   "source": [
    "### Weekly likes"
   ]
  },
  {
   "cell_type": "code",
   "execution_count": 29,
   "id": "dcff3517-46d0-4f86-bacc-dd98efeeb852",
   "metadata": {},
   "outputs": [
    {
     "data": {
      "text/html": [
       "<div>\n",
       "<style scoped>\n",
       "    .dataframe tbody tr th:only-of-type {\n",
       "        vertical-align: middle;\n",
       "    }\n",
       "\n",
       "    .dataframe tbody tr th {\n",
       "        vertical-align: top;\n",
       "    }\n",
       "\n",
       "    .dataframe thead th {\n",
       "        text-align: right;\n",
       "    }\n",
       "</style>\n",
       "<table border=\"1\" class=\"dataframe\">\n",
       "  <thead>\n",
       "    <tr style=\"text-align: right;\">\n",
       "      <th></th>\n",
       "      <th>user_name</th>\n",
       "      <th>video_id</th>\n",
       "      <th>video_desc</th>\n",
       "      <th>video_time</th>\n",
       "      <th>video_duration</th>\n",
       "      <th>n_shares</th>\n",
       "      <th>n_likes</th>\n",
       "      <th>n_comments</th>\n",
       "      <th>n_plays</th>\n",
       "      <th>video_link</th>\n",
       "      <th>timestamp</th>\n",
       "      <th>date</th>\n",
       "      <th>month</th>\n",
       "      <th>weekday</th>\n",
       "      <th>time</th>\n",
       "      <th>weekstart_timestamp</th>\n",
       "      <th>weekstart</th>\n",
       "      <th>updated_date</th>\n",
       "    </tr>\n",
       "  </thead>\n",
       "  <tbody>\n",
       "    <tr>\n",
       "      <th>2</th>\n",
       "      <td>jongraz</td>\n",
       "      <td>7083871650818641198</td>\n",
       "      <td>beached and unbothered</td>\n",
       "      <td>1649342397</td>\n",
       "      <td>15</td>\n",
       "      <td>1895</td>\n",
       "      <td>68300</td>\n",
       "      <td>878</td>\n",
       "      <td>335500</td>\n",
       "      <td>https://www.tiktok.com/@jongraz/video/7083871650818641198?lang=en</td>\n",
       "      <td>2022-04-07 14:39:57</td>\n",
       "      <td>2022-04-07</td>\n",
       "      <td>4</td>\n",
       "      <td>Thursday</td>\n",
       "      <td>14:39:57</td>\n",
       "      <td>2022-04-04 14:39:57</td>\n",
       "      <td>2022-04-04</td>\n",
       "      <td>2022-04-10 10:53:29.004647</td>\n",
       "    </tr>\n",
       "    <tr>\n",
       "      <th>6</th>\n",
       "      <td>jongraz</td>\n",
       "      <td>7083127893210991915</td>\n",
       "      <td>another day another glaring truth</td>\n",
       "      <td>1649169228</td>\n",
       "      <td>30</td>\n",
       "      <td>1523</td>\n",
       "      <td>54700</td>\n",
       "      <td>556</td>\n",
       "      <td>270900</td>\n",
       "      <td>https://www.tiktok.com/@jongraz/video/7083127893210991915?lang=en</td>\n",
       "      <td>2022-04-05 14:33:48</td>\n",
       "      <td>2022-04-05</td>\n",
       "      <td>4</td>\n",
       "      <td>Tuesday</td>\n",
       "      <td>14:33:48</td>\n",
       "      <td>2022-04-04 14:33:48</td>\n",
       "      <td>2022-04-04</td>\n",
       "      <td>2022-04-10 10:53:29.004647</td>\n",
       "    </tr>\n",
       "    <tr>\n",
       "      <th>8</th>\n",
       "      <td>jongraz</td>\n",
       "      <td>7082013088244895019</td>\n",
       "      <td>now venture forth and have the best weekend! 🦴🔮🦴</td>\n",
       "      <td>1648909667</td>\n",
       "      <td>20</td>\n",
       "      <td>2269</td>\n",
       "      <td>102500</td>\n",
       "      <td>1093</td>\n",
       "      <td>525000</td>\n",
       "      <td>https://www.tiktok.com/@jongraz/video/7082013088244895019?lang=en</td>\n",
       "      <td>2022-04-02 14:27:47</td>\n",
       "      <td>2022-04-02</td>\n",
       "      <td>4</td>\n",
       "      <td>Saturday</td>\n",
       "      <td>14:27:47</td>\n",
       "      <td>2022-03-28 14:27:47</td>\n",
       "      <td>2022-03-28</td>\n",
       "      <td>2022-04-10 10:53:29.004647</td>\n",
       "    </tr>\n",
       "    <tr>\n",
       "      <th>9</th>\n",
       "      <td>jongraz</td>\n",
       "      <td>7081623062868856110</td>\n",
       "      <td>it’s his world and we’re all just here too 🔮🦴🔮</td>\n",
       "      <td>1648818858</td>\n",
       "      <td>56</td>\n",
       "      <td>34400</td>\n",
       "      <td>1000000</td>\n",
       "      <td>6675</td>\n",
       "      <td>4400000</td>\n",
       "      <td>https://www.tiktok.com/@jongraz/video/7081623062868856110?lang=en</td>\n",
       "      <td>2022-04-01 13:14:18</td>\n",
       "      <td>2022-04-01</td>\n",
       "      <td>4</td>\n",
       "      <td>Friday</td>\n",
       "      <td>13:14:18</td>\n",
       "      <td>2022-03-28 13:14:18</td>\n",
       "      <td>2022-03-28</td>\n",
       "      <td>2022-04-10 10:53:29.004647</td>\n",
       "    </tr>\n",
       "    <tr>\n",
       "      <th>10</th>\n",
       "      <td>jongraz</td>\n",
       "      <td>7081257158863523114</td>\n",
       "      <td>there you have it 🔮🦴🔮</td>\n",
       "      <td>1648733664</td>\n",
       "      <td>15</td>\n",
       "      <td>6079</td>\n",
       "      <td>470400</td>\n",
       "      <td>3286</td>\n",
       "      <td>2300000</td>\n",
       "      <td>https://www.tiktok.com/@jongraz/video/7081257158863523114?lang=en</td>\n",
       "      <td>2022-03-31 13:34:24</td>\n",
       "      <td>2022-03-31</td>\n",
       "      <td>3</td>\n",
       "      <td>Thursday</td>\n",
       "      <td>13:34:24</td>\n",
       "      <td>2022-03-28 13:34:24</td>\n",
       "      <td>2022-03-28</td>\n",
       "      <td>2022-04-10 10:53:29.004647</td>\n",
       "    </tr>\n",
       "  </tbody>\n",
       "</table>\n",
       "</div>"
      ],
      "text/plain": [
       "   user_name             video_id  \\\n",
       "2    jongraz  7083871650818641198   \n",
       "6    jongraz  7083127893210991915   \n",
       "8    jongraz  7082013088244895019   \n",
       "9    jongraz  7081623062868856110   \n",
       "10   jongraz  7081257158863523114   \n",
       "\n",
       "                                          video_desc  video_time  \\\n",
       "2                             beached and unbothered  1649342397   \n",
       "6                  another day another glaring truth  1649169228   \n",
       "8   now venture forth and have the best weekend! 🦴🔮🦴  1648909667   \n",
       "9     it’s his world and we’re all just here too 🔮🦴🔮  1648818858   \n",
       "10                             there you have it 🔮🦴🔮  1648733664   \n",
       "\n",
       "    video_duration  n_shares  n_likes  n_comments  n_plays  \\\n",
       "2               15      1895    68300         878   335500   \n",
       "6               30      1523    54700         556   270900   \n",
       "8               20      2269   102500        1093   525000   \n",
       "9               56     34400  1000000        6675  4400000   \n",
       "10              15      6079   470400        3286  2300000   \n",
       "\n",
       "                                                           video_link  \\\n",
       "2   https://www.tiktok.com/@jongraz/video/7083871650818641198?lang=en   \n",
       "6   https://www.tiktok.com/@jongraz/video/7083127893210991915?lang=en   \n",
       "8   https://www.tiktok.com/@jongraz/video/7082013088244895019?lang=en   \n",
       "9   https://www.tiktok.com/@jongraz/video/7081623062868856110?lang=en   \n",
       "10  https://www.tiktok.com/@jongraz/video/7081257158863523114?lang=en   \n",
       "\n",
       "             timestamp        date  month   weekday      time  \\\n",
       "2  2022-04-07 14:39:57  2022-04-07      4  Thursday  14:39:57   \n",
       "6  2022-04-05 14:33:48  2022-04-05      4   Tuesday  14:33:48   \n",
       "8  2022-04-02 14:27:47  2022-04-02      4  Saturday  14:27:47   \n",
       "9  2022-04-01 13:14:18  2022-04-01      4    Friday  13:14:18   \n",
       "10 2022-03-31 13:34:24  2022-03-31      3  Thursday  13:34:24   \n",
       "\n",
       "   weekstart_timestamp   weekstart               updated_date  \n",
       "2  2022-04-04 14:39:57  2022-04-04 2022-04-10 10:53:29.004647  \n",
       "6  2022-04-04 14:33:48  2022-04-04 2022-04-10 10:53:29.004647  \n",
       "8  2022-03-28 14:27:47  2022-03-28 2022-04-10 10:53:29.004647  \n",
       "9  2022-03-28 13:14:18  2022-03-28 2022-04-10 10:53:29.004647  \n",
       "10 2022-03-28 13:34:24  2022-03-28 2022-04-10 10:53:29.004647  "
      ]
     },
     "execution_count": 29,
     "metadata": {},
     "output_type": "execute_result"
    }
   ],
   "source": [
    "bones_df.head()"
   ]
  },
  {
   "cell_type": "code",
   "execution_count": 30,
   "id": "8377105d-d7ce-430b-b67c-426375f612d8",
   "metadata": {},
   "outputs": [
    {
     "data": {
      "text/plain": [
       "weekstart    object\n",
       "n_likes       int64\n",
       "dtype: object"
      ]
     },
     "execution_count": 30,
     "metadata": {},
     "output_type": "execute_result"
    }
   ],
   "source": [
    "weekly_likes = bones_df[bones_df['timestamp'] > '2021/07/31'].groupby(['weekstart']).agg({'n_likes':sum}).reset_index()\n",
    "weekly_likes.dtypes"
   ]
  },
  {
   "cell_type": "code",
   "execution_count": 31,
   "id": "9b5372b6-3380-4b29-ac8c-a3a0d7eb03d0",
   "metadata": {},
   "outputs": [],
   "source": [
    "weekly_likes['weekstart'] = pd.to_datetime(weekly_likes['weekstart'])"
   ]
  },
  {
   "cell_type": "code",
   "execution_count": 32,
   "id": "1f4c690d-b69f-4a81-b22a-566af63a2ce0",
   "metadata": {},
   "outputs": [
    {
     "data": {
      "text/html": [
       "\n",
       "<div id=\"altair-viz-f228001d28cc4e54a9992963b61da728\"></div>\n",
       "<script type=\"text/javascript\">\n",
       "  var VEGA_DEBUG = (typeof VEGA_DEBUG == \"undefined\") ? {} : VEGA_DEBUG;\n",
       "  (function(spec, embedOpt){\n",
       "    let outputDiv = document.currentScript.previousElementSibling;\n",
       "    if (outputDiv.id !== \"altair-viz-f228001d28cc4e54a9992963b61da728\") {\n",
       "      outputDiv = document.getElementById(\"altair-viz-f228001d28cc4e54a9992963b61da728\");\n",
       "    }\n",
       "    const paths = {\n",
       "      \"vega\": \"https://cdn.jsdelivr.net/npm//vega@5?noext\",\n",
       "      \"vega-lib\": \"https://cdn.jsdelivr.net/npm//vega-lib?noext\",\n",
       "      \"vega-lite\": \"https://cdn.jsdelivr.net/npm//vega-lite@4.17.0?noext\",\n",
       "      \"vega-embed\": \"https://cdn.jsdelivr.net/npm//vega-embed@6?noext\",\n",
       "    };\n",
       "\n",
       "    function maybeLoadScript(lib, version) {\n",
       "      var key = `${lib.replace(\"-\", \"\")}_version`;\n",
       "      return (VEGA_DEBUG[key] == version) ?\n",
       "        Promise.resolve(paths[lib]) :\n",
       "        new Promise(function(resolve, reject) {\n",
       "          var s = document.createElement('script');\n",
       "          document.getElementsByTagName(\"head\")[0].appendChild(s);\n",
       "          s.async = true;\n",
       "          s.onload = () => {\n",
       "            VEGA_DEBUG[key] = version;\n",
       "            return resolve(paths[lib]);\n",
       "          };\n",
       "          s.onerror = () => reject(`Error loading script: ${paths[lib]}`);\n",
       "          s.src = paths[lib];\n",
       "        });\n",
       "    }\n",
       "\n",
       "    function showError(err) {\n",
       "      outputDiv.innerHTML = `<div class=\"error\" style=\"color:red;\">${err}</div>`;\n",
       "      throw err;\n",
       "    }\n",
       "\n",
       "    function displayChart(vegaEmbed) {\n",
       "      vegaEmbed(outputDiv, spec, embedOpt)\n",
       "        .catch(err => showError(`Javascript Error: ${err.message}<br>This usually means there's a typo in your chart specification. See the javascript console for the full traceback.`));\n",
       "    }\n",
       "\n",
       "    if(typeof define === \"function\" && define.amd) {\n",
       "      requirejs.config({paths});\n",
       "      require([\"vega-embed\"], displayChart, err => showError(`Error loading script: ${err.message}`));\n",
       "    } else {\n",
       "      maybeLoadScript(\"vega\", \"5\")\n",
       "        .then(() => maybeLoadScript(\"vega-lite\", \"4.17.0\"))\n",
       "        .then(() => maybeLoadScript(\"vega-embed\", \"6\"))\n",
       "        .catch(showError)\n",
       "        .then(() => displayChart(vegaEmbed));\n",
       "    }\n",
       "  })({\"config\": {\"view\": {\"continuousWidth\": 400, \"continuousHeight\": 300}}, \"data\": {\"name\": \"data-c6a1c235ce97e44258846a5062efea07\"}, \"mark\": {\"type\": \"bar\", \"width\": 20}, \"encoding\": {\"x\": {\"field\": \"weekstart\", \"type\": \"temporal\"}, \"y\": {\"field\": \"n_likes\", \"type\": \"quantitative\"}}, \"width\": 630, \"$schema\": \"https://vega.github.io/schema/vega-lite/v4.17.0.json\", \"datasets\": {\"data-c6a1c235ce97e44258846a5062efea07\": [{\"weekstart\": \"2021-08-09T00:00:00\", \"n_likes\": 436600}, {\"weekstart\": \"2021-08-16T00:00:00\", \"n_likes\": 0}, {\"weekstart\": \"2021-08-30T00:00:00\", \"n_likes\": 0}, {\"weekstart\": \"2021-09-13T00:00:00\", \"n_likes\": 0}, {\"weekstart\": \"2021-09-20T00:00:00\", \"n_likes\": 0}, {\"weekstart\": \"2021-09-27T00:00:00\", \"n_likes\": 0}, {\"weekstart\": \"2021-10-04T00:00:00\", \"n_likes\": 5911900}, {\"weekstart\": \"2021-10-11T00:00:00\", \"n_likes\": 6350400}, {\"weekstart\": \"2021-10-18T00:00:00\", \"n_likes\": 11567500}, {\"weekstart\": \"2021-10-25T00:00:00\", \"n_likes\": 5000000}, {\"weekstart\": \"2021-11-01T00:00:00\", \"n_likes\": 3727300}, {\"weekstart\": \"2021-11-08T00:00:00\", \"n_likes\": 1937400}, {\"weekstart\": \"2021-11-15T00:00:00\", \"n_likes\": 1493200}, {\"weekstart\": \"2021-11-22T00:00:00\", \"n_likes\": 1703500}, {\"weekstart\": \"2021-11-29T00:00:00\", \"n_likes\": 1091100}, {\"weekstart\": \"2021-12-06T00:00:00\", \"n_likes\": 1006600}, {\"weekstart\": \"2021-12-13T00:00:00\", \"n_likes\": 658400}, {\"weekstart\": \"2021-12-20T00:00:00\", \"n_likes\": 851800}, {\"weekstart\": \"2021-12-27T00:00:00\", \"n_likes\": 475600}, {\"weekstart\": \"2022-01-03T00:00:00\", \"n_likes\": 249000}, {\"weekstart\": \"2022-01-10T00:00:00\", \"n_likes\": 382800}, {\"weekstart\": \"2022-01-17T00:00:00\", \"n_likes\": 266900}, {\"weekstart\": \"2022-01-24T00:00:00\", \"n_likes\": 71600}, {\"weekstart\": \"2022-02-21T00:00:00\", \"n_likes\": 408000}, {\"weekstart\": \"2022-02-28T00:00:00\", \"n_likes\": 38500}, {\"weekstart\": \"2022-03-07T00:00:00\", \"n_likes\": 447600}, {\"weekstart\": \"2022-03-14T00:00:00\", \"n_likes\": 207700}, {\"weekstart\": \"2022-03-21T00:00:00\", \"n_likes\": 167600}, {\"weekstart\": \"2022-03-28T00:00:00\", \"n_likes\": 1572900}, {\"weekstart\": \"2022-04-04T00:00:00\", \"n_likes\": 123000}]}}, {\"mode\": \"vega-lite\"});\n",
       "</script>"
      ],
      "text/plain": [
       "alt.Chart(...)"
      ]
     },
     "execution_count": 32,
     "metadata": {},
     "output_type": "execute_result"
    }
   ],
   "source": [
    "alt.Chart(weekly_likes).mark_bar(width=20).encode(\n",
    "    x='weekstart:T',\n",
    "    y='n_likes'\n",
    ").properties(width=630)"
   ]
  },
  {
   "cell_type": "markdown",
   "id": "d80263a4-7eac-4303-86cc-16659da7b31d",
   "metadata": {},
   "source": [
    "---"
   ]
  },
  {
   "cell_type": "markdown",
   "id": "8544af0b-d7a4-4568-87e7-984d7adea827",
   "metadata": {},
   "source": [
    "### Weekly comments"
   ]
  },
  {
   "cell_type": "code",
   "execution_count": 33,
   "id": "7c986d83-0a19-435d-94cc-95bacecc6213",
   "metadata": {},
   "outputs": [
    {
     "data": {
      "text/plain": [
       "weekstart     object\n",
       "n_comments     int64\n",
       "dtype: object"
      ]
     },
     "execution_count": 33,
     "metadata": {},
     "output_type": "execute_result"
    }
   ],
   "source": [
    "weekly_comments = bones_df[bones_df['timestamp'] > '2021/07/31'].groupby(['weekstart']).agg({'n_comments':sum}).reset_index()\n",
    "weekly_comments.dtypes"
   ]
  },
  {
   "cell_type": "code",
   "execution_count": 34,
   "id": "a6fd0172-9118-48a9-82a5-228bd3fc307d",
   "metadata": {},
   "outputs": [],
   "source": [
    "weekly_comments['weekstart'] = pd.to_datetime(weekly_comments['weekstart'])"
   ]
  },
  {
   "cell_type": "code",
   "execution_count": 35,
   "id": "18107134-f507-46b0-9996-265eb13fe24e",
   "metadata": {},
   "outputs": [
    {
     "data": {
      "text/html": [
       "\n",
       "<div id=\"altair-viz-6c8c6f69ee154f9b94a1e54585fbd9b9\"></div>\n",
       "<script type=\"text/javascript\">\n",
       "  var VEGA_DEBUG = (typeof VEGA_DEBUG == \"undefined\") ? {} : VEGA_DEBUG;\n",
       "  (function(spec, embedOpt){\n",
       "    let outputDiv = document.currentScript.previousElementSibling;\n",
       "    if (outputDiv.id !== \"altair-viz-6c8c6f69ee154f9b94a1e54585fbd9b9\") {\n",
       "      outputDiv = document.getElementById(\"altair-viz-6c8c6f69ee154f9b94a1e54585fbd9b9\");\n",
       "    }\n",
       "    const paths = {\n",
       "      \"vega\": \"https://cdn.jsdelivr.net/npm//vega@5?noext\",\n",
       "      \"vega-lib\": \"https://cdn.jsdelivr.net/npm//vega-lib?noext\",\n",
       "      \"vega-lite\": \"https://cdn.jsdelivr.net/npm//vega-lite@4.17.0?noext\",\n",
       "      \"vega-embed\": \"https://cdn.jsdelivr.net/npm//vega-embed@6?noext\",\n",
       "    };\n",
       "\n",
       "    function maybeLoadScript(lib, version) {\n",
       "      var key = `${lib.replace(\"-\", \"\")}_version`;\n",
       "      return (VEGA_DEBUG[key] == version) ?\n",
       "        Promise.resolve(paths[lib]) :\n",
       "        new Promise(function(resolve, reject) {\n",
       "          var s = document.createElement('script');\n",
       "          document.getElementsByTagName(\"head\")[0].appendChild(s);\n",
       "          s.async = true;\n",
       "          s.onload = () => {\n",
       "            VEGA_DEBUG[key] = version;\n",
       "            return resolve(paths[lib]);\n",
       "          };\n",
       "          s.onerror = () => reject(`Error loading script: ${paths[lib]}`);\n",
       "          s.src = paths[lib];\n",
       "        });\n",
       "    }\n",
       "\n",
       "    function showError(err) {\n",
       "      outputDiv.innerHTML = `<div class=\"error\" style=\"color:red;\">${err}</div>`;\n",
       "      throw err;\n",
       "    }\n",
       "\n",
       "    function displayChart(vegaEmbed) {\n",
       "      vegaEmbed(outputDiv, spec, embedOpt)\n",
       "        .catch(err => showError(`Javascript Error: ${err.message}<br>This usually means there's a typo in your chart specification. See the javascript console for the full traceback.`));\n",
       "    }\n",
       "\n",
       "    if(typeof define === \"function\" && define.amd) {\n",
       "      requirejs.config({paths});\n",
       "      require([\"vega-embed\"], displayChart, err => showError(`Error loading script: ${err.message}`));\n",
       "    } else {\n",
       "      maybeLoadScript(\"vega\", \"5\")\n",
       "        .then(() => maybeLoadScript(\"vega-lite\", \"4.17.0\"))\n",
       "        .then(() => maybeLoadScript(\"vega-embed\", \"6\"))\n",
       "        .catch(showError)\n",
       "        .then(() => displayChart(vegaEmbed));\n",
       "    }\n",
       "  })({\"config\": {\"view\": {\"continuousWidth\": 400, \"continuousHeight\": 300}}, \"data\": {\"name\": \"data-26a31185ef6b431b3d1235964e7499e6\"}, \"mark\": {\"type\": \"bar\", \"width\": 20}, \"encoding\": {\"x\": {\"field\": \"weekstart\", \"type\": \"temporal\"}, \"y\": {\"field\": \"n_comments\", \"type\": \"quantitative\"}}, \"width\": 630, \"$schema\": \"https://vega.github.io/schema/vega-lite/v4.17.0.json\", \"datasets\": {\"data-26a31185ef6b431b3d1235964e7499e6\": [{\"weekstart\": \"2021-08-09T00:00:00\", \"n_comments\": 1439}, {\"weekstart\": \"2021-08-16T00:00:00\", \"n_comments\": 532}, {\"weekstart\": \"2021-08-30T00:00:00\", \"n_comments\": 288}, {\"weekstart\": \"2021-09-13T00:00:00\", \"n_comments\": 932}, {\"weekstart\": \"2021-09-20T00:00:00\", \"n_comments\": 2936}, {\"weekstart\": \"2021-09-27T00:00:00\", \"n_comments\": 2934}, {\"weekstart\": \"2021-10-04T00:00:00\", \"n_comments\": 26283}, {\"weekstart\": \"2021-10-11T00:00:00\", \"n_comments\": 79095}, {\"weekstart\": \"2021-10-18T00:00:00\", \"n_comments\": 156558}, {\"weekstart\": \"2021-10-25T00:00:00\", \"n_comments\": 67600}, {\"weekstart\": \"2021-11-01T00:00:00\", \"n_comments\": 50369}, {\"weekstart\": \"2021-11-08T00:00:00\", \"n_comments\": 37206}, {\"weekstart\": \"2021-11-15T00:00:00\", \"n_comments\": 19626}, {\"weekstart\": \"2021-11-22T00:00:00\", \"n_comments\": 15948}, {\"weekstart\": \"2021-11-29T00:00:00\", \"n_comments\": 14278}, {\"weekstart\": \"2021-12-06T00:00:00\", \"n_comments\": 18441}, {\"weekstart\": \"2021-12-13T00:00:00\", \"n_comments\": 14057}, {\"weekstart\": \"2021-12-20T00:00:00\", \"n_comments\": 9664}, {\"weekstart\": \"2021-12-27T00:00:00\", \"n_comments\": 6365}, {\"weekstart\": \"2022-01-03T00:00:00\", \"n_comments\": 3616}, {\"weekstart\": \"2022-01-10T00:00:00\", \"n_comments\": 7912}, {\"weekstart\": \"2022-01-17T00:00:00\", \"n_comments\": 6562}, {\"weekstart\": \"2022-01-24T00:00:00\", \"n_comments\": 1215}, {\"weekstart\": \"2022-02-21T00:00:00\", \"n_comments\": 6544}, {\"weekstart\": \"2022-02-28T00:00:00\", \"n_comments\": 629}, {\"weekstart\": \"2022-03-07T00:00:00\", \"n_comments\": 4924}, {\"weekstart\": \"2022-03-14T00:00:00\", \"n_comments\": 3006}, {\"weekstart\": \"2022-03-21T00:00:00\", \"n_comments\": 2551}, {\"weekstart\": \"2022-03-28T00:00:00\", \"n_comments\": 11054}, {\"weekstart\": \"2022-04-04T00:00:00\", \"n_comments\": 1434}]}}, {\"mode\": \"vega-lite\"});\n",
       "</script>"
      ],
      "text/plain": [
       "alt.Chart(...)"
      ]
     },
     "execution_count": 35,
     "metadata": {},
     "output_type": "execute_result"
    }
   ],
   "source": [
    "alt.Chart(weekly_comments).mark_bar(width=20).encode(\n",
    "    x='weekstart:T',\n",
    "    y='n_comments'\n",
    ").properties(width=630)"
   ]
  },
  {
   "cell_type": "markdown",
   "id": "c15f216c-47d6-4dfb-b2b6-f054ca00a7dd",
   "metadata": {},
   "source": [
    "---"
   ]
  },
  {
   "cell_type": "markdown",
   "id": "80fe2c68-abf8-4b23-8fe5-01b03a23cf10",
   "metadata": {},
   "source": [
    "### Exports"
   ]
  },
  {
   "cell_type": "code",
   "execution_count": 36,
   "id": "7815f7c8-235d-4101-ae83-ce7bfa1a9b92",
   "metadata": {},
   "outputs": [],
   "source": [
    "weekly_plays.to_csv(\"../_data/weekly_plays.csv\", index=False)\n",
    "weekly_plays.to_csv(\"../assets/data/weekly_plays.csv\", index=False)"
   ]
  },
  {
   "cell_type": "code",
   "execution_count": 37,
   "id": "1a48dc5d-a9f9-47dc-a40e-781c168a75be",
   "metadata": {},
   "outputs": [],
   "source": [
    "weekly_likes.to_csv(\"../_data/weekly_likes.csv\", index=False)\n",
    "weekly_likes.to_csv(\"../assets/data/weekly_likes.csv\", index=False)"
   ]
  },
  {
   "cell_type": "code",
   "execution_count": 38,
   "id": "a55f5295-caf5-4280-a942-2c97539cbbb3",
   "metadata": {},
   "outputs": [],
   "source": [
    "weekly_comments.to_csv(\"../_data/weekly_comments.csv\", index=False)\n",
    "weekly_comments.to_csv(\"../assets/data/weekly_comments.csv\", index=False)"
   ]
  }
 ],
 "metadata": {
  "kernelspec": {
   "display_name": "Python 3 (ipykernel)",
   "language": "python",
   "name": "python3"
  },
  "language_info": {
   "codemirror_mode": {
    "name": "ipython",
    "version": 3
   },
   "file_extension": ".py",
   "mimetype": "text/x-python",
   "name": "python",
   "nbconvert_exporter": "python",
   "pygments_lexer": "ipython3",
   "version": "3.9.12"
  }
 },
 "nbformat": 4,
 "nbformat_minor": 5
}
