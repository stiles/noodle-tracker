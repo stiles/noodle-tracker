{
 "cells": [
  {
   "cell_type": "markdown",
   "id": "c2c2b77a-1037-4a68-86b9-bd6803dd7425",
   "metadata": {},
   "source": [
    "# Scrape and process @emilymariko stats"
   ]
  },
  {
   "cell_type": "code",
   "execution_count": 1,
   "id": "2a9d8cd5-482c-4b56-9b21-22c61bc85ad9",
   "metadata": {},
   "outputs": [],
   "source": [
    "from TikTokApi import TikTokApi\n",
    "import pandas as pd\n",
    "import numpy as np\n",
    "import altair as alt"
   ]
  },
  {
   "cell_type": "code",
   "execution_count": 2,
   "id": "89748428-2c94-43f8-8d97-7a086a86ef40",
   "metadata": {},
   "outputs": [],
   "source": [
    "pd.options.display.max_columns = 100\n",
    "pd.options.display.max_rows = 1000\n",
    "pd.options.display.max_colwidth = None"
   ]
  },
  {
   "cell_type": "markdown",
   "id": "cd9fb57b-5f8c-4051-8a8b-2d121f7196ed",
   "metadata": {},
   "source": [
    "### Have to run this manually -- for now"
   ]
  },
  {
   "cell_type": "code",
   "execution_count": 3,
   "id": "84393bfc-29c4-48d7-8071-48c6ceef3f7f",
   "metadata": {},
   "outputs": [],
   "source": [
    "# Get cookie and run this..."
   ]
  },
  {
   "cell_type": "code",
   "execution_count": 4,
   "id": "1ba73836-6bbb-4472-a51f-5b7421fd0d38",
   "metadata": {},
   "outputs": [],
   "source": [
    "# !python '/Users/stiles/github/noodle-tracker/_workspace/grab_user_stats_mariko.py'"
   ]
  },
  {
   "cell_type": "markdown",
   "id": "945d138f-817a-4825-adce-7dc7abbd7ca0",
   "metadata": {},
   "source": [
    "---"
   ]
  },
  {
   "cell_type": "markdown",
   "id": "5a72552a-e920-4cb0-987b-d92ef5671659",
   "metadata": {},
   "source": [
    "### Read scraped stats data"
   ]
  },
  {
   "cell_type": "code",
   "execution_count": 5,
   "id": "e240ccee-9774-4eb9-a17b-b5cad9c8a0c9",
   "metadata": {},
   "outputs": [],
   "source": [
    "df = pd.read_csv('../../tiktok/emilymariko_videos.csv', dtype={'video_id':str})"
   ]
  },
  {
   "cell_type": "markdown",
   "id": "5e6cc437-967e-4593-9685-c367bb25fdce",
   "metadata": {
    "tags": []
   },
   "source": [
    "### Clean update dates, times"
   ]
  },
  {
   "cell_type": "code",
   "execution_count": 6,
   "id": "adcd6831-f036-48db-943e-1d6f67cdff70",
   "metadata": {
    "tags": []
   },
   "outputs": [],
   "source": [
    "df['timestamp'] = pd.to_datetime(df['video_time'], unit='s')\n",
    "df['date'] = pd.to_datetime(df['video_time'], unit='s').dt.date\n",
    "df['month'] = pd.to_datetime(df['video_time'], unit='s').dt.month\n",
    "df['weekday'] = pd.to_datetime(df['video_time'], unit='s').dt.day_name()\n",
    "df['time'] = pd.to_datetime(df['video_time'], unit='s').dt.time\n",
    "df['weekstart_timestamp'] = pd.to_datetime(df['video_time'], unit='s') - pd.to_datetime(df['video_time'], unit='s').dt.weekday * np.timedelta64(1, 'D')\n",
    "df['weekstart'] = df['weekstart_timestamp'].dt.date\n",
    "df['updated_date'] = pd.to_datetime(\"today\")"
   ]
  },
  {
   "cell_type": "markdown",
   "id": "130bf743-4f82-4f17-b3e5-cdfc7f43a770",
   "metadata": {},
   "source": [
    "### How many videos? "
   ]
  },
  {
   "cell_type": "code",
   "execution_count": 7,
   "id": "950e460f-8b34-4320-aff7-647d488ee5a8",
   "metadata": {},
   "outputs": [
    {
     "data": {
      "text/plain": [
       "600"
      ]
     },
     "execution_count": 7,
     "metadata": {},
     "output_type": "execute_result"
    }
   ],
   "source": [
    "len(df)"
   ]
  },
  {
   "cell_type": "markdown",
   "id": "02f25c39-0692-41e5-afef-89b4a68a737d",
   "metadata": {},
   "source": [
    "---"
   ]
  },
  {
   "cell_type": "markdown",
   "id": "573ca0f3-b3f5-4969-a28d-bc4c1bc6a233",
   "metadata": {},
   "source": [
    "### Weekly plays"
   ]
  },
  {
   "cell_type": "code",
   "execution_count": 8,
   "id": "3b11f2fd-95fc-4397-beab-a670f34e1f5c",
   "metadata": {},
   "outputs": [
    {
     "data": {
      "text/plain": [
       "weekstart    object\n",
       "n_plays       int64\n",
       "dtype: object"
      ]
     },
     "execution_count": 8,
     "metadata": {},
     "output_type": "execute_result"
    }
   ],
   "source": [
    "weekly_plays = df.groupby(['weekstart']).agg({'n_plays':sum}).reset_index()\n",
    "weekly_plays.dtypes"
   ]
  },
  {
   "cell_type": "code",
   "execution_count": 9,
   "id": "b7360ee5-904c-4310-8218-12cbfc1cc6ea",
   "metadata": {},
   "outputs": [],
   "source": [
    "weekly_plays['weekstart'] = pd.to_datetime(weekly_plays['weekstart'])"
   ]
  },
  {
   "cell_type": "code",
   "execution_count": 10,
   "id": "cd405ba8-0681-4c82-9e44-245217b6daa0",
   "metadata": {},
   "outputs": [
    {
     "data": {
      "text/html": [
       "\n",
       "<div id=\"altair-viz-05f890c0398943bda86edfba0b0cf9a8\"></div>\n",
       "<script type=\"text/javascript\">\n",
       "  (function(spec, embedOpt){\n",
       "    let outputDiv = document.currentScript.previousElementSibling;\n",
       "    if (outputDiv.id !== \"altair-viz-05f890c0398943bda86edfba0b0cf9a8\") {\n",
       "      outputDiv = document.getElementById(\"altair-viz-05f890c0398943bda86edfba0b0cf9a8\");\n",
       "    }\n",
       "    const paths = {\n",
       "      \"vega\": \"https://cdn.jsdelivr.net/npm//vega@5?noext\",\n",
       "      \"vega-lib\": \"https://cdn.jsdelivr.net/npm//vega-lib?noext\",\n",
       "      \"vega-lite\": \"https://cdn.jsdelivr.net/npm//vega-lite@4.8.1?noext\",\n",
       "      \"vega-embed\": \"https://cdn.jsdelivr.net/npm//vega-embed@6?noext\",\n",
       "    };\n",
       "\n",
       "    function loadScript(lib) {\n",
       "      return new Promise(function(resolve, reject) {\n",
       "        var s = document.createElement('script');\n",
       "        s.src = paths[lib];\n",
       "        s.async = true;\n",
       "        s.onload = () => resolve(paths[lib]);\n",
       "        s.onerror = () => reject(`Error loading script: ${paths[lib]}`);\n",
       "        document.getElementsByTagName(\"head\")[0].appendChild(s);\n",
       "      });\n",
       "    }\n",
       "\n",
       "    function showError(err) {\n",
       "      outputDiv.innerHTML = `<div class=\"error\" style=\"color:red;\">${err}</div>`;\n",
       "      throw err;\n",
       "    }\n",
       "\n",
       "    function displayChart(vegaEmbed) {\n",
       "      vegaEmbed(outputDiv, spec, embedOpt)\n",
       "        .catch(err => showError(`Javascript Error: ${err.message}<br>This usually means there's a typo in your chart specification. See the javascript console for the full traceback.`));\n",
       "    }\n",
       "\n",
       "    if(typeof define === \"function\" && define.amd) {\n",
       "      requirejs.config({paths});\n",
       "      require([\"vega-embed\"], displayChart, err => showError(`Error loading script: ${err.message}`));\n",
       "    } else if (typeof vegaEmbed === \"function\") {\n",
       "      displayChart(vegaEmbed);\n",
       "    } else {\n",
       "      loadScript(\"vega\")\n",
       "        .then(() => loadScript(\"vega-lite\"))\n",
       "        .then(() => loadScript(\"vega-embed\"))\n",
       "        .catch(showError)\n",
       "        .then(() => displayChart(vegaEmbed));\n",
       "    }\n",
       "  })({\"config\": {\"view\": {\"continuousWidth\": 400, \"continuousHeight\": 300}}, \"data\": {\"name\": \"data-c81ab839defed8bff9d858f80c381a46\"}, \"mark\": {\"type\": \"bar\", \"width\": 30}, \"encoding\": {\"x\": {\"type\": \"temporal\", \"field\": \"weekstart\"}, \"y\": {\"type\": \"quantitative\", \"field\": \"n_plays\"}}, \"width\": 630, \"$schema\": \"https://vega.github.io/schema/vega-lite/v4.8.1.json\", \"datasets\": {\"data-c81ab839defed8bff9d858f80c381a46\": [{\"weekstart\": \"2021-06-07T00:00:00\", \"n_plays\": 126100}, {\"weekstart\": \"2021-07-05T00:00:00\", \"n_plays\": 2180200}, {\"weekstart\": \"2021-07-12T00:00:00\", \"n_plays\": 530700}, {\"weekstart\": \"2021-07-19T00:00:00\", \"n_plays\": 58300}, {\"weekstart\": \"2021-08-02T00:00:00\", \"n_plays\": 7798500}, {\"weekstart\": \"2021-08-09T00:00:00\", \"n_plays\": 9315100}, {\"weekstart\": \"2021-08-16T00:00:00\", \"n_plays\": 38222200}, {\"weekstart\": \"2021-08-23T00:00:00\", \"n_plays\": 45713200}, {\"weekstart\": \"2021-08-30T00:00:00\", \"n_plays\": 52315700}, {\"weekstart\": \"2021-09-06T00:00:00\", \"n_plays\": 53929000}, {\"weekstart\": \"2021-09-13T00:00:00\", \"n_plays\": 104660600}, {\"weekstart\": \"2021-09-20T00:00:00\", \"n_plays\": 303500000}, {\"weekstart\": \"2021-09-27T00:00:00\", \"n_plays\": 346400000}, {\"weekstart\": \"2021-10-04T00:00:00\", \"n_plays\": 227000000}, {\"weekstart\": \"2021-10-11T00:00:00\", \"n_plays\": 212700000}, {\"weekstart\": \"2021-10-18T00:00:00\", \"n_plays\": 234100000}, {\"weekstart\": \"2021-10-25T00:00:00\", \"n_plays\": 217000000}, {\"weekstart\": \"2021-11-01T00:00:00\", \"n_plays\": 153500000}, {\"weekstart\": \"2021-11-08T00:00:00\", \"n_plays\": 174600000}, {\"weekstart\": \"2021-11-15T00:00:00\", \"n_plays\": 144700000}, {\"weekstart\": \"2021-11-22T00:00:00\", \"n_plays\": 83800000}, {\"weekstart\": \"2021-11-29T00:00:00\", \"n_plays\": 66800000}, {\"weekstart\": \"2021-12-06T00:00:00\", \"n_plays\": 155100000}, {\"weekstart\": \"2021-12-13T00:00:00\", \"n_plays\": 96900000}, {\"weekstart\": \"2021-12-20T00:00:00\", \"n_plays\": 33700000}]}}, {\"mode\": \"vega-lite\"});\n",
       "</script>"
      ],
      "text/plain": [
       "alt.Chart(...)"
      ]
     },
     "execution_count": 10,
     "metadata": {},
     "output_type": "execute_result"
    }
   ],
   "source": [
    "alt.Chart(weekly_plays).mark_bar(width=30).encode(\n",
    "    x='weekstart:T',\n",
    "    y='n_plays'\n",
    ").properties(width=630)"
   ]
  },
  {
   "cell_type": "markdown",
   "id": "53f04585-ab1d-4c9b-b8d7-2b6b8deec113",
   "metadata": {},
   "source": [
    "---"
   ]
  },
  {
   "cell_type": "markdown",
   "id": "45246b49-344e-499b-8e17-bc7d4defd07a",
   "metadata": {},
   "source": [
    "### Weekly likes"
   ]
  },
  {
   "cell_type": "code",
   "execution_count": 11,
   "id": "8969ae3f-0e7b-456e-a266-e362217ed95f",
   "metadata": {},
   "outputs": [
    {
     "data": {
      "text/plain": [
       "weekstart    object\n",
       "n_likes       int64\n",
       "dtype: object"
      ]
     },
     "execution_count": 11,
     "metadata": {},
     "output_type": "execute_result"
    }
   ],
   "source": [
    "weekly_likes = df.groupby(['weekstart']).agg({'n_likes':sum}).reset_index()\n",
    "weekly_likes.dtypes"
   ]
  },
  {
   "cell_type": "code",
   "execution_count": 12,
   "id": "9b5372b6-3380-4b29-ac8c-a3a0d7eb03d0",
   "metadata": {},
   "outputs": [],
   "source": [
    "weekly_likes['weekstart'] = pd.to_datetime(weekly_likes['weekstart'])"
   ]
  },
  {
   "cell_type": "code",
   "execution_count": 13,
   "id": "1f4c690d-b69f-4a81-b22a-566af63a2ce0",
   "metadata": {},
   "outputs": [
    {
     "data": {
      "text/html": [
       "\n",
       "<div id=\"altair-viz-e2a64c81e7574051b4be5eed1fcb6398\"></div>\n",
       "<script type=\"text/javascript\">\n",
       "  (function(spec, embedOpt){\n",
       "    let outputDiv = document.currentScript.previousElementSibling;\n",
       "    if (outputDiv.id !== \"altair-viz-e2a64c81e7574051b4be5eed1fcb6398\") {\n",
       "      outputDiv = document.getElementById(\"altair-viz-e2a64c81e7574051b4be5eed1fcb6398\");\n",
       "    }\n",
       "    const paths = {\n",
       "      \"vega\": \"https://cdn.jsdelivr.net/npm//vega@5?noext\",\n",
       "      \"vega-lib\": \"https://cdn.jsdelivr.net/npm//vega-lib?noext\",\n",
       "      \"vega-lite\": \"https://cdn.jsdelivr.net/npm//vega-lite@4.8.1?noext\",\n",
       "      \"vega-embed\": \"https://cdn.jsdelivr.net/npm//vega-embed@6?noext\",\n",
       "    };\n",
       "\n",
       "    function loadScript(lib) {\n",
       "      return new Promise(function(resolve, reject) {\n",
       "        var s = document.createElement('script');\n",
       "        s.src = paths[lib];\n",
       "        s.async = true;\n",
       "        s.onload = () => resolve(paths[lib]);\n",
       "        s.onerror = () => reject(`Error loading script: ${paths[lib]}`);\n",
       "        document.getElementsByTagName(\"head\")[0].appendChild(s);\n",
       "      });\n",
       "    }\n",
       "\n",
       "    function showError(err) {\n",
       "      outputDiv.innerHTML = `<div class=\"error\" style=\"color:red;\">${err}</div>`;\n",
       "      throw err;\n",
       "    }\n",
       "\n",
       "    function displayChart(vegaEmbed) {\n",
       "      vegaEmbed(outputDiv, spec, embedOpt)\n",
       "        .catch(err => showError(`Javascript Error: ${err.message}<br>This usually means there's a typo in your chart specification. See the javascript console for the full traceback.`));\n",
       "    }\n",
       "\n",
       "    if(typeof define === \"function\" && define.amd) {\n",
       "      requirejs.config({paths});\n",
       "      require([\"vega-embed\"], displayChart, err => showError(`Error loading script: ${err.message}`));\n",
       "    } else if (typeof vegaEmbed === \"function\") {\n",
       "      displayChart(vegaEmbed);\n",
       "    } else {\n",
       "      loadScript(\"vega\")\n",
       "        .then(() => loadScript(\"vega-lite\"))\n",
       "        .then(() => loadScript(\"vega-embed\"))\n",
       "        .catch(showError)\n",
       "        .then(() => displayChart(vegaEmbed));\n",
       "    }\n",
       "  })({\"config\": {\"view\": {\"continuousWidth\": 400, \"continuousHeight\": 300}}, \"data\": {\"name\": \"data-e3fd3f3d83bdf6767417f2a3078e3c91\"}, \"mark\": {\"type\": \"bar\", \"width\": 30}, \"encoding\": {\"x\": {\"type\": \"temporal\", \"field\": \"weekstart\"}, \"y\": {\"type\": \"quantitative\", \"field\": \"n_likes\"}}, \"width\": 630, \"$schema\": \"https://vega.github.io/schema/vega-lite/v4.8.1.json\", \"datasets\": {\"data-e3fd3f3d83bdf6767417f2a3078e3c91\": [{\"weekstart\": \"2021-06-07T00:00:00\", \"n_likes\": 6159}, {\"weekstart\": \"2021-07-05T00:00:00\", \"n_likes\": 91886}, {\"weekstart\": \"2021-07-12T00:00:00\", \"n_likes\": 15742}, {\"weekstart\": \"2021-07-19T00:00:00\", \"n_likes\": 1145}, {\"weekstart\": \"2021-08-02T00:00:00\", \"n_likes\": 795672}, {\"weekstart\": \"2021-08-09T00:00:00\", \"n_likes\": 658512}, {\"weekstart\": \"2021-08-16T00:00:00\", \"n_likes\": 2377048}, {\"weekstart\": \"2021-08-23T00:00:00\", \"n_likes\": 3268695}, {\"weekstart\": \"2021-08-30T00:00:00\", \"n_likes\": 4928467}, {\"weekstart\": \"2021-09-06T00:00:00\", \"n_likes\": 4078900}, {\"weekstart\": \"2021-09-13T00:00:00\", \"n_likes\": 8284200}, {\"weekstart\": \"2021-09-20T00:00:00\", \"n_likes\": 29082600}, {\"weekstart\": \"2021-09-27T00:00:00\", \"n_likes\": 35428100}, {\"weekstart\": \"2021-10-04T00:00:00\", \"n_likes\": 22518500}, {\"weekstart\": \"2021-10-11T00:00:00\", \"n_likes\": 21024100}, {\"weekstart\": \"2021-10-18T00:00:00\", \"n_likes\": 23052400}, {\"weekstart\": \"2021-10-25T00:00:00\", \"n_likes\": 19848500}, {\"weekstart\": \"2021-11-01T00:00:00\", \"n_likes\": 14651600}, {\"weekstart\": \"2021-11-08T00:00:00\", \"n_likes\": 17016700}, {\"weekstart\": \"2021-11-15T00:00:00\", \"n_likes\": 14631300}, {\"weekstart\": \"2021-11-22T00:00:00\", \"n_likes\": 9194400}, {\"weekstart\": \"2021-11-29T00:00:00\", \"n_likes\": 6131900}, {\"weekstart\": \"2021-12-06T00:00:00\", \"n_likes\": 15030300}, {\"weekstart\": \"2021-12-13T00:00:00\", \"n_likes\": 10337100}, {\"weekstart\": \"2021-12-20T00:00:00\", \"n_likes\": 3952600}]}}, {\"mode\": \"vega-lite\"});\n",
       "</script>"
      ],
      "text/plain": [
       "alt.Chart(...)"
      ]
     },
     "execution_count": 13,
     "metadata": {},
     "output_type": "execute_result"
    }
   ],
   "source": [
    "alt.Chart(weekly_likes).mark_bar(width=30).encode(\n",
    "    x='weekstart:T',\n",
    "    y='n_likes'\n",
    ").properties(width=630)"
   ]
  },
  {
   "cell_type": "markdown",
   "id": "d80263a4-7eac-4303-86cc-16659da7b31d",
   "metadata": {},
   "source": [
    "---"
   ]
  },
  {
   "cell_type": "markdown",
   "id": "8544af0b-d7a4-4568-87e7-984d7adea827",
   "metadata": {},
   "source": [
    "### Weekly comments"
   ]
  },
  {
   "cell_type": "code",
   "execution_count": 14,
   "id": "7c986d83-0a19-435d-94cc-95bacecc6213",
   "metadata": {},
   "outputs": [
    {
     "data": {
      "text/plain": [
       "weekstart     object\n",
       "n_comments     int64\n",
       "dtype: object"
      ]
     },
     "execution_count": 14,
     "metadata": {},
     "output_type": "execute_result"
    }
   ],
   "source": [
    "weekly_comments = df.groupby(['weekstart']).agg({'n_comments':sum}).reset_index()\n",
    "weekly_comments.dtypes"
   ]
  },
  {
   "cell_type": "code",
   "execution_count": 15,
   "id": "a6fd0172-9118-48a9-82a5-228bd3fc307d",
   "metadata": {},
   "outputs": [],
   "source": [
    "weekly_comments['weekstart'] = pd.to_datetime(weekly_comments['weekstart'])"
   ]
  },
  {
   "cell_type": "code",
   "execution_count": 16,
   "id": "18107134-f507-46b0-9996-265eb13fe24e",
   "metadata": {},
   "outputs": [
    {
     "data": {
      "text/html": [
       "\n",
       "<div id=\"altair-viz-6129abe3005b4953aef25eb868c1e1f5\"></div>\n",
       "<script type=\"text/javascript\">\n",
       "  (function(spec, embedOpt){\n",
       "    let outputDiv = document.currentScript.previousElementSibling;\n",
       "    if (outputDiv.id !== \"altair-viz-6129abe3005b4953aef25eb868c1e1f5\") {\n",
       "      outputDiv = document.getElementById(\"altair-viz-6129abe3005b4953aef25eb868c1e1f5\");\n",
       "    }\n",
       "    const paths = {\n",
       "      \"vega\": \"https://cdn.jsdelivr.net/npm//vega@5?noext\",\n",
       "      \"vega-lib\": \"https://cdn.jsdelivr.net/npm//vega-lib?noext\",\n",
       "      \"vega-lite\": \"https://cdn.jsdelivr.net/npm//vega-lite@4.8.1?noext\",\n",
       "      \"vega-embed\": \"https://cdn.jsdelivr.net/npm//vega-embed@6?noext\",\n",
       "    };\n",
       "\n",
       "    function loadScript(lib) {\n",
       "      return new Promise(function(resolve, reject) {\n",
       "        var s = document.createElement('script');\n",
       "        s.src = paths[lib];\n",
       "        s.async = true;\n",
       "        s.onload = () => resolve(paths[lib]);\n",
       "        s.onerror = () => reject(`Error loading script: ${paths[lib]}`);\n",
       "        document.getElementsByTagName(\"head\")[0].appendChild(s);\n",
       "      });\n",
       "    }\n",
       "\n",
       "    function showError(err) {\n",
       "      outputDiv.innerHTML = `<div class=\"error\" style=\"color:red;\">${err}</div>`;\n",
       "      throw err;\n",
       "    }\n",
       "\n",
       "    function displayChart(vegaEmbed) {\n",
       "      vegaEmbed(outputDiv, spec, embedOpt)\n",
       "        .catch(err => showError(`Javascript Error: ${err.message}<br>This usually means there's a typo in your chart specification. See the javascript console for the full traceback.`));\n",
       "    }\n",
       "\n",
       "    if(typeof define === \"function\" && define.amd) {\n",
       "      requirejs.config({paths});\n",
       "      require([\"vega-embed\"], displayChart, err => showError(`Error loading script: ${err.message}`));\n",
       "    } else if (typeof vegaEmbed === \"function\") {\n",
       "      displayChart(vegaEmbed);\n",
       "    } else {\n",
       "      loadScript(\"vega\")\n",
       "        .then(() => loadScript(\"vega-lite\"))\n",
       "        .then(() => loadScript(\"vega-embed\"))\n",
       "        .catch(showError)\n",
       "        .then(() => displayChart(vegaEmbed));\n",
       "    }\n",
       "  })({\"config\": {\"view\": {\"continuousWidth\": 400, \"continuousHeight\": 300}}, \"data\": {\"name\": \"data-c314e25acda76b28b6226914d27e68b9\"}, \"mark\": {\"type\": \"bar\", \"width\": 30}, \"encoding\": {\"x\": {\"type\": \"temporal\", \"field\": \"weekstart\"}, \"y\": {\"type\": \"quantitative\", \"field\": \"n_comments\"}}, \"width\": 630, \"$schema\": \"https://vega.github.io/schema/vega-lite/v4.8.1.json\", \"datasets\": {\"data-c314e25acda76b28b6226914d27e68b9\": [{\"weekstart\": \"2021-06-07T00:00:00\", \"n_comments\": 49}, {\"weekstart\": \"2021-07-05T00:00:00\", \"n_comments\": 346}, {\"weekstart\": \"2021-07-12T00:00:00\", \"n_comments\": 64}, {\"weekstart\": \"2021-07-19T00:00:00\", \"n_comments\": 3}, {\"weekstart\": \"2021-08-02T00:00:00\", \"n_comments\": 2178}, {\"weekstart\": \"2021-08-09T00:00:00\", \"n_comments\": 1118}, {\"weekstart\": \"2021-08-16T00:00:00\", \"n_comments\": 4861}, {\"weekstart\": \"2021-08-23T00:00:00\", \"n_comments\": 9759}, {\"weekstart\": \"2021-08-30T00:00:00\", \"n_comments\": 11997}, {\"weekstart\": \"2021-09-06T00:00:00\", \"n_comments\": 10760}, {\"weekstart\": \"2021-09-13T00:00:00\", \"n_comments\": 25282}, {\"weekstart\": \"2021-09-20T00:00:00\", \"n_comments\": 103026}, {\"weekstart\": \"2021-09-27T00:00:00\", \"n_comments\": 135081}, {\"weekstart\": \"2021-10-04T00:00:00\", \"n_comments\": 96270}, {\"weekstart\": \"2021-10-11T00:00:00\", \"n_comments\": 84039}, {\"weekstart\": \"2021-10-18T00:00:00\", \"n_comments\": 86786}, {\"weekstart\": \"2021-10-25T00:00:00\", \"n_comments\": 62481}, {\"weekstart\": \"2021-11-01T00:00:00\", \"n_comments\": 58688}, {\"weekstart\": \"2021-11-08T00:00:00\", \"n_comments\": 95740}, {\"weekstart\": \"2021-11-15T00:00:00\", \"n_comments\": 93405}, {\"weekstart\": \"2021-11-22T00:00:00\", \"n_comments\": 56844}, {\"weekstart\": \"2021-11-29T00:00:00\", \"n_comments\": 29677}, {\"weekstart\": \"2021-12-06T00:00:00\", \"n_comments\": 74019}, {\"weekstart\": \"2021-12-13T00:00:00\", \"n_comments\": 53515}, {\"weekstart\": \"2021-12-20T00:00:00\", \"n_comments\": 18385}]}}, {\"mode\": \"vega-lite\"});\n",
       "</script>"
      ],
      "text/plain": [
       "alt.Chart(...)"
      ]
     },
     "execution_count": 16,
     "metadata": {},
     "output_type": "execute_result"
    }
   ],
   "source": [
    "alt.Chart(weekly_comments).mark_bar(width=30).encode(\n",
    "    x='weekstart:T',\n",
    "    y='n_comments'\n",
    ").properties(width=630)"
   ]
  },
  {
   "cell_type": "markdown",
   "id": "c15f216c-47d6-4dfb-b2b6-f054ca00a7dd",
   "metadata": {},
   "source": [
    "---"
   ]
  },
  {
   "cell_type": "markdown",
   "id": "80fe2c68-abf8-4b23-8fe5-01b03a23cf10",
   "metadata": {},
   "source": [
    "### Exports"
   ]
  },
  {
   "cell_type": "code",
   "execution_count": 17,
   "id": "7815f7c8-235d-4101-ae83-ce7bfa1a9b92",
   "metadata": {},
   "outputs": [],
   "source": [
    "# weekly_plays.to_csv(\"../_data/weekly_plays.csv\", index=False)\n",
    "# weekly_plays.to_csv(\"../assets/data/weekly_plays.csv\", index=False)"
   ]
  },
  {
   "cell_type": "code",
   "execution_count": 18,
   "id": "1a48dc5d-a9f9-47dc-a40e-781c168a75be",
   "metadata": {},
   "outputs": [],
   "source": [
    "# weekly_likes.to_csv(\"../_data/weekly_likes.csv\", index=False)\n",
    "# weekly_likes.to_csv(\"../assets/data/weekly_likes.csv\", index=False)"
   ]
  },
  {
   "cell_type": "code",
   "execution_count": 19,
   "id": "a55f5295-caf5-4280-a942-2c97539cbbb3",
   "metadata": {},
   "outputs": [],
   "source": [
    "# weekly_comments.to_csv(\"../_data/weekly_comments.csv\", index=False)\n",
    "# weekly_comments.to_csv(\"../assets/data/weekly_comments.csv\", index=False)"
   ]
  }
 ],
 "metadata": {
  "kernelspec": {
   "display_name": "Python 3",
   "language": "python",
   "name": "python3"
  },
  "language_info": {
   "codemirror_mode": {
    "name": "ipython",
    "version": 3
   },
   "file_extension": ".py",
   "mimetype": "text/x-python",
   "name": "python",
   "nbconvert_exporter": "python",
   "pygments_lexer": "ipython3",
   "version": "3.8.8"
  }
 },
 "nbformat": 4,
 "nbformat_minor": 5
}
